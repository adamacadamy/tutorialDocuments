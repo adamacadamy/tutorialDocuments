{
 "cells": [
  {
   "cell_type": "markdown",
   "id": "32235a0d",
   "metadata": {},
   "source": [
    "# **Interacting with REST APIs Using Python's `requests`**\n",
    "---\n",
    "This lesson provides a detailed guide on how to interact with REST APIs using Python's `requests` library, including examples for GET, POST, PUT, DELETE, and error handling."
   ]
  },
  {
   "cell_type": "markdown",
   "id": "bf454006",
   "metadata": {},
   "source": [
    "## **1. Introduction to REST API and HTTP Methods**\n",
    "---\n",
    "| **HTTP Method** | **Description** |\n",
    "|------------------|------------------|\n",
    "| `GET`           | Retrieve data from the server. |\n",
    "| `POST`          | Submit data to the server. |\n",
    "| `PUT`           | Update data on the server. |\n",
    "| `DELETE`        | Delete data from the server. |"
   ]
  },
  {
   "cell_type": "markdown",
   "id": "347afa4e",
   "metadata": {},
   "source": [
    "## **2. Setting Up Python Client**\n",
    "---\n",
    "Install the `requests` library if not already installed:\n",
    "\n",
    "```bash\n",
    "pip install requests\n",
    "```\n",
    "Basic usage of the `requests` library looks like this:"
   ]
  },
  {
   "cell_type": "code",
   "execution_count": null,
   "id": "3f2df717",
   "metadata": {},
   "outputs": [],
   "source": [
    "%pip install requests"
   ]
  },
  {
   "cell_type": "code",
   "execution_count": null,
   "id": "89ff95c3",
   "metadata": {},
   "outputs": [],
   "source": [
    "import requests\n",
    "\n",
    "# Make a GET request\n",
    "response = requests.get(\"https://jsonplaceholder.typicode.com/posts\")\n",
    "\n",
    "# Check the status code\n",
    "if response.status_code == 200:\n",
    "    print(\"Success:\", response.json())\n",
    "else:\n",
    "    print(\"Failed:\", response.status_code)"
   ]
  },
  {
   "cell_type": "markdown",
   "id": "72a507e2",
   "metadata": {},
   "source": [
    "## **3. Making API Requests**\n",
    "---\n",
    "### **Example 1: `GET` Request**\n",
    "Fetching data from an API:"
   ]
  },
  {
   "cell_type": "code",
   "execution_count": null,
   "id": "86cc83d1",
   "metadata": {},
   "outputs": [],
   "source": [
    "import requests\n",
    "\n",
    "# Fetch all posts from JSONPlaceholder\n",
    "url = \"https://jsonplaceholder.typicode.com/posts\"\n",
    "response = requests.get(url)\n",
    "\n",
    "if response.status_code == 200:\n",
    "    posts = response.json()\n",
    "    for post in posts[:5]:  # Print first 5 posts\n",
    "        print(f\"ID: {post['id']}, Title: {post['title']}\")\n",
    "else:\n",
    "    print(\"Failed to fetch data:\", response.status_code)"
   ]
  },
  {
   "cell_type": "markdown",
   "id": "e3d26202",
   "metadata": {},
   "source": [
    "### **Example 2: `POST` Request**\n",
    "Creating a new resource on the server:"
   ]
  },
  {
   "cell_type": "code",
   "execution_count": null,
   "id": "863bc4aa",
   "metadata": {},
   "outputs": [],
   "source": [
    "import requests\n",
    "\n",
    "# Data to send\n",
    "url = \"https://jsonplaceholder.typicode.com/posts\"\n",
    "payload = {\"title\": \"New Post\", \"body\": \"This is a new post.\", \"userId\": 1}\n",
    "\n",
    "response = requests.post(url, json=payload)\n",
    "\n",
    "if response.status_code == 201:\n",
    "    print(\"Resource created:\", response.json())\n",
    "else:\n",
    "    print(\"Failed to create resource:\", response.status_code)"
   ]
  },
  {
   "cell_type": "markdown",
   "id": "621094bc",
   "metadata": {},
   "source": [
    "### **Example 3: `PUT` Request**\n",
    "Updating an existing resource:"
   ]
  },
  {
   "cell_type": "code",
   "execution_count": null,
   "id": "30083b34",
   "metadata": {},
   "outputs": [],
   "source": [
    "import requests\n",
    "\n",
    "# Data to update\n",
    "url = \"https://jsonplaceholder.typicode.com/posts/1\"\n",
    "payload = {\"id\": 1, \"title\": \"Updated Post\", \"body\": \"Updated content.\", \"userId\": 1}\n",
    "\n",
    "response = requests.put(url, json=payload)\n",
    "\n",
    "if response.status_code == 200:\n",
    "    print(\"Resource updated:\", response.json())\n",
    "else:\n",
    "    print(\"Failed to update resource:\", response.status_code)"
   ]
  },
  {
   "cell_type": "markdown",
   "id": "19f3b5b4",
   "metadata": {},
   "source": [
    "### **Example 4: `DELETE` Request**\n",
    "Deleting a resource:"
   ]
  },
  {
   "cell_type": "code",
   "execution_count": null,
   "id": "8e0d7cd8",
   "metadata": {},
   "outputs": [],
   "source": [
    "import requests\n",
    "\n",
    "# Delete post with ID 1\n",
    "url = \"https://jsonplaceholder.typicode.com/posts/1\"\n",
    "response = requests.delete(url)\n",
    "\n",
    "if response.status_code == 200:\n",
    "    print(\"Resource deleted successfully\")\n",
    "else:\n",
    "    print(\"Failed to delete resource:\", response.status_code)"
   ]
  },
  {
   "cell_type": "markdown",
   "id": "c216d71b",
   "metadata": {},
   "source": [
    "## **4. Adding Headers and Query Parameters**\n",
    "---\n",
    "### **Headers**\n",
    "Add headers to requests (e.g., Authorization, Content-Type):"
   ]
  },
  {
   "cell_type": "code",
   "execution_count": null,
   "id": "1d0a69f0",
   "metadata": {},
   "outputs": [],
   "source": [
    "url = \"https://jsonplaceholder.typicode.com/posts\"\n",
    "headers = {\"Authorization\": \"Bearer YOUR_TOKEN\"}\n",
    "response = requests.get(url, headers=headers)\n",
    "\n",
    "if response.status_code == 200:\n",
    "    print(\"Data fetched successfully\")\n",
    "else:\n",
    "    print(\"Failed:\", response.status_code)"
   ]
  },
  {
   "cell_type": "markdown",
   "id": "6bc083d3",
   "metadata": {},
   "source": [
    "### **Query Parameters**\n",
    "Include query parameters in `GET` requests:"
   ]
  },
  {
   "cell_type": "code",
   "execution_count": null,
   "id": "f07936b0",
   "metadata": {},
   "outputs": [],
   "source": [
    "url = \"https://jsonplaceholder.typicode.com/posts\"\n",
    "params = {\"userId\": 1}\n",
    "\n",
    "response = requests.get(url, params=params)\n",
    "\n",
    "if response.status_code == 200:\n",
    "    print(\"Filtered data:\", response.json())\n",
    "else:\n",
    "    print(\"Failed:\", response.status_code)"
   ]
  },
  {
   "cell_type": "markdown",
   "id": "efaad4a3",
   "metadata": {},
   "source": [
    "## **5. Advanced Examples**\n",
    "---\n",
    "### **Example: Interact with a Public REST API**\n",
    "Using [JSONPlaceholder](https://jsonplaceholder.typicode.com), a free fake REST API for testing:"
   ]
  },
  {
   "cell_type": "code",
   "execution_count": null,
   "id": "e98eccac",
   "metadata": {},
   "outputs": [],
   "source": [
    "import requests\n",
    "\n",
    "BASE_URL = \"https://jsonplaceholder.typicode.com\"\n",
    "\n",
    "# Fetch posts\n",
    "def fetch_posts():\n",
    "    response = requests.get(f\"{BASE_URL}/posts\")\n",
    "    if response.status_code == 200:\n",
    "        return response.json()\n",
    "    else:\n",
    "        print(\"Error fetching posts:\", response.status_code)\n",
    "\n",
    "# Create a new post\n",
    "def create_post(title, body, user_id):\n",
    "    payload = {\"title\": title, \"body\": body, \"userId\": user_id}\n",
    "    response = requests.post(f\"{BASE_URL}/posts\", json=payload)\n",
    "    if response.status_code == 201:\n",
    "        return response.json()\n",
    "    else:\n",
    "        print(\"Error creating post:\", response.status_code)\n",
    "\n",
    "# Update an existing post\n",
    "def update_post(post_id, title, body):\n",
    "    payload = {\"title\": title, \"body\": body}\n",
    "    response = requests.put(f\"{BASE_URL}/posts/{post_id}\", json=payload)\n",
    "    if response.status_code == 200:\n",
    "        return response.json()\n",
    "    else:\n",
    "        print(\"Error updating post:\", response.status_code)\n",
    "\n",
    "# Delete a post\n",
    "def delete_post(post_id):\n",
    "    response = requests.delete(f\"{BASE_URL}/posts/{post_id}\")\n",
    "    if response.status_code == 200:\n",
    "        print(\"Post deleted successfully\")\n",
    "    else:\n",
    "        print(\"Error deleting post:\", response.status_code)\n",
    "\n",
    "# Example usage\n",
    "if __name__ == \"__main__\":\n",
    "    print(\"Fetching posts...\")\n",
    "    posts = fetch_posts()\n",
    "    print(\"First post:\", posts[0] if posts else \"No posts found\")\n",
    "\n",
    "    print(\"\\nCreating a new post...\")\n",
    "    new_post = create_post(\"My New Post\", \"This is the body of the post.\", 1)\n",
    "    print(\"Created post:\", new_post)\n",
    "\n",
    "    if new_post:\n",
    "        print(\"\\nUpdating the new post...\")\n",
    "        updated_post = update_post(new_post[\"id\"], \"Updated Title\", \"Updated body content.\")\n",
    "        print(\"Updated post:\", updated_post)\n",
    "\n",
    "        print(\"\\nDeleting the updated post...\")\n",
    "        delete_post(new_post[\"id\"])"
   ]
  },
  {
   "cell_type": "markdown",
   "id": "f60169a1",
   "metadata": {},
   "source": [
    "## **6. Handling API Errors**\n",
    "---\n",
    "Always handle potential errors when interacting with APIs:"
   ]
  },
  {
   "cell_type": "code",
   "execution_count": null,
   "id": "b1312220",
   "metadata": {},
   "outputs": [],
   "source": [
    "import requests\n",
    "\n",
    "url = \"https://jsonplaceholder.typicode.com/posts/invalid\"\n",
    "\n",
    "try:\n",
    "    response = requests.get(url)\n",
    "    response.raise_for_status()  # Raise HTTPError for bad responses (4xx and 5xx)\n",
    "    print(response.json())\n",
    "except requests.exceptions.HTTPError as http_err:\n",
    "    print(f\"HTTP error occurred: {http_err}\")\n",
    "except requests.exceptions.RequestException as err:\n",
    "    print(f\"Error occurred: {err}\")"
   ]
  }
 ],
 "metadata": {
  "kernelspec": {
   "display_name": "Python 3",
   "language": "python",
   "name": "python3"
  },
  "language_info": {
   "codemirror_mode": {
    "name": "ipython",
    "version": 3
   },
   "file_extension": ".py",
   "mimetype": "text/x-python",
   "name": "python",
   "nbconvert_exporter": "python",
   "pygments_lexer": "ipython3",
   "version": "3.12.7"
  }
 },
 "nbformat": 4,
 "nbformat_minor": 5
}
