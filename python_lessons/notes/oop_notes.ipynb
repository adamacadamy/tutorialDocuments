{
 "cells": [
  {
   "cell_type": "markdown",
   "metadata": {},
   "source": [
    "\n",
    "### Python Object-Oriented Programming (OOP) Lesson\n",
    "\n",
    "Is a programming paradigm focusing around objects\n",
    "objects are composed of two main components\n",
    " - properties or attributes \n",
    " - methods, behaviors or functions\n",
    "Class is the blueprint for an object\n",
    "\n",
    "for example an object of a `dog` can be represented in python class as follows \n",
    "```python\n",
    "class Dog:\n",
    "    pass\n",
    "```\n",
    "adding more to the example assuming that dogs have `color`, `breed` and  `height` as properties \n",
    "and `barking`, `running` and `eating` as function here is how we represent that in python\n",
    "\n",
    "```python\n",
    "class Dog:\n",
    "    def __init__(self, bread: str, color: str, height: float): \n",
    "        self.breed = breed\n",
    "        self.color = color\n",
    "        self.height = height\n",
    "\n",
    "dog = Dog(bread = \"Dogo Argentino\", color=\"brown\", height: 7.5)\n",
    "\n",
    "class Cat:\n",
    "    def __init__():\n",
    "        self.breed:str = None\n",
    "        self.color:str = color\n",
    "        self.height:str = height\n",
    "\n",
    "cat = Cat()\n",
    "```\n",
    "\n",
    "`__init__` is the constructor method\n",
    " "
   ]
  },
  {
   "cell_type": "code",
   "execution_count": null,
   "metadata": {},
   "outputs": [],
   "source": [
    "class Dog:\n",
    "    def __init__(self, bread: str, color: str, height: float): \n",
    "        self.breed = bread\n",
    "        self.color = color\n",
    "        self.height = height\n",
    "\n",
    "dog = Dog(bread = \"Dogo Argentino\", color=\"brown\", height=7.5)\n",
    "display(dog.breed)\n",
    "\n",
    "class Cat:\n",
    "    def __init__(self):\n",
    "        self.__breed:str = None\n",
    "        self.__color:str = None\n",
    "        self.__height:float = None\n",
    "    \n",
    "    # def get_breed(self) -> str:\n",
    "    #     return self.__breed\n",
    "    \n",
    "    # def set_breed(self, breed: str) -> None:\n",
    "    #     self.__breed:str = breed\n",
    "    \n",
    "    @property\n",
    "    def breed(self) -> str: \n",
    "        return self.__breed\n",
    "    \n",
    "    @breed.setter\n",
    "    def breed(self, breed: str) -> None:\n",
    "        self.__breed = breed\n",
    "        \n",
    "\n",
    "    @property\n",
    "    def color(self) -> str:\n",
    "        return self.__color\n",
    "    \n",
    "    \n",
    "    @color.setter\n",
    "    def color(self, color: str) -> None:\n",
    "        self.__color = color\n",
    "        \n",
    "        \n",
    "    @property\n",
    "    def height(self) -> float:\n",
    "        return self.__height\n",
    "    \n",
    "    \n",
    "    @height.setter\n",
    "    def height(self, height: float) -> None:\n",
    "        self.__height = height\n",
    "    \n",
    "    \n",
    "    def __bark():\n",
    "        display(\"wo wo\")\n",
    "        \n",
    " \n",
    "    \n",
    "    # def get_color(self)-> str:\n",
    "    #     return self.__color\n",
    "    \n",
    "    # def set_color(self, color: str) -> None:\n",
    "    #     self.__color = color\n",
    "        \n",
    "    # def get_height(self) -> float:\n",
    "    #     return self.__height\n",
    "    \n",
    "    # def set_height(self, height: float) -> None:\n",
    "    #     self.__height = height\n",
    "         \n",
    "\n",
    "cat = Cat()\n",
    "\n",
    "\n",
    "# cat.set_breed(breed=\"some_cat\")\n",
    "\n",
    "cat.breed = \"some_cat\"\n",
    " \n",
    "display(cat.breed)\n",
    "\n",
    "# display(cat.get_breed())\n",
    "# display(cat.breed())\n",
    "\n",
    "# cat.set_breed(breed=\"some_cat\")\n",
    "\n",
    "# cat_breed = cat.get_breed()\n",
    "\n",
    "# cat_breed\n",
    "\n",
    "# cat.breed = 'some object' # as a setter \n",
    "# display(cat.breed) # as a getter"
   ]
  },
  {
   "cell_type": "code",
   "execution_count": 30,
   "metadata": {},
   "outputs": [
    {
     "name": "stdout",
     "output_type": "stream",
     "text": [
      "This dog is of breed Gh and its name is bob\n"
     ]
    },
    {
     "data": {
      "text/plain": [
       "'bob'"
      ]
     },
     "metadata": {},
     "output_type": "display_data"
    },
    {
     "data": {
      "text/plain": [
       "'Gh'"
      ]
     },
     "metadata": {},
     "output_type": "display_data"
    },
    {
     "data": {
      "text/plain": [
       "'23asdf12'"
      ]
     },
     "metadata": {},
     "output_type": "display_data"
    },
    {
     "data": {
      "text/plain": [
       "'jasdfhfasdhkfasdjahjkfs'"
      ]
     },
     "metadata": {},
     "output_type": "display_data"
    },
    {
     "data": {
      "text/plain": [
       "'999999999999999'"
      ]
     },
     "metadata": {},
     "output_type": "display_data"
    }
   ],
   "source": [
    "## OOP = OBJECT ORIENTED PROGRAMMING \n",
    "\n",
    "# objects are real world entities\n",
    "# property / attribute [nature of thing]\n",
    "# color, sound, heigh, width, name ......\n",
    "# function/ method\n",
    "\"\"\" \n",
    "properties and methods are of three catagories\n",
    "1. public # accessible from anywhere\n",
    "2. private # accessible from inside class/object\n",
    "3. protected # accessible from child classes or shared classes\n",
    "\n",
    "\"\"\"\n",
    "# action of a thing\n",
    "# dog as an object has actions like barking, eating, sleeping and etc\n",
    "\n",
    "# any object in python is blue printed by a class\n",
    "# for instance german shepherd is of class dogs and class german shepherds, \n",
    "\n",
    "class Animal:\n",
    "    def __init__(self, animal_type:str) -> None:\n",
    "        self.animal_type = animal_type\n",
    "        \n",
    "class Dog(Animal): # class of dogs\n",
    "    \n",
    "    # constructor\n",
    "    def __init__(self, name:str, breed: str) -> None:\n",
    "        super().__init__(animal_type=\"Dog\")\n",
    "        self.name = name  # property name\n",
    "        self.breed = breed # property breed\n",
    "        self.__sr = \"23asdf12\"\n",
    "    \n",
    "    \n",
    "    @property    # decorator: property decorator converts a function/method to a property\n",
    "    def sr(self)->str:\n",
    "        return self.__sr\n",
    "    \n",
    "    @sr.setter\n",
    "    def sr(self, sr_value: str ):\n",
    "        self.__sr = sr_value\n",
    "    \n",
    "    def get_sr(self) -> str:\n",
    "        return self.__sr\n",
    "    \n",
    "    def set_sr(self, sr_value: str) -> None:\n",
    "        self.__sr = sr_value\n",
    "        \n",
    "    def __str__(self) -> str:\n",
    "        return f\"This dog is of breed {self.breed} and its name is {self.name}\"\n",
    "    \n",
    "    def bark(self)-> str: # method/ \n",
    "        return \"WOOOO\"        \n",
    "    \n",
    "dog = Dog(name=\"bob\", breed=\"Gh\") # Dog ->__init__(name=\"bob\", breed=\"Gh\")\n",
    "\n",
    "\n",
    "\n",
    "\n",
    "print(dog) # Dog -> __str__(self) ::> f\"This dog is of breed {self.breed} and its name is {self.name}\"\n",
    "    \n",
    "\n",
    "display(dog.name)\n",
    "display(dog.breed)\n",
    "display(dog.get_sr())\n",
    "\n",
    "dog.set_sr(sr_value=\"jasdfhfasdhkfasdjahjkfs\")\n",
    "display(dog.get_sr())\n",
    "\n",
    "\n",
    "dog.sr = \"999999999999999\"\n",
    "\n",
    "display(dog.sr)\n",
    "# display(dog.bark())"
   ]
  }
 ],
 "metadata": {
  "kernelspec": {
   "display_name": "Python 3",
   "language": "python",
   "name": "python3"
  },
  "language_info": {
   "codemirror_mode": {
    "name": "ipython",
    "version": 3
   },
   "file_extension": ".py",
   "mimetype": "text/x-python",
   "name": "python",
   "nbconvert_exporter": "python",
   "pygments_lexer": "ipython3",
   "version": "3.12.7"
  }
 },
 "nbformat": 4,
 "nbformat_minor": 2
}
