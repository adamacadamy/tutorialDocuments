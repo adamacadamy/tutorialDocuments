{
 "cells": [
  {
   "cell_type": "markdown",
   "metadata": {},
   "source": [
    "### 1. Define two variables, x and y, with values 5 and 10.\n",
    "    Perform the following operations and print the results:\n",
    "a. Sum of x and y  \n",
    "b. Difference of y and x  \n",
    "c. Product of x and y  \n",
    "d. Quotient of y by x  \n"
   ]
  },
  {
   "cell_type": "code",
   "execution_count": 11,
   "metadata": {},
   "outputs": [
    {
     "data": {
      "text/plain": [
       "15"
      ]
     },
     "metadata": {},
     "output_type": "display_data"
    },
    {
     "data": {
      "text/plain": [
       "5"
      ]
     },
     "metadata": {},
     "output_type": "display_data"
    },
    {
     "data": {
      "text/plain": [
       "50"
      ]
     },
     "metadata": {},
     "output_type": "display_data"
    },
    {
     "name": "stdout",
     "output_type": "stream",
     "text": [
      "2.0\n"
     ]
    }
   ],
   "source": [
    "# a. Sum of x and y \n",
    "x = 5\n",
    "y = 10\n",
    "display(x+y)\n",
    "\n",
    "# b. Difference of y and x  \n",
    "display( y - x)\n",
    "\n",
    "# c. Product of x and y  \n",
    "display(y * x)\n",
    "\n",
    "# d. Quotient of y by x  \n",
    "\n",
    "display(y/x)"
   ]
  },
  {
   "cell_type": "markdown",
   "metadata": {},
   "source": [
    "#### 3. Define a set of numbers containing 1, 2, 3, 4, and 5.\n",
    "a. Add the number 6 to the set.  \n",
    "b. Remove the number 3 from the set.  \n",
    "c. Check if the numbers 5 and 7 are in the set, and print the results. \n"
   ]
  },
  {
   "cell_type": "code",
   "execution_count": 20,
   "metadata": {},
   "outputs": [
    {
     "data": {
      "text/plain": [
       "{1, 2, 3, 4, 5}"
      ]
     },
     "metadata": {},
     "output_type": "display_data"
    },
    {
     "data": {
      "text/plain": [
       "{1, 2, 3, 4, 5, 6}"
      ]
     },
     "metadata": {},
     "output_type": "display_data"
    },
    {
     "data": {
      "text/plain": [
       "{1, 2, 4, 5, 6}"
      ]
     },
     "metadata": {},
     "output_type": "display_data"
    },
    {
     "data": {
      "text/plain": [
       "'7 is not in set'"
      ]
     },
     "metadata": {},
     "output_type": "display_data"
    },
    {
     "data": {
      "text/plain": [
       "'5 is in set'"
      ]
     },
     "metadata": {},
     "output_type": "display_data"
    }
   ],
   "source": [
    "set_of_numbers = {1, 2, 3, 4, 5}\n",
    "\n",
    "display(set_of_numbers)\n",
    "# a. Add \"orange\" to the list.  \n",
    "\n",
    "set_of_numbers.add(6)\n",
    "\n",
    "display(set_of_numbers)\n",
    "\n",
    "# b. Remove \"banana\" from the list. \n",
    "set_of_numbers.remove(3)\n",
    "\n",
    "display(set_of_numbers)\n",
    "\n",
    "# c. Check if the numbers 5 and 7 are in the set, and print the results. \n",
    "num_7_is_in_set = 7 in set_of_numbers\n",
    "message_one = \"7 is in set\" if num_7_is_in_set else \"7 is not in set\"\n",
    "message_one_ = num_7_is_in_set and \"7 is in set\" or \"7 is not in set\"\n",
    "\n",
    "num_5_is_in_set = 5 in set_of_numbers\n",
    "message_two = \"5 is in set\" if num_5_is_in_set else \"5 is not in set\"\n",
    "message_two_ = num_5_is_in_set and \"5 is in set\" or \"5 is not in set\"\n",
    "\n",
    "display(message_one)\n",
    "display(message_one_)\n",
    "\n",
    "display(message_two)\n",
    "display(message_two_)"
   ]
  },
  {
   "cell_type": "markdown",
   "metadata": {},
   "source": [
    "### 2. Define a list of fruits containing \"apple\", \"banana\", and \"cherry\".\n",
    "a. Add \"orange\" to the list.  \n",
    "b.  Remove \"banana\" from the list.  \n",
    "c.  Print the first and last elements of the list.  \n"
   ]
  },
  {
   "cell_type": "code",
   "execution_count": 37,
   "metadata": {},
   "outputs": [
    {
     "data": {
      "text/plain": [
       "['apple', 'banana', '', '', 'cherry']"
      ]
     },
     "metadata": {},
     "output_type": "display_data"
    },
    {
     "data": {
      "text/plain": [
       "['apple', 'banana', 'cherry']"
      ]
     },
     "metadata": {},
     "output_type": "display_data"
    },
    {
     "data": {
      "text/plain": [
       "['apple', 'cherry']"
      ]
     },
     "metadata": {},
     "output_type": "display_data"
    },
    {
     "data": {
      "text/plain": [
       "['apple', 'cherry']"
      ]
     },
     "metadata": {},
     "output_type": "display_data"
    },
    {
     "data": {
      "text/plain": [
       "'apple'"
      ]
     },
     "metadata": {},
     "output_type": "display_data"
    },
    {
     "data": {
      "text/plain": [
       "'cherry'"
      ]
     },
     "metadata": {},
     "output_type": "display_data"
    }
   ],
   "source": [
    "import re\n",
    "# a. Add \"orange\" to the list.  \n",
    "# list_of_fruits = [\"apple\", \"banana\", \"cherry\"]\n",
    "fruits = \"apple banana and cherry\"\n",
    "# list_of_fruits = fruits.split()\n",
    "# empty string \"\"\n",
    "pattern = r\"\\s+|and\"\n",
    "result = re.split(pattern, fruits) \n",
    "display(result)\n",
    "\"\"\" \n",
    " for word in result: #    for i in range(0, len(result), 1) \n",
    "                                word = result[i]\n",
    "    word will represent each element in the list\n",
    "word\n",
    " 1. apple   appended because length of the string is greater than 0 which is 5\n",
    " 2. banana  appended because length of the string is greater than 0 which is 6\n",
    " 3. ''      not appended because the length of the string is 0\n",
    " 4. ''      not appended because the length of the string is 0\n",
    " 5. cherry  appended because length of the string is greater than 0 which is 6\n",
    "\"\"\"\n",
    "list_of_fruits  = [word for word in result if word]\n",
    "# list_of_fruits = [ word for word in re.split(pattern, fruits) if word]\n",
    "\n",
    "display(list_of_fruits)\n",
    "\n",
    "# b.  Remove \"banana\" from the list.  \n",
    "list_of_fruits.pop(1)\n",
    "\n",
    "display(list_of_fruits)\n",
    "\n",
    "list_of_fruits.append( 'banana')\n",
    "list_of_fruits.remove( 'banana')\n",
    "\n",
    "display(list_of_fruits)\n",
    "\n",
    "# c.  Print the first and last elements of the list.  \n",
    "display(f\"{list_of_fruits[0]} {list_of_fruits[-1]}\")"
   ]
  },
  {
   "cell_type": "markdown",
   "metadata": {},
   "source": [
    "### 4. Define a tuple representing coordinates (10.5, 20.7).  \n",
    "a. Print the x (first) and y (second) coordinates separately.  "
   ]
  },
  {
   "cell_type": "code",
   "execution_count": 28,
   "metadata": {},
   "outputs": [
    {
     "data": {
      "text/plain": [
       "10.5"
      ]
     },
     "metadata": {},
     "output_type": "display_data"
    },
    {
     "data": {
      "text/plain": [
       "20.7"
      ]
     },
     "metadata": {},
     "output_type": "display_data"
    }
   ],
   "source": [
    "coordinates = (10.5, 20.7)\n",
    "x, y = coordinates\n",
    "\n",
    "display(x)\n",
    "display(y)"
   ]
  },
  {
   "cell_type": "markdown",
   "metadata": {},
   "source": [
    "### 5. Define a dictionary of student grades, where:\n",
    "    - \"Alice\" has a grade of 85  \n",
    "    - \"Bob\" has a grade of 90  \n",
    "    - \"Charlie\" has a grade of 78  \n",
    "    a Add a new student \"David\" with a grade of 88.  \n",
    "    b Update Alice's grade to 95.  \n",
    "    c Print Bob's grade.  "
   ]
  },
  {
   "cell_type": "code",
   "execution_count": 6,
   "metadata": {},
   "outputs": [
    {
     "data": {
      "text/plain": [
       "{'Alice': 85, 'Bob': 90, 'Charlie': 75}"
      ]
     },
     "metadata": {},
     "output_type": "display_data"
    },
    {
     "data": {
      "text/plain": [
       "{'Alice': 85, 'Bob': 90, 'Charlie': 75, 'David': 88}"
      ]
     },
     "metadata": {},
     "output_type": "display_data"
    },
    {
     "data": {
      "text/plain": [
       "'Not found'"
      ]
     },
     "metadata": {},
     "output_type": "display_data"
    }
   ],
   "source": [
    "grades = {\n",
    "    \"Alice\": 85,\n",
    "    \"Bob\": 90,\n",
    "    \"Charlie\": 75, \n",
    "}\n",
    "display(grades)\n",
    "#  a Add a new student \"David\" with a grade of 88.  \n",
    "grades[\"David\"] = 88 # assigning\n",
    "# grades.update({\"David\": 88}) # ingestion\n",
    "# grades = {**grades, \"david\": 88} # cloning\n",
    "\n",
    "display(grades)\n",
    "\n",
    "#  b Update Alice's grade to 95.  \n",
    "grades[\"Alice\"] = 95\n",
    "# grades.update({\"Alice\": 95}) # ingestion\n",
    "# grades = {**grades, \"Alice\": 95} # cloning\n",
    "\n",
    "#  c Print Bob's grade.  \n",
    "\n",
    "bobs_grade = grades[\"Bob\"]\n",
    "bobs_grade = grades.get(\"Bobx\", \"Not found\")\n",
    "\n",
    "display(bobs_grade)\n",
    "\n",
    "\n"
   ]
  },
  {
   "cell_type": "markdown",
   "metadata": {},
   "source": [
    "### 6. Define a variable called `age` with a value of 18.\n",
    "    a. Write an if/else statement that checks if the age is 18 or above.\n",
    "        If true, print \"You are eligible to vote\", otherwise print \"You are not eligible to vote\".\n"
   ]
  },
  {
   "cell_type": "code",
   "execution_count": 14,
   "metadata": {},
   "outputs": [
    {
     "data": {
      "text/plain": [
       "'You are not eligible to vote'"
      ]
     },
     "metadata": {},
     "output_type": "display_data"
    },
    {
     "data": {
      "text/plain": [
       "'You are not eligible to vote'"
      ]
     },
     "metadata": {},
     "output_type": "display_data"
    }
   ],
   "source": [
    "age = 18\n",
    "\n",
    "# if age > 18:\n",
    "#     display(\"You are eligible to vote\")\n",
    "# else:\n",
    "#     display(\"You are not eligible to vote\")\n",
    "\n",
    "# using ternary\n",
    "# message = \"You are eligible to vote\" if age > 18  else \"You are not eligible to vote\"\n",
    "message = age > 18 and \"You are eligible to vote\"  or  \"You are not eligible to vote\" \n",
    "                            \n",
    "display(message)\n",
    "# or all in one\n",
    "message = age > 18 and display(\"You are eligible to vote\" ) or display(\"You are not eligible to vote\") \n"
   ]
  },
  {
   "cell_type": "markdown",
   "metadata": {},
   "source": [
    "### 7. Define a list of fruits: [\"apple\", \"orange\", \"grape\"].  \n",
    "    a.  Use a `for` loop to print each fruit in the list.\n"
   ]
  },
  {
   "cell_type": "code",
   "execution_count": 16,
   "metadata": {},
   "outputs": [
    {
     "data": {
      "text/plain": [
       "'apple'"
      ]
     },
     "metadata": {},
     "output_type": "display_data"
    },
    {
     "data": {
      "text/plain": [
       "'orange'"
      ]
     },
     "metadata": {},
     "output_type": "display_data"
    },
    {
     "data": {
      "text/plain": [
       "'grape'"
      ]
     },
     "metadata": {},
     "output_type": "display_data"
    },
    {
     "data": {
      "text/plain": [
       "'apple'"
      ]
     },
     "metadata": {},
     "output_type": "display_data"
    },
    {
     "data": {
      "text/plain": [
       "'orange'"
      ]
     },
     "metadata": {},
     "output_type": "display_data"
    },
    {
     "data": {
      "text/plain": [
       "'grape'"
      ]
     },
     "metadata": {},
     "output_type": "display_data"
    }
   ],
   "source": [
    "#    a) Use a `for` loop to print each fruit in the list.\n",
    "fruits = [\"apple\", \"orange\", \"grape\"]\n",
    "\n",
    "for index in range(0, len(fruits), 1):\n",
    "    display(fruits[index])\n",
    "\n",
    "for fruit in fruits: #>  for index in range(0, len(fruits), 1):\n",
    "    display(fruit) #>  fruits[i] => fruit"
   ]
  },
  {
   "cell_type": "markdown",
   "metadata": {},
   "source": [
    "\n",
    "### 8. Define a variable `count` with a value of 5.  \n",
    " a. Use a `while` loop to print a countdown from 5 to 1.\n",
    "\n"
   ]
  },
  {
   "cell_type": "code",
   "execution_count": 19,
   "metadata": {},
   "outputs": [
    {
     "data": {
      "text/plain": [
       "5"
      ]
     },
     "metadata": {},
     "output_type": "display_data"
    },
    {
     "data": {
      "text/plain": [
       "4"
      ]
     },
     "metadata": {},
     "output_type": "display_data"
    },
    {
     "data": {
      "text/plain": [
       "3"
      ]
     },
     "metadata": {},
     "output_type": "display_data"
    },
    {
     "data": {
      "text/plain": [
       "2"
      ]
     },
     "metadata": {},
     "output_type": "display_data"
    },
    {
     "data": {
      "text/plain": [
       "1"
      ]
     },
     "metadata": {},
     "output_type": "display_data"
    }
   ],
   "source": [
    "count = 5\n",
    "\n",
    "while count >=1:\n",
    "    display(count)\n",
    "    count -= 1\n",
    "    \n",
    "# for count in range(5, 0, -1):\n",
    "#     display(count)"
   ]
  },
  {
   "cell_type": "markdown",
   "metadata": {},
   "source": [
    "### 9. Challenge: Combine lists, sets, dictionaries, and loops.\n",
    " a. Define a list of numbers from 1 to 10.  \n",
    " b. Create a set of even numbers from the list using a `for` loop or comprehension.  \n",
    " c. Create a dictionary that maps each even number to its square.  \n",
    " d. Print the set of even numbers and the dictionary.  "
   ]
  },
  {
   "cell_type": "code",
   "execution_count": 23,
   "metadata": {},
   "outputs": [
    {
     "data": {
      "text/plain": [
       "[1, 2, 3, 4, 5, 6, 7, 8, 9, 10]"
      ]
     },
     "metadata": {},
     "output_type": "display_data"
    },
    {
     "data": {
      "text/plain": [
       "[2, 4, 6, 8, 10]"
      ]
     },
     "metadata": {},
     "output_type": "display_data"
    },
    {
     "data": {
      "text/plain": [
       "{'2': 4, '4': 16, '6': 36, '8': 64, '10': 100}"
      ]
     },
     "metadata": {},
     "output_type": "display_data"
    },
    {
     "data": {
      "text/plain": [
       "{2, 4, 6, 8, 10}"
      ]
     },
     "metadata": {},
     "output_type": "display_data"
    },
    {
     "data": {
      "text/plain": [
       "{'2': 4, '4': 16, '6': 36, '8': 64, '10': 100}"
      ]
     },
     "metadata": {},
     "output_type": "display_data"
    }
   ],
   "source": [
    "#  a. Define a list of numbers from 1 to 10.  \n",
    "\n",
    "numbers = [1, 2, 3, 4, 5, 6, 7, 8, 9, 10]\n",
    "\n",
    "display(numbers)\n",
    "\n",
    "#  b. Create a set of even numbers from the list using a `for` loop or comprehension.  \n",
    "\n",
    "even_numbers = [ number for number in numbers if number %2 == 0]\n",
    "\n",
    "display(even_numbers)\n",
    "\n",
    "#  c. Create a dictionary that maps each even number to its square. \n",
    "\n",
    "even_number_squares = { str(number): number **2  for number in numbers if number %2 == 0 }\n",
    "\n",
    "display(even_number_squares)\n",
    "\n",
    "# d. Print the set of even numbers and the dictionary.  \n",
    "set_of_even_numbers = set(even_numbers)\n",
    "\n",
    "display(set_of_even_numbers)\n",
    "display(even_number_squares)\n"
   ]
  },
  {
   "cell_type": "markdown",
   "metadata": {},
   "source": [
    "#### 10. Conversion between List, Set, and Tuple\n",
    " a. Convert the list of fruits to a set and print the result.      \n",
    " b. Convert the set of even numbers to a tuple and print the result.  \n",
    " c. Convert the tuple of coordinates to a list and print the result.  \n"
   ]
  },
  {
   "cell_type": "code",
   "execution_count": 29,
   "metadata": {},
   "outputs": [
    {
     "data": {
      "text/plain": [
       "{'apple', 'grape', 'orange'}"
      ]
     },
     "metadata": {},
     "output_type": "display_data"
    },
    {
     "data": {
      "text/plain": [
       "('apple', 'orange', 'grape')"
      ]
     },
     "metadata": {},
     "output_type": "display_data"
    },
    {
     "data": {
      "text/plain": [
       "(10.5, 20.7)"
      ]
     },
     "metadata": {},
     "output_type": "display_data"
    }
   ],
   "source": [
    "# a. Convert the list of fruits to a set and print the result.      \n",
    "display(set(fruits))\n",
    "\n",
    "#  b. Convert the set of even numbers to a tuple and print the result.  \n",
    "\n",
    "display(tuple(fruits))\n",
    "\n",
    "#  c. Convert the tuple of coordinates to a list and print the result.  \n",
    "\n",
    "display(tuple(coordinates))\n",
    "\n"
   ]
  },
  {
   "cell_type": "markdown",
   "metadata": {},
   "source": [
    "### 11. Dictionary Keys and Values\n",
    "    a. Print the list of dictionary keys from the `grades` dictionary.  \n",
    "    b. Print the list of dictionary values from the `grades` dictionary.  \n",
    "    c. Loop through the dictionary and print each student name (key) and their grade (value).  \n"
   ]
  },
  {
   "cell_type": "code",
   "execution_count": 34,
   "metadata": {},
   "outputs": [
    {
     "data": {
      "text/plain": [
       "['Alice', 'Bob', 'Charlie', 'David']"
      ]
     },
     "metadata": {},
     "output_type": "display_data"
    },
    {
     "data": {
      "text/plain": [
       "[95, 90, 75, 88]"
      ]
     },
     "metadata": {},
     "output_type": "display_data"
    },
    {
     "data": {
      "text/plain": [
       "'Alice: 95'"
      ]
     },
     "metadata": {},
     "output_type": "display_data"
    },
    {
     "data": {
      "text/plain": [
       "'Bob: 90'"
      ]
     },
     "metadata": {},
     "output_type": "display_data"
    },
    {
     "data": {
      "text/plain": [
       "'Charlie: 75'"
      ]
     },
     "metadata": {},
     "output_type": "display_data"
    },
    {
     "data": {
      "text/plain": [
       "'David: 88'"
      ]
     },
     "metadata": {},
     "output_type": "display_data"
    }
   ],
   "source": [
    "# a. Print the list of dictionary keys from the `grades` dictionary.  \n",
    "\n",
    "display(list(grades.keys()))\n",
    "\n",
    "# b. Print the list of dictionary values from the `grades` dictionary.  \n",
    "\n",
    "display(list(grades.values()))\n",
    "\n",
    "# for k, v in zip(grades.keys(), grades.values()):\n",
    "#     display(f\"{k}: {v}\")\n",
    "    \n",
    "for k, v in grades.items():\n",
    "    display(f\"{k}: {v}\")"
   ]
  }
 ],
 "metadata": {
  "kernelspec": {
   "display_name": "Python 3",
   "language": "python",
   "name": "python3"
  },
  "language_info": {
   "codemirror_mode": {
    "name": "ipython",
    "version": 3
   },
   "file_extension": ".py",
   "mimetype": "text/x-python",
   "name": "python",
   "nbconvert_exporter": "python",
   "pygments_lexer": "ipython3",
   "version": "3.12.7"
  }
 },
 "nbformat": 4,
 "nbformat_minor": 2
}
