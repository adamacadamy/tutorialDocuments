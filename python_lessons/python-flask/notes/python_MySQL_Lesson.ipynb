{
 "cells": [
  {
   "cell_type": "markdown",
   "id": "4d7e67c2",
   "metadata": {},
   "source": [
    "\n",
    "# MySQL Integration with Python Using Context-Based Cursor\n",
    "\n",
    "This lesson demonstrates how to use a context manager with the `mysql-connector-python` library for database operations. \n",
    "Context managers ensure resources like database connections and cursors are properly cleaned up, reducing the chances of resource leaks.\n",
    "\n",
    "### Prerequisite:\n",
    "Install the required library using:\n",
    "```bash\n",
    "pip install mysql-connector-python\n",
    "```\n"
   ]
  },
  {
   "cell_type": "code",
   "execution_count": 1,
   "id": "8f81a02a",
   "metadata": {},
   "outputs": [
    {
     "name": "stdout",
     "output_type": "stream",
     "text": [
      "Defaulting to user installation because normal site-packages is not writeableNote: you may need to restart the kernel to use updated packages.\n",
      "\n",
      "Requirement already satisfied: mysql-connector-python in c:\\users\\atew\\appdata\\local\\packages\\pythonsoftwarefoundation.python.3.12_qbz5n2kfra8p0\\localcache\\local-packages\\python312\\site-packages (9.1.0)\n"
     ]
    },
    {
     "name": "stderr",
     "output_type": "stream",
     "text": [
      "\n",
      "[notice] A new release of pip is available: 24.2 -> 24.3.1\n",
      "[notice] To update, run: C:\\Users\\atew\\AppData\\Local\\Microsoft\\WindowsApps\\PythonSoftwareFoundation.Python.3.12_qbz5n2kfra8p0\\python.exe -m pip install --upgrade pip\n"
     ]
    }
   ],
   "source": [
    "%pip install mysql-connector-python\n"
   ]
  },
  {
   "cell_type": "markdown",
   "id": "d9ff0147",
   "metadata": {},
   "source": [
    "\n",
    "## Lesson 1: Connecting to MySQL with a Context Manager\n",
    "\n",
    "Using a context manager ensures the connection is automatically closed after the block is executed.\n"
   ]
  },
  {
   "cell_type": "code",
   "execution_count": null,
   "id": "9b5db45e",
   "metadata": {},
   "outputs": [
    {
     "name": "stdout",
     "output_type": "stream",
     "text": [
      "Connected to MySQL Server\n"
     ]
    }
   ],
   "source": [
    "\n",
    "# import mysql.connector\n",
    "# from mysql.connector import connect\n",
    "from mysql.connector import Error, connect\n",
    "# 1st step connect to databaser\n",
    "# Establishing a connection using a context manager\n",
    "try: \n",
    "     with connect( \n",
    "        host=\"localhost\",  # Replace with your host\n",
    "        user=\"root\",       # Replace with your username\n",
    "        password=\"top!secret\", # Replace with your password\n",
    "        port=3307 # Replace with your password\n",
    "    ) as connection:\n",
    "        if connection.is_connected():\n",
    "            print(\"Connected to MySQL Server\")\n",
    "except Error as e:\n",
    "    print(f\"Error: {e}\")\n"
   ]
  },
  {
   "cell_type": "markdown",
   "id": "df1b73c6",
   "metadata": {},
   "source": [
    "\n",
    "## Lesson 2: Creating a Database and Table\n",
    "\n",
    "Here, we'll create a database and a table using a context-based cursor.\n"
   ]
  },
  {
   "cell_type": "code",
   "execution_count": null,
   "id": "35905962",
   "metadata": {},
   "outputs": [
    {
     "data": {
      "text/plain": [
       "\"Error: 1045 (28000): Access denied for user 'roots'@'192.168.143.2' (using password: YES)\""
      ]
     },
     "metadata": {},
     "output_type": "display_data"
    }
   ],
   "source": [
    "\n",
    "from mysql.connector import Error, connect\n",
    "\n",
    "# 1st step initialize connection with context\n",
    "# 2nd ping connection to check connection success\n",
    "# 3rd step initialize cursor with context from connection context\n",
    "# 4th step with in the connection execute all your queries\n",
    "try:\n",
    "    with connect(\n",
    "        host=\"localhost\",  # Replace with your host\n",
    "        user=\"root\",       # Replace with your username\n",
    "        password=\"top!secret\", # Replace with your password\n",
    "        port=3307 # Replace with your password\n",
    "    ) as connection:\n",
    "        if connection.is_connected():\n",
    "            with connection.cursor() as cursor: # cursor is query executor\n",
    "                # Create database and table\n",
    "                cursor.execute(\"CREATE DATABASE IF NOT EXISTS SchoolDB;\")\n",
    "                cursor.execute(\"USE SchoolDB;\")\n",
    "                cursor.execute(\"\"\"\n",
    "                    CREATE TABLE IF NOT EXISTS Students (\n",
    "                        id INT AUTO_INCREMENT PRIMARY KEY,\n",
    "                        name VARCHAR(255) NOT NULL,\n",
    "                        age INT NOT NULL,\n",
    "                        grade VARCHAR(10)\n",
    "                    );\n",
    "                \"\"\") \n",
    "                display(\"Database and table created successfully\")\n",
    "    \n",
    "except Error as e:\n",
    "    display(f\"Error: {e}\")\n"
   ]
  },
  {
   "cell_type": "markdown",
   "id": "540033d7",
   "metadata": {},
   "source": [
    "\n",
    "## Lesson 3: Inserting Data Using a Context-Based Cursor\n",
    "\n",
    "We'll insert multiple records into the `Students` table and use `executemany` for batch processing.\n"
   ]
  },
  {
   "cell_type": "code",
   "execution_count": null,
   "id": "e827b233",
   "metadata": {},
   "outputs": [
    {
     "name": "stdout",
     "output_type": "stream",
     "text": [
      "3 records inserted.\n"
     ]
    }
   ],
   "source": [
    "\n",
    "from mysql.connector import Error, connect\n",
    "data = [\n",
    "    (\"Alice\", 14, \"8th\"), # 1st record\n",
    "    (\"Bob\", 15, \"9th\"), # second record\n",
    "    (\"Charlie\", 13, \"7th\") # third record\n",
    "]\n",
    "\n",
    "try:\n",
    "    with connect(\n",
    "        host=\"localhost\",  # Replace with your host\n",
    "        user=\"root\",       # Replace with your username\n",
    "        password=\"top!secret\", # Replace with your password\n",
    "        port=3307 # Replace with your password\n",
    "    ) as connection:\n",
    "        with connection.cursor() as cursor:\n",
    "            cursor.execute(\"USE SchoolDB;\")\n",
    "            # Insert data into the table\n",
    "            insert_query = \"\"\"\n",
    "            INSERT INTO Students (name, age, grade)\n",
    "            VALUES (%s, %s, %s)\n",
    "            \"\"\"\n",
    "            cursor.executemany(insert_query, data)\n",
    "            connection.commit()\n",
    "            print(f\"{cursor.rowcount} records inserted.\")\n",
    "except Error as e:\n",
    "    print(f\"Error: {e}\")\n"
   ]
  },
  {
   "cell_type": "markdown",
   "id": "02e3f590",
   "metadata": {},
   "source": [
    "\n",
    "## Lesson 4: Querying Data Using a Context-Based Cursor\n",
    "\n",
    "We'll fetch and display all records from the `Students` table using a context-based cursor.\n"
   ]
  },
  {
   "cell_type": "code",
   "execution_count": null,
   "id": "299c7d28",
   "metadata": {},
   "outputs": [
    {
     "data": {
      "text/plain": [
       "'Student Records:'"
      ]
     },
     "metadata": {},
     "output_type": "display_data"
    },
    {
     "data": {
      "text/plain": [
       "(2, 'Alice')"
      ]
     },
     "metadata": {},
     "output_type": "display_data"
    },
    {
     "data": {
      "text/plain": [
       "(3, 'Bob')"
      ]
     },
     "metadata": {},
     "output_type": "display_data"
    },
    {
     "data": {
      "text/plain": [
       "(4, 'Charlie')"
      ]
     },
     "metadata": {},
     "output_type": "display_data"
    }
   ],
   "source": [
    "from mysql.connector import Error, connect\n",
    "\n",
    "try:\n",
    "    with connect(\n",
    "        host=\"localhost\",  # Replace with your host\n",
    "        user=\"root\",       # Replace with your username\n",
    "        password=\"top!secret\", # Replace with your password\n",
    "        port=3307 # Replace with your password\n",
    "    ) as connection:\n",
    "        with connection.cursor() as cursor:\n",
    "            cursor.execute(\"USE SchoolDB;\")\n",
    "            # Query data\n",
    "            cursor.execute(\"SELECT * FROM Students\")\n",
    "            records = cursor.fetchall()\n",
    "            display(\"Student Records:\")\n",
    "            for record in records:\n",
    "                display(record)\n",
    "except Error as e:\n",
    "    print(f\"Error: {e}\")\n"
   ]
  },
  {
   "cell_type": "markdown",
   "id": "5ba266b6",
   "metadata": {},
   "source": [
    "\n",
    "## Lesson 5: Updating Data Using a Context-Based Cursor\n",
    "\n",
    "We use the `UPDATE` statement to modify a student's grade in the table.\n"
   ]
  },
  {
   "cell_type": "code",
   "execution_count": 13,
   "id": "2ca297c1",
   "metadata": {},
   "outputs": [
    {
     "name": "stdout",
     "output_type": "stream",
     "text": [
      "Record updated successfully. Affected rows: 2\n"
     ]
    }
   ],
   "source": [
    "from mysql.connector import Error, connect\n",
    "\n",
    "try:\n",
    "    with connect(\n",
    "        host=\"localhost\",  # Replace with your host\n",
    "        user=\"root\",       # Replace with your username\n",
    "        password=\"top!secret\", # Replace with your password\n",
    "        port=3307 # Replace with your password\n",
    "    ) as connection:\n",
    "        with connection.cursor() as cursor:\n",
    "            cursor.execute(\"USE SchoolDB;\")\n",
    "            # Update data\n",
    "            update_query = \"UPDATE Students SET grade = %s WHERE name = %s\"\n",
    "            data = (\"10th\", \"Alice\")\n",
    "            cursor.execute(update_query, data)\n",
    "            connection.commit()\n",
    "            print(f\"Record updated successfully. Affected rows: {cursor.rowcount}\")\n",
    "except Error as e:\n",
    "    print(f\"Error: {e}\")\n"
   ]
  },
  {
   "cell_type": "markdown",
   "id": "444ea86f",
   "metadata": {},
   "source": [
    "\n",
    "## Lesson 6: Deleting Data Using a Context-Based Cursor\n",
    "\n",
    "To delete a record, we use the `DELETE` SQL statement and commit the transaction.\n"
   ]
  },
  {
   "cell_type": "code",
   "execution_count": 14,
   "id": "7272df80",
   "metadata": {},
   "outputs": [
    {
     "name": "stdout",
     "output_type": "stream",
     "text": [
      "Record deleted successfully. Affected rows: 1\n"
     ]
    }
   ],
   "source": [
    "from mysql.connector import Error, connect\n",
    "\n",
    "try:\n",
    "    with connect(\n",
    "        host=\"localhost\",  # Replace with your host\n",
    "        user=\"root\",       # Replace with your username\n",
    "        password=\"top!secret\", # Replace with your password\n",
    "        port=3307 # Replace with your password\n",
    "    ) as connection:\n",
    "        with connection.cursor() as cursor:\n",
    "            cursor.execute(\"USE SchoolDB;\")\n",
    "            # Delete data\n",
    "            delete_query = \"DELETE FROM Students WHERE id = %s\"\n",
    "            data = (\"1\",)\n",
    "            cursor.execute(delete_query, data)\n",
    "            connection.commit()\n",
    "            print(f\"Record deleted successfully. Affected rows: {cursor.rowcount}\")\n",
    "except Error as e:\n",
    "    print(f\"Error: {e}\")\n"
   ]
  }
 ],
 "metadata": {
  "kernelspec": {
   "display_name": "Python 3",
   "language": "python",
   "name": "python3"
  },
  "language_info": {
   "codemirror_mode": {
    "name": "ipython",
    "version": 3
   },
   "file_extension": ".py",
   "mimetype": "text/x-python",
   "name": "python",
   "nbconvert_exporter": "python",
   "pygments_lexer": "ipython3",
   "version": "3.12.7"
  }
 },
 "nbformat": 4,
 "nbformat_minor": 5
}
