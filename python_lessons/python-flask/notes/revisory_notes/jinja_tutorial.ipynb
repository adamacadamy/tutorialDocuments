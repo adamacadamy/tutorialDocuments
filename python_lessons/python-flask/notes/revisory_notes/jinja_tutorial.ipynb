{
 "cells": [
  {
   "cell_type": "markdown",
   "id": "ee54724d",
   "metadata": {},
   "source": [
    "# Jinja Templating Tutorial for Jupyter Notebook with Loops"
   ]
  },
  {
   "cell_type": "markdown",
   "id": "8be5f502",
   "metadata": {},
   "source": [
    "## 1. Installing Jinja2\n",
    "Jinja2 is a Python package, so you need to install it first. Run this in a Jupyter Notebook cell:"
   ]
  },
  {
   "cell_type": "code",
   "execution_count": 2,
   "id": "584ccc70",
   "metadata": {},
   "outputs": [
    {
     "name": "stdout",
     "output_type": "stream",
     "text": [
      "Defaulting to user installation because normal site-packages is not writeable\n",
      "Requirement already satisfied: Jinja2 in /home/adam/.local/lib/python3.11/site-packages (3.1.4)\n",
      "Requirement already satisfied: MarkupSafe>=2.0 in /home/adam/.local/lib/python3.11/site-packages (from Jinja2) (3.0.2)\n"
     ]
    }
   ],
   "source": [
    "!pip install Jinja2 --break-system-packages"
   ]
  },
  {
   "cell_type": "markdown",
   "id": "8baf5b21",
   "metadata": {},
   "source": [
    "## references\n",
    "* https://jinja.palletsprojects.com/en/stable/\n",
    "* https://www.tutorialspoint.com/python_falcon/python_falcon_jinja2_template.htm\n",
    "* https://ttl255.com/jinja2-tutorial-part-1-introduction-and-variable-substitution/\n",
    "* https://pythonprogramming.net/jinja-template-flask-tutorial/"
   ]
  },
  {
   "cell_type": "markdown",
   "id": "49da7a15",
   "metadata": {},
   "source": [
    "## 2. Importing Jinja2 in Jupyter Notebook\n",
    "Jinja2 provides an `Environment` class that we can use to load templates."
   ]
  },
  {
   "cell_type": "code",
   "execution_count": null,
   "id": "1d1cf1ce",
   "metadata": {},
   "outputs": [
    {
     "data": {
      "text/plain": [
       "<jinja2.environment.Environment at 0x7f5f98ac2550>"
      ]
     },
     "execution_count": 4,
     "metadata": {},
     "output_type": "execute_result"
    }
   ],
   "source": [
    "from jinja2 import Environment, DictLoader\n",
    "\n",
    "# Create a Jinja2 environment\n",
    "env = Environment(loader=DictLoader({}))\n",
    " "
   ]
  },
  {
   "cell_type": "markdown",
   "id": "01681f32",
   "metadata": {},
   "source": [
    "## 3. Basic Jinja Syntax in Jupyter Notebook\n",
    "Jinja templates use `{{ ... }}` for variables and `{% ... %}` for control statements."
   ]
  },
  {
   "cell_type": "code",
   "execution_count": null,
   "id": "2f061908",
   "metadata": {},
   "outputs": [
    {
     "name": "stdout",
     "output_type": "stream",
     "text": [
      "Hello, Alice!\n"
     ]
    }
   ],
   "source": [
    "template_str = \"Hello, {{ name }}!\" # name=\"Alice\" =>  Hello, Alice!\n",
    "\n",
    "template = env.from_string(template_str)  # convert string to jinja template using jinja env\n",
    "\n",
    "output = template.render(name=\"Alice\") # produce a rendered content by supplying all the variables\n",
    "print(output)"
   ]
  },
  {
   "cell_type": "markdown",
   "id": "ec15939a",
   "metadata": {},
   "source": [
    "## 4. Using Loops in Jinja\n",
    "Jinja supports `for` loops to iterate over lists or dictionaries."
   ]
  },
  {
   "cell_type": "code",
   "execution_count": 6,
   "id": "d884153c",
   "metadata": {},
   "outputs": [
    {
     "name": "stdout",
     "output_type": "stream",
     "text": [
      "Shopping List:\n",
      "    \n",
      "    - Apples\n",
      "    \n",
      "    - Bananas\n",
      "    \n",
      "    - Oranges\n",
      "    \n"
     ]
    }
   ],
   "source": [
    "template_str = \"\"\"Shopping List:\n",
    "    {% for item in items %}\n",
    "    - {{ item }}\n",
    "    {% endfor %}\n",
    "\"\"\"\n",
    "template = env.from_string(template_str) # convert string to jinja template using jinja env\n",
    "\n",
    "output = template.render(items=[\"Apples\", \"Bananas\", \"Oranges\"]) # produce a rendered content by supplying all the variables\n",
    "print(output)"
   ]
  },
  {
   "cell_type": "markdown",
   "id": "0c61ba9f",
   "metadata": {},
   "source": [
    "## 5. Looping Over Dictionaries\n",
    "You can iterate over key-value pairs in a dictionary using `items()`."
   ]
  },
  {
   "cell_type": "code",
   "execution_count": 8,
   "id": "254aa5e6",
   "metadata": {},
   "outputs": [
    {
     "name": "stdout",
     "output_type": "stream",
     "text": [
      "Student Scores:\n",
      "\n",
      "- Alice: 90%\n",
      "\n",
      "- Bob: 85%\n",
      "\n",
      "- Charlie: 92%\n",
      "\n"
     ]
    }
   ],
   "source": [
    "template_str = \"\"\"Student Scores:\n",
    "{% for name, score in scores.items() %}\n",
    "- {{ name }}: {{ score }}%\n",
    "{% endfor %}\n",
    "\"\"\"\n",
    "template = env.from_string(template_str)  # convert string to jinja template using jinja env\n",
    "\n",
    "output = template.render(scores={\"Alice\": 90, \"Bob\": 85, \"Charlie\": 92})  # produce a rendered content by supplying all the variables\n",
    "print(output)"
   ]
  },
  {
   "cell_type": "markdown",
   "id": "748b8520",
   "metadata": {},
   "source": [
    "## 6. Using Loop Variables\n",
    "Jinja provides `loop` variables to get the index, first/last element, etc."
   ]
  },
  {
   "cell_type": "code",
   "execution_count": null,
   "id": "1a90b3a9",
   "metadata": {},
   "outputs": [
    {
     "name": "stdout",
     "output_type": "stream",
     "text": [
      "Students:\n",
      "\n",
      "1. Alice (Topper) \n",
      "\n",
      "2. Bob  \n",
      "\n",
      "3. Charlie  (loser)\n",
      "\n"
     ]
    }
   ],
   "source": [
    "template_str =\"\"\"Students:\n",
    "{% for student in students %}\n",
    "{{ loop.index }}. {{ student }} {% if loop.first %}(Topper){% endif %} {% if loop.last %}(loser){% endif %}\n",
    "{% endfor %}\n",
    "\"\"\"\n",
    "template = env.from_string(template_str) # convert string to jinja template using jinja env\n",
    "\n",
    "output = template.render(students=[\"Alice\", \"Bob\", \"Charlie\"])  \n",
    "print(output)"
   ]
  },
  {
   "cell_type": "markdown",
   "id": "711dbd9e",
   "metadata": {},
   "source": [
    "## 7. Conditional Statements (`if-else`)\n",
    "You can use `{% if %}` blocks for conditions."
   ]
  },
  {
   "cell_type": "code",
   "execution_count": null,
   "id": "12775c6b",
   "metadata": {},
   "outputs": [
    {
     "name": "stdout",
     "output_type": "stream",
     "text": [
      "\n",
      "\n",
      "Alice passed with distinction!\n",
      "\n",
      "\n",
      "\n",
      "Bob passed!\n",
      "\n",
      "\n",
      "\n",
      "Charlie needs improvement.\n",
      "\n",
      "\n"
     ]
    }
   ],
   "source": [
    "template_str = \"\"\"\n",
    "{% for student in students %}\n",
    "    {% if student.score > 90 %}  \n",
    "        {{ student.name }} passed with distinction!\n",
    "    {% elif student.score > 75 %}\n",
    "        {{ student.name }} passed!\n",
    "    {% else %}\n",
    "        {{ student.name }} needs improvement.\n",
    "    {% endif %}\n",
    "{% endfor %}\n",
    "\"\"\"\n",
    "template = env.from_string(template_str) # convert string to jinja template using jinja env\n",
    "\n",
    "output = template.render(students=[\n",
    "    {\"name\": \"Alice\", \"score\": 95},\n",
    "    {\"name\": \"Bob\", \"score\": 80},\n",
    "    {\"name\": \"Charlie\", \"score\": 60}\n",
    "])  # produce a rendered content by supplying all the variables\n",
    "print(output)"
   ]
  },
  {
   "cell_type": "markdown",
   "id": "63e09703",
   "metadata": {},
   "source": [
    "## 8. Using Filters in Jinja\n",
    "Jinja provides **filters** to transform values."
   ]
  },
  {
   "cell_type": "code",
   "execution_count": null,
   "id": "d269e8c8",
   "metadata": {},
   "outputs": [
    {
     "name": "stdout",
     "output_type": "stream",
     "text": [
      "alice is learning Jinja.\n"
     ]
    }
   ],
   "source": [
    "template_str = \"{{ name | upper }} is learning Jinja.\"\n",
    "template = env.from_string(template_str) # convert string to jinja template using jinja env\n",
    "output = template.render(name=\"Alice\")  # produce a rendered content by supplying all the variables\n",
    "print(output)"
   ]
  },
  {
   "cell_type": "markdown",
   "id": "63c133f8",
   "metadata": {},
   "source": [
    "### Example: Joining Lists"
   ]
  },
  {
   "cell_type": "code",
   "execution_count": null,
   "id": "04b346cb",
   "metadata": {},
   "outputs": [
    {
     "name": "stdout",
     "output_type": "stream",
     "text": [
      "Students: Alice Bob Charlie\n"
     ]
    }
   ],
   "source": [
    "template_str = \"Students: {{ students | join(', ') }}\" # join(', ') filter converts list to coma separated string \"Alice, Bob, Charlie\"\n",
    "template = env.from_string(template_str)  # convert string to jinja template using jinja env\n",
    "output = template.render(students=[\"Alice\", \"Bob\", \"Charlie\"])  # produce a rendered content by supplying all the variables\n",
    "\n",
    "print(output)"
   ]
  },
  {
   "cell_type": "markdown",
   "id": "5cca5ea5",
   "metadata": {},
   "source": [
    "## 9. Creating Custom Filters in Jupyter Notebook\n",
    "You can define **custom filters** in Python."
   ]
  },
  {
   "cell_type": "code",
   "execution_count": 20,
   "id": "e6a31b41",
   "metadata": {},
   "outputs": [
    {
     "name": "stdout",
     "output_type": "stream",
     "text": [
      "olleh\n"
     ]
    }
   ],
   "source": [
    "def reverse_string(value): # x = [1, 2, 3], x=x[::-1] => [3, 2, 1]\n",
    "    return value[::-1]\n",
    "\n",
    "env.filters[\"reverse\"] = reverse_string\n",
    "\n",
    "template = env.from_string(\"{{ 'hello' | reverse }}\") # convert string to jinja template using jinja env\n",
    "print(template.render())  # produce a rendered content by supplying all the variables"
   ]
  },
  {
   "cell_type": "markdown",
   "id": "9d5de334",
   "metadata": {},
   "source": [
    "## 10. Template Inheritance (Reusable Layouts)\n",
    "Jinja allows **template inheritance** to create reusable structures."
   ]
  },
  {
   "cell_type": "code",
   "execution_count": null,
   "id": "bd62519d",
   "metadata": {},
   "outputs": [
    {
     "name": "stdout",
     "output_type": "stream",
     "text": [
      "Home Page\n",
      "\n",
      "\n",
      "Welcome to the home page!\n",
      "\n"
     ]
    }
   ],
   "source": [
    "base_template = \"\"\"{% block title %}My Page{% endblock %}\n",
    "\n",
    "{% block content %}{% endblock %}\n",
    "\"\"\"\n",
    "\n",
    "child_template = \"\"\"{% extends \"base\" %}\n",
    "\n",
    "{% block title %}Home Page{% endblock %}\n",
    "\n",
    "{% block content %}\n",
    "Welcome to the home page!\n",
    "{% endblock %}\n",
    "\"\"\"\n",
    "\n",
    "# Register templates in DictLoader\n",
    "env.loader.mapping[\"base\"] = base_template\n",
    "template = env.from_string(child_template) # convert string to jinja template using jinja env\n",
    "\n",
    "output = template.render() # produce a rendered content by supplying all the variables\n",
    "print(output)"
   ]
  },
  {
   "cell_type": "markdown",
   "id": "faa63a7e",
   "metadata": {},
   "source": [
    "## 11. Using Jinja with Files in Jupyter Notebook\n",
    "You can save templates as files and load them dynamically."
   ]
  },
  {
   "cell_type": "code",
   "execution_count": 22,
   "id": "b47426d9",
   "metadata": {},
   "outputs": [],
   "source": [
    "with open(\"template.html\", \"w\") as f:\n",
    "    f.write(\"<h1>Hello, {{ name }}!</h1>\")"
   ]
  },
  {
   "cell_type": "markdown",
   "id": "dce6bcc4",
   "metadata": {},
   "source": [
    "### Loading and Rendering the Template"
   ]
  },
  {
   "cell_type": "code",
   "execution_count": 23,
   "id": "dc82caa8",
   "metadata": {},
   "outputs": [
    {
     "name": "stdout",
     "output_type": "stream",
     "text": [
      "<h1>Hello, Alice!</h1>\n"
     ]
    }
   ],
   "source": [
    "from jinja2 import FileSystemLoader\n",
    "\n",
    "env = Environment(loader=FileSystemLoader(\".\"))\n",
    "template = env.get_template(\"template.html\") # get the template from the file system using jinja env loader\n",
    "\n",
    "output = template.render(name=\"Alice\")  # produce a rendered content by supplying all the variables\n",
    "print(output)"
   ]
  }
 ],
 "metadata": {
  "kernelspec": {
   "display_name": "Python 3",
   "language": "python",
   "name": "python3"
  },
  "language_info": {
   "codemirror_mode": {
    "name": "ipython",
    "version": 3
   },
   "file_extension": ".py",
   "mimetype": "text/x-python",
   "name": "python",
   "nbconvert_exporter": "python",
   "pygments_lexer": "ipython3",
   "version": "3.11.2"
  }
 },
 "nbformat": 4,
 "nbformat_minor": 5
}
