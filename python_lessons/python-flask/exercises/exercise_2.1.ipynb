{
 "cells": [
  {
   "cell_type": "markdown",
   "id": "26697073",
   "metadata": {},
   "source": [
    "### Exercise 1: Import the required modules for working with SQLAlchemy."
   ]
  },
  {
   "cell_type": "code",
   "execution_count": null,
   "id": "08bccf91",
   "metadata": {},
   "outputs": [],
   "source": [
    " "
   ]
  },
  {
   "cell_type": "markdown",
   "id": "385aefaf",
   "metadata": {},
   "source": [
    "### Exercise 2: Create a MySQL database connection using SQLAlchemy.\n",
    "Connect to a MySQL database with the table users:\n",
    "\n",
    "\n",
    "| **Field**    | **Data Type** | **Description**         | **Example**       |\n",
    "|--------------|---------------|-------------------------|-------------------|\n",
    "| Username     | String        | The username for login | `your_username`   |\n",
    "| Password     | String        | The password for login | `your_password`   |\n",
    "| Database     | String        | The name of the database | `your_database`  |\n"
   ]
  },
  {
   "cell_type": "code",
   "execution_count": null,
   "id": "26a43c3f",
   "metadata": {},
   "outputs": [],
   "source": [
    " "
   ]
  },
  {
   "cell_type": "markdown",
   "id": "dcb572d6",
   "metadata": {},
   "source": [
    "### Exercise 3: Define a table called `products` with the following columns:\n",
    " \n",
    "\n",
    "| Column Name   | Data Type | Constraints        | Description                   |\n",
    "|---------------|-----------|--------------------|-------------------------------|\n",
    "| `product_id`  | Integer   | Primary Key        | Unique identifier for a product |\n",
    "| `name`        | String(100) | Not Null         | Name of the product           |\n",
    "| `price`       | Float     | Not Null          | Price of the product          |\n",
    "\n",
    " "
   ]
  },
  {
   "cell_type": "code",
   "execution_count": null,
   "id": "b71a4352",
   "metadata": {},
   "outputs": [],
   "source": [
    " "
   ]
  },
  {
   "cell_type": "markdown",
   "id": "90dac142",
   "metadata": {},
   "source": [
    "### Exercise 4: Define a table called `orders` with the following columns:\n",
    "\n",
    "| Column Name   | Data Type | Constraints                      | Description                              |\n",
    "|---------------|-----------|----------------------------------|------------------------------------------|\n",
    "| `order_id`    | Integer   | Primary Key                      | Unique identifier for an order           |\n",
    "| `product_id`  | Integer   | Foreign Key (`products.product_id`) | References the product being ordered     |\n",
    "| `quantity`    | Integer   | Not Null                         | Quantity of the product ordered       "
   ]
  },
  {
   "cell_type": "code",
   "execution_count": null,
   "id": "3734236a",
   "metadata": {},
   "outputs": [],
   "source": [
    " "
   ]
  },
  {
   "cell_type": "markdown",
   "id": "7bfe8294",
   "metadata": {},
   "source": [
    "### Exercise 5: Insert the following rows into the `products` table: \n",
    " \n",
    "\n",
    "| `product_id` | `name`       | `price`  |\n",
    "|--------------|--------------|----------|\n",
    "| 1            | Laptop       | 1000.00  |\n",
    "| 2            | Smartphone   | 500.00   |\n",
    "| 3            | Tablet       | 300.00   |\n",
    "\n",
    " \n"
   ]
  },
  {
   "cell_type": "code",
   "execution_count": null,
   "id": "525b78ba",
   "metadata": {},
   "outputs": [],
   "source": [
    " "
   ]
  },
  {
   "cell_type": "markdown",
   "id": "2452cd97",
   "metadata": {},
   "source": [
    "### Exercise 6: Insert the following rows into the `orders` table: \n",
    " \n",
    "\n",
    "| `order_id` | `product_id` | `quantity` |\n",
    "|------------|--------------|------------|\n",
    "| 1          | 1            | 2          |\n",
    "| 2          | 2            | 5          |\n",
    "| 3          | 3            | 1          |"
   ]
  },
  {
   "cell_type": "code",
   "execution_count": null,
   "id": "6e3d0266",
   "metadata": {},
   "outputs": [],
   "source": []
  },
  {
   "cell_type": "markdown",
   "id": "1f0d3189",
   "metadata": {},
   "source": [
    "### Exercise 7: Query all products that have a price greater than 400."
   ]
  },
  {
   "cell_type": "code",
   "execution_count": null,
   "id": "cbffda2e",
   "metadata": {},
   "outputs": [],
   "source": []
  },
  {
   "cell_type": "markdown",
   "id": "3d2df5a8",
   "metadata": {},
   "source": [
    "### Exercise 8: Find all orders where the quantity is greater than 1 and fetch the corresponding product names."
   ]
  },
  {
   "cell_type": "code",
   "execution_count": null,
   "id": "20ff1e81",
   "metadata": {},
   "outputs": [],
   "source": []
  },
  {
   "cell_type": "markdown",
   "id": "b9ac3711",
   "metadata": {},
   "source": [
    "### Exercise 9: Update the price of the product with `product_id=2` to `550.00`."
   ]
  },
  {
   "cell_type": "code",
   "execution_count": null,
   "id": "9d38b70d",
   "metadata": {},
   "outputs": [],
   "source": []
  },
  {
   "cell_type": "markdown",
   "id": "7423f37a",
   "metadata": {},
   "source": [
    "### Exercise 10: Delete orders where the quantity is less than 2."
   ]
  },
  {
   "cell_type": "code",
   "execution_count": null,
   "id": "105c8cc2",
   "metadata": {},
   "outputs": [],
   "source": []
  },
  {
   "cell_type": "markdown",
   "id": "fc4805ba",
   "metadata": {},
   "source": [
    "### Exercise 11: Execute a raw SQL query to fetch all rows from the `products` table."
   ]
  },
  {
   "cell_type": "code",
   "execution_count": null,
   "id": "aea2f33e",
   "metadata": {},
   "outputs": [],
   "source": []
  },
  {
   "cell_type": "markdown",
   "id": "a96489b7",
   "metadata": {},
   "source": [
    "### Exercise 12: Execute a raw SQL query to calculate the total quantity of all orders."
   ]
  },
  {
   "cell_type": "code",
   "execution_count": null,
   "id": "85ba70ed",
   "metadata": {},
   "outputs": [],
   "source": []
  }
 ],
 "metadata": {
  "language_info": {
   "name": "python"
  }
 },
 "nbformat": 4,
 "nbformat_minor": 5
}
