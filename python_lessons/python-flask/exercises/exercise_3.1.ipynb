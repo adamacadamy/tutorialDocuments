{
 "cells": [
  {
   "cell_type": "markdown",
   "metadata": {},
   "source": [
    "## Flask Projects with Web and RESTful APIs \n",
    "\n",
    "### 1. **To-Do App**\n",
    "\n",
    "#### RESTful API Features:\n",
    "- **GET /todos**: Retrieve all to-do items.\n",
    "- **POST /todos**: Add a new to-do item.\n",
    "- **PUT /todos/<id>**: Update a specific to-do item.\n",
    "- **DELETE /todos/<id>**: Delete a specific to-do item.\n",
    "- **GET /todos/<id>**: Retrieve a specific to-do item.\n",
    "\n",
    "#### Model:\n",
    "- **Todo**: Represents a single to-do item.\n",
    "  - `id`: Unique identifier for the to-do.\n",
    "  - `task`: Description of the to-do.\n",
    "  - `is_completed`: Boolean indicating whether the to-do is completed.\n",
    "\n",
    "---\n"
   ]
  },
  {
   "cell_type": "markdown",
   "metadata": {},
   "source": [
    "### Reference Videos\n",
    "\n",
    "1. Python Flask REST API tutorial part 1 [Revisory Notes on Python Flask Routes](../notes/revisory_notes/python_flask_routes.ipynb)  \n",
    "      * video: https://us06web.zoom.us/rec/share/-CpiN2P8ItHZmkyTJ165CbF-jlf7h56DhJpeWWjZjfAdwAZ9TVDHtnC2oXz7k0zj.VxD_UCVEyceD8yTm?startTime=1735761858000\n",
    "      * Passcode: Passcode: Uj+G8%ik  \n",
    "\n",
    "2.  Python Flask REST API tutorial part 2 [Revisory Notes on Python Flask Routes](../notes/revisory_notes/python_flask_routes.ipynb)  \n",
    "      * video: https://us06web.zoom.us/rec/share/-CpiN2P8ItHZmkyTJ165CbF-jlf7h56DhJpeWWjZjfAdwAZ9TVDHtnC2oXz7k0zj.VxD_UCVEyceD8yTm?startTime=1735762871000  \n",
    "      * Passcode:  Uj+G8%ik  \n",
    "\n",
    "3.  Python Flask REST API tutorial part 3 [Revisory Notes on Python Flask Routes](../notes/revisory_notes/python_flask_routes.ipynb)  \n",
    "      * video: https://us06web.zoom.us/rec/share/y0xKk6FaiDoyey1r6QEJ8QZPgz91SYjt_9fA0fXLkQxWhWbxgJTz4YzVAY-LLcys.wEyxQkm5JU8agG7C?startTime=1735842995000  \n",
    "      * Passcode:  b=^pD+1A\n",
    "\n",
    "4.  Python Flask REST API tutorial part 4 [Revisory Notes on Python Flask Routes](../notes/revisory_notes/python_flask_routes.ipynb)  \n",
    "      * video: https://us06web.zoom.us/rec/share/y0xKk6FaiDoyey1r6QEJ8QZPgz91SYjt_9fA0fXLkQxWhWbxgJTz4YzVAY-LLcys.wEyxQkm5JU8agG7C?startTime=1735847140000  \n",
    "      * Passcode:  b=^pD+1A\n",
    "\n",
    "5.  Python Flask REST API tutorial part 5 [Revisory Notes on Python Flask Routes](../notes/revisory_notes/python_flask_routes.ipynb)  \n",
    "      * video: https://us06web.zoom.us/rec/share/y0xKk6FaiDoyey1r6QEJ8QZPgz91SYjt_9fA0fXLkQxWhWbxgJTz4YzVAY-LLcys.wEyxQkm5JU8agG7C?startTime=1735848942000 \n",
    "      * Passcode:  b=^pD+1A"
   ]
  },
  {
   "cell_type": "code",
   "execution_count": null,
   "metadata": {},
   "outputs": [],
   "source": [
    "!pip install flask --break-system-packages\n",
    "!pip install flask-restx  --break-system-packages"
   ]
  },
  {
   "cell_type": "code",
   "execution_count": null,
   "metadata": {},
   "outputs": [],
   "source": [
    "import nest_asyncio\n",
    "from flask import Flask, jsonify, request\n",
    "\n",
    "# Allow Flask to run in a Jupyter Notebook\n",
    "nest_asyncio.apply()\n",
    "\n",
    "# Initialize Flask app\n",
    "app = Flask(__name__)\n",
    "\n",
    "# In-memory storage for to-do tasks\n",
    "todos = {} \n",
    "\n",
    "\n",
    "\n",
    "    \n",
    "\n",
    "# localhost = 127.0.0.1, 0.0.0.0\n",
    "run_simple('localhost', 5000, app, use_debugger=True)"
   ]
  }
 ],
 "metadata": {
  "kernelspec": {
   "display_name": "Python 3",
   "language": "python",
   "name": "python3"
  },
  "language_info": {
   "codemirror_mode": {
    "name": "ipython",
    "version": 3
   },
   "file_extension": ".py",
   "mimetype": "text/x-python",
   "name": "python",
   "nbconvert_exporter": "python",
   "pygments_lexer": "ipython3",
   "version": "3.11.2"
  }
 },
 "nbformat": 4,
 "nbformat_minor": 2
}
