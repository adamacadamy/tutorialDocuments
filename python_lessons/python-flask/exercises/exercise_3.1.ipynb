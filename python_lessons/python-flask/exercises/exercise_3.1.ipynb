{
 "cells": [
  {
   "cell_type": "markdown",
   "metadata": {},
   "source": [
    "## Flask Projects with Web and RESTful APIs\n",
    "\n",
    "### 1. **To-Do App**\n",
    "\n",
    "#### RESTful API Features:\n",
    "- **GET /todos**: Retrieve all to-do items.\n",
    "- **POST /todos**: Add a new to-do item.\n",
    "- **PUT /todos/<id>**: Update a specific to-do item.\n",
    "- **DELETE /todos/<id>**: Delete a specific to-do item.\n",
    "\n",
    "#### Model:\n",
    "- **Todo**: Represents a single to-do item.\n",
    "  - `id`: Unique identifier for the to-do.\n",
    "  - `task`: Description of the to-do.\n",
    "  - `is_completed`: Boolean indicating whether the to-do is completed.\n",
    "\n",
    "---\n"
   ]
  },
  {
   "cell_type": "code",
   "execution_count": 1,
   "metadata": {},
   "outputs": [
    {
     "name": "stdout",
     "output_type": "stream",
     "text": [
      "Defaulting to user installation because normal site-packages is not writeable\n",
      "Requirement already satisfied: flask in /home/adam/.local/lib/python3.11/site-packages (3.1.0)\n",
      "Requirement already satisfied: Werkzeug>=3.1 in /home/adam/.local/lib/python3.11/site-packages (from flask) (3.1.3)\n",
      "Requirement already satisfied: Jinja2>=3.1.2 in /home/adam/.local/lib/python3.11/site-packages (from flask) (3.1.4)\n",
      "Requirement already satisfied: itsdangerous>=2.2 in /home/adam/.local/lib/python3.11/site-packages (from flask) (2.2.0)\n",
      "Requirement already satisfied: click>=8.1.3 in /home/adam/.local/lib/python3.11/site-packages (from flask) (8.1.7)\n",
      "Requirement already satisfied: blinker>=1.9 in /home/adam/.local/lib/python3.11/site-packages (from flask) (1.9.0)\n",
      "Requirement already satisfied: MarkupSafe>=2.0 in /home/adam/.local/lib/python3.11/site-packages (from Jinja2>=3.1.2->flask) (3.0.2)\n",
      "Defaulting to user installation because normal site-packages is not writeable\n",
      "Requirement already satisfied: flask-restx in /home/adam/.local/lib/python3.11/site-packages (1.3.0)\n",
      "Requirement already satisfied: aniso8601>=0.82 in /home/adam/.local/lib/python3.11/site-packages (from flask-restx) (9.0.1)\n",
      "Requirement already satisfied: jsonschema in /home/adam/.local/lib/python3.11/site-packages (from flask-restx) (4.23.0)\n",
      "Requirement already satisfied: Flask!=2.0.0,>=0.8 in /home/adam/.local/lib/python3.11/site-packages (from flask-restx) (3.1.0)\n",
      "Requirement already satisfied: werkzeug!=2.0.0 in /home/adam/.local/lib/python3.11/site-packages (from flask-restx) (3.1.3)\n",
      "Requirement already satisfied: pytz in /home/adam/.local/lib/python3.11/site-packages (from flask-restx) (2024.2)\n",
      "Requirement already satisfied: importlib-resources in /home/adam/.local/lib/python3.11/site-packages (from flask-restx) (6.4.5)\n",
      "Requirement already satisfied: Jinja2>=3.1.2 in /home/adam/.local/lib/python3.11/site-packages (from Flask!=2.0.0,>=0.8->flask-restx) (3.1.4)\n",
      "Requirement already satisfied: itsdangerous>=2.2 in /home/adam/.local/lib/python3.11/site-packages (from Flask!=2.0.0,>=0.8->flask-restx) (2.2.0)\n",
      "Requirement already satisfied: click>=8.1.3 in /home/adam/.local/lib/python3.11/site-packages (from Flask!=2.0.0,>=0.8->flask-restx) (8.1.7)\n",
      "Requirement already satisfied: blinker>=1.9 in /home/adam/.local/lib/python3.11/site-packages (from Flask!=2.0.0,>=0.8->flask-restx) (1.9.0)\n",
      "Requirement already satisfied: MarkupSafe>=2.1.1 in /home/adam/.local/lib/python3.11/site-packages (from werkzeug!=2.0.0->flask-restx) (3.0.2)\n",
      "Requirement already satisfied: attrs>=22.2.0 in /home/adam/.local/lib/python3.11/site-packages (from jsonschema->flask-restx) (24.3.0)\n",
      "Requirement already satisfied: jsonschema-specifications>=2023.03.6 in /home/adam/.local/lib/python3.11/site-packages (from jsonschema->flask-restx) (2024.10.1)\n",
      "Requirement already satisfied: referencing>=0.28.4 in /home/adam/.local/lib/python3.11/site-packages (from jsonschema->flask-restx) (0.35.1)\n",
      "Requirement already satisfied: rpds-py>=0.7.1 in /home/adam/.local/lib/python3.11/site-packages (from jsonschema->flask-restx) (0.22.3)\n"
     ]
    }
   ],
   "source": [
    "!pip install flask --break-system-packages\n",
    "!pip install flask-restx  --break-system-packages"
   ]
  },
  {
   "cell_type": "code",
   "execution_count": null,
   "metadata": {},
   "outputs": [],
   "source": [
    "import nest_asyncio\n",
    "from flask import Flask, jsonify, request\n",
    "\n",
    "# Allow Flask to run in a Jupyter Notebook\n",
    "nest_asyncio.apply()\n",
    "\n",
    "# Initialize Flask app\n",
    "app = Flask(__name__)\n",
    "\n",
    "# In-memory storage for to-do tasks\n",
    "todos = {} \n",
    "\n",
    "\n",
    "\n",
    "    \n",
    "\n",
    "# localhost = 127.0.0.1, 0.0.0.0\n",
    "run_simple('localhost', 5000, app, use_debugger=True)"
   ]
  }
 ],
 "metadata": {
  "kernelspec": {
   "display_name": "Python 3",
   "language": "python",
   "name": "python3"
  },
  "language_info": {
   "codemirror_mode": {
    "name": "ipython",
    "version": 3
   },
   "file_extension": ".py",
   "mimetype": "text/x-python",
   "name": "python",
   "nbconvert_exporter": "python",
   "pygments_lexer": "ipython3",
   "version": "3.11.2"
  }
 },
 "nbformat": 4,
 "nbformat_minor": 2
}
