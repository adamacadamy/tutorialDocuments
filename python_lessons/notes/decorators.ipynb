{
 "cells": [
  {
   "cell_type": "markdown",
   "metadata": {},
   "source": [
    "\n",
    "## Python Lesson: Decorators \n",
    "In Python, decorators are a way to modify the behavior of a function or a class.\n",
    "They are a powerful tool for extending functionality without modifying the original code directly.\n",
    "\n",
    "### 1. Basic Decorator \n",
    "A basic decorator is a function that takes another function as an argument, adds some behavior, and returns a new function."
   ]
  },
  {
   "cell_type": "code",
   "execution_count": null,
   "metadata": {},
   "outputs": [
    {
     "data": {
      "text/plain": [
       "'before function execution 2'"
      ]
     },
     "metadata": {},
     "output_type": "display_data"
    },
    {
     "data": {
      "text/plain": [
       "'before function execution 1'"
      ]
     },
     "metadata": {},
     "output_type": "display_data"
    },
    {
     "data": {
      "text/plain": [
       "'Hello World'"
      ]
     },
     "metadata": {},
     "output_type": "display_data"
    },
    {
     "data": {
      "text/plain": [
       "'after function execution 1'"
      ]
     },
     "metadata": {},
     "output_type": "display_data"
    },
    {
     "data": {
      "text/plain": [
       "'after function execution 2'"
      ]
     },
     "metadata": {},
     "output_type": "display_data"
    }
   ],
   "source": [
    "# 1. Basic Decorator\n",
    "# ------------------\n",
    "# A basic decorator is a function that takes another function as an argument, adds some behavior,\n",
    "# and returns a new function.\n",
    "\n",
    "from typing import Callable\n",
    "\n",
    "def simple_decorator_1(func: Callable):\n",
    "    def wrapper():\n",
    "        display(\"before function execution 1\")\n",
    "        func()\n",
    "        display(\"after function execution 1\")\n",
    "    return wrapper\n",
    "    \n",
    "def simple_decorator_2(func: Callable):\n",
    "    def wrapper(): #\n",
    "        display(\"before function execution 2\")\n",
    "        func()\n",
    "        display(\"after function execution 2\")\n",
    "    return wrapper\n",
    "\n",
    "\n",
    "\n",
    "@simple_decorator_1   # say_hello\n",
    "@simple_decorator_2  # say_hello\n",
    "def say_hello():\n",
    "    display(\"Hello World\")\n",
    "    \n",
    "\"\"\" \n",
    "1. exec_1= simple_decorator_1(func: say_hello)\n",
    "2. exec_2 = simple_decorator_2(func: say_hello)\n",
    "2. exec() ### combined execution exec = exec_1.union(exec_1)\n",
    "                                 exec  = [   \n",
    "                                      display(\"before function execution 1\"),\n",
    "                                      display(\"before function execution 2\"), \n",
    "                                      func(),\n",
    "                                      display(\"after function execution 1\")  \n",
    "                                      display(\"after function execution 2\")\n",
    "                                    ]\n",
    "    before function operations \n",
    "        \"before function execution 1\"\n",
    "        \"before function execution 2\"\n",
    "    decorated function operation\n",
    "            \"Hello World\"\n",
    "    after function operations  \n",
    "        \"after function execution 1\"\n",
    "        \"after function execution 2\"\n",
    "\"\"\"   \n",
    "say_hello()\n"
   ]
  },
  {
   "cell_type": "code",
   "execution_count": null,
   "metadata": {},
   "outputs": [
    {
     "data": {
      "text/plain": [
       "'Hello, Kahse!'"
      ]
     },
     "metadata": {},
     "output_type": "display_data"
    },
    {
     "data": {
      "text/plain": [
       "'Hello, Kahse!'"
      ]
     },
     "metadata": {},
     "output_type": "display_data"
    },
    {
     "data": {
      "text/plain": [
       "'Hello, Kahse!'"
      ]
     },
     "metadata": {},
     "output_type": "display_data"
    },
    {
     "data": {
      "text/plain": [
       "{}"
      ]
     },
     "metadata": {},
     "output_type": "display_data"
    }
   ],
   "source": [
    "# 2. Function Decorators with Arguments\n",
    "# -------------------------------------\n",
    "# Decorators can also accept arguments. To create such decorators, we need an extra level of nested functions.\n",
    "\n",
    "def repeat_greetings(times: int): # greet\n",
    "    def decorator(func):\n",
    "        def wrapper(*args, **kwargs): # \"kahse\", name=\"Kahse\", (*args, **kwargs) dynamic function arguments or signature\n",
    "            for _ in range(times):\n",
    "                func(*args, **kwargs)\n",
    "        return wrapper\n",
    "    return decorator\n",
    "\n",
    "@repeat_greetings(3)\n",
    "def greet(name: str):\n",
    "    display(f\"Hello, {name}!\")\n",
    "\n",
    "\"\"\" \n",
    "repeat_greetings(3) \n",
    " => calls decorator | greet\n",
    "    => wrapper passing *args, **kwargs for greeting\n",
    "       => loops 3 times and calls greet with either \"Kahse\" or name=\"kahse\"\n",
    "\"\"\" \n",
    "# greet(\"kahse\") # arg argument\n",
    "greet(name=\"Kahse\") # kwargs means key word argument "
   ]
  },
  {
   "cell_type": "code",
   "execution_count": 39,
   "metadata": {},
   "outputs": [
    {
     "data": {
      "text/plain": [
       "'args:: ()'"
      ]
     },
     "metadata": {},
     "output_type": "display_data"
    },
    {
     "data": {
      "text/plain": [
       "\"kwargs::{'a': 1, 'b': 1}\""
      ]
     },
     "metadata": {},
     "output_type": "display_data"
    },
    {
     "data": {
      "text/plain": [
       "'Calling function: add'"
      ]
     },
     "metadata": {},
     "output_type": "display_data"
    },
    {
     "data": {
      "text/plain": [
       "2"
      ]
     },
     "execution_count": 39,
     "metadata": {},
     "output_type": "execute_result"
    }
   ],
   "source": [
    "# 3. Preserving Metadata with `functools.wraps`\n",
    "# ---------------------------------------------\n",
    "# When using decorators, the original function's metadata (like its name and docstring) can be lost.\n",
    "# To preserve this metadata, we can use `functools.wraps`.\n",
    "\n",
    "# what is Metadata: data of data or data about data\n",
    " \n",
    "\n",
    "def logging_decorator(func: callable):\n",
    "    def wrapper(*args, **kwargs):\n",
    "        display(f\"args:: {args}\")\n",
    "        display(f\"kwargs::{kwargs}\")\n",
    "        display(f\"Calling function: {func.__name__}\")\n",
    "        return func(*args, **kwargs) # add(a=1, b=1)\n",
    "    return wrapper\n",
    "\n",
    "@logging_decorator\n",
    "def add(b:int, a:int=1):\n",
    "    \"\"\" Adds two numbers\"\"\"\n",
    "    return a + b\n",
    "\n",
    "add(a=1, b=1) #kwargs\n",
    "# add(1,1) # args \n",
    "# display(add.__name__)\n",
    "# display(add.__annotations__) # arguments of the function\n",
    "# display(add.__doc__)\n",
    "# display(add.__builtins__)"
   ]
  },
  {
   "cell_type": "code",
   "execution_count": null,
   "metadata": {},
   "outputs": [
    {
     "data": {
      "text/plain": [
       "'HELLO FROM CLASS DECORATOR!'"
      ]
     },
     "execution_count": 43,
     "metadata": {},
     "output_type": "execute_result"
    }
   ],
   "source": [
    "# 4. Class Decorators\n",
    "# -------------------\n",
    "# Decorators can also be implemented using classes. A class decorator defines a class that has a `__call__` method,\n",
    "# making the class instance callable like a function.\n",
    "\n",
    "class UpperCaseDecorator:\n",
    "    def __init__(self, func: callable) -> None:\n",
    "        self.func = func\n",
    "        \n",
    "    def __call__(self, *args, **kwargs):\n",
    "        result = self.func(*args, **kwargs)\n",
    "        return result.upper()\n",
    "\"\"\"\n",
    "ups = UpperCaseDecorator(func=get_message) = self.func = func\n",
    "    => __call__  exe = get_message() = \"Hello from class decorator!\" upper case = returns 'HELLO FROM CLASS DECORATOR!'\n",
    "\"\"\"\n",
    "@UpperCaseDecorator\n",
    "def get_message():\n",
    "    return \"Hello from class decorator!\"\n",
    "\n",
    "get_message()"
   ]
  },
  {
   "cell_type": "code",
   "execution_count": null,
   "metadata": {},
   "outputs": [
    {
     "data": {
      "text/plain": [
       "'<b><i>Decorated Text</i></b>'"
      ]
     },
     "metadata": {},
     "output_type": "display_data"
    }
   ],
   "source": [
    "# 5. Chaining Multiple Decorators\n",
    "# -------------------------------\n",
    "# You can apply multiple decorators to a single function by stacking them.\n",
    "\n",
    "def bold_decorator(func: Callable):\n",
    "    def wrapper():\n",
    "        return f\"<b>{func()}</b>\"\n",
    "    return wrapper\n",
    "\n",
    "def italic_decorator(func: Callable):\n",
    "    def wrapper():\n",
    "        return f\"<i>{func()}</i>\"\n",
    "    return wrapper\n",
    "\"\"\"\n",
    "order of execution is in the order of the decorator closes to the function\n",
    "1, italic decorator \n",
    "        returns \"<i>Decorated Text</i>\"\n",
    "2. bold decorator\n",
    "        returns \"<b><i>Decorated Text</i></b>\"\n",
    "\n",
    "\"\"\"\n",
    "@bold_decorator\n",
    "@italic_decorator\n",
    "def text():\n",
    "    return \"Decorated Text\"\n",
    "\n",
    "display(text())"
   ]
  }
 ],
 "metadata": {
  "kernelspec": {
   "display_name": "Python 3",
   "language": "python",
   "name": "python3"
  },
  "language_info": {
   "codemirror_mode": {
    "name": "ipython",
    "version": 3
   },
   "file_extension": ".py",
   "mimetype": "text/x-python",
   "name": "python",
   "nbconvert_exporter": "python",
   "pygments_lexer": "ipython3",
   "version": "3.12.7"
  }
 },
 "nbformat": 4,
 "nbformat_minor": 2
}
