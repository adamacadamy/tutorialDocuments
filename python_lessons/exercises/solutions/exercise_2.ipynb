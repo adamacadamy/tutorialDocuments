{
 "cells": [
  {
   "cell_type": "markdown",
   "metadata": {},
   "source": [
    "\n",
    "### Python Code Challenge: Functions and List Comprehensions\n",
    "\n",
    " **Challenge 1**: Define a function that takes a list of numbers and returns a new list containing only the even numbers.  \n",
    " \n",
    " The function should use list comprehension.\n",
    " "
   ]
  },
  {
   "cell_type": "code",
   "execution_count": 13,
   "metadata": {},
   "outputs": [
    {
     "data": {
      "text/plain": [
       "[12, 88, 22]"
      ]
     },
     "metadata": {},
     "output_type": "display_data"
    },
    {
     "data": {
      "text/plain": [
       "[12, 88, 22]"
      ]
     },
     "metadata": {},
     "output_type": "display_data"
    },
    {
     "data": {
      "text/plain": [
       "'Alice: 85'"
      ]
     },
     "metadata": {},
     "output_type": "display_data"
    },
    {
     "data": {
      "text/plain": [
       "'Bob: 90'"
      ]
     },
     "metadata": {},
     "output_type": "display_data"
    },
    {
     "data": {
      "text/plain": [
       "'Charlie: 75'"
      ]
     },
     "metadata": {},
     "output_type": "display_data"
    },
    {
     "data": {
      "text/plain": [
       "None"
      ]
     },
     "metadata": {},
     "output_type": "display_data"
    },
    {
     "data": {
      "text/plain": [
       "'USA: 1'"
      ]
     },
     "metadata": {},
     "output_type": "display_data"
    },
    {
     "data": {
      "text/plain": [
       "'China: 2'"
      ]
     },
     "metadata": {},
     "output_type": "display_data"
    },
    {
     "data": {
      "text/plain": [
       "'UK: 4'"
      ]
     },
     "metadata": {},
     "output_type": "display_data"
    },
    {
     "data": {
      "text/plain": [
       "'adam fuzum tewelde'"
      ]
     },
     "metadata": {},
     "output_type": "display_data"
    },
    {
     "data": {
      "text/plain": [
       "'gebre teklay abrha'"
      ]
     },
     "metadata": {},
     "output_type": "display_data"
    }
   ],
   "source": [
    "def get_even_numbered_list(given_list: list,) -> list[int]:\n",
    "    some_list = [ number for number in given_list if number % 2 == 0]\n",
    "    \n",
    "    return some_list\n",
    "\n",
    "some_list = [1, 5, 9, 12, 87, 88, 22]\n",
    "\n",
    "even_numbered_list = get_even_numbered_list(some_list)\n",
    "\n",
    "display(even_numbered_list)\n",
    "\n",
    "\n",
    "display(get_even_numbered_list(some_list))\n",
    "\n",
    "\n",
    "\n",
    "grades = {\n",
    "    \"Alice\": 85,\n",
    "    \"Bob\": 90,\n",
    "    \"Charlie\": 75, \n",
    "}\n",
    "\n",
    "ranks = {\n",
    "    \"USA\": 1, \n",
    "    \"China\": 2, \n",
    "    \"UK\": 4\n",
    "}\n",
    "\n",
    "def get_keys_and_values(some_dict: dict):\n",
    "    for k, v in some_dict.items():\n",
    "        display(f\"{k}: {v}\")\n",
    "         \n",
    "# functions do not work until they are called \n",
    "result = get_keys_and_values(grades)\n",
    "display(result)\n",
    "\n",
    "\n",
    "get_keys_and_values(ranks)\n",
    "\n",
    "def combine_names(first_name: str, last_name: str, sir_name: str) -> str:\n",
    "    return f\"{first_name} {last_name} {sir_name}\"\n",
    "\n",
    "full_name = combine_names(\"adam\", \"fuzum\", \"tewelde\")\n",
    "\n",
    "\n",
    "display(full_name)\n",
    "\n",
    "full_name = combine_names(sir_name=\"abrha\", last_name=\"teklay\", first_name=\"gebre\")\n",
    "\n",
    "display(full_name)\n",
    "\n",
    " "
   ]
  },
  {
   "cell_type": "markdown",
   "metadata": {},
   "source": [
    " \n",
    "**Challenge 2**: Define a function that takes a list of strings and returns a new list with the strings that have more than 5 characters. \n",
    " \n",
    "Use list comprehension for filtering.  \n"
   ]
  },
  {
   "cell_type": "code",
   "execution_count": 25,
   "metadata": {},
   "outputs": [
    {
     "data": {
      "text/plain": [
       "['come on', 'learns', 'youtube creators']"
      ]
     },
     "metadata": {},
     "output_type": "display_data"
    },
    {
     "data": {
      "text/plain": [
       "['another ss', 'sss on', 'babdsa']"
      ]
     },
     "metadata": {},
     "output_type": "display_data"
    }
   ],
   "source": [
    "\n",
    "\n",
    "def list_with_more_5_chars(words: list[str]) -> list[str]:\n",
    "    return [word for word in words if len(word) > 5]\n",
    "\n",
    "some_words = [\"adam\", \"kahse\", \"come on\", \"learns\", \"youtube creators\"]\n",
    "\n",
    "new_list =   list_with_more_5_chars(some_words)\n",
    "\n",
    "display(new_list)\n",
    "\n",
    "some_other_words = [\"some\", \"another ss\", \"sss on\", \"babdsa\", \"huray\"]\n",
    "new_list =  list_with_more_5_chars(some_words)\n",
    "\n",
    "display(new_list)\n",
    "\n",
    "\n"
   ]
  },
  {
   "cell_type": "markdown",
   "metadata": {},
   "source": [
    "**Challenge 3**: Write a function that takes a list of integers and returns a list of their squares.   \n",
    "Use list comprehension to achieve this."
   ]
  },
  {
   "cell_type": "code",
   "execution_count": 27,
   "metadata": {},
   "outputs": [
    {
     "data": {
      "text/plain": [
       "[4, 144, 25, 16, 36]"
      ]
     },
     "metadata": {},
     "output_type": "display_data"
    },
    {
     "data": {
      "text/plain": [
       "[484, 3025, 1, 25]"
      ]
     },
     "metadata": {},
     "output_type": "display_data"
    }
   ],
   "source": [
    "def square_of_ints_in_list(numbers: list[int]) -> list[int]:\n",
    "    return [number**2 for number in numbers]\n",
    "\n",
    "some_numbers = [2, 12, 5, 4, 6]\n",
    "s1 = square_of_ints_in_list(numbers=some_numbers)\n",
    "display(s1)\n",
    "\n",
    "another_numbers = [22, 55, 1, 5]\n",
    "s2 = square_of_ints_in_list(numbers=another_numbers)\n",
    "display(s2)"
   ]
  },
  {
   "cell_type": "markdown",
   "metadata": {},
   "source": [
    "**Challenge 4**: Write a function that accepts two lists of the same length and returns a list of tuples,  \n",
    " where each tuple contains elements from the two lists at the corresponding positions (same index). Use list comprehension.\n",
    "\n"
   ]
  },
  {
   "cell_type": "code",
   "execution_count": 30,
   "metadata": {},
   "outputs": [
    {
     "data": {
      "text/plain": [
       "[(1, 2), (4, 7), (6, 0)]"
      ]
     },
     "metadata": {},
     "output_type": "display_data"
    },
    {
     "data": {
      "text/plain": [
       "' \\n first iteration  \\n   val_1, val_2 = (1, 2)\\n\\n first iteration  \\n   val_1, val_2 = (4, 7)\\n\\n third iteration\\n   val_1, val_2 = (6, 0)\\n \\n'"
      ]
     },
     "execution_count": 30,
     "metadata": {},
     "output_type": "execute_result"
    }
   ],
   "source": [
    "\n",
    "list_1 = [1, 4, 6]\n",
    "list_2 = [2, 7, 0]\n",
    "\n",
    "def list_tuple(l1: list[int|float], l2: list[int|float]) -> list[tuple[int|float]]:\n",
    "    return [(val1, val2) for val1, val2 in zip(l1,l2)]\n",
    "\n",
    "result = list_tuple(l1=list_1, l2=list_2)\n",
    "\n",
    "display(result) \n",
    "# step\n",
    "#  [2, 8,  12  ] \n",
    "# result = [val_1*2 for val_1 in list_1]\n",
    "\n",
    "# x = (4, 5)\n",
    "\n",
    "# z, y = x # [4, 5]\n",
    " \n",
    " \n",
    "#  first iteration  \n",
    "#    val_1, val_2 = (1, 2)\n",
    "\n",
    "#  first iteration  \n",
    "#    val_1, val_2 = (4, 7)\n",
    "\n",
    "#  third iteration\n",
    "#    val_1, val_2 = (6, 0)\n",
    " \n",
    "# for val_1, val_2 in zip(list_1, list_2):\n",
    "#     display(f\"{val_1}, {val_2}\")\n"
   ]
  }
 ],
 "metadata": {
  "kernelspec": {
   "display_name": "Python 3",
   "language": "python",
   "name": "python3"
  },
  "language_info": {
   "codemirror_mode": {
    "name": "ipython",
    "version": 3
   },
   "file_extension": ".py",
   "mimetype": "text/x-python",
   "name": "python",
   "nbconvert_exporter": "python",
   "pygments_lexer": "ipython3",
   "version": "3.12.7"
  }
 },
 "nbformat": 4,
 "nbformat_minor": 2
}
