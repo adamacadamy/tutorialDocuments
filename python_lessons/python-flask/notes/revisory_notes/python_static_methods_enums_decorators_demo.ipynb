{
 "cells": [
  {
   "cell_type": "markdown",
   "id": "a3b8936b",
   "metadata": {},
   "source": [
    "\n",
    "# Python Lesson: Static Methods, Enums, and Decorators\n",
    "\n",
    "This notebook covers three advanced Python concepts:\n",
    "1. **Static Methods**: Utility methods associated with a class but independent of instance or class data.\n",
    "2. **Enums**: A way to define a fixed set of constants.\n",
    "3. **Decorators**: Functions that enhance or modify other functions' behavior dynamically.\n",
    "\n",
    "We'll also explore practical use cases and combine these concepts into a real-world example: **Role-Based Access Control**.\n",
    "    "
   ]
  },
  {
   "cell_type": "markdown",
   "id": "21dcc7e7",
   "metadata": {},
   "source": [
    "\n",
    "## Static Methods\n",
    "\n",
    "### What Are Static Methods?\n",
    "\n",
    "A **static method** belongs to a class but:\n",
    "- Does not have access to the instance (`self`) or class (`cls`).\n",
    "- Is defined with the `@staticmethod` decorator.\n",
    "\n",
    "### Use Case\n",
    "Static methods are useful for utility functions that logically belong to a class but don’t require instance or class context.\n",
    "\n",
    "### Example: A Utility for Validating Data\n",
    "    "
   ]
  },
  {
   "cell_type": "code",
   "execution_count": 14,
   "id": "83470e07",
   "metadata": {},
   "outputs": [
    {
     "data": {
      "text/plain": [
       "'Access granted to guest resources'"
      ]
     },
     "execution_count": 14,
     "metadata": {},
     "output_type": "execute_result"
    }
   ],
   "source": [
    "from enum import Enum \n",
    "\n",
    "\"\"\" \n",
    "CONSTANT VARIABLES SHOULD BE TYPED IN CAPITAL LETTERS\n",
    " in my case I have a roles enum class with three roles for users\n",
    "    1. admin\n",
    "    2. user\n",
    "    3. guest\n",
    "\"\"\"\n",
    "class Roles(Enum):\n",
    "    ADMIN = \"admin\"\n",
    "    USER = \"user\"\n",
    "    GUEST = \"guest\" \n",
    "    \n",
    "Roles.ADMIN\n",
    "Roles.USER\n",
    "Roles.GUEST\n",
    "\n",
    "\"\"\" \n",
    "Roles = [\n",
    "    <Roles.ADMIN: 'admin', value: 'admin'>,\n",
    "    <Roles.USER: 'user', value: 'user'>,\n",
    "    <Roles.GUEST: 'guest', value: 'guest'>,\n",
    "]\n",
    " 1st iteration \n",
    "    role_row = <Roles.ADMIN: 'admin', value: 'admin'>\n",
    "    role = Roles.ADMIN: 'admin'\n",
    "    value = 'admin'\n",
    "    \n",
    " 2nd iteration \n",
    "    role_row = <Roles.USER: 'user', value: 'user'>\n",
    "    role = Roles.USER: 'user'\n",
    "    value = 'user'\n",
    "\n",
    " 3nd iteration \n",
    "    role_row = <Roles.GUEST: 'guest', value: 'guest'>\n",
    "    role = Roles.GUEST: 'guest'\n",
    "    value = 'guest'\n",
    "\"\"\"\n",
    "for role in Roles:\n",
    "    display(f\"Role: {role} value: {role.value}\")\n",
    "    \n",
    "# class User(db.Model):\n",
    "#     id = db.Column(db.Integer, primary_key=True)\n",
    "#     username = db.Column(db.String(50), unique=True, nullable=False)\n",
    "#     password_hash = db.Column(db.String(255), nullable=False)\n",
    "#     role = db.Column(db.String(20), default=UserRole.USER.value, nullable=False)\n",
    "\n",
    "# if not User.query.filter_by(username=\"admin\").first():\n",
    "#     admin_user = User(username=\"admin\", role=UserRole.ADMIN.value)\n",
    "#     admin_user.set_password(\"adminpassword\")\n",
    "#     db.session.add(admin_user)\n",
    "\n",
    "def access_control(role):\n",
    "    if role == Roles.ADMIN:\n",
    "        return \"Access granted to admin resources\"\n",
    "    elif role == Roles.USER:\n",
    "        return \"Access granted to user resources\"\n",
    "    elif role == Roles.GUEST:\n",
    "        return \"Access granted to guest resources\"\n",
    "    \n",
    "access_control(Roles.ADMIN)\n",
    "access_control(Roles.USER)\n",
    "access_control(Roles.GUEST)\n",
    "\n"
   ]
  },
  {
   "cell_type": "code",
   "execution_count": 16,
   "id": "6b97e5da",
   "metadata": {},
   "outputs": [
    {
     "data": {
      "text/plain": [
       "False"
      ]
     },
     "execution_count": 16,
     "metadata": {},
     "output_type": "execute_result"
    }
   ],
   "source": [
    "from enum import Enum \n",
    "\n",
    "\"\"\" \n",
    "1. built in packages\n",
    "\n",
    "2. library packages\n",
    "\n",
    "3. developers packages\n",
    "\"\"\"\n",
    "\n",
    "class Day(Enum):\n",
    "    MONDAY = \"Monday\"\n",
    "    TUESDAY = \"Tuesday\"\n",
    "    WEDNESDAY = \"Wednesday\" \n",
    "    THURSDAY = \"Thursday\"\n",
    "    FRIDAY = \"Friday\"\n",
    "    SATURDAY = \"saturday\"\n",
    "    SUNDAY = \"Sunday\"\n",
    "    \n",
    "def is_weekday(day):\n",
    "    return day in {Day.SUNDAY, Day.SATURDAY}\n",
    "\n",
    "def is_workday(day):\n",
    "    return day not in  {Day.SUNDAY, Day.SATURDAY}\n",
    "\n",
    "is_weekday(Day.MONDAY)\n",
    "is_workday(Day.SATURDAY)\n"
   ]
  },
  {
   "cell_type": "code",
   "execution_count": 20,
   "id": "7613cbfb",
   "metadata": {},
   "outputs": [
    {
     "data": {
      "text/plain": [
       "'get function executed'"
      ]
     },
     "metadata": {},
     "output_type": "display_data"
    },
    {
     "data": {
      "text/plain": [
       "'get function executed'"
      ]
     },
     "metadata": {},
     "output_type": "display_data"
    },
    {
     "data": {
      "text/plain": [
       "'get function executed'"
      ]
     },
     "metadata": {},
     "output_type": "display_data"
    },
    {
     "data": {
      "text/plain": [
       "'get function executed'"
      ]
     },
     "metadata": {},
     "output_type": "display_data"
    }
   ],
   "source": [
    "from enum import Enum \n",
    "\n",
    "class HTTPMethod(Enum):\n",
    "    GET = 'get'\n",
    "    POST = 'post'\n",
    "    PUT = 'put'\n",
    "    DELETE = 'delete'\n",
    "\n",
    "class Resource:\n",
    "    def get(self):\n",
    "        display(\"get function executed\")\n",
    "    \n",
    "    def post(self):\n",
    "        display(\"post function executed\")\n",
    "    \n",
    "    def put(self):\n",
    "        display(\"put function executed\")\n",
    "    \n",
    "    def delete(self):\n",
    "        display(\"delete function executed\")\n",
    "     \n",
    "def handle_request_imp_1(method):\n",
    "    resource = Resource()\n",
    "    if method == HTTPMethod.GET:\n",
    "        resource.get() \n",
    "    if method == HTTPMethod.POST:\n",
    "        resource.post() \n",
    "    if method == HTTPMethod.PUT:\n",
    "        resource.put() \n",
    "    if method == HTTPMethod.DELETE:\n",
    "        resource.delete() \n",
    "    \n",
    "def handle_request_imp_2(method):\n",
    "    resource = Resource()\n",
    "    if method == HTTPMethod.GET: \n",
    "        func = getattr(resource, HTTPMethod.GET.value) # getattr(resource, \"get\")\n",
    "        func()\n",
    "    if method == HTTPMethod.POST: \n",
    "        func = getattr(resource, HTTPMethod.POST.value)\n",
    "        func()\n",
    "    if method == HTTPMethod.PUT: \n",
    "        func = getattr(resource, HTTPMethod.PUT.value)\n",
    "        func()\n",
    "    if method == HTTPMethod.DELETE: \n",
    "        func = getattr(resource, HTTPMethod.DELETE.value)\n",
    "        func()\n",
    "\n",
    "def handle_request_imp_3(method):\n",
    "    resource = Resource()\n",
    "    func = getattr(resource, method.value)\n",
    "    func()\n",
    "\n",
    "def handle_request_imp_4(resource, method):\n",
    "    func = getattr(resource, method.value)\n",
    "    func()\n",
    "    \n",
    "resource = Resource()  \n",
    "\n",
    "handle_request_imp_1(HTTPMethod.GET)\n",
    "handle_request_imp_2(HTTPMethod.GET)\n",
    "handle_request_imp_3(HTTPMethod.GET)\n",
    "handle_request_imp_4(resource, HTTPMethod.GET)"
   ]
  },
  {
   "cell_type": "markdown",
   "id": "3b649dda",
   "metadata": {},
   "source": [
    "\n",
    "## Combining Static Methods and Enums\n",
    "\n",
    "Static methods can work with enums to define utility logic for validating or managing enums.\n",
    "\n",
    "### Example: Checking Permissions with Static Methods and Enums\n",
    "    "
   ]
  },
  {
   "cell_type": "code",
   "execution_count": 25,
   "id": "ce078e3c",
   "metadata": {},
   "outputs": [
    {
     "data": {
      "text/plain": [
       "'has admin permission'"
      ]
     },
     "metadata": {},
     "output_type": "display_data"
    }
   ],
   "source": [
    "class RoleManager:\n",
    "    @staticmethod\n",
    "    def has_permission(role):\n",
    "        if role == Roles.ADMIN:\n",
    "            return RoleManager.has_admin_permission(role)\n",
    "            \n",
    "        if role == Roles.USER:\n",
    "            return RoleManager.has_user_permission(role)\n",
    "            \n",
    "        if role == Roles.GUEST:\n",
    "            return RoleManager.has_guest_permission(role)\n",
    "    \n",
    "    @staticmethod \n",
    "    def has_admin_permission(role):\n",
    "        return f\"has {role.value} permission\" \n",
    "    \n",
    "    @staticmethod \n",
    "    def has_user_permission(role):\n",
    "        return f\"has {role.value} permission\" \n",
    "    \n",
    "    @staticmethod \n",
    "    def has_guest_permission(role):\n",
    "        return f\"has {role.value} permission\" \n",
    "\n",
    "\n",
    "\n",
    "\n",
    "display(RoleManager.has_permission(Roles.ADMIN))\n"
   ]
  },
  {
   "cell_type": "markdown",
   "id": "6745ee30",
   "metadata": {},
   "source": [
    "\n",
    "## Decorators\n",
    "\n",
    "### What Are Decorators?\n",
    "\n",
    "A **decorator** is a function that:\n",
    "1. Takes another function as input.\n",
    "2. Enhances or modifies its behavior.\n",
    "3. Returns the enhanced function.\n",
    "\n",
    "### Use Case\n",
    "Decorators are useful for:\n",
    "- Logging\n",
    "- Validating input/output\n",
    "- Restricting access (e.g., role-based access control)\n",
    "\n",
    "### Example: A Simple Logging Decorator\n",
    "    "
   ]
  },
  {
   "cell_type": "code",
   "execution_count": null,
   "id": "3b228eca",
   "metadata": {},
   "outputs": [],
   "source": [
    "from typing import Callable # either a function or  a class\n",
    "\n",
    "\n",
    "def add(a: int, b: int)-> int:\n",
    "    return a + b\n",
    "\n",
    "def operate(op: Callable) -> int | float:\n",
    "    op()"
   ]
  },
  {
   "cell_type": "code",
   "execution_count": 32,
   "id": "7b90f1c3",
   "metadata": {},
   "outputs": [
    {
     "data": {
      "text/plain": [
       "'Executing add with args=(5, 8) kwargs={}'"
      ]
     },
     "metadata": {},
     "output_type": "display_data"
    },
    {
     "data": {
      "text/plain": [
       "'finished executing add with result=13'"
      ]
     },
     "metadata": {},
     "output_type": "display_data"
    },
    {
     "data": {
      "text/plain": [
       "\"Executing add with args=() kwargs={'a': 5, 'b': 8}\""
      ]
     },
     "metadata": {},
     "output_type": "display_data"
    },
    {
     "data": {
      "text/plain": [
       "'finished executing add with result=13'"
      ]
     },
     "metadata": {},
     "output_type": "display_data"
    }
   ],
   "source": [
    "from typing import Callable # either a function or  a class\n",
    "\n",
    "def log_execution(func: Callable): # func, args, kwargs\n",
    "    def wrapper(*args, **kwargs): # are\n",
    "        display(f\"Executing {func.__name__} with args={args} kwargs={kwargs}\")\n",
    "        result = func(*args, **kwargs)  \n",
    "        display(f\"finished executing {func.__name__} with result={result}\")  \n",
    "    return wrapper\n",
    "\n",
    "@log_execution\n",
    "def add(a, b):\n",
    "    return a + b\n",
    "\"\"\" \n",
    " add(a, b) => log_execution(add(a,b))\n",
    " \n",
    "args = (a, b), (5, 8) # args are tuple\n",
    "\n",
    "display(f\"Executing {func.__name__} with args={args} kwargs={kwargs}\") => 'Executing add with args=(5, 8) kwargs={}'\n",
    "\n",
    "result = func(*args, **kwargs)  => func(a, b) =  func(5, 8) = 13 ፨ here is where the function add is being executed\n",
    "\n",
    "display(f\"finished executing {func.__name__} with result={result}\")   => 'Executing add with args=(5, 8) kwargs={}'\n",
    "\n",
    "\"\"\"\n",
    "add(5, 8)\n",
    "\n",
    "\"\"\" \n",
    "add(a=5, b=8) => log_execution(add(a=5, b=8))\n",
    " \n",
    "kwargs = {'a': 5, 'b': 8} # kwargs are dictionaries\n",
    " \n",
    "display(f\"Executing {func.__name__} with args={args} kwargs={kwargs}\") =>  'Executing add with args=() kwargs={'a': 5, 'b': 8}'\n",
    "\n",
    "result = func(*args, **kwargs)  => func(a=5, b=8) => 13  ፨ here is where the function add is being executed\n",
    "\n",
    "display(f\"finished executing {func.__name__} with result={result}\")   => 'Executing add with args=() kwargs={'a': 5, 'b': 8}'\n",
    "\n",
    " \n",
    "\"\"\"\n",
    "add(a=5, b=8)"
   ]
  },
  {
   "cell_type": "code",
   "execution_count": 40,
   "id": "c4278d90",
   "metadata": {},
   "outputs": [
    {
     "data": {
      "text/plain": [
       "'Execution time for slow_function: 3.0001 seconds and result was finished slow function execution'"
      ]
     },
     "metadata": {},
     "output_type": "display_data"
    }
   ],
   "source": [
    "import time\n",
    "from typing import Callable # either a function or  a class\n",
    "\n",
    "def timing_decorator(func: Callable):\n",
    "    def wrapper(*args, **kwargs):\n",
    "        start_time = time.time()\n",
    "        \n",
    "        result = func(*args, **kwargs)\n",
    "         \n",
    "        \n",
    "        end_time = time.time() \n",
    "        \n",
    "        display(f\"Execution time for {func.__name__}: {end_time - start_time:.4f} seconds and result was {result}\")\n",
    "        \n",
    "    \n",
    "    return wrapper\n",
    "\n",
    "@timing_decorator\n",
    "def slow_function():\n",
    "    time.sleep(3)\n",
    "    return \"finished slow function execution\"\n",
    "\n",
    "slow_function()"
   ]
  },
  {
   "cell_type": "markdown",
   "id": "d2614a3d",
   "metadata": {},
   "source": [
    "\n",
    "## Advanced Decorator Examples\n",
    "\n",
    "### Why Use Decorators?\n",
    "\n",
    "Decorators abstract repetitive tasks, dynamically enhance functions, and keep your code clean. Here are some advanced examples:\n",
    "1. **Timing Decorator**: Measure execution time.\n",
    "2. **Caching Decorator**: Cache expensive computations.\n",
    "3. **Retry Decorator**: Retry a function on failure.\n",
    "4. **Authorization Decorator**: Restrict access based on roles.\n",
    "5. **Validation Decorator**: Validate function parameters.\n",
    "6. **Debugging Decorator**: Log function calls and results.\n",
    "    "
   ]
  },
  {
   "cell_type": "code",
   "execution_count": 42,
   "id": "fd1fb3f2",
   "metadata": {},
   "outputs": [
    {
     "data": {
      "text/plain": [
       "'Cache miss for (1, 4)'"
      ]
     },
     "metadata": {},
     "output_type": "display_data"
    },
    {
     "data": {
      "text/plain": [
       "'Cache hit for (1, 4)'"
      ]
     },
     "metadata": {},
     "output_type": "display_data"
    },
    {
     "data": {
      "text/plain": [
       "5"
      ]
     },
     "execution_count": 42,
     "metadata": {},
     "output_type": "execute_result"
    }
   ],
   "source": [
    "\n",
    "from typing import Callable # either a function or  a class\n",
    "\n",
    "cache = {} # cache means in memory storage.  \n",
    "\n",
    "def cache_result(func: Callable):\n",
    "    def wrapper(*args):\n",
    "        if args in cache:\n",
    "            display(f\"Cache hit for {args}\")\n",
    "            return cache[args]\n",
    "        \n",
    "        display(f\"Cache miss for {args}\")\n",
    "        \n",
    "        result = func(*args)\n",
    "        \n",
    "        cache[args] = result\n",
    "        \n",
    "        return result\n",
    "    \n",
    "    return wrapper\n",
    "\n",
    "@cache_result\n",
    "def add(a, b):\n",
    "    return a + b\n",
    "\n",
    "\"\"\" \n",
    "cache = {}\n",
    "args = (1, 4)\n",
    "since cache[(1, 4)] is a miss \n",
    "execute function =>  add(1, 4) => 5\n",
    "store in cache cache[(1, 4)] = 5\n",
    "return result\n",
    "cache = {(1, 4): 5}\n",
    "\n",
    "\n",
    "cache = {(1, 4): 5}\n",
    "args = (1, 4)\n",
    "since cache[(1, 4)] is a hit \n",
    "return cache[(1, 4)]\n",
    "\"\"\"\n",
    "add(1, 4)\n",
    "add(1, 4)"
   ]
  },
  {
   "cell_type": "markdown",
   "id": "16e8040c",
   "metadata": {},
   "source": [
    "\n",
    "## Summary\n",
    "\n",
    "### What You Learned\n",
    "1. **Static Methods**:\n",
    "   - Use for utility functions not dependent on instance or class data.\n",
    "\n",
    "2. **Enums**:\n",
    "   - Use to define a fixed set of related constants, improving readability.\n",
    "\n",
    "3. **Decorators**:\n",
    "   - Use to dynamically enhance or modify the behavior of functions.\n",
    "\n",
    "### Advanced Topics Covered\n",
    "- Timing, caching, retry, validation, and debugging decorators.\n",
    "- Role-based access control combining enums, static methods, and decorators.\n",
    "\n",
    "### Next Steps\n",
    "- Experiment with creating your own decorators.\n",
    "- Combine multiple decorators for advanced functionality.\n",
    "    "
   ]
  }
 ],
 "metadata": {
  "kernelspec": {
   "display_name": "Python 3",
   "language": "python",
   "name": "python3"
  },
  "language_info": {
   "codemirror_mode": {
    "name": "ipython",
    "version": 3
   },
   "file_extension": ".py",
   "mimetype": "text/x-python",
   "name": "python",
   "nbconvert_exporter": "python",
   "pygments_lexer": "ipython3",
   "version": "3.11.2"
  }
 },
 "nbformat": 4,
 "nbformat_minor": 5
}
