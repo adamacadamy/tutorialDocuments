{
 "cells": [
  {
   "cell_type": "markdown",
   "id": "e0fdbe1a",
   "metadata": {},
   "source": [
    "\n",
    "# Exercise 1: Setting Up SQLAlchemy with MySQL\n",
    "\n",
    "Create an SQLAlchemy engine connected to a MySQL database. Define a session and Base class.\n",
    "Replace the placeholders `<username>`, `<password>`, `<host>`, and `<database>` with your actual MySQL credentials.\n",
    "\n",
    "### Hint:\n",
    "Use the `create_engine` method to connect to the database.\n",
    "    "
   ]
  },
  {
   "cell_type": "code",
   "execution_count": null,
   "id": "a8719bbb",
   "metadata": {},
   "outputs": [],
   "source": []
  },
  {
   "cell_type": "markdown",
   "id": "d7988b77",
   "metadata": {},
   "source": [
    "\n",
    "# Exercise 2: Creating Models\n",
    "\n",
    "Define the following tables using SQLAlchemy ORM:\n",
    "1. **User** with columns:\n",
    "   - `id` (Integer, Primary Key)\n",
    "   - `name` (String, required)\n",
    "   - `email` (String, unique, required)\n",
    "\n",
    "2. **Post** with columns:\n",
    "   - `id` (Integer, Primary Key)\n",
    "   - `title` (String, required)\n",
    "   - `content` (String, required)\n",
    "   - `user_id` (Foreign Key linking to User)\n",
    "\n",
    "### Hint:\n",
    "- Use the `relationship` function for a one-to-many relationship.\n",
    "- Ensure that the `Post` table references the `User` table via a foreign key.\n",
    "    "
   ]
  },
  {
   "cell_type": "code",
   "execution_count": null,
   "id": "0782d7de",
   "metadata": {},
   "outputs": [],
   "source": []
  },
  {
   "cell_type": "markdown",
   "id": "1a8c99c0",
   "metadata": {},
   "source": [
    "\n",
    "# Exercise 3: Many-to-Many Relationships\n",
    "\n",
    "Add a `Tag` table and an association table `post_tag` to implement a many-to-many relationship between `Post` and `Tag`.\n",
    "\n",
    "### Requirements:\n",
    "- `Tag` table should have columns:\n",
    "  - `id` (Integer, Primary Key)\n",
    "  - `name` (String, unique, required)\n",
    "- `post_tag` table should link `Post` and `Tag` tables.\n",
    "- Define relationships between `Post` and `Tag`.\n",
    "\n",
    "### Hint:\n",
    "Use a `Table` object for the association table.\n",
    "    "
   ]
  },
  {
   "cell_type": "code",
   "execution_count": null,
   "id": "ccf219ed",
   "metadata": {},
   "outputs": [],
   "source": []
  },
  {
   "cell_type": "markdown",
   "id": "1ce6ad16",
   "metadata": {},
   "source": [
    "\n",
    "# Exercise 4: Inserting Data\n",
    "\n",
    "Insert the following data into the tables:\n",
    "1. A `User` named \"John Doe\" with email `john.doe@example.com`.\n",
    "2. Two `Post` records for the user:\n",
    "   - Title: \"My First Post\", Content: \"This is my first post.\"\n",
    "   - Title: \"Another Post\", Content: \"This is another post.\"\n",
    "3. Tags for the posts:\n",
    "   - \"Introduction\"\n",
    "   - \"SQLAlchemy\"\n",
    "\n",
    "Associate the tags with the posts as follows:\n",
    "- \"My First Post\" should have both tags.\n",
    "- \"Another Post\" should have only the \"SQLAlchemy\" tag.\n",
    "\n",
    "### Hint:\n",
    "Use the `add()` and `add_all()` methods with the session object.\n",
    "    "
   ]
  },
  {
   "cell_type": "code",
   "execution_count": null,
   "id": "a47676e8",
   "metadata": {},
   "outputs": [],
   "source": []
  },
  {
   "cell_type": "markdown",
   "id": "8aedea96",
   "metadata": {},
   "source": [
    "\n",
    "# Exercise 5: Querying Data\n",
    "\n",
    "Write queries to:\n",
    "1. Fetch all posts by the user \"John Doe\".\n",
    "2. Fetch all tags associated with the post titled \"My First Post\".\n",
    "3. Fetch all posts tagged with \"SQLAlchemy\".\n",
    "\n",
    "### Hint:\n",
    "Use the `filter()` method with `session.query`.\n",
    "    "
   ]
  },
  {
   "cell_type": "code",
   "execution_count": null,
   "id": "f2fd3af7",
   "metadata": {},
   "outputs": [],
   "source": []
  },
  {
   "cell_type": "markdown",
   "id": "2ef6ab04",
   "metadata": {},
   "source": [
    "\n",
    "# Exercise 6: Updating Data\n",
    "\n",
    "Update the content of the post titled \"My First Post\" to \"This post has been updated.\"\n",
    "\n",
    "### Hint:\n",
    "Query the post, modify the `content` attribute, and commit the session.\n",
    "    "
   ]
  },
  {
   "cell_type": "code",
   "execution_count": null,
   "id": "280c707e",
   "metadata": {},
   "outputs": [],
   "source": []
  },
  {
   "cell_type": "markdown",
   "id": "351b4a3d",
   "metadata": {},
   "source": [
    "\n",
    "# Exercise 7: Deleting Data\n",
    "\n",
    "Delete the user \"John Doe\" and ensure that all associated posts are also deleted.\n",
    "\n",
    "### Hint:\n",
    "Use cascading delete with the `relationship` attribute.\n",
    "    "
   ]
  },
  {
   "cell_type": "code",
   "execution_count": null,
   "id": "a7071820",
   "metadata": {},
   "outputs": [],
   "source": []
  }
 ],
 "metadata": {},
 "nbformat": 4,
 "nbformat_minor": 5
}