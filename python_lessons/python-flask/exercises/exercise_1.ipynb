{
 "cells": [
  {
   "cell_type": "markdown",
   "id": "cad23c8c",
   "metadata": {},
   "source": [
    "# **Exercises: Interacting with REST APIs Using Python**"
   ]
  },
  {
   "cell_type": "markdown",
   "id": "fdc3d062",
   "metadata": {},
   "source": [
    "### **Exercise 1: Fetch Data**\n",
    "1. Use the **JSONPlaceholder API** to fetch a list of posts.\n",
    "- API Endpoint: `https://jsonplaceholder.typicode.com/posts`\n",
    "- Print the titles of the first 10 posts."
   ]
  },
  {
   "cell_type": "code",
   "execution_count": null,
   "id": "f40eda86",
   "metadata": {},
   "outputs": [],
   "source": [
    "import requests\n",
    "\n",
    "# Exercise 1: Fetch Data\n",
    " "
   ]
  },
  {
   "cell_type": "markdown",
   "id": "d0561767",
   "metadata": {},
   "source": [
    "### **Exercise 2: Filter Data**\n",
    "1. Fetch all posts from the API and filter posts created by the user with `userId = 5`.\n",
    "- API Endpoint: `https://jsonplaceholder.typicode.com/posts`\n",
    "- Hint: Use query parameters."
   ]
  },
  {
   "cell_type": "code",
   "execution_count": null,
   "id": "fc48e634",
   "metadata": {},
   "outputs": [],
   "source": [
    "# Exercise 2: Filter Data\n",
    " "
   ]
  },
  {
   "cell_type": "markdown",
   "id": "87248ab4",
   "metadata": {},
   "source": [
    "### **Exercise 3: Create a New Post**\n",
    "1. Create a new post using a `POST` request.\n",
    "- API Endpoint: `https://jsonplaceholder.typicode.com/posts`\n",
    "- Request body:\n",
    "```json\n",
    "{\n",
    "    \"title\": \"My Exercise Post\",\n",
    "    \"body\": \"This post was created as part of an exercise.\",\n",
    "    \"userId\": 1\n",
    "}\n",
    "```\n",
    "- Print the response JSON to verify that the post was created successfully."
   ]
  },
  {
   "cell_type": "code",
   "execution_count": null,
   "id": "85cd74a8",
   "metadata": {},
   "outputs": [],
   "source": [
    "# Exercise 3: Create a New Post\n",
    " "
   ]
  },
  {
   "cell_type": "markdown",
   "id": "fa70260b",
   "metadata": {},
   "source": [
    "### **Exercise 4: Update a Post**\n",
    "1. Update the title of the post with `id = 1` to `\"Updated Exercise Title\"`.\n",
    "- API Endpoint: `https://jsonplaceholder.typicode.com/posts/1`\n",
    "- Use a `PUT` request and include the updated `title`."
   ]
  },
  {
   "cell_type": "code",
   "execution_count": null,
   "id": "95e9db80",
   "metadata": {},
   "outputs": [],
   "source": [
    "# Exercise 4: Update a Post\n",
    " "
   ]
  },
  {
   "cell_type": "markdown",
   "id": "ee9e220d",
   "metadata": {},
   "source": [
    "### **Exercise 5: Delete a Post**\n",
    "1. Delete the post with `id = 1`.\n",
    "- API Endpoint: `https://jsonplaceholder.typicode.com/posts/1`\n",
    "- Print a success message if the deletion is successful."
   ]
  },
  {
   "cell_type": "code",
   "execution_count": null,
   "id": "225bbedf",
   "metadata": {},
   "outputs": [],
   "source": [
    "# Exercise 5: Delete a Post\n",
    " "
   ]
  },
  {
   "cell_type": "markdown",
   "id": "0fc7f90b",
   "metadata": {},
   "source": [
    "### **Exercise 6: Error Handling**\n",
    "1. Write a function that fetches a single post by its ID.\n",
    "- If the post does not exist (e.g., `id = 9999`), print `\"Post not found\"`."
   ]
  },
  {
   "cell_type": "code",
   "execution_count": null,
   "id": "54a41b5f",
   "metadata": {},
   "outputs": [],
   "source": [
    "# Exercise 6: Error Handling\n",
    " "
   ]
  },
  {
   "cell_type": "markdown",
   "id": "5fb43538",
   "metadata": {},
   "source": [
    "### **Exercise 7: Advanced Interaction**\n",
    "1. Write a Python script that:\n",
    "- Fetches all users from `https://jsonplaceholder.typicode.com/users`.\n",
    "- For each user, fetches all their posts and prints the user’s name along with the titles of their posts."
   ]
  },
  {
   "cell_type": "code",
   "execution_count": null,
   "id": "0567d773",
   "metadata": {},
   "outputs": [],
   "source": [
    "# Exercise 7: Advanced Interaction\n",
    " "
   ]
  }
 ],
 "metadata": {
  "language_info": {
   "name": "python"
  }
 },
 "nbformat": 4,
 "nbformat_minor": 5
}
