{
 "cells": [
  {
   "cell_type": "code",
   "execution_count": 2,
   "metadata": {},
   "outputs": [
    {
     "data": {
      "text/plain": [
       "'Hello World'"
      ]
     },
     "metadata": {},
     "output_type": "display_data"
    }
   ],
   "source": [
    "display(\"Hello World\")"
   ]
  },
  {
   "cell_type": "code",
   "execution_count": 3,
   "metadata": {},
   "outputs": [
    {
     "name": "stdout",
     "output_type": "stream",
     "text": [
      "Adam\n"
     ]
    }
   ],
   "source": [
    "name=\"Adam\"\n",
    "\n",
    "print(name)"
   ]
  },
  {
   "cell_type": "code",
   "execution_count": 7,
   "metadata": {},
   "outputs": [
    {
     "data": {
      "text/plain": [
       "8.14"
      ]
     },
     "metadata": {},
     "output_type": "display_data"
    },
    {
     "data": {
      "text/plain": [
       "8.5"
      ]
     },
     "metadata": {},
     "output_type": "display_data"
    },
    {
     "data": {
      "text/plain": [
       "1.8599999999999999"
      ]
     },
     "metadata": {},
     "output_type": "display_data"
    }
   ],
   "source": [
    "x = 5           # Integer\n",
    "y = 3.14        # Float\n",
    "name = \"Python\" # String\n",
    "is_fun = True   # Boolean\n",
    "\n",
    "# Variable Conversions\n",
    "a = 5\n",
    "b = \"10\"\n",
    "c = 3.5\n",
    "\n",
    "total = x + y \n",
    "\n",
    "display(total)\n",
    "\n",
    "display(a + c)\n",
    "\n",
    "display(x + y)  # Addition: Output 13\n",
    "display(x - y)  # Subtraction: Output 7\n",
    "display(x * y)  # Multiplication: Output 30\n",
    "display(x / y)  # Division: Output 3.333...\n",
    "display(x // y) # Floor Division: Output 3\n",
    "display(x % y)  # Modulus: Output 1\n",
    "display(x ** y) # Exponentiation: Output 1000\n",
    "\n",
    "\n",
    " "
   ]
  },
  {
   "cell_type": "code",
   "execution_count": 35,
   "metadata": {},
   "outputs": [
    {
     "name": "stdout",
     "output_type": "stream",
     "text": [
      "['apple', 'banana', 'cherry', 'apple']\n",
      "{'apple', 'cherry', 'banana'}\n",
      "['apple', 'cherry', 'banana']\n",
      "('apple', 'cherry', 'banana')\n"
     ]
    }
   ],
   "source": [
    "# collections\n",
    "    #.... arrays\n",
    "        # {}  with no string key is set\n",
    "        # [] is list\n",
    "        # () is tuple\n",
    "    #.... hashmap\n",
    "        # {\"\":\"\"} is a dictionary\n",
    "        \n",
    "# Collections\n",
    "fruits = [\"apple\", \"banana\", \"cherry\"]  # List\n",
    "colors = (\"red\", \"green\", \"blue\")       # Tuple\n",
    "person = {\"name\": \"John\", \"age\": 30}    # Dictionary\n",
    "unique_numbers = {1, 2, 3, 4}           # Set\n",
    "\n",
    "print(fruits, colors, person, unique_numbers)\n",
    "\n",
    "# List Operations | lists are mutable arrays\n",
    "print(fruits)\n",
    "print(fruits[0])\n",
    "print(len(fruits))  # Get the length of the list\n",
    "fruits.append(\"date\")  # Add an element to the list\n",
    "fruits = [*fruits, \"date\"] # list destructor\n",
    "print(fruits)\n",
    "print(len(fruits))  # Get the length of the list\n",
    "fruits.remove(\"banana\")  # Remove an element from the list\n",
    "print(fruits)\n",
    "print(len(fruits))  # Get the length of the list\n",
    "\n",
    "# # Tuple Operations   | tuples are immutable arrays\n",
    "print(len(colors))  # Get the length of the tuple\n",
    "print(colors[0])  # Access the first element\n",
    "\n",
    "# Dictionary Operations | dictionaries are hashmaps\n",
    "print(len(person))  # Get the number of key-value pairs\n",
    "print(person)\n",
    "person[\"city\"] = \"New York\"  # Add a new key-value pair\n",
    "person.update({\"city\": \"New York\"}) # Add a new key-value pair\n",
    "person = {**person, \"city\": \"New York\" } # using dictionary destructor **person = \"name\": \"John\", \"age\": 30\n",
    "print(person)\n",
    "print(person[\"city\"])\n",
    "print(person)\n",
    "person.pop(\"age\")  # Remove a key-value pair\n",
    "print(person)\n",
    "\n",
    "# Set Operations | sets are arrays with unique values\n",
    "print(len(unique_numbers))  # Get the number of elements in the set\n",
    "unique_numbers.add(5)  # Add an element to the set\n",
    "print(unique_numbers)\n",
    "unique_numbers.discard(3)  # Remove an element from the set\n",
    "print(unique_numbers)\n",
    "\n",
    "# conversions between array types [list, tuple, set]\n",
    "fruits = [\"apple\", \"banana\", \"cherry\", \"apple\"]  \n",
    "fruits_set = set(fruits)\n",
    "print(fruits)\n",
    "print(fruits_set)  \n",
    "fruits_list = list(fruits_set)\n",
    "print(fruits_list)\n",
    "fruit_tuple = tuple(fruits_list)\n",
    "print(fruit_tuple)\n",
    "\n",
    "colors = (\"red\", \"green\", \"blue\", \"green\")  \n",
    "colors_set = set(colors)\n",
    "print(colors)\n",
    "print(colors_set)\n",
    "colors_list = tuple(colors_set)\n",
    "print(colors_list)"
   ]
  },
  {
   "cell_type": "code",
   "execution_count": 36,
   "metadata": {},
   "outputs": [
    {
     "name": "stdout",
     "output_type": "stream",
     "text": [
      "0\n",
      "1\n",
      "2\n",
      "3\n",
      "4\n"
     ]
    }
   ],
   "source": [
    "# Initialize a counter variable\n",
    "count = 0\n",
    "\"\"\" \n",
    "counter = count , initial value = 0\n",
    "condition = count < 5\n",
    "increment = count+1 \n",
    "\n",
    "iteration 1\n",
    "    count = 0\n",
    "    condition met  (0 < 5) = True\n",
    "    so \n",
    "        - print count = 0\n",
    "        - increment count  = 0 + 1 = 1\n",
    "\n",
    "iteration 2\n",
    "    count = 1\n",
    "    condition met  (1 < 5) = True\n",
    "    so \n",
    "        - print count = 1\n",
    "        - increment count = 1 + 1 = 2\n",
    "        \n",
    "iteration 3\n",
    "    count = 2\n",
    "    condition met  (2 < 5) = True\n",
    "    so \n",
    "        - print count = 2\n",
    "        - increment count = 2 + 1 = 3\n",
    "        \n",
    "iteration 4\n",
    "    count = 3\n",
    "    condition met  (3 < 5) = True\n",
    "    so \n",
    "        - print count = 3\n",
    "        - increment count = 3 + 1 = 4\n",
    "        \n",
    "iteration 5\n",
    "    count = 4\n",
    "    condition met  (4 < 5) = True\n",
    "    so \n",
    "        - print count = 4\n",
    "        - increment count = 4 + 1 = 5\n",
    "        \n",
    "iteration 6\n",
    "    count = 5\n",
    "    condition met  (5 < 5) = False\n",
    "    so \n",
    "        - break\n",
    "\n",
    "\"\"\"\n",
    "# Loop while count is less than 5\n",
    "while count < 5:\n",
    "    print(count)  # Print the current value of count\n",
    "    count += 1    # Increment count by 1"
   ]
  },
  {
   "cell_type": "code",
   "execution_count": 41,
   "metadata": {},
   "outputs": [
    {
     "name": "stdout",
     "output_type": "stream",
     "text": [
      "[0, 1, 2, 3, 4]\n",
      "[1, 2, 3, 4]\n",
      "[1, 3]\n"
     ]
    }
   ],
   "source": [
    "tmp_list = range(5) # generate list of  numbers from 0 to 5 =>  0, 1, 2, 3, 4 so 5 is the stop case\n",
    "print(list(tmp_list))\n",
    "\n",
    "\n",
    "tmp_list = range(1,5)  # generate list of  numbers from 1 to 5 =>   1, 2, 3, 4 so 5 is the stop case\n",
    "print(list(tmp_list))\n",
    "\n",
    "tmp_list = range(1,5,2) # generate list of  numbers from 1 to 5 step 2  =>   1, 1+2=3 so 5 is the stop case\n",
    "print(list(tmp_list))"
   ]
  },
  {
   "cell_type": "code",
   "execution_count": 42,
   "metadata": {},
   "outputs": [
    {
     "name": "stdout",
     "output_type": "stream",
     "text": [
      "0\n",
      "1\n",
      "2\n",
      "3\n",
      "4\n"
     ]
    }
   ],
   "source": [
    "\"\"\" \n",
    "\n",
    "# range determines the following\n",
    "   1. start = 0 # is the default start\n",
    "   2. stop =  5 # provided by the user\n",
    "   3. stop =  1 # default stope\n",
    "\n",
    "for loop determines three things\n",
    "   1. the initial step = 0\n",
    "   2. the stopping value = len(list(range)) in our case len(fruits) = 5\n",
    "   3. the step after each loop the default step  is 1\n",
    "   4. it uses a temp variable in our case i which is incremented by th step `1` after each loop\n",
    "\n",
    "iteration 1\n",
    "    i = start = 0\n",
    "    is i == stop  [ 0 < 5] = True\n",
    "        print i = 0\n",
    "        i = i + 1 = 0 + 1 = 1\n",
    "        \n",
    "iteration 2\n",
    "    i = 1\n",
    "    is i == stop  [ 1 < 5] = True\n",
    "        print i = 1\n",
    "        i = i + 1 = 1 + 1 = 2\n",
    "        \n",
    "iteration 3\n",
    "    i = 2\n",
    "    is i == stop  [ 2 < 5] = True\n",
    "        print i = 2\n",
    "        i = i + 1 = 2 + 1 = 3\n",
    "        \n",
    "iteration 4\n",
    "    i = 3\n",
    "    is i == stop  [ 3 < 5] = True\n",
    "        print i = 3\n",
    "        i = i + 1 = 3 + 1 = 4\n",
    "        \n",
    "iteration 5\n",
    "    i = 4\n",
    "    is i == stop  [ 4 < 5] = True\n",
    "        print i = 4\n",
    "        i = i + 1 = 4 + 1 = 5\n",
    "        \n",
    " iteration 6\n",
    "    i = 5\n",
    "    is i == stop  [ 5 < 5] = False\n",
    "      break\n",
    "    \n",
    "\n",
    "\"\"\"\n",
    "# Loop through numbers from 0 to 4 [0, 1, 2, 3, 4]\n",
    "for i in range(5):\n",
    "    print(i)  # Print the current number"
   ]
  },
  {
   "cell_type": "code",
   "execution_count": 44,
   "metadata": {},
   "outputs": [
    {
     "data": {
      "text/plain": [
       "3"
      ]
     },
     "execution_count": 44,
     "metadata": {},
     "output_type": "execute_result"
    }
   ],
   "source": [
    "fruits = [\"apple\", \"banana\", \"cherry\"]  # List\n",
    "\n",
    "\"\"\" \n",
    "for loop determines three things\n",
    "   1. the initial step = 0\n",
    "   2. the stopping value = len(array) in our case len(fruits) = 3\n",
    "   3. the step after each loop the default step  is 1\n",
    "   4. it uses a temp variable in our case i which is incremented by th step `1` after each loop\n",
    "   \n",
    "stop = len(fruits) = 3\n",
    "step = 1\n",
    "start 0\n",
    "\n",
    "iteration 1:\n",
    "    i = start = 0\n",
    "    if i < stop | 0 < 3 = True\n",
    "        print fruits[i] = fruits[0] # \"apple\"\n",
    "        i = i +1 = 0 + 1 = 1\n",
    "\n",
    "iteration 2:\n",
    "    i = 1\n",
    "    if i < stop | 1 < 3 = True\n",
    "        print fruits[i] = fruits[1] # \"banana\"\n",
    "        i = i +1 = 1 + 1 = 2\n",
    "\n",
    "iteration 3:\n",
    "    i = 2\n",
    "    if i < stop | 2 < 3 = True\n",
    "        print fruits[i] = fruits[2] # \"cherry\"\n",
    "        i = i +1 = 2 + 1 = 3\n",
    "\n",
    "iteration 4:\n",
    "    i = 3\n",
    "    if i < stop | 3 < 3 = False\n",
    "        break\n",
    "\n",
    "\"\"\"\n",
    " \n",
    "for fruit in fruits:\n",
    "    print(fruit)"
   ]
  },
  {
   "cell_type": "code",
   "execution_count": 45,
   "metadata": {},
   "outputs": [
    {
     "name": "stdout",
     "output_type": "stream",
     "text": [
      "red\n",
      "green\n",
      "blue\n"
     ]
    }
   ],
   "source": [
    "\n",
    "colors = (\"red\", \"green\", \"blue\")       # Tuple\n",
    "\n",
    "# arrays are [lists, tuples, sets] len(list, tuple, set) # number of elements in the array\n",
    "\"\"\" \n",
    "for loop determines three things\n",
    "   1. the initial step = 0\n",
    "   2. the stopping value = len(array) in our case len(colors) = 3\n",
    "   3. the step after each loop the default step  is 1\n",
    "   4. it uses a temp variable in our case i which is incremented by th step `1` after each loop\n",
    "stop = len(colors) = 3\n",
    "step = 1\n",
    "start 0\n",
    "\n",
    "iteration 1:\n",
    "    i = start = 0\n",
    "    if i < stop | 0 < 3 = True\n",
    "        print colors[i] = colors[0] # \"red\"\n",
    "        i = i +1 = 0 + 1 = 1\n",
    "\n",
    "iteration 2:\n",
    "    i = 1\n",
    "    if i < stop | 1 < 3 = True\n",
    "        print colors[i] = colors[1] # \"green\"\n",
    "        i = i +1 = 1 + 1 = 2\n",
    "\n",
    "iteration 3:\n",
    "    i = 2\n",
    "    if i < stop | 2 < 3 = True\n",
    "        print colors[i] = colors[2] # \"blue\"\n",
    "        i = i + 1 = 2 + 1 = 3\n",
    "\n",
    "iteration 4:\n",
    "    i = 3\n",
    "    if i < stop | 3 < 3 = False \n",
    "        break \n",
    "\"\"\"\n",
    "for color in colors:\n",
    "    print(color)"
   ]
  },
  {
   "cell_type": "code",
   "execution_count": 46,
   "metadata": {},
   "outputs": [
    {
     "name": "stdout",
     "output_type": "stream",
     "text": [
      "1\n",
      "2\n",
      "3\n",
      "4\n"
     ]
    }
   ],
   "source": [
    "\n",
    "unique_numbers = {1, 2, 3, 4}     # Set\n",
    "\n",
    "\"\"\" \n",
    "for loop determines three things\n",
    "   1. the initial step = 0\n",
    "   2. the stopping value = len(array) in our case len(unique_numbers) = 4\n",
    "   3. the step after each loop the default step  is 1\n",
    "   4. it uses a temp variable in our case i which is incremented by th step `1` after each loop \n",
    "   \n",
    "stop = len(colors) = 4\n",
    "step = 1\n",
    "start 0  \n",
    "\n",
    "iteration 1:\n",
    "    i = start = 0\n",
    "    if i < stop | 0 < 4 = True\n",
    "        print unique_number[i] = unique_number[1] # 1\n",
    "        i = i +1 = 0 + 1 = 1\n",
    "\n",
    "\n",
    "iteration 2:\n",
    "    i = 1\n",
    "    if i < stop | 1 < 4 = True\n",
    "        print unique_number[i] = unique_number[1] # 2\n",
    "        i = i +1 = 1 + 1 = 2\n",
    "\n",
    "\n",
    "iteration 3:\n",
    "    i = 2\n",
    "    if i < stop | 2 < 4 = True\n",
    "        print unique_number[i] = unique_number[1] # 3\n",
    "        i = i + 1 = 2 + 1 = 3\n",
    "\n",
    "\n",
    "iteration 4:\n",
    "    i = 3\n",
    "    if i < stop | 3 < 4 = True\n",
    "        print unique_number[i] = unique_number[1] # 4\n",
    "        i = i + 1 = 3 + 1 = 4\n",
    "\n",
    "\n",
    "iteration 5:\n",
    "    i = 4\n",
    "    if i < stop | 4 < 4 = False\n",
    "    break\n",
    "\n",
    "\"\"\"\n",
    "\n",
    "for unique_number in unique_numbers:\n",
    "   print(unique_number)"
   ]
  },
  {
   "cell_type": "code",
   "execution_count": 49,
   "metadata": {},
   "outputs": [
    {
     "name": "stdout",
     "output_type": "stream",
     "text": [
      "key= name, value= John\n",
      "key= age, value= 30\n",
      "key= name, value= John\n",
      "key= age, value= 30\n"
     ]
    }
   ],
   "source": [
    "\n",
    "person = {\"name\": \"John\", \"age\": 30}    # Dictionary\n",
    "values = person.values() # [\"John\", 30]\n",
    "keys = person.keys() # [\"name\", \"age\"]\n",
    "\n",
    "for key, value in zip(keys, values):\n",
    "    print(f\"key= {key}, value= {value}\")\n",
    " \n",
    "for key, value in person.items(): #   person.items() = zip (person.values(), person.keys() )\n",
    "    print(f\"key= {key}, value= {value}\")\n",
    "    "
   ]
  },
  {
   "cell_type": "code",
   "execution_count": 50,
   "metadata": {},
   "outputs": [
    {
     "name": "stdout",
     "output_type": "stream",
     "text": [
      "Hello, Alice!\n",
      "8\n"
     ]
    }
   ],
   "source": [
    "# Returnable Functions\n",
    "# These functions return a value and include a return type in their type hint.\n",
    "\n",
    "# Function that returns a string\n",
    "def greet(name: str) -> str:\n",
    "    return f\"Hello, {name}!\"\n",
    "\n",
    "# Function that returns an integer\n",
    "def add(a: int, b: int) -> int:\n",
    "    return a + b\n",
    "\n",
    "# Example usage\n",
    "print(greet(\"Alice\"))  # Output: Hello, Alice!\n",
    "print(add(5, 3))        # Output: 8"
   ]
  },
  {
   "cell_type": "code",
   "execution_count": 51,
   "metadata": {},
   "outputs": [
    {
     "name": "stdout",
     "output_type": "stream",
     "text": [
      "Hello, Alice!\n",
      "[1, 2, 3, 4]\n"
     ]
    }
   ],
   "source": [
    "# Non-Returnable Functions\n",
    "# These functions perform an operation but do not return a value (implicitly return None).\n",
    "\n",
    "# Function that prints a message (no return value)\n",
    "def print_greeting(name: str) -> None:\n",
    "    print(f\"Hello, {name}!\")\n",
    "\n",
    "# Function that modifies a list in-place (no return value)\n",
    "def append_to_list(items: list[int], value: int) -> None:\n",
    "    items.append(value)\n",
    "\n",
    "# Example usage\n",
    "print_greeting(\"Alice\")\n",
    "my_list = [1, 2, 3]\n",
    "append_to_list(my_list, 4)\n",
    "print(my_list)  # Output: [1, 2, 3, 4]"
   ]
  },
  {
   "cell_type": "code",
   "execution_count": 58,
   "metadata": {},
   "outputs": [
    {
     "name": "stdout",
     "output_type": "stream",
     "text": [
      "Hi, I'm Adam and I'm 333 years old!\n",
      "Adam\n",
      "333\n",
      "Hi, I'm Awet and I'm 23423 years old!\n",
      "Awet\n",
      "23423\n",
      "Hi, I'm Kahse and I'm 1231231328888 years old!\n",
      "Kahse\n",
      "1231231328888\n"
     ]
    }
   ],
   "source": [
    "class Person: \n",
    "    # class is a blueprint\n",
    "    def __init__(self, name: str, age: int): \n",
    "        # Constructor: Initializes the Person instance with name and age\n",
    "        self.name = name\n",
    "        self.age = age\n",
    "\n",
    "    def greet(self) -> str:\n",
    "        # Method: Returns a greeting message\n",
    "        return f\"Hi, I'm {self.name} and I'm {self.age} years old!\"\n",
    "    \n",
    "adam = Person(name=\"Adam\", age=333)\n",
    "print(adam.greet())\n",
    "print(adam.name)\n",
    "print(adam.age)\n",
    "\n",
    "awet = Person(name=\"Awet\", age= 23423)\n",
    "print(awet.greet())\n",
    "print(awet.name)\n",
    "print(awet.age)\n",
    "\n",
    "kahse = Person(name=\"Kahse\", age=1231231328888)\n",
    "\n",
    "print(kahse.greet())\n",
    "print(kahse.name)\n",
    "print(kahse.age)"
   ]
  },
  {
   "cell_type": "code",
   "execution_count": 60,
   "metadata": {},
   "outputs": [
    {
     "name": "stdout",
     "output_type": "stream",
     "text": [
      "Bark\n",
      "Tewle\n",
      "Maue\n",
      "bs\n"
     ]
    }
   ],
   "source": [
    "class Animal:\n",
    "    def __init__(self, name: str):\n",
    "        # Constructor: Initializes the Animal with a name\n",
    "        self.name = name\n",
    "\n",
    "    def sound(self) -> str:\n",
    "        # Method: Returns a generic sound\n",
    "        return \"Some generic sound\"\n",
    "\n",
    "class Dog(Animal):\n",
    "    def sound(self) -> str:\n",
    "        # Overridden Method: Returns a dog-specific sound\n",
    "        return \"Bark\" \n",
    "\n",
    "class Cat(Animal):\n",
    "    def sound(self) -> str:\n",
    "        # Overridden Method: Returns a dog-specific sound\n",
    "        return \"Maue\" \n",
    "\n",
    "my_dog = Dog(name=\"Tewle\")\n",
    "print(my_dog.sound())\n",
    "print(my_dog.name)\n",
    "\n",
    "awet_cat = Cat(name=\"bs\")\n",
    "print(awet_cat.sound())\n",
    "print(awet_cat.name)\n"
   ]
  },
  {
   "cell_type": "code",
   "execution_count": 64,
   "metadata": {},
   "outputs": [
    {
     "name": "stdout",
     "output_type": "stream",
     "text": [
      "<class '__main__.Point'>\n"
     ]
    }
   ],
   "source": [
    "class Point: # a blue print and a type \n",
    "    def __init__(self, x: int, y: int):\n",
    "        # Constructor: Initializes the Point with x and y coordinates\n",
    "        self.x = x\n",
    "        self.y = y\n",
    "\n",
    "    def __str__(self) -> str:\n",
    "        # Magic Method: Returns a user-friendly string representation of the Point\n",
    "        return f\"Point({self.x}, {self.y})\"\n",
    "\n",
    "    def __add__(self, other: \"Point\") -> \"Point\": # called when mathematical operation `+` is added on\n",
    "        # Magic Method: Enables the + operator for Point objects\n",
    "        x = self.x + other.x\n",
    "        y =  self.y + other.y\n",
    "        return Point(x, y )\n",
    "    \n",
    "# Example usage\n",
    "p1: Point = Point(2, 3)\n",
    "print(type(p1))\n",
    "\n",
    "print(p1) # p1.__str__()\n",
    "\n",
    "p2: Point = Point(4, 5)\n",
    "\n",
    "p3: Point = p1 + p2  # p1.__add__(other=p2) # (p1.x1=2, p1.y1=3) (p2.x24, p2.y2) x = p1.x + p2.x = 6, y = p1.y + p2.y = 8\n",
    "\n",
    "print(p3)\n",
    "\n",
    " "
   ]
  },
  {
   "cell_type": "code",
   "execution_count": 80,
   "metadata": {},
   "outputs": [
    {
     "name": "stdout",
     "output_type": "stream",
     "text": [
      "21\n",
      "12\n",
      "area of rec : 396\n",
      "---------------\n",
      "\n",
      "33\n",
      "11\n",
      "area of rec : 132\n"
     ]
    }
   ],
   "source": [
    "class Rectangle:\n",
    "    def __init__(self, width: float, height: float):\n",
    "        # Constructor: Initializes the Rectangle with width and height\n",
    "        self.__width = width # private variable | cannot be accessed from outside the object/class\n",
    "        self.__height = height # private variable | cannot be accessed from outside the object/class\n",
    "    \n",
    "    @property \n",
    "    def height(self) -> float: # rec.height instead of rec.height()\n",
    "        # Getter: Returns the height of the Rectangle\n",
    "        return self.__height\n",
    "    \n",
    "    @height.setter \n",
    "    def height(self, value: float): # rec.height = 32 instead of rec.height(value=32)\n",
    "        # Setter: Validates and sets the height of the Rectangle\n",
    "        if value <= 0: \n",
    "            raise ValueError(\"Height must be positive.\")\n",
    "        \n",
    "        self.__height = value\n",
    "        \n",
    "    @property\n",
    "    def width(self) -> float:\n",
    "        # Getter: Returns the width of the Rectangle\n",
    "        return self.__width\n",
    "\n",
    "    @width.setter\n",
    "    def width(self, value: float):\n",
    "        # Setter: Validates and sets the width of the Rectangle\n",
    "        if value <= 0: \n",
    "            raise ValueError(\"Width must be positive.\")\n",
    "        \n",
    "        self.__width = value\n",
    "        \n",
    "    @property\n",
    "    def area(self) -> float:\n",
    "        # Property: Calculates and returns the area of the Rectangle\n",
    "        return self.__width * self.__height\n",
    "    \n",
    "    \n",
    "    \n",
    "    \n",
    "rec = Rectangle(21,33)\n",
    "\n",
    "print(rec.width)\n",
    "rec.width = 12\n",
    "print(rec.width)\n",
    "print(f\"area of rec : {rec.area}\")\n",
    "print(\"---------------\\n\")\n",
    "print(rec.height)\n",
    "rec.height = 11\n",
    "print(rec.height)\n",
    "print(f\"area of rec : {rec.area}\")"
   ]
  },
  {
   "cell_type": "code",
   "execution_count": 81,
   "metadata": {},
   "outputs": [
    {
     "name": "stdout",
     "output_type": "stream",
     "text": [
      "Area: 78.53981633974483 - Perimeter: 31.41592653589793\n"
     ]
    }
   ],
   "source": [
    "from abc import ABC, abstractmethod\n",
    "\n",
    "class Shape(ABC): # Super class\n",
    "    @abstractmethod\n",
    "    def area(self) -> float:\n",
    "        # Abstract Method: Must be implemented by subclasses\n",
    "        pass\n",
    "\n",
    "    @abstractmethod\n",
    "    def perimeter(self) -> float:\n",
    "        # Abstract Method: Must be implemented by subclasses\n",
    "        pass\n",
    "    \n",
    "class Circle(Shape): # Circle is sub class Shape\n",
    "    def __init__(self, radius: float):\n",
    "        # Constructor: Initializes the Circle with a radius\n",
    "        self.radius = radius\n",
    "        \n",
    "\n",
    "    def area(self) -> float:\n",
    "        # Implementation: Calculates and returns the area of the Circle\n",
    "        from math import pi  # π *  rad^2, rad is half distance  of diameter  or any distance from the point of the circle to the circumference\n",
    "        return pi * self.radius ** 2 # pie\n",
    "    \n",
    "    def perimeter(self) -> float:\n",
    "        # Implementation: Calculates and returns the perimeter of the Circle\n",
    "        from math import pi # π * rad\n",
    "        return 2 * pi * self.radius\n",
    "\n",
    "\n",
    "# Example usage\n",
    "circle = Circle(5)\n",
    "print(f\"Area: {circle.area()} - Perimeter: {circle.perimeter()}\")  # Output: Area and Perimeter of the Circle"
   ]
  },
  {
   "cell_type": "code",
   "execution_count": 82,
   "metadata": {},
   "outputs": [
    {
     "name": "stdout",
     "output_type": "stream",
     "text": [
      "Defaulting to user installation because normal site-packages is not writeable\n",
      "Requirement already satisfied: requests in /home/adam/.local/lib/python3.11/site-packages (2.32.3)\n",
      "Requirement already satisfied: charset-normalizer<4,>=2 in /home/adam/.local/lib/python3.11/site-packages (from requests) (3.4.0)\n",
      "Requirement already satisfied: idna<4,>=2.5 in /home/adam/.local/lib/python3.11/site-packages (from requests) (3.10)\n",
      "Requirement already satisfied: urllib3<3,>=1.21.1 in /home/adam/.local/lib/python3.11/site-packages (from requests) (2.2.3)\n",
      "Requirement already satisfied: certifi>=2017.4.17 in /home/adam/.local/lib/python3.11/site-packages (from requests) (2024.12.14)\n",
      "Note: you may need to restart the kernel to use updated packages.\n"
     ]
    }
   ],
   "source": [
    "%pip install requests --break-system-packages"
   ]
  },
  {
   "cell_type": "code",
   "execution_count": null,
   "metadata": {},
   "outputs": [],
   "source": [
    "# Install a package from PyPI (Python Package Index)\n",
    "%pip install requests \n",
    "\n",
    "# python -m \"pip install requests --break-system-packages \""
   ]
  },
  {
   "cell_type": "code",
   "execution_count": 83,
   "metadata": {},
   "outputs": [
    {
     "name": "stdout",
     "output_type": "stream",
     "text": [
      "Defaulting to user installation because normal site-packages is not writeable\n",
      "Requirement already satisfied: requests in /home/adam/.local/lib/python3.11/site-packages (2.32.3)\n",
      "Requirement already satisfied: charset-normalizer<4,>=2 in /home/adam/.local/lib/python3.11/site-packages (from requests) (3.4.0)\n",
      "Requirement already satisfied: idna<4,>=2.5 in /home/adam/.local/lib/python3.11/site-packages (from requests) (3.10)\n",
      "Requirement already satisfied: urllib3<3,>=1.21.1 in /home/adam/.local/lib/python3.11/site-packages (from requests) (2.2.3)\n",
      "Requirement already satisfied: certifi>=2017.4.17 in /home/adam/.local/lib/python3.11/site-packages (from requests) (2024.12.14)\n"
     ]
    }
   ],
   "source": [
    "# Export all installed packages and their versions to requirements.txt\n",
    "!pip freeze > requirements.txt\n",
    "#pip install requests --break-system-packages"
   ]
  },
  {
   "cell_type": "code",
   "execution_count": 84,
   "metadata": {},
   "outputs": [
    {
     "name": "stdout",
     "output_type": "stream",
     "text": [
      "alembic==1.14.0\n",
      "aniso8601==9.0.1\n",
      "asttokens==3.0.0\n",
      "attrs==24.3.0\n",
      "blinker==1.9.0\n",
      "certifi==2024.12.14\n",
      "charset-normalizer==3.4.0\n",
      "click==8.1.7\n",
      "comm==0.2.2\n",
      "debugpy==1.8.11\n",
      "decorator==5.1.1\n",
      "executing==2.1.0\n",
      "Flask==3.1.0\n",
      "Flask-JWT-Extended==4.7.1\n",
      "Flask-Migrate==4.0.7\n",
      "flask-restx==1.3.0\n",
      "Flask-SQLAlchemy==3.1.1\n",
      "greenlet==3.1.1\n",
      "idna==3.10\n",
      "importlib_resources==6.4.5\n",
      "ipykernel==6.29.5\n",
      "ipython==8.31.0\n",
      "itsdangerous==2.2.0\n",
      "jedi==0.19.2\n",
      "Jinja2==3.1.4\n",
      "jsonschema==4.23.0\n",
      "jsonschema-specifications==2024.10.1\n",
      "jupyter_client==8.6.3\n",
      "jupyter_core==5.7.2\n",
      "Mako==1.3.8\n",
      "MarkupSafe==3.0.2\n",
      "matplotlib-inline==0.1.7\n",
      "mysql-connector-python==9.1.0\n",
      "nest-asyncio==1.6.0\n",
      "packaging==24.2\n",
      "parso==0.8.4\n",
      "pexpect==4.9.0\n",
      "platformdirs==4.3.6\n",
      "prompt_toolkit==3.0.48\n",
      "psutil==6.1.1\n",
      "ptyprocess==0.7.0\n",
      "pure_eval==0.2.3\n",
      "Pygments==2.18.0\n",
      "PyJWT==2.10.1\n",
      "python-dateutil==2.9.0.post0\n",
      "pytz==2024.2\n",
      "pyzmq==26.2.0\n",
      "referencing==0.35.1\n",
      "requests==2.32.3\n",
      "rpds-py==0.22.3\n",
      "six==1.17.0\n",
      "SQLAlchemy==2.0.36\n",
      "stack-data==0.6.3\n",
      "tornado==6.4.2\n",
      "traitlets==5.14.3\n",
      "typing_extensions==4.12.2\n",
      "urllib3==2.2.3\n",
      "wcwidth==0.2.13\n",
      "Werkzeug==3.1.3\n",
      "Note: you may need to restart the kernel to use updated packages.\n"
     ]
    }
   ],
   "source": [
    "# Explore all installed packages and their versions to requirements.tx\n",
    "%pip freeze "
   ]
  },
  {
   "cell_type": "code",
   "execution_count": 85,
   "metadata": {},
   "outputs": [
    {
     "name": "stdout",
     "output_type": "stream",
     "text": [
      "Note: you may need to restart the kernel to use updated packages.\n"
     ]
    }
   ],
   "source": [
    "# Export all installed packages and their versions to requirements.txt\n",
    "%pip freeze > requirements.txt\n"
   ]
  },
  {
   "cell_type": "code",
   "execution_count": 87,
   "metadata": {},
   "outputs": [],
   "source": [
    "# Create a virtual environment named .venv\n",
    "!python3 -m venv .venv"
   ]
  }
 ],
 "metadata": {
  "kernelspec": {
   "display_name": "Python 3",
   "language": "python",
   "name": "python3"
  },
  "language_info": {
   "codemirror_mode": {
    "name": "ipython",
    "version": 3
   },
   "file_extension": ".py",
   "mimetype": "text/x-python",
   "name": "python",
   "nbconvert_exporter": "python",
   "pygments_lexer": "ipython3",
   "version": "3.11.2"
  }
 },
 "nbformat": 4,
 "nbformat_minor": 2
}
