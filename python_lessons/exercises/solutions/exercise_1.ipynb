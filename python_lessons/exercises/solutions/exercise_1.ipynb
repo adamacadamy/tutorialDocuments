{
 "cells": [
  {
   "cell_type": "markdown",
   "metadata": {},
   "source": [
    "### 1. Define two variables, x and y, with values 5 and 10.\n",
    "    Perform the following operations and print the results:\n",
    "a. Sum of x and y  \n",
    "b. Difference of y and x  \n",
    "c. Product of x and y  \n",
    "d. Quotient of y by x  \n"
   ]
  },
  {
   "cell_type": "code",
   "execution_count": 11,
   "metadata": {},
   "outputs": [
    {
     "data": {
      "text/plain": [
       "15"
      ]
     },
     "metadata": {},
     "output_type": "display_data"
    },
    {
     "data": {
      "text/plain": [
       "5"
      ]
     },
     "metadata": {},
     "output_type": "display_data"
    },
    {
     "data": {
      "text/plain": [
       "50"
      ]
     },
     "metadata": {},
     "output_type": "display_data"
    },
    {
     "name": "stdout",
     "output_type": "stream",
     "text": [
      "2.0\n"
     ]
    }
   ],
   "source": [
    "# a. Sum of x and y \n",
    "x = 5\n",
    "y = 10\n",
    "display(x+y)\n",
    "\n",
    "# b. Difference of y and x  \n",
    "display( y - x)\n",
    "\n",
    "# c. Product of x and y  \n",
    "display(y * x)\n",
    "\n",
    "# d. Quotient of y by x  \n",
    "\n",
    "display(y/x)"
   ]
  },
  {
   "cell_type": "markdown",
   "metadata": {},
   "source": [
    "#### 3. Define a set of numbers containing 1, 2, 3, 4, and 5.\n",
    "a. Add the number 6 to the set.  \n",
    "b. Remove the number 3 from the set.  \n",
    "c. Check if the numbers 5 and 7 are in the set, and print the results. \n"
   ]
  },
  {
   "cell_type": "code",
   "execution_count": 20,
   "metadata": {},
   "outputs": [
    {
     "data": {
      "text/plain": [
       "{1, 2, 3, 4, 5}"
      ]
     },
     "metadata": {},
     "output_type": "display_data"
    },
    {
     "data": {
      "text/plain": [
       "{1, 2, 3, 4, 5, 6}"
      ]
     },
     "metadata": {},
     "output_type": "display_data"
    },
    {
     "data": {
      "text/plain": [
       "{1, 2, 4, 5, 6}"
      ]
     },
     "metadata": {},
     "output_type": "display_data"
    },
    {
     "data": {
      "text/plain": [
       "'7 is not in set'"
      ]
     },
     "metadata": {},
     "output_type": "display_data"
    },
    {
     "data": {
      "text/plain": [
       "'5 is in set'"
      ]
     },
     "metadata": {},
     "output_type": "display_data"
    }
   ],
   "source": [
    "set_of_numbers = {1, 2, 3, 4, 5}\n",
    "\n",
    "display(set_of_numbers)\n",
    "# a. Add \"orange\" to the list.  \n",
    "\n",
    "set_of_numbers.add(6)\n",
    "\n",
    "display(set_of_numbers)\n",
    "\n",
    "# b. Remove \"banana\" from the list. \n",
    "set_of_numbers.remove(3)\n",
    "\n",
    "display(set_of_numbers)\n",
    "\n",
    "# c. Check if the numbers 5 and 7 are in the set, and print the results. \n",
    "num_7_is_in_set = 7 in set_of_numbers\n",
    "message_one = \"7 is in set\" if num_7_is_in_set else \"7 is not in set\"\n",
    "message_one_ = num_7_is_in_set and \"7 is in set\" or \"7 is not in set\"\n",
    "\n",
    "num_5_is_in_set = 5 in set_of_numbers\n",
    "message_two = \"5 is in set\" if num_5_is_in_set else \"5 is not in set\"\n",
    "message_two_ = num_5_is_in_set and \"5 is in set\" or \"5 is not in set\"\n",
    "\n",
    "display(message_one)\n",
    "display(message_one_)\n",
    "\n",
    "display(message_two)\n",
    "display(message_two_)"
   ]
  },
  {
   "cell_type": "markdown",
   "metadata": {},
   "source": [
    "### 2. Define a list of fruits containing \"apple\", \"banana\", and \"cherry\".\n",
    "a. Add \"orange\" to the list.  \n",
    "b.  Remove \"banana\" from the list.  \n",
    "c.  Print the first and last elements of the list.  \n"
   ]
  },
  {
   "cell_type": "code",
   "execution_count": 37,
   "metadata": {},
   "outputs": [
    {
     "data": {
      "text/plain": [
       "['apple', 'banana', '', '', 'cherry']"
      ]
     },
     "metadata": {},
     "output_type": "display_data"
    },
    {
     "data": {
      "text/plain": [
       "['apple', 'banana', 'cherry']"
      ]
     },
     "metadata": {},
     "output_type": "display_data"
    },
    {
     "data": {
      "text/plain": [
       "['apple', 'cherry']"
      ]
     },
     "metadata": {},
     "output_type": "display_data"
    },
    {
     "data": {
      "text/plain": [
       "['apple', 'cherry']"
      ]
     },
     "metadata": {},
     "output_type": "display_data"
    },
    {
     "data": {
      "text/plain": [
       "'apple'"
      ]
     },
     "metadata": {},
     "output_type": "display_data"
    },
    {
     "data": {
      "text/plain": [
       "'cherry'"
      ]
     },
     "metadata": {},
     "output_type": "display_data"
    }
   ],
   "source": [
    "import re\n",
    "# a. Add \"orange\" to the list.  \n",
    "# list_of_fruits = [\"apple\", \"banana\", \"cherry\"]\n",
    "fruits = \"apple banana and cherry\"\n",
    "# list_of_fruits = fruits.split()\n",
    "# empty string \"\"\n",
    "pattern = r\"\\s+|and\"\n",
    "result = re.split(pattern, fruits) \n",
    "display(result)\n",
    "\"\"\" \n",
    " for word in result: #    for i in range(0, len(result), 1) \n",
    "                                word = result[i]\n",
    "    word will represent each element in the list\n",
    "word\n",
    " 1. apple   appended because length of the string is greater than 0 which is 5\n",
    " 2. banana  appended because length of the string is greater than 0 which is 6\n",
    " 3. ''      not appended because the length of the string is 0\n",
    " 4. ''      not appended because the length of the string is 0\n",
    " 5. cherry  appended because length of the string is greater than 0 which is 6\n",
    "\"\"\"\n",
    "list_of_fruits  = [word for word in result if word]\n",
    "# list_of_fruits = [ word for word in re.split(pattern, fruits) if word]\n",
    "\n",
    "display(list_of_fruits)\n",
    "\n",
    "# b.  Remove \"banana\" from the list.  \n",
    "list_of_fruits.pop(1)\n",
    "\n",
    "display(list_of_fruits)\n",
    "\n",
    "list_of_fruits.append( 'banana')\n",
    "list_of_fruits.remove( 'banana')\n",
    "\n",
    "display(list_of_fruits)\n",
    "\n",
    "# c.  Print the first and last elements of the list.  \n",
    "display(f\"{list_of_fruits[0]} {list_of_fruits[-1]}\")"
   ]
  },
  {
   "cell_type": "markdown",
   "metadata": {},
   "source": [
    "### 4. Define a tuple representing coordinates (10.5, 20.7).  \n",
    "a. Print the x (first) and y (second) coordinates separately.  "
   ]
  },
  {
   "cell_type": "code",
   "execution_count": 38,
   "metadata": {},
   "outputs": [
    {
     "data": {
      "text/plain": [
       "10.5"
      ]
     },
     "metadata": {},
     "output_type": "display_data"
    },
    {
     "data": {
      "text/plain": [
       "20.7"
      ]
     },
     "metadata": {},
     "output_type": "display_data"
    }
   ],
   "source": [
    "coordinates = (10.5, 20.7)\n",
    "x, y = coordinates\n",
    "\n",
    "display(x)\n",
    "display(y)"
   ]
  }
 ],
 "metadata": {
  "kernelspec": {
   "display_name": "Python 3",
   "language": "python",
   "name": "python3"
  },
  "language_info": {
   "codemirror_mode": {
    "name": "ipython",
    "version": 3
   },
   "file_extension": ".py",
   "mimetype": "text/x-python",
   "name": "python",
   "nbconvert_exporter": "python",
   "pygments_lexer": "ipython3",
   "version": "3.12.7"
  }
 },
 "nbformat": 4,
 "nbformat_minor": 2
}
