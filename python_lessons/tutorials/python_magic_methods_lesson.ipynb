{
 "cells": [
  {
   "cell_type": "markdown",
   "metadata": {},
   "source": [
    "#### Python Lesson: Iterators, next(), yield, and underscore (_) usage"
   ]
  },
  {
   "cell_type": "code",
   "execution_count": null,
   "metadata": {},
   "outputs": [],
   "source": [
    "my_list: list = [1, 4, 2, 4]\n",
    "\n",
    "display(my_list)\n",
    "\n",
    "my_iterator = iter(my_list) # makes the list iterable \n",
    "\n",
    "display(next(my_iterator)) # output: 1\n",
    "display(next(my_iterator)) # output: 4\n",
    "display(next(my_iterator)) # output: 2\n",
    "display(next(my_iterator)) # output: 4\n",
    "display(next(my_iterator))  # throws:  StopIterationError"
   ]
  },
  {
   "cell_type": "code",
   "execution_count": null,
   "metadata": {},
   "outputs": [],
   "source": [
    "# yield to gather or to call together and throw/spit\n",
    "\n",
    "def simple_generator():\n",
    "    yield 1 # yielded object value = 1\n",
    "    yield 5 #  yielded object value = 1, 5\n",
    "    yield 9 #  yielded object value = 1, 5, 9\n",
    "    \n",
    "    \n",
    "yielded = simple_generator()\n",
    "\n",
    "display(next(yielded))\n",
    "display(next(yielded))\n",
    "display(next(yielded))\n",
    "# for value in yielded:\n",
    "#     display(value)\n",
    "    \n",
    "def infinite_numbers(start:int=1):\n",
    "    while True:\n",
    "        yield start # yielded object values 1 ...... inf\n",
    "        start += 1\n",
    "\n",
    "infinite_gen = infinite_numbers()\n",
    "\n",
    "for _ in range(20):\n",
    "    display(next(infinite_gen))\n",
    "\n",
    "x  = [1, 2, 3]\n",
    "\n",
    "a, _, b = x\n",
    "\n",
    "for _ in range(5):\n",
    "    print(\"Hello world\")\n"
   ]
  },
  {
   "cell_type": "code",
   "execution_count": null,
   "metadata": {},
   "outputs": [
    {
     "data": {
      "text/plain": [
       "3"
      ]
     },
     "metadata": {},
     "output_type": "display_data"
    },
    {
     "data": {
      "text/plain": [
       "2"
      ]
     },
     "metadata": {},
     "output_type": "display_data"
    },
    {
     "data": {
      "text/plain": [
       "1"
      ]
     },
     "metadata": {},
     "output_type": "display_data"
    },
    {
     "ename": "StopIteration",
     "evalue": "",
     "output_type": "error",
     "traceback": [
      "\u001b[1;31m---------------------------------------------------------------------------\u001b[0m",
      "\u001b[1;31mStopIteration\u001b[0m                             Traceback (most recent call last)",
      "Cell \u001b[1;32mIn[25], line 22\u001b[0m\n\u001b[0;32m     20\u001b[0m display(\u001b[38;5;28mnext\u001b[39m(count_down)) \u001b[38;5;66;03m# next will call __next__ and this will call iterator will __self\u001b[39;00m\n\u001b[0;32m     21\u001b[0m display(\u001b[38;5;28mnext\u001b[39m(count_down)) \u001b[38;5;66;03m# next will call __next__ and this will call iterator will __self\u001b[39;00m\n\u001b[1;32m---> 22\u001b[0m display(\u001b[38;5;28;43mnext\u001b[39;49m\u001b[43m(\u001b[49m\u001b[43mcount_down\u001b[49m\u001b[43m)\u001b[49m) \u001b[38;5;66;03m# next will call __next__ and this will call iterator will __self\u001b[39;00m\n\u001b[0;32m     24\u001b[0m \u001b[38;5;66;03m# for number in count_down:\u001b[39;00m\n\u001b[0;32m     25\u001b[0m \u001b[38;5;66;03m#     print(number)\u001b[39;00m\n",
      "Cell \u001b[1;32mIn[25], line 10\u001b[0m, in \u001b[0;36mCountDown.__next__\u001b[1;34m(self)\u001b[0m\n\u001b[0;32m      8\u001b[0m \u001b[38;5;28;01mdef\u001b[39;00m \u001b[38;5;21m__next__\u001b[39m(\u001b[38;5;28mself\u001b[39m):\n\u001b[0;32m      9\u001b[0m     \u001b[38;5;28;01mif\u001b[39;00m \u001b[38;5;28mself\u001b[39m\u001b[38;5;241m.\u001b[39mcurrent \u001b[38;5;241m<\u001b[39m\u001b[38;5;241m=\u001b[39m \u001b[38;5;241m0\u001b[39m:\n\u001b[1;32m---> 10\u001b[0m         \u001b[38;5;28;01mraise\u001b[39;00m \u001b[38;5;167;01mStopIteration\u001b[39;00m\n\u001b[0;32m     11\u001b[0m     \u001b[38;5;28;01melse\u001b[39;00m:\n\u001b[0;32m     12\u001b[0m         \u001b[38;5;28mself\u001b[39m\u001b[38;5;241m.\u001b[39mcurrent \u001b[38;5;241m-\u001b[39m\u001b[38;5;241m=\u001b[39m \u001b[38;5;241m1\u001b[39m\n",
      "\u001b[1;31mStopIteration\u001b[0m: "
     ]
    }
   ],
   "source": [
    "class CountDown:\n",
    "    def __init__(self, start): \n",
    "        self.current = start\n",
    "\n",
    "    def __iter__(self):\n",
    "        return self\n",
    "\n",
    "    def __next__(self):\n",
    "        if self.current <= 0:\n",
    "            raise StopIteration\n",
    "        else:\n",
    "            self.current -= 1\n",
    "            return self.current + 1\n",
    "\n",
    "        \n",
    "count_down = CountDown(start=3) # will call __init__ and self.current = 3\n",
    "\n",
    "#  next => __next__ => iterator => __iter__\n",
    "display(next(count_down)) # next will call __next__ and this will call iterator will __iter__  if self.current is <= 0 it will raise StopIteration Error else decrement self.current and return it  || current = 3\n",
    "display(next(count_down)) # next will call __next__ and this will call iterator will __iter__  if self.current is <= 0 it will raise StopIteration Error else decrement self.current and return it  || current = 2\n",
    "display(next(count_down)) # next will call __next__ and this will call iterator will __iter__  if self.current is <= 0 it will raise StopIteration Error else decrement self.current and return it  || current = 1\n",
    "display(next(count_down)) # next will call __next__ and this will call iterator will __iter__  if self.current is <= 0 it will raise StopIteration Error else decrement self.current and return it  || throws Error\n",
    "\n",
    "# for number in count_down:\n",
    "#     print(number)"
   ]
  }
 ],
 "metadata": {
  "kernelspec": {
   "display_name": "Python 3",
   "language": "python",
   "name": "python3"
  },
  "language_info": {
   "codemirror_mode": {
    "name": "ipython",
    "version": 3
   },
   "file_extension": ".py",
   "mimetype": "text/x-python",
   "name": "python",
   "nbconvert_exporter": "python",
   "pygments_lexer": "ipython3",
   "version": "3.12.7"
  }
 },
 "nbformat": 4,
 "nbformat_minor": 2
}
