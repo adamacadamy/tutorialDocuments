{
 "cells": [
  {
   "cell_type": "markdown",
   "id": "631dccef",
   "metadata": {},
   "source": [
    "\n",
    "### **Jupyter Notebook Tutorial on Joins in SQL**"
   ]
  },
  {
   "cell_type": "code",
   "execution_count": null,
   "id": "d19a8c15",
   "metadata": {},
   "outputs": [
    {
     "name": "stdout",
     "output_type": "stream",
     "text": [
      "Defaulting to user installation because normal site-packages is not writeable\n",
      "Requirement already satisfied: prettytable in c:\\users\\atew\\appdata\\local\\packages\\pythonsoftwarefoundation.python.3.12_qbz5n2kfra8p0\\localcache\\local-packages\\python312\\site-packages (3.12.0)\n",
      "Requirement already satisfied: ipython-sql in c:\\users\\atew\\appdata\\local\\packages\\pythonsoftwarefoundation.python.3.12_qbz5n2kfra8p0\\localcache\\local-packages\\python312\\site-packages (0.5.0)\n",
      "Requirement already satisfied: wcwidth in c:\\users\\atew\\appdata\\local\\packages\\pythonsoftwarefoundation.python.3.12_qbz5n2kfra8p0\\localcache\\local-packages\\python312\\site-packages (from prettytable) (0.2.13)\n",
      "Requirement already satisfied: ipython in c:\\users\\atew\\appdata\\local\\packages\\pythonsoftwarefoundation.python.3.12_qbz5n2kfra8p0\\localcache\\local-packages\\python312\\site-packages (from ipython-sql) (8.27.0)\n",
      "Requirement already satisfied: sqlalchemy>=2.0 in c:\\users\\atew\\appdata\\local\\packages\\pythonsoftwarefoundation.python.3.12_qbz5n2kfra8p0\\localcache\\local-packages\\python312\\site-packages (from ipython-sql) (2.0.36)\n",
      "Requirement already satisfied: sqlparse in c:\\users\\atew\\appdata\\local\\packages\\pythonsoftwarefoundation.python.3.12_qbz5n2kfra8p0\\localcache\\local-packages\\python312\\site-packages (from ipython-sql) (0.5.2)\n",
      "Requirement already satisfied: six in c:\\users\\atew\\appdata\\local\\packages\\pythonsoftwarefoundation.python.3.12_qbz5n2kfra8p0\\localcache\\local-packages\\python312\\site-packages (from ipython-sql) (1.16.0)\n",
      "Requirement already satisfied: ipython-genutils in c:\\users\\atew\\appdata\\local\\packages\\pythonsoftwarefoundation.python.3.12_qbz5n2kfra8p0\\localcache\\local-packages\\python312\\site-packages (from ipython-sql) (0.2.0)\n",
      "Requirement already satisfied: typing-extensions>=4.6.0 in c:\\users\\atew\\appdata\\local\\packages\\pythonsoftwarefoundation.python.3.12_qbz5n2kfra8p0\\localcache\\local-packages\\python312\\site-packages (from sqlalchemy>=2.0->ipython-sql) (4.12.2)\n",
      "Requirement already satisfied: greenlet!=0.4.17 in c:\\users\\atew\\appdata\\local\\packages\\pythonsoftwarefoundation.python.3.12_qbz5n2kfra8p0\\localcache\\local-packages\\python312\\site-packages (from sqlalchemy>=2.0->ipython-sql) (3.1.1)\n",
      "Requirement already satisfied: decorator in c:\\users\\atew\\appdata\\local\\packages\\pythonsoftwarefoundation.python.3.12_qbz5n2kfra8p0\\localcache\\local-packages\\python312\\site-packages (from ipython->ipython-sql) (5.1.1)\n",
      "Requirement already satisfied: jedi>=0.16 in c:\\users\\atew\\appdata\\local\\packages\\pythonsoftwarefoundation.python.3.12_qbz5n2kfra8p0\\localcache\\local-packages\\python312\\site-packages (from ipython->ipython-sql) (0.19.1)\n",
      "Requirement already satisfied: matplotlib-inline in c:\\users\\atew\\appdata\\local\\packages\\pythonsoftwarefoundation.python.3.12_qbz5n2kfra8p0\\localcache\\local-packages\\python312\\site-packages (from ipython->ipython-sql) (0.1.7)\n",
      "Requirement already satisfied: prompt-toolkit<3.1.0,>=3.0.41 in c:\\users\\atew\\appdata\\local\\packages\\pythonsoftwarefoundation.python.3.12_qbz5n2kfra8p0\\localcache\\local-packages\\python312\\site-packages (from ipython->ipython-sql) (3.0.48)\n",
      "Requirement already satisfied: pygments>=2.4.0 in c:\\users\\atew\\appdata\\local\\packages\\pythonsoftwarefoundation.python.3.12_qbz5n2kfra8p0\\localcache\\local-packages\\python312\\site-packages (from ipython->ipython-sql) (2.18.0)\n",
      "Requirement already satisfied: stack-data in c:\\users\\atew\\appdata\\local\\packages\\pythonsoftwarefoundation.python.3.12_qbz5n2kfra8p0\\localcache\\local-packages\\python312\\site-packages (from ipython->ipython-sql) (0.6.3)\n",
      "Requirement already satisfied: traitlets>=5.13.0 in c:\\users\\atew\\appdata\\local\\packages\\pythonsoftwarefoundation.python.3.12_qbz5n2kfra8p0\\localcache\\local-packages\\python312\\site-packages (from ipython->ipython-sql) (5.14.3)\n",
      "Requirement already satisfied: colorama in c:\\users\\atew\\appdata\\local\\packages\\pythonsoftwarefoundation.python.3.12_qbz5n2kfra8p0\\localcache\\local-packages\\python312\\site-packages (from ipython->ipython-sql) (0.4.6)\n",
      "Requirement already satisfied: parso<0.9.0,>=0.8.3 in c:\\users\\atew\\appdata\\local\\packages\\pythonsoftwarefoundation.python.3.12_qbz5n2kfra8p0\\localcache\\local-packages\\python312\\site-packages (from jedi>=0.16->ipython->ipython-sql) (0.8.4)\n",
      "Requirement already satisfied: executing>=1.2.0 in c:\\users\\atew\\appdata\\local\\packages\\pythonsoftwarefoundation.python.3.12_qbz5n2kfra8p0\\localcache\\local-packages\\python312\\site-packages (from stack-data->ipython->ipython-sql) (2.1.0)\n",
      "Requirement already satisfied: asttokens>=2.1.0 in c:\\users\\atew\\appdata\\local\\packages\\pythonsoftwarefoundation.python.3.12_qbz5n2kfra8p0\\localcache\\local-packages\\python312\\site-packages (from stack-data->ipython->ipython-sql) (2.4.1)\n",
      "Requirement already satisfied: pure-eval in c:\\users\\atew\\appdata\\local\\packages\\pythonsoftwarefoundation.python.3.12_qbz5n2kfra8p0\\localcache\\local-packages\\python312\\site-packages (from stack-data->ipython->ipython-sql) (0.2.3)\n",
      "Note: you may need to restart the kernel to use updated packages.\n"
     ]
    },
    {
     "name": "stderr",
     "output_type": "stream",
     "text": [
      "\n",
      "[notice] A new release of pip is available: 24.2 -> 24.3.1\n",
      "[notice] To update, run: C:\\Users\\atew\\AppData\\Local\\Microsoft\\WindowsApps\\PythonSoftwareFoundation.Python.3.12_qbz5n2kfra8p0\\python.exe -m pip install --upgrade pip\n"
     ]
    }
   ],
   "source": [
    "# Install necessary packages\n",
    "%pip install --upgrade prettytable ipython-sql\n",
    "\n",
    "# Load the ipython-sql extension\n",
    "%load_ext sql\n",
    " \n",
    "# Connect to the SQLite database\n",
    "%sql sqlite:///join.sqlite\n",
    "\n",
    "# Configure ipython-sql to use a valid PrettyTable style\n",
    "%config SqlMagic.style = '_DEPRECATED_DEFAULT'"
   ]
  },
  {
   "cell_type": "markdown",
   "id": "c2f5df37",
   "metadata": {},
   "source": [
    "\n",
    "### **Step 1: Create Tables**\n",
    "#### Explanation:\n",
    "We will create two tables:\n",
    "1. **`employees`**: Contains employee details, including `emp_id`, `name`, `department_id`, and `salary`.\n",
    "2. **`departments`**: Contains department details, including `dept_id` and `dept_name`.\n"
   ]
  },
  {
   "cell_type": "code",
   "execution_count": 2,
   "id": "4fb027f2",
   "metadata": {},
   "outputs": [
    {
     "name": "stdout",
     "output_type": "stream",
     "text": [
      " * sqlite:///join.sqlite\n",
      "Done.\n",
      "Done.\n",
      "Done.\n",
      "Done.\n"
     ]
    },
    {
     "data": {
      "text/plain": [
       "[]"
      ]
     },
     "execution_count": 2,
     "metadata": {},
     "output_type": "execute_result"
    }
   ],
   "source": [
    "%%sql\n",
    "DROP TABLE IF EXISTS employees;\n",
    "DROP TABLE IF EXISTS departments;\n",
    "\n",
    "CREATE TABLE departments (\n",
    "    dept_id INTEGER PRIMARY KEY,\n",
    "    dept_name TEXT NOT NULL\n",
    ");\n",
    "\n",
    "CREATE TABLE employees (\n",
    "    emp_id INTEGER PRIMARY KEY,\n",
    "    name TEXT NOT NULL,\n",
    "    department_id INTEGER,\n",
    "    salary INTEGER,\n",
    "    FOREIGN KEY (department_id) REFERENCES departments(dept_id) ON DELETE SET NULL\n",
    ");\n"
   ]
  },
  {
   "cell_type": "markdown",
   "id": "d03a38f8",
   "metadata": {},
   "source": [
    "\n",
    "### **Step 2: Insert Data into Tables**\n",
    "#### Explanation:\n",
    "We will populate the tables with sample data.\n",
    "\n",
    "**Employees Table:**\n",
    "- Alice belongs to the HR department (101).\n",
    "- Bob belongs to the Engineering department (102).\n",
    "- Charlie does not belong to any department.\n",
    "- Diana belongs to the Marketing department (103).\n",
    "\n",
    "**Departments Table:**\n",
    "- Departments include HR (101), Engineering (102), Marketing (103), and Sales (104).\n"
   ]
  },
  {
   "cell_type": "code",
   "execution_count": 3,
   "id": "5266d1e4",
   "metadata": {},
   "outputs": [
    {
     "name": "stdout",
     "output_type": "stream",
     "text": [
      " * sqlite:///join.sqlite\n",
      "4 rows affected.\n",
      "4 rows affected.\n"
     ]
    },
    {
     "data": {
      "text/plain": [
       "[]"
      ]
     },
     "execution_count": 3,
     "metadata": {},
     "output_type": "execute_result"
    }
   ],
   "source": [
    "\n",
    "%%sql\n",
    "-- Insert data into the employees table\n",
    "INSERT INTO employees (emp_id, name, department_id, salary) VALUES \n",
    "(1, 'Alice', 101, 70000),\n",
    "(2, 'Bob', 102, 60000),\n",
    "(3, 'Charlie', NULL, 50000),\n",
    "(4, 'Diana', 103, 80000);\n",
    "\n",
    "-- Insert data into the departments table\n",
    "INSERT INTO departments (dept_id, dept_name) VALUES \n",
    "(101, 'HR'),\n",
    "(102, 'Engineering'),\n",
    "(103, 'Marketing'),\n",
    "(104, 'Sales');\n"
   ]
  },
  {
   "cell_type": "markdown",
   "id": "cc974ed1",
   "metadata": {},
   "source": [
    "\n",
    "### **Step 3: INNER JOIN**\n",
    "#### Explanation:\n",
    "An `INNER JOIN` returns rows where there is a match between `employees.department_id` and `departments.dept_id`.\n"
   ]
  },
  {
   "cell_type": "code",
   "execution_count": null,
   "id": "48a51d28",
   "metadata": {},
   "outputs": [
    {
     "name": "stdout",
     "output_type": "stream",
     "text": [
      " * sqlite:///join.sqlite\n",
      "Done.\n"
     ]
    },
    {
     "data": {
      "text/html": [
       "<table>\n",
       "    <thead>\n",
       "        <tr>\n",
       "            <th>Employee_Name</th>\n",
       "            <th>Department_Name</th>\n",
       "        </tr>\n",
       "    </thead>\n",
       "    <tbody>\n",
       "        <tr>\n",
       "            <td>Alice</td>\n",
       "            <td>HR</td>\n",
       "        </tr>\n",
       "        <tr>\n",
       "            <td>Bob</td>\n",
       "            <td>Engineering</td>\n",
       "        </tr>\n",
       "        <tr>\n",
       "            <td>Diana</td>\n",
       "            <td>Marketing</td>\n",
       "        </tr>\n",
       "    </tbody>\n",
       "</table>"
      ],
      "text/plain": [
       "[('Alice', 'HR'), ('Bob', 'Engineering'), ('Diana', 'Marketing')]"
      ]
     },
     "execution_count": 4,
     "metadata": {},
     "output_type": "execute_result"
    }
   ],
   "source": [
    "%%sql  \n",
    "\n",
    "SELECT \n",
    "    employees.name AS Employee_Name,\n",
    "    departments.dept_name AS Department_Name\n",
    "FROM \n",
    "    employees\n",
    "INNER JOIN \n",
    "    departments \n",
    "ON \n",
    "    employees.department_id = departments.dept_id;\n"
   ]
  },
  {
   "cell_type": "markdown",
   "id": "ff9806d6",
   "metadata": {},
   "source": [
    "\n",
    "### **Step 4: LEFT JOIN**\n",
    "#### Explanation:\n",
    "A `LEFT JOIN` returns all rows from the `employees` table and matched rows from the `departments` table. If there is no match, the result will contain `NULL` for unmatched columns.\n"
   ]
  },
  {
   "cell_type": "code",
   "execution_count": null,
   "id": "6b9398b2",
   "metadata": {},
   "outputs": [],
   "source": [
    "%%sql  \n",
    "\n",
    "SELECT \n",
    "    employees.name AS Employee_Name,\n",
    "    departments.dept_name AS Department_Name\n",
    "FROM \n",
    "    employees\n",
    "LEFT JOIN \n",
    "    departments \n",
    "ON \n",
    "    employees.department_id = departments.dept_id;\n"
   ]
  },
  {
   "cell_type": "markdown",
   "id": "e557d362",
   "metadata": {},
   "source": [
    "\n",
    "### **Step 5: RIGHT JOIN (Simulated)**\n",
    "#### Explanation:\n",
    "SQLite does not support `RIGHT JOIN` directly. We can simulate it by reversing the table order in a `LEFT JOIN`.\n"
   ]
  },
  {
   "cell_type": "code",
   "execution_count": null,
   "id": "70a58efb",
   "metadata": {},
   "outputs": [],
   "source": [
    "\n",
    "%%sql\n",
    "SELECT \n",
    "    employees.name AS Employee_Name,\n",
    "    departments.dept_name AS Department_Name\n",
    "FROM \n",
    "    departments\n",
    "LEFT JOIN \n",
    "    employees \n",
    "ON \n",
    "    employees.department_id = departments.dept_id;\n"
   ]
  },
  {
   "cell_type": "markdown",
   "id": "fc9e5be4",
   "metadata": {},
   "source": [
    "\n",
    "### **Step 6: Find Unmatched Rows (RIGHT JOIN Simulation)**\n",
    "#### Explanation:\n",
    "To display only the unmatched rows in the simulated `RIGHT JOIN`, we filter the results where `employees.emp_id` is `NULL`.\n"
   ]
  },
  {
   "cell_type": "code",
   "execution_count": null,
   "id": "2c5af72b",
   "metadata": {},
   "outputs": [],
   "source": [
    "\n",
    "%%sql\n",
    "SELECT \n",
    "    employees.name AS Employee_Name,\n",
    "    departments.dept_name AS Department_Name\n",
    "FROM \n",
    "    departments\n",
    "LEFT JOIN \n",
    "    employees \n",
    "ON \n",
    "    employees.department_id = departments.dept_id\n",
    "WHERE\n",
    "    employees.emp_id IS NULL;\n"
   ]
  },
  {
   "cell_type": "markdown",
   "id": "87cff4ed",
   "metadata": {},
   "source": [
    "\n",
    "### Summary\n",
    "This tutorial covers:\n",
    "1. Creating and populating tables.\n",
    "2. Using `INNER JOIN` to get matched rows.\n",
    "3. Using `LEFT JOIN` to include unmatched rows from the left table.\n",
    "4. Simulating `RIGHT JOIN` in SQLite.\n",
    "5. Filtering unmatched rows in the simulated `RIGHT JOIN`.\n",
    "\n",
    "This Jupyter Notebook is structured for an interactive learning experience.\n"
   ]
  }
 ],
 "metadata": {
  "kernelspec": {
   "display_name": "Python 3",
   "language": "python",
   "name": "python3"
  },
  "language_info": {
   "codemirror_mode": {
    "name": "ipython",
    "version": 3
   },
   "file_extension": ".py",
   "mimetype": "text/x-python",
   "name": "python",
   "nbconvert_exporter": "python",
   "pygments_lexer": "ipython3",
   "version": "3.12.7"
  }
 },
 "nbformat": 4,
 "nbformat_minor": 5
}
