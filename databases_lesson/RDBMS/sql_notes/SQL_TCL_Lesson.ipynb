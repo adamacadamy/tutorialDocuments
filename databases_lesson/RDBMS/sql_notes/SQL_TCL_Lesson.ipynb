{
 "cells": [
  {
   "cell_type": "markdown",
   "id": "7ad598cf",
   "metadata": {},
   "source": [
    "# SQL TCL (Transaction Control Language) - Complete Lesson\n",
    "\n",
    "This lesson provides a detailed introduction to SQL Transaction Control Language (TCL) using SQLite. TCL commands are used to manage transactions in a database, ensuring data integrity and consistency.\n",
    "\n",
    "Make sure to run the setup code below to install necessary packages, load the `ipython-sql` extension, and connect to the database."
   ]
  },
  {
   "cell_type": "code",
   "execution_count": null,
   "id": "6ede20c2",
   "metadata": {},
   "outputs": [],
   "source": [
    "# Install necessary packages\n",
    "%pip install jupyter ipython-sql\n",
    "\n",
    "# Load the ipython-sql extension\n",
    "%load_ext sql\n",
    "\n",
    "# Connect to the SQLite database\n",
    "%sql sqlite:///tcl.db\n",
    "\n",
    "# Configure ipython-sql to use a valid PrettyTable style\n",
    "%config SqlMagic.style = '_DEPRECATED_DEFAULT'"
   ]
  },
  {
   "cell_type": "code",
   "execution_count": null,
   "id": "7839cb00",
   "metadata": {},
   "outputs": [],
   "source": [
    "%%sql\n",
    "DROP TABLE IF EXISTS employees;\n",
    "CREATE TABLE employees (\n",
    "    employee_id INTEGER PRIMARY KEY,\n",
    "    first_name TEXT NOT NULL,\n",
    "    last_name TEXT NOT NULL,\n",
    "    hire_date DATE,\n",
    "    salary REAL\n",
    ");"
   ]
  },
  {
   "cell_type": "markdown",
   "id": "ef9a3554",
   "metadata": {},
   "source": [
    "## 1. Introduction to TCL\n",
    "TCL (Transaction Control Language) is a subset of SQL used to control transactions. A **transaction** is a sequence of one or more SQL statements that are executed as a single unit of work.\n",
    "\n",
    "TCL commands include:\n",
    "- **COMMIT**: Saves all changes made during the current transaction.\n",
    "- **ROLLBACK**: Reverts changes made during the current transaction.\n",
    "- **SAVEPOINT**: Sets a savepoint within a transaction to which you can roll back.\n",
    "- **SET TRANSACTION**: Configures the properties of the current transaction (e.g., isolation level)."
   ]
  },
  {
   "cell_type": "markdown",
   "id": "9dabc038",
   "metadata": {},
   "source": [
    "## 2. Concept of Transactions\n",
    "A transaction is a sequence of SQL operations performed as a single unit. It has the following properties, known as **ACID** properties:\n",
    "- **Atomicity**: All operations are completed; if any operation fails, the entire transaction fails.\n",
    "- **Consistency**: The database remains in a consistent state before and after the transaction.\n",
    "- **Isolation**: Transactions are executed independently without interference.\n",
    "- **Durability**: Once a transaction is committed, the changes are permanent."
   ]
  },
  {
   "cell_type": "markdown",
   "id": "2be6f92b",
   "metadata": {},
   "source": [
    "## 3. COMMIT Command\n",
    "The `COMMIT` command is used to save all changes made during the current transaction.\n",
    "\n",
    "### Syntax:\n",
    "```sql\n",
    "COMMIT;\n",
    "```\n",
    "\n",
    "### Example:\n",
    "Insert a new employee record and use `COMMIT` to save the changes."
   ]
  },
  {
   "cell_type": "code",
   "execution_count": null,
   "id": "c4e828ee",
   "metadata": {},
   "outputs": [],
   "source": [
    "%%sql\n",
    "BEGIN TRANSACTION;\n",
    "INSERT INTO employees (first_name, last_name, hire_date, salary)\n",
    "VALUES ('David', 'Green', '2023-05-01', 70000);\n",
    "COMMIT;\n",
    "\n",
    "SELECT * FROM employees WHERE first_name = 'David';"
   ]
  },
  {
   "cell_type": "markdown",
   "id": "9b841b6a",
   "metadata": {},
   "source": [
    "## 4. ROLLBACK Command\n",
    "The `ROLLBACK` command is used to undo changes made during the current transaction. It reverts the database to the state before the transaction began.\n",
    "\n",
    "### Syntax:\n",
    "```sql\n",
    "ROLLBACK;\n",
    "```\n",
    "\n",
    "### Example:\n",
    "Update an employee's salary, then use `ROLLBACK` to undo the change."
   ]
  },
  {
   "cell_type": "code",
   "execution_count": null,
   "id": "ccac79a1",
   "metadata": {},
   "outputs": [],
   "source": [
    "%%sql\n",
    "BEGIN TRANSACTION;\n",
    "UPDATE employees\n",
    "SET salary = 80000\n",
    "WHERE first_name = 'David';\n",
    "ROLLBACK;\n",
    "\n",
    "SELECT * FROM employees WHERE first_name = 'David';"
   ]
  },
  {
   "cell_type": "markdown",
   "id": "241e3ab8",
   "metadata": {},
   "source": [
    "## 5. SAVEPOINT Command\n",
    "The `SAVEPOINT` command sets a savepoint within a transaction, allowing you to roll back to a specific point without affecting the entire transaction.\n",
    "\n",
    "### Syntax:\n",
    "```sql\n",
    "SAVEPOINT savepoint_name;\n",
    "```\n",
    "\n",
    "### Example:\n",
    "Use `SAVEPOINT` to set a savepoint, make changes, then roll back to the savepoint."
   ]
  },
  {
   "cell_type": "code",
   "execution_count": null,
   "id": "95204b5b",
   "metadata": {},
   "outputs": [],
   "source": [
    "%%sql\n",
    "BEGIN TRANSACTION;\n",
    "SAVEPOINT sp1;\n",
    "UPDATE employees\n",
    "SET salary = 85000\n",
    "WHERE first_name = 'David';\n",
    "ROLLBACK TO sp1;\n",
    "\n",
    "SELECT * FROM employees WHERE first_name = 'David';"
   ]
  },
  {
   "cell_type": "markdown",
   "id": "f873c1e9",
   "metadata": {},
   "source": [
    "## 6. SET TRANSACTION Command\n",
    "The `SET TRANSACTION` command is used to specify the characteristics of the current transaction, such as the isolation level.\n",
    "\n",
    "### Note:\n",
    "SQLite does not support setting the transaction isolation level explicitly, but other databases like MySQL and PostgreSQL do."
   ]
  },
  {
   "cell_type": "markdown",
   "id": "8ae05948",
   "metadata": {},
   "source": [
    "## 7. Practical Example of TCL Commands\n",
    "Let's use `BEGIN TRANSACTION`, `COMMIT`, `ROLLBACK`, and `SAVEPOINT` in a combined example.\n",
    "\n",
    "### Example:\n",
    "Perform multiple updates and roll back selectively using a savepoint."
   ]
  },
  {
   "cell_type": "code",
   "execution_count": null,
   "id": "c8dd47d2",
   "metadata": {},
   "outputs": [],
   "source": [
    "%%sql\n",
    "BEGIN TRANSACTION;\n",
    "UPDATE employees SET salary = 90000 WHERE first_name = 'Alice';\n",
    "SAVEPOINT sp2;\n",
    "UPDATE employees SET salary = 95000 WHERE first_name = 'Bob';\n",
    "ROLLBACK TO sp2;\n",
    "COMMIT;\n",
    "\n",
    "SELECT * FROM employees WHERE first_name IN ('Alice', 'Bob');"
   ]
  },
  {
   "cell_type": "markdown",
   "id": "455ee7c4",
   "metadata": {},
   "source": [
    "## 8. Best Practices for Using TCL\n",
    "- Always use `BEGIN TRANSACTION` before making a series of changes to the database.\n",
    "- Use `COMMIT` only after verifying that all changes are correct.\n",
    "- Use `ROLLBACK` to undo changes in case of errors or unexpected issues.\n",
    "- Utilize `SAVEPOINT` to selectively undo parts of a transaction without rolling back the entire transaction.\n",
    "\n",
    "Understanding TCL commands is crucial for ensuring data integrity and handling errors effectively in SQL."
   ]
  }
 ],
 "metadata": {
  "kernelspec": {
   "display_name": "Python 3",
   "language": "python",
   "name": "python3"
  },
  "language_info": {
   "name": "python",
   "version": "3.8"
  }
 },
 "nbformat": 4,
 "nbformat_minor": 5
}
