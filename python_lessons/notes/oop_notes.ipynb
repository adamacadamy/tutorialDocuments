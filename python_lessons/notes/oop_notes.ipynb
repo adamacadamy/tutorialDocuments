{
 "cells": [
  {
   "cell_type": "markdown",
   "metadata": {},
   "source": [
    "\n",
    "### Python Object-Oriented Programming (OOP) Lesson\n",
    "\n",
    "Is a programming paradigm focusing around objects\n",
    "objects are composed of two main components\n",
    " - properties or attributes \n",
    " - methods, behaviors or functions\n",
    "Class is the blueprint for an object\n",
    "\n",
    "for example an object of a `dog` can be represented in python class as follows \n",
    "```python\n",
    "class Dog:\n",
    "    pass\n",
    "```\n",
    "adding more to the example assuming that dogs have `color`, `breed` and  `height` as properties \n",
    "and `barking`, `running` and `eating` as function here is how we represent that in python\n",
    "\n",
    "```python\n",
    "class Dog:\n",
    "    def __init__(self, bread: str, color: str, height: float): \n",
    "        self.breed = breed\n",
    "        self.color = color\n",
    "        self.height = height\n",
    "\n",
    "dog = Dog(bread = \"Dogo Argentino\", color=\"brown\", height: 7.5)\n",
    "\n",
    "class Cat:\n",
    "    def __init__():\n",
    "        self.breed:str = None\n",
    "        self.color:str = color\n",
    "        self.height:str = height\n",
    "\n",
    "cat = Cat()\n",
    "```\n",
    "\n",
    "`__init__` is the constructor method\n",
    " "
   ]
  },
  {
   "cell_type": "code",
   "execution_count": null,
   "metadata": {},
   "outputs": [
    {
     "data": {
      "text/plain": [
       "'Dogo Argentino'"
      ]
     },
     "metadata": {},
     "output_type": "display_data"
    },
    {
     "data": {
      "text/plain": [
       "None"
      ]
     },
     "metadata": {},
     "output_type": "display_data"
    },
    {
     "ename": "TypeError",
     "evalue": "'NoneType' object is not callable",
     "output_type": "error",
     "traceback": [
      "\u001b[1;31m---------------------------------------------------------------------------\u001b[0m",
      "\u001b[1;31mTypeError\u001b[0m                                 Traceback (most recent call last)",
      "Cell \u001b[1;32mIn[17], line 47\u001b[0m\n\u001b[0;32m     44\u001b[0m cat \u001b[38;5;241m=\u001b[39m Cat()\n\u001b[0;32m     46\u001b[0m display(cat\u001b[38;5;241m.\u001b[39mget_breed())\n\u001b[1;32m---> 47\u001b[0m display(\u001b[43mcat\u001b[49m\u001b[38;5;241;43m.\u001b[39;49m\u001b[43mbreed\u001b[49m\u001b[43m(\u001b[49m\u001b[43m)\u001b[49m)\n\u001b[0;32m     48\u001b[0m \u001b[38;5;66;03m# cat.set_breed(\"some_cat\")\u001b[39;00m\n\u001b[0;32m     49\u001b[0m \n\u001b[0;32m     50\u001b[0m \u001b[38;5;66;03m# cat_breed = cat.get_breed()\u001b[39;00m\n\u001b[1;32m   (...)\u001b[0m\n\u001b[0;32m     54\u001b[0m \u001b[38;5;66;03m# cat.breed = 'some object' # as a setter \u001b[39;00m\n\u001b[0;32m     55\u001b[0m \u001b[38;5;66;03m# display(cat.breed) # as a getter\u001b[39;00m\n",
      "\u001b[1;31mTypeError\u001b[0m: 'NoneType' object is not callable"
     ]
    }
   ],
   "source": [
    "class Dog:\n",
    "    def __init__(self, bread: str, color: str, height: float): \n",
    "        self.breed = bread\n",
    "        self.color = color\n",
    "        self.height = height\n",
    "\n",
    "dog = Dog(bread = \"Dogo Argentino\", color=\"brown\", height=7.5)\n",
    "display(dog.breed)\n",
    "\n",
    "class Cat:\n",
    "    def __init__(self):\n",
    "        self.__breed:str = None\n",
    "        self.__color:str = None\n",
    "        self.__height:float = None\n",
    "    \n",
    "    # def get_breed(self) -> str:\n",
    "    #     return self.__breed\n",
    "    \n",
    "    # def set_breed(self, breed: str) -> None:\n",
    "    #     self.__breed:str = breed\n",
    "    \n",
    "    @property\n",
    "    def breed(self) -> str: \n",
    "        return self.__breed\n",
    "    \n",
    "    @breed.setter\n",
    "    def breed(self, breed: str) -> None:\n",
    "        self.__breed = breed\n",
    "        \n",
    "\n",
    "    @property\n",
    "    def color(self) -> str:\n",
    "        return self.__color\n",
    "    \n",
    "    \n",
    "    @color.setter\n",
    "    def color(self, color: str) -> None:\n",
    "        self.__color = color\n",
    "        \n",
    "        \n",
    "    @property\n",
    "    def height(self) -> float:\n",
    "        return self.__height\n",
    "    \n",
    "    \n",
    "    @height.setter\n",
    "    def height(self, height: float) -> None:\n",
    "        self.__height = height\n",
    "    \n",
    "    \n",
    "    def __bark():\n",
    "        display(\"wo wo\")\n",
    "        \n",
    " \n",
    "    \n",
    "    # def get_color(self)-> str:\n",
    "    #     return self.__color\n",
    "    \n",
    "    # def set_color(self, color: str) -> None:\n",
    "    #     self.__color = color\n",
    "        \n",
    "    # def get_height(self) -> float:\n",
    "    #     return self.__height\n",
    "    \n",
    "    # def set_height(self, height: float) -> None:\n",
    "    #     self.__height = height\n",
    "         \n",
    "\n",
    "cat = Cat()\n",
    "\n",
    "\n",
    "# cat.set_breed(breed=\"some_cat\")\n",
    "\n",
    "cat.breed = \"some_cat\"\n",
    " \n",
    "display(cat.breed)\n",
    "\n",
    "# display(cat.get_breed())\n",
    "# display(cat.breed())\n",
    "\n",
    "# cat.set_breed(breed=\"some_cat\")\n",
    "\n",
    "# cat_breed = cat.get_breed()\n",
    "\n",
    "# cat_breed\n",
    "\n",
    "# cat.breed = 'some object' # as a setter \n",
    "# display(cat.breed) # as a getter"
   ]
  }
 ],
 "metadata": {
  "kernelspec": {
   "display_name": "Python 3",
   "language": "python",
   "name": "python3"
  },
  "language_info": {
   "codemirror_mode": {
    "name": "ipython",
    "version": 3
   },
   "file_extension": ".py",
   "mimetype": "text/x-python",
   "name": "python",
   "nbconvert_exporter": "python",
   "pygments_lexer": "ipython3",
   "version": "3.12.7"
  }
 },
 "nbformat": 4,
 "nbformat_minor": 2
}
