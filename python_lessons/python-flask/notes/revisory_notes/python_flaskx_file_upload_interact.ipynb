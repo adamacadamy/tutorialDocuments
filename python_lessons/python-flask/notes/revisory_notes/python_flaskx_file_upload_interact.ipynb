{
 "cells": [
  {
   "cell_type": "code",
   "execution_count": null,
   "metadata": {},
   "outputs": [],
   "source": [
    "%pip install requests --break-system-packages"
   ]
  },
  {
   "cell_type": "code",
   "execution_count": null,
   "metadata": {},
   "outputs": [],
   "source": [
    "import requests\n",
    "\n",
    "# Endpoint details\n",
    "url = 'http://localhost:5000/upload/image'\n",
    "\n",
    "# Data to send\n",
    "data = {\n",
    "    'name': 'John Doe',\n",
    "    'email': 'john@example.com'\n",
    "}\n",
    "\n",
    "# File to upload (replace with your actual file path)\n",
    "files = {\n",
    "    'image': open('uploads/81WoYpcR34L._AC_UF1000,1000_QL80_.jpg', 'rb')  # Ensure this path exists\n",
    "}\n",
    "\n",
    "# Make the POST request \n",
    "response = requests.post(url, data=data, files=files)\n",
    "response.raise_for_status()  # Raise an exception for bad status codes\n",
    "display(\"Success! Response:\")\n",
    "display(response.json()) "
   ]
  },
  {
   "cell_type": "code",
   "execution_count": null,
   "metadata": {},
   "outputs": [],
   "source": [
    "import requests\n",
    "\n",
    "# Endpoint details\n",
    "url = 'http://localhost:5000/users/create'\n",
    "\n",
    "# Data to send\n",
    "data = {\n",
    "    'name': 'Jane Doe',\n",
    "    'email': 'jane@example.com'\n",
    "}\n",
    "\n",
    "# Make the POST request \n",
    "response = requests.post(url, data=data)\n",
    "response.raise_for_status()  # Raise an exception for bad status codes\n",
    "display(\"Success! Response:\")\n",
    "display(response.json()) "
   ]
  }
 ],
 "metadata": {
  "kernelspec": {
   "display_name": "Python 3",
   "language": "python",
   "name": "python3"
  },
  "language_info": {
   "codemirror_mode": {
    "name": "ipython",
    "version": 3
   },
   "file_extension": ".py",
   "mimetype": "text/x-python",
   "name": "python",
   "nbconvert_exporter": "python",
   "pygments_lexer": "ipython3",
   "version": "3.11.2"
  }
 },
 "nbformat": 4,
 "nbformat_minor": 2
}
