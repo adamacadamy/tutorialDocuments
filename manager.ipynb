{
 "cells": [
  {
   "cell_type": "code",
   "execution_count": 5,
   "metadata": {},
   "outputs": [
    {
     "name": "stdout",
     "output_type": "stream",
     "text": [
      "Requirement already satisfied: requests in c:\\users\\fuzum\\appdata\\local\\programs\\python\\python311\\lib\\site-packages (2.32.3)\n",
      "Requirement already satisfied: charset-normalizer<4,>=2 in c:\\users\\fuzum\\appdata\\local\\programs\\python\\python311\\lib\\site-packages (from requests) (3.3.2)\n",
      "Requirement already satisfied: idna<4,>=2.5 in c:\\users\\fuzum\\appdata\\local\\programs\\python\\python311\\lib\\site-packages (from requests) (3.7)\n",
      "Requirement already satisfied: urllib3<3,>=1.21.1 in c:\\users\\fuzum\\appdata\\local\\programs\\python\\python311\\lib\\site-packages (from requests) (2.2.2)\n",
      "Requirement already satisfied: certifi>=2017.4.17 in c:\\users\\fuzum\\appdata\\local\\programs\\python\\python311\\lib\\site-packages (from requests) (2024.7.4)\n"
     ]
    },
    {
     "name": "stderr",
     "output_type": "stream",
     "text": [
      "\n",
      "[notice] A new release of pip available: 22.3.1 -> 24.2\n",
      "[notice] To update, run: python.exe -m pip install --upgrade pip\n"
     ]
    },
    {
     "name": "stdout",
     "output_type": "stream",
     "text": [
      "Collecting beautifulsoup4\n",
      "  Downloading beautifulsoup4-4.12.3-py3-none-any.whl (147 kB)\n",
      "     -------------------------------------- 147.9/147.9 kB 9.2 MB/s eta 0:00:00\n",
      "Collecting lxml\n",
      "  Downloading lxml-5.3.0-cp311-cp311-win_amd64.whl (3.8 MB)\n",
      "     ---------------------------------------- 3.8/3.8 MB 5.3 MB/s eta 0:00:00\n",
      "Collecting soupsieve>1.2\n",
      "  Downloading soupsieve-2.6-py3-none-any.whl (36 kB)\n",
      "Installing collected packages: soupsieve, lxml, beautifulsoup4\n",
      "Successfully installed beautifulsoup4-4.12.3 lxml-5.3.0 soupsieve-2.6\n"
     ]
    },
    {
     "name": "stderr",
     "output_type": "stream",
     "text": [
      "\n",
      "[notice] A new release of pip available: 22.3.1 -> 24.2\n",
      "[notice] To update, run: python.exe -m pip install --upgrade pip\n"
     ]
    }
   ],
   "source": [
    "!pip install requests\n",
    "!pip install beautifulsoup4 lxml\n"
   ]
  },
  {
   "cell_type": "code",
   "execution_count": null,
   "metadata": {},
   "outputs": [],
   "source": [
    "import os\n",
    "\n",
    "def rename_files_in_subdirectories(root_directory):\n",
    "    # Walk through all directories and subdirectories\n",
    "    for dirpath, dirnames, filenames in os.walk(root_directory):\n",
    "        for filename in filenames:\n",
    "            if filename.startswith(\"Pasted image \"):\n",
    "                # Remove \"Pasted image \" from the filename\n",
    "                new_filename = filename.replace(\"Pasted image \", \"\", 1)\n",
    "                \n",
    "                # Construct full old and new file paths\n",
    "                old_path = os.path.join(dirpath, filename)\n",
    "                new_path = os.path.join(dirpath, new_filename)\n",
    "                \n",
    "                # Rename the file\n",
    "                os.rename(old_path, new_path)\n",
    "                print(f'Renamed \"{old_path}\" to \"{new_path}\"')\n",
    "\n",
    "# Example usage\n",
    "root_directory = os.getcwd()  # Get the current working directory\n",
    "rename_files_in_subdirectories(root_directory)\n"
   ]
  },
  {
   "cell_type": "code",
   "execution_count": null,
   "metadata": {},
   "outputs": [],
   "source": [
    "import os\n",
    "import re\n",
    "\n",
    "def update_markdown_files_in_subdirectories(root_directory):\n",
    "    # Regex pattern to match the `[[Pasted image <filename>.png]]` pattern\n",
    "    pattern = re.compile(r'\\[\\[Pasted image (.*?)\\.png\\]\\]')\n",
    "    \n",
    "    # Walk through all directories and subdirectories\n",
    "    for dirpath, dirnames, filenames in os.walk(root_directory):\n",
    "        for filename in filenames:\n",
    "            if filename.endswith(\".md\"):\n",
    "                file_path = os.path.join(dirpath, filename)\n",
    "                # Read the content of the markdown file\n",
    "                with open(file_path, 'r', encoding='utf-8') as file:\n",
    "                    content = file.read()\n",
    "\n",
    "                # Replace the pasted image pattern with the markdown image syntax\n",
    "                new_content = re.sub(pattern, r'![Alt Text](images/\\1.png)', content)\n",
    "\n",
    "                # Write the updated content back to the file\n",
    "                with open(file_path, 'w', encoding='utf-8') as file:\n",
    "                    file.write(new_content)\n",
    "                \n",
    "                print(f'Updated \"{file_path}\"')\n",
    "\n",
    "# Example usage\n",
    "root_directory = os.getcwd()  # Get the current working directory\n",
    "update_markdown_files_in_subdirectories(root_directory)\n"
   ]
  },
  {
   "cell_type": "code",
   "execution_count": 8,
   "metadata": {},
   "outputs": [
    {
     "name": "stdout",
     "output_type": "stream",
     "text": [
      "Downloaded: categories-and-tags.png\n",
      "Downloaded: categories-debuggers.png\n",
      "Downloaded: disable-auto-update-all-extensions.png\n",
      "Downloaded: disable-extension.png\n",
      "Downloaded: enable-extension.png\n",
      "Downloaded: extension-contributions.png\n",
      "Downloaded: extension-identifier.png\n",
      "Downloaded: extension-pack.png\n",
      "Downloaded: extension-search-categories.png\n",
      "Downloaded: extension-search-filters.png\n",
      "Downloaded: extensions-popular.png\n",
      "Downloaded: extensions-python.png\n",
      "Downloaded: extensions-view-filter-menu.png\n",
      "Downloaded: extensions-view-icon.png\n",
      "Downloaded: ignore-recommendation.png\n",
      "Downloaded: manage-button.png\n",
      "Downloaded: marketplace-categories.png\n",
      "Downloaded: marketplace.png\n",
      "Downloaded: more-button.png\n",
      "Downloaded: recommendations.png\n",
      "Downloaded: search-for-bracket-extension.png\n",
      "Downloaded: search-for-todo-extension.png\n",
      "Downloaded: settings-sync-extensions.png\n",
      "Downloaded: sort-install-count.png\n",
      "Downloaded: todo-highlight-commands.png\n",
      "Downloaded: todo-highlight-details.png\n",
      "Downloaded: todo-highlight-settings.png\n",
      "Downloaded: todo-highlight-uninstall.png\n",
      "Downloaded: todo-highlighting.png\n",
      "Downloaded: uninstall-extension.png\n"
     ]
    }
   ],
   "source": [
    "import os\n",
    "import requests\n",
    "\n",
    "# Base URL\n",
    "base_url = \"https://raw.githubusercontent.com/microsoft/vscode-docs/main/docs/editor/images/\"\n",
    "\n",
    "# List of file paths to download\n",
    "file_paths = [\n",
    "    \"extension-marketplace/categories-and-tags.png\",\n",
    "    \"extension-marketplace/categories-debuggers.png\",\n",
    "    \"extension-marketplace/disable-auto-update-all-extensions.png\",\n",
    "    \"extension-marketplace/disable-extension.png\",\n",
    "    \"extension-marketplace/enable-extension.png\",\n",
    "    \"extension-marketplace/extension-contributions.png\",\n",
    "    \"extension-marketplace/extension-identifier.png\",\n",
    "    \"extension-marketplace/extension-pack.png\",\n",
    "    \"extension-marketplace/extension-search-categories.png\",\n",
    "    \"extension-marketplace/extension-search-filters.png\",\n",
    "    \"extension-marketplace/extensions-popular.png\",\n",
    "    \"extension-marketplace/extensions-python.png\",\n",
    "    \"extension-marketplace/extensions-view-filter-menu.png\",\n",
    "    \"extension-marketplace/extensions-view-icon.png\",\n",
    "    \"extension-marketplace/ignore-recommendation.png\",\n",
    "    \"extension-marketplace/manage-button.png\",\n",
    "    \"extension-marketplace/marketplace-categories.png\",\n",
    "    \"extension-marketplace/marketplace.png\",\n",
    "    \"extension-marketplace/more-button.png\",\n",
    "    \"extension-marketplace/recommendations.png\",\n",
    "    \"extension-marketplace/search-for-bracket-extension.png\",\n",
    "    \"extension-marketplace/search-for-todo-extension.png\",\n",
    "    \"extension-marketplace/settings-sync-extensions.png\",\n",
    "    \"extension-marketplace/sort-install-count.png\",\n",
    "    \"extension-marketplace/todo-highlight-commands.png\",\n",
    "    \"extension-marketplace/todo-highlight-details.png\",\n",
    "    \"extension-marketplace/todo-highlight-settings.png\",\n",
    "    \"extension-marketplace/todo-highlight-uninstall.png\",\n",
    "    \"extension-marketplace/todo-highlighting.png\",\n",
    "    \"extension-marketplace/uninstall-extension.png\"\n",
    "]\n",
    "\n",
    "# Directory to save the downloaded images\n",
    "save_directory = \"downloaded_images\"\n",
    "\n",
    "# Create the directory if it doesn't exist\n",
    "if not os.path.exists(save_directory):\n",
    "    os.makedirs(save_directory)\n",
    "\n",
    "# Download each file\n",
    "for file_path in file_paths:\n",
    "    full_url = base_url + file_path\n",
    "    file_name = os.path.basename(file_path)\n",
    "    save_path = os.path.join(save_directory, file_name)\n",
    "    \n",
    "    try:\n",
    "        response = requests.get(full_url)\n",
    "        response.raise_for_status()  # Check for HTTP errors\n",
    "        \n",
    "        # Write the file content to a local file\n",
    "        with open(save_path, 'wb') as file:\n",
    "            file.write(response.content)\n",
    "        \n",
    "        print(f\"Downloaded: {file_name}\")\n",
    "    \n",
    "    except requests.exceptions.HTTPError as http_err:\n",
    "        print(f\"HTTP error occurred while downloading {file_name}: {http_err}\")\n",
    "    except Exception as err:\n",
    "        print(f\"An error occurred while downloading {file_name}: {err}\")\n"
   ]
  }
 ],
 "metadata": {
  "kernelspec": {
   "display_name": "Python 3",
   "language": "python",
   "name": "python3"
  },
  "language_info": {
   "codemirror_mode": {
    "name": "ipython",
    "version": 3
   },
   "file_extension": ".py",
   "mimetype": "text/x-python",
   "name": "python",
   "nbconvert_exporter": "python",
   "pygments_lexer": "ipython3",
   "version": "3.11.3"
  }
 },
 "nbformat": 4,
 "nbformat_minor": 2
}
