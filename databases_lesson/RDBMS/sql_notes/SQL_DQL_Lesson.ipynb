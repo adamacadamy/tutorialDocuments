{
 "cells": [
  {
   "cell_type": "markdown",
   "id": "4c3b22fc",
   "metadata": {},
   "source": [
    "# SQL DQL (Data Query Language) - Complete Lesson\n",
    "\n",
    "This lesson provides a detailed introduction to SQL Data Query Language (DQL) using SQLite. DQL focuses on the `SELECT` statement and its associated features for querying and retrieving data from databases.\n",
    "\n",
    "Make sure to run the setup code below to install necessary packages, load the `ipython-sql` extension, and connect to the database."
   ]
  },
  {
   "cell_type": "code",
   "execution_count": null,
   "id": "386c6b42",
   "metadata": {},
   "outputs": [],
   "source": [
    "# Install necessary packages\n",
    "%pip install jupyter ipython-sql\n",
    "\n",
    "# Load the ipython-sql extension\n",
    "%load_ext sql\n",
    "\n",
    "# Connect to the SQLite database\n",
    "%sql sqlite:///dql.db\n",
    "\n",
    "# Configure ipython-sql to use a valid PrettyTable style\n",
    "%config SqlMagic.style = '_DEPRECATED_DEFAULT'"
   ]
  },
  {
   "cell_type": "markdown",
   "id": "2e96f314",
   "metadata": {},
   "source": [
    "## 1. Introduction to DQL\n",
    "DQL (Data Query Language) is a subset of SQL focused on querying and retrieving data. The primary command in DQL is `SELECT`, which is used to extract data from one or more tables based on specific conditions.\n",
    "\n",
    "In this lesson, we will cover the various features and clauses of the `SELECT` statement."
   ]
  },
  {
   "cell_type": "markdown",
   "id": "e2ed70e2",
   "metadata": {},
   "source": [
    "## 2. Basic SELECT Statement\n",
    "The `SELECT` statement is used to query data from a database table.\n",
    "\n",
    "### Syntax:\n",
    "```sql\n",
    "SELECT column1, column2\n",
    "FROM table_name;\n",
    "```\n",
    "\n",
    "### Example:\n",
    "Retrieve all columns from the `employees` table."
   ]
  },
  {
   "cell_type": "code",
   "execution_count": null,
   "id": "8a2b9c85",
   "metadata": {},
   "outputs": [],
   "source": [
    "%%sql\n",
    "SELECT *\n",
    "FROM employees;"
   ]
  },
  {
   "cell_type": "markdown",
   "id": "7cd00b2c",
   "metadata": {},
   "source": [
    "## 3. Using Column Aliases (AS)\n",
    "Column aliases are used to rename columns in the result set for better readability.\n",
    "\n",
    "### Example:\n",
    "Rename the columns in the `employees` table output."
   ]
  },
  {
   "cell_type": "code",
   "execution_count": null,
   "id": "83653a1f",
   "metadata": {},
   "outputs": [],
   "source": [
    "%%sql\n",
    "DROP TABLE IF EXISTS employees;\n",
    "CREATE TABLE employees (\n",
    "    employee_id INTEGER PRIMARY KEY,\n",
    "    first_name TEXT NOT NULL,\n",
    "    last_name TEXT NOT NULL,\n",
    "    hire_date DATE,\n",
    "    salary REAL\n",
    ");\n",
    "SELECT first_name AS 'First Name',\n",
    "       last_name AS 'Last Name',\n",
    "       salary AS 'Annual Salary'\n",
    "FROM employees;"
   ]
  },
  {
   "cell_type": "markdown",
   "id": "963226e7",
   "metadata": {},
   "source": [
    "## 4. Filtering Data with WHERE\n",
    "The `WHERE` clause is used to filter records based on specified conditions.\n",
    "\n",
    "### Example:\n",
    "Retrieve employees with a salary greater than $60,000."
   ]
  },
  {
   "cell_type": "code",
   "execution_count": null,
   "id": "b81685ed",
   "metadata": {},
   "outputs": [],
   "source": [
    "%%sql\n",
    "SELECT *\n",
    "FROM employees\n",
    "WHERE salary > 60000;"
   ]
  },
  {
   "cell_type": "markdown",
   "id": "d7b26cbe",
   "metadata": {},
   "source": [
    "## 5. Sorting Data with ORDER BY\n",
    "The `ORDER BY` clause is used to sort the result set in ascending (`ASC`) or descending (`DESC`) order.\n",
    "\n",
    "### Example:\n",
    "Sort employees by salary in descending order."
   ]
  },
  {
   "cell_type": "code",
   "execution_count": null,
   "id": "be052855",
   "metadata": {},
   "outputs": [],
   "source": [
    "%%sql\n",
    "SELECT first_name, last_name, salary\n",
    "FROM employees\n",
    "ORDER BY salary DESC;"
   ]
  },
  {
   "cell_type": "markdown",
   "id": "50a9fed5",
   "metadata": {},
   "source": [
    "## 6. Using DISTINCT for Unique Values\n",
    "The `DISTINCT` keyword is used to return only unique values.\n",
    "\n",
    "### Example:\n",
    "Retrieve unique department IDs from the `employee_departments` table."
   ]
  },
  {
   "cell_type": "code",
   "execution_count": null,
   "id": "25eb03d3",
   "metadata": {},
   "outputs": [],
   "source": [
    "%%sql\n",
    "SELECT DISTINCT department_id\n",
    "FROM employee_departments;"
   ]
  },
  {
   "cell_type": "markdown",
   "id": "267224d4",
   "metadata": {},
   "source": [
    "## 7. Using LIMIT and OFFSET for Pagination\n",
    "The `LIMIT` clause specifies the maximum number of records to return, and `OFFSET` specifies the number of records to skip.\n",
    "\n",
    "### Example:\n",
    "Retrieve the top 2 highest-paid employees, skipping the first result."
   ]
  },
  {
   "cell_type": "code",
   "execution_count": null,
   "id": "dbc7b212",
   "metadata": {},
   "outputs": [],
   "source": [
    "%%sql\n",
    "SELECT first_name, last_name, salary\n",
    "FROM employees\n",
    "ORDER BY salary DESC\n",
    "LIMIT 2 OFFSET 1;"
   ]
  },
  {
   "cell_type": "markdown",
   "id": "1ccea1f9",
   "metadata": {},
   "source": [
    "## 8. Aggregate Functions (COUNT, SUM, AVG, MIN, MAX)\n",
    "Aggregate functions perform calculations on a set of values and return a single value.\n",
    "\n",
    "### Example:\n",
    "Calculate the total salary and the average salary of all employees."
   ]
  },
  {
   "cell_type": "code",
   "execution_count": null,
   "id": "d98fb4ca",
   "metadata": {},
   "outputs": [],
   "source": [
    "%%sql\n",
    "SELECT SUM(salary) AS 'Total Salary',\n",
    "       AVG(salary) AS 'Average Salary'\n",
    "FROM employees;"
   ]
  },
  {
   "cell_type": "markdown",
   "id": "d0c15e50",
   "metadata": {},
   "source": [
    "## 9. GROUP BY and HAVING Clauses\n",
    "The `GROUP BY` clause groups rows based on a specified column, and the `HAVING` clause filters groups after aggregation.\n",
    "\n",
    "### Example:\n",
    "Count the number of employees in each department."
   ]
  },
  {
   "cell_type": "code",
   "execution_count": null,
   "id": "47292327",
   "metadata": {},
   "outputs": [],
   "source": [
    "%%sql\n",
    "SELECT department_id, COUNT(employee_id) AS 'Employee Count'\n",
    "FROM employee_departments\n",
    "GROUP BY department_id;"
   ]
  },
  {
   "cell_type": "markdown",
   "id": "5b5b961d",
   "metadata": {},
   "source": [
    "## 10. Using Joins in SQL\n",
    "Joins are used to combine rows from two or more tables based on related columns.\n",
    "\n",
    "### Types of Joins:\n",
    "- **INNER JOIN**: Returns only the rows with matching values in both tables.\n",
    "- **LEFT JOIN**: Returns all rows from the left table and matching rows from the right table (or NULL if no match).\n",
    "- **RIGHT JOIN**: Returns all rows from the right table and matching rows from the left table (or NULL if no match).\n",
    "- **FULL OUTER JOIN**: Returns all rows when there is a match in one of the tables.\n",
    "\n",
    "### Example: INNER JOIN\n",
    "Retrieve the first name, last name, and department name of all employees."
   ]
  },
  {
   "cell_type": "code",
   "execution_count": null,
   "id": "bea75011",
   "metadata": {},
   "outputs": [],
   "source": [
    "%%sql\n",
    "SELECT e.first_name, e.last_name, d.department_name\n",
    "FROM employees e\n",
    "INNER JOIN employee_departments ed ON e.employee_id = ed.employee_id\n",
    "INNER JOIN departments d ON ed.department_id = d.department_id;"
   ]
  },
  {
   "cell_type": "markdown",
   "id": "38588e05",
   "metadata": {},
   "source": [
    "### Example: LEFT JOIN\n",
    "Retrieve all employees and their department names, including employees who do not belong to any department."
   ]
  },
  {
   "cell_type": "code",
   "execution_count": null,
   "id": "8d237a5b",
   "metadata": {},
   "outputs": [],
   "source": [
    "%%sql\n",
    "SELECT e.first_name, e.last_name, d.department_name\n",
    "FROM employees e\n",
    "LEFT JOIN employee_departments ed ON e.employee_id = ed.employee_id\n",
    "LEFT JOIN departments d ON ed.department_id = d.department_id;"
   ]
  },
  {
   "cell_type": "markdown",
   "id": "73562f3b",
   "metadata": {},
   "source": [
    "## 11. UNION Operator\n",
    "The `UNION` operator is used to combine the results of two or more `SELECT` statements. It removes duplicate records by default.\n",
    "\n",
    "### Example:\n",
    "Retrieve a list of all first names of employees who either have a salary above $70,000 or were hired after March 1, 2023."
   ]
  },
  {
   "cell_type": "code",
   "execution_count": null,
   "id": "da75096f",
   "metadata": {},
   "outputs": [],
   "source": [
    "%%sql\n",
    "SELECT first_name\n",
    "FROM employees\n",
    "WHERE salary > 70000\n",
    "UNION\n",
    "SELECT first_name\n",
    "FROM employees\n",
    "WHERE hire_date > '2023-03-01';"
   ]
  },
  {
   "cell_type": "markdown",
   "id": "150c610b",
   "metadata": {},
   "source": [
    "## 12. Subqueries and Nested Queries\n",
    "A subquery is a query nested inside another query. It is used to retrieve data that will be used in the main query as a condition.\n",
    "\n",
    "### Example:\n",
    "Retrieve the first name and salary of employees whose salary is above the average salary of all employees."
   ]
  },
  {
   "cell_type": "code",
   "execution_count": null,
   "id": "63d91a00",
   "metadata": {},
   "outputs": [],
   "source": [
    "%%sql\n",
    "SELECT first_name, salary\n",
    "FROM employees\n",
    "WHERE salary > (SELECT AVG(salary) FROM employees);"
   ]
  },
  {
   "cell_type": "markdown",
   "id": "5078c4bd",
   "metadata": {},
   "source": [
    "## 13. Using CASE for Conditional Expressions\n",
    "The `CASE` statement is used to create conditional logic in SQL queries, similar to if-else statements in programming.\n",
    "\n",
    "### Example:\n",
    "Classify employees based on their salary levels."
   ]
  },
  {
   "cell_type": "code",
   "execution_count": null,
   "id": "55ed0703",
   "metadata": {},
   "outputs": [],
   "source": [
    "%%sql\n",
    "SELECT first_name, last_name,\n",
    "       CASE\n",
    "           WHEN salary >= 80000 THEN 'High Salary'\n",
    "           WHEN salary BETWEEN 50000 AND 79999 THEN 'Medium Salary'\n",
    "           ELSE 'Low Salary'\n",
    "       END AS salary_level\n",
    "FROM employees;"
   ]
  },
  {
   "cell_type": "markdown",
   "id": "78dfad19",
   "metadata": {},
   "source": [
    "## 14. Advanced Aggregate Functions\n",
    "Aggregate functions like `COUNT`, `SUM`, `AVG`, `MIN`, and `MAX` are used to perform calculations on a set of values.\n",
    "\n",
    "### Example:\n",
    "Find the minimum, maximum, and average salary of employees."
   ]
  },
  {
   "cell_type": "code",
   "execution_count": null,
   "id": "9b3af3d7",
   "metadata": {},
   "outputs": [],
   "source": [
    "%%sql\n",
    "SELECT MIN(salary) AS 'Minimum Salary',\n",
    "       MAX(salary) AS 'Maximum Salary',\n",
    "       AVG(salary) AS 'Average Salary'\n",
    "FROM employees;"
   ]
  },
  {
   "cell_type": "markdown",
   "id": "5bf2a192",
   "metadata": {},
   "source": [
    "## 15. Summary of DQL Features\n",
    "- The `SELECT` statement is the foundation of DQL, used for querying data from tables.\n",
    "- Joins (`INNER JOIN`, `LEFT JOIN`, etc.) allow combining data from multiple tables.\n",
    "- The `UNION` operator combines results from multiple queries.\n",
    "- Subqueries provide a way to include results from one query within another.\n",
    "- The `CASE` statement enables conditional logic in SQL queries.\n",
    "- Aggregate functions and grouping (`GROUP BY`, `HAVING`) help in summarizing data.\n",
    "\n",
    "Mastering these features will give you a strong ability to retrieve and manipulate data effectively in SQL."
   ]
  }
 ],
 "metadata": {
  "kernelspec": {
   "display_name": "Python 3",
   "language": "python",
   "name": "python3"
  },
  "language_info": {
   "name": "python",
   "version": "3.8"
  }
 },
 "nbformat": 4,
 "nbformat_minor": 5
}
