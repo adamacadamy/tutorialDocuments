{
 "cells": [
  {
   "cell_type": "markdown",
   "id": "a3b8936b",
   "metadata": {},
   "source": [
    "\n",
    "# Python Lesson: Static Methods, Enums, and Decorators\n",
    "\n",
    "This notebook covers three advanced Python concepts:\n",
    "1. **Static Methods**: Utility methods associated with a class but independent of instance or class data.\n",
    "2. **Enums**: A way to define a fixed set of constants.\n",
    "3. **Decorators**: Functions that enhance or modify other functions' behavior dynamically.\n",
    "\n",
    "We'll also explore practical use cases and combine these concepts into a real-world example: **Role-Based Access Control**.\n",
    "    "
   ]
  },
  {
   "cell_type": "markdown",
   "id": "21dcc7e7",
   "metadata": {},
   "source": [
    "\n",
    "## Static Methods\n",
    "\n",
    "### What Are Static Methods?\n",
    "\n",
    "A **static method** belongs to a class but:\n",
    "- Does not have access to the instance (`self`) or class (`cls`).\n",
    "- Is defined with the `@staticmethod` decorator.\n",
    "\n",
    "### Use Case\n",
    "Static methods are useful for utility functions that logically belong to a class but don’t require instance or class context.\n",
    "\n",
    "### Example: A Utility for Validating Data\n",
    "    "
   ]
  },
  {
   "cell_type": "code",
   "execution_count": null,
   "id": "83470e07",
   "metadata": {},
   "outputs": [],
   "source": [
    "\n",
    "class Validator:\n",
    "    @staticmethod\n",
    "    def is_positive(number):\n",
    "        \"\"\"Check if a number is positive\"\"\"\n",
    "        return number > 0\n",
    "\n",
    "# Usage\n",
    "print(Validator.is_positive(10))  # True\n",
    "print(Validator.is_positive(-5))  # False\n",
    "    "
   ]
  },
  {
   "cell_type": "markdown",
   "id": "d7a245da",
   "metadata": {},
   "source": [
    "\n",
    "## Enums\n",
    "\n",
    "### What Are Enums?\n",
    "\n",
    "**Enums** (Enumerations) are a way to define a set of named constants. They:\n",
    "- Improve code readability.\n",
    "- Help avoid \"magic strings\" or numbers.\n",
    "\n",
    "### Use Case\n",
    "Enums are ideal for defining categories like user roles, states, or directions.\n",
    "\n",
    "### Example: Using Enums for User Roles\n",
    "    "
   ]
  },
  {
   "cell_type": "code",
   "execution_count": null,
   "id": "11661ce6",
   "metadata": {},
   "outputs": [],
   "source": [
    "\n",
    "from enum import Enum\n",
    "\n",
    "class Role(Enum):\n",
    "    ADMIN = \"admin\"\n",
    "    USER = \"user\"\n",
    "    GUEST = \"guest\"\n",
    "\n",
    "# Usage\n",
    "print(Role.ADMIN)          # Role.ADMIN\n",
    "print(Role.ADMIN.value)    # \"admin\"\n",
    "\n",
    "# Compare enums\n",
    "if Role.ADMIN == Role.ADMIN:\n",
    "    print(\"Both are admins\")\n",
    "    "
   ]
  },
  {
   "cell_type": "markdown",
   "id": "3b649dda",
   "metadata": {},
   "source": [
    "\n",
    "## Combining Static Methods and Enums\n",
    "\n",
    "Static methods can work with enums to define utility logic for validating or managing enums.\n",
    "\n",
    "### Example: Checking Permissions with Static Methods and Enums\n",
    "    "
   ]
  },
  {
   "cell_type": "code",
   "execution_count": null,
   "id": "ce078e3c",
   "metadata": {},
   "outputs": [],
   "source": [
    "\n",
    "class RoleManager:\n",
    "    @staticmethod\n",
    "    def has_permission(role):\n",
    "        \"\"\"Check if a role has admin-level permissions\"\"\"\n",
    "        return role == Role.ADMIN\n",
    "\n",
    "# Usage\n",
    "print(RoleManager.has_permission(Role.ADMIN))  # True\n",
    "print(RoleManager.has_permission(Role.USER))   # False\n",
    "    "
   ]
  },
  {
   "cell_type": "markdown",
   "id": "6745ee30",
   "metadata": {},
   "source": [
    "\n",
    "## Decorators\n",
    "\n",
    "### What Are Decorators?\n",
    "\n",
    "A **decorator** is a function that:\n",
    "1. Takes another function as input.\n",
    "2. Enhances or modifies its behavior.\n",
    "3. Returns the enhanced function.\n",
    "\n",
    "### Use Case\n",
    "Decorators are useful for:\n",
    "- Logging\n",
    "- Validating input/output\n",
    "- Restricting access (e.g., role-based access control)\n",
    "\n",
    "### Example: A Simple Logging Decorator\n",
    "    "
   ]
  },
  {
   "cell_type": "code",
   "execution_count": 4,
   "id": "3b228eca",
   "metadata": {},
   "outputs": [
    {
     "data": {
      "text/plain": [
       "'fancy: Executing add_with_prefix with args=(5, 7) kwargs={}'"
      ]
     },
     "metadata": {},
     "output_type": "display_data"
    },
    {
     "data": {
      "text/plain": [
       "'fancy: Finished add_with_prefix with result=12'"
      ]
     },
     "metadata": {},
     "output_type": "display_data"
    },
    {
     "data": {
      "text/plain": [
       "12"
      ]
     },
     "execution_count": 4,
     "metadata": {},
     "output_type": "execute_result"
    }
   ],
   "source": [
    "from functools import wraps\n",
    "from typing import Callable \n",
    "\n",
    "# basic decorator\n",
    "def log_execution(func: Callable): # receives the function as argument\n",
    "    \"\"\"Decorator to log function calls\"\"\"\n",
    "    def wrapper(*args, **kwargs):  # the function tha executes the received function `func`\n",
    "        display(f\"Executing {func.__name__} with args={args} kwargs={kwargs}\")\n",
    "        result = func(*args, **kwargs)\n",
    "        display(f\"Finished {func.__name__} with result={result}\")\n",
    "        return result\n",
    "    return wrapper\n",
    "\n",
    "# advanced decorator\n",
    "def log_execute_with_prefix(prefix: str): # receives the argument\n",
    "    def decorator(func: Callable):# receives the function as argument\n",
    "        @wraps(func) # tells the wrapper function where to inject the *args, **kwargs  from in our case it takes it from the above func argument\n",
    "        def wrapper(*args, **kwargs):  # the function tha executes the received function `func`\n",
    "            display(f\"{prefix}: Executing {func.__name__} with args={args} kwargs={kwargs}\")\n",
    "            result = func(*args, **kwargs)\n",
    "            display(f\"{prefix}: Finished {func.__name__} with result={result}\")\n",
    "            return result\n",
    "        return wrapper\n",
    "    return decorator\n",
    "\n",
    "@log_execution\n",
    "def add(a, b):\n",
    "    return a + b\n",
    "\n",
    "\n",
    "@log_execute_with_prefix(\"fancy\")\n",
    "def add_with_prefix(a, b):\n",
    "    return a + b\n",
    "# Usage\n",
    "# add(5, 7)\n",
    "\n",
    "\n",
    "\"\"\" \n",
    "@log_execute_with_prefix(\"fancy\") => log_execute_with_prefix(prefix=\"fancy\") and inject add_with_prefix(5, 7) to decorator = decorator(add_with_prefix(5, 7))\n",
    "\n",
    "\"\"\"\n",
    "\n",
    "add_with_prefix(5, 7)"
   ]
  },
  {
   "cell_type": "markdown",
   "id": "d2614a3d",
   "metadata": {},
   "source": [
    "\n",
    "## Advanced Decorator Examples\n",
    "\n",
    "### Why Use Decorators?\n",
    "\n",
    "Decorators abstract repetitive tasks, dynamically enhance functions, and keep your code clean. Here are some advanced examples:\n",
    "1. **Timing Decorator**: Measure execution time.\n",
    "2. **Caching Decorator**: Cache expensive computations.\n",
    "3. **Retry Decorator**: Retry a function on failure.\n",
    "4. **Authorization Decorator**: Restrict access based on roles.\n",
    "5. **Validation Decorator**: Validate function parameters.\n",
    "6. **Debugging Decorator**: Log function calls and results.\n",
    "    "
   ]
  },
  {
   "cell_type": "code",
   "execution_count": 7,
   "id": "fd1fb3f2",
   "metadata": {},
   "outputs": [
    {
     "name": "stdout",
     "output_type": "stream",
     "text": [
      "Execution time for slow_function_with_units: 2000.1242 ms\n"
     ]
    },
    {
     "data": {
      "text/plain": [
       "'Finished slow function!'"
      ]
     },
     "execution_count": 7,
     "metadata": {},
     "output_type": "execute_result"
    }
   ],
   "source": [
    "\n",
    "import time\n",
    "from functools import wraps\n",
    "from typing import Callable\n",
    "\n",
    "# basic\n",
    "def timing_decorator(func): # receives the function as argument\n",
    "    \"\"\"Decorator to measure the execution time of a function\"\"\"\n",
    "    def wrapper(*args, **kwargs): # the function tha executes the received function `func`\n",
    "        start_time = time.time()\n",
    "        result = func(*args, **kwargs)\n",
    "        end_time = time.time()\n",
    "        print(f\"Execution time for {func.__name__}: {end_time - start_time:.4f} seconds\")\n",
    "        return result\n",
    "    return wrapper\n",
    "\n",
    "# advanced\n",
    "def timing_decorator_with_unit(unit=\"seconds\"): # receives the argument\n",
    "    def decorator(func: Callable): # receives the function as argument\n",
    "        @wraps(func) # tells the wrapper function where to inject the *args, **kwargs  from in our case it takes it from the above func argument\n",
    "        def wrapper(*args, **kwargs): # the function tha executes the received function `func`\n",
    "            start_time = time.time()\n",
    "            result = func(*args, **kwargs)\n",
    "            end_time = time.time()\n",
    "            elapsed_time = end_time - start_time\n",
    "            \n",
    "            if unit == \"milliseconds\":\n",
    "                # elapsed_time = elapsed_time * 1000\n",
    "                elapsed_time *= 1000\n",
    "                print(f\"Execution time for {func.__name__}: {elapsed_time:.4f} ms\")\n",
    "            else:\n",
    "                print(f\"Execution time for {func.__name__}: {elapsed_time:.4f} seconds\")\n",
    "            \n",
    "            return result\n",
    "        return wrapper\n",
    "    return decorator\n",
    "\n",
    "\n",
    "@timing_decorator\n",
    "def slow_function():\n",
    "    \"\"\"Simulates a slow function by sleeping for 2 seconds\"\"\"\n",
    "    time.sleep(2)\n",
    "    return \"Finished slow function!\"\n",
    "\n",
    "\n",
    "@timing_decorator_with_unit(unit=\"milliseconds\")\n",
    "def slow_function_with_units():\n",
    "    \"\"\"Simulates a slow function by sleeping for 2 seconds\"\"\"\n",
    "    time.sleep(2)\n",
    "    return \"Finished slow function!\"\n",
    "\n",
    "# Usage\n",
    "slow_function_with_units()\n",
    "    "
   ]
  },
  {
   "cell_type": "code",
   "execution_count": 8,
   "id": "cb356703",
   "metadata": {},
   "outputs": [
    {
     "name": "stdout",
     "output_type": "stream",
     "text": [
      "Cache miss for (2, 3)\n",
      "5\n",
      "Cache hit for (2, 3)\n",
      "5\n",
      "Cache miss for (5, 7)\n",
      "12\n",
      "Cache miss for (8, 1)\n",
      "Cache limit exceeded. Removing oldest entry: (2, 3)\n",
      "9\n"
     ]
    }
   ],
   "source": [
    "\n",
    "import time\n",
    "from functools import wraps\n",
    "from typing import Callable \n",
    "\n",
    "cache = {}\n",
    "# basic\n",
    "def cache_decorator(func): # receives the function as argument\n",
    "    \"\"\"Decorator to cache the results of function calls\"\"\" \n",
    "    def wrapper(*args): # the function tha executes the received function `func`\n",
    "        if args in cache:\n",
    "            print(f\"Cache hit for {args}\")\n",
    "            return cache[args]\n",
    "        print(f\"Cache miss for {args}\")\n",
    "        result = func(*args)\n",
    "        cache[args] = result\n",
    "        return result\n",
    "    return wrapper\n",
    "\n",
    "# advanced\n",
    "def cache_decorator_with_limit(limit=None): # receives the argument\n",
    "    def decorator(func: Callable): # receives the function as argument\n",
    "        @wraps(func) # tells the wrapper function where to inject the *args, **kwargs  from in our case it takes it from the above func argument\n",
    "        def wrapper(*args, **kwargs): # the function tha executes the received function `func`\n",
    "            if args in cache:\n",
    "                print(f\"Cache hit for {args}\")\n",
    "                return cache[args]\n",
    "            \n",
    "            print(f\"Cache miss for {args}\")\n",
    "           \n",
    "            result = func(*args)\n",
    "            cache[args] = result\n",
    "            \n",
    "            if limit and len(cache) > limit:\n",
    "                \"\"\" \n",
    "                \n",
    "                next: goes to the keys of the dict one by one\n",
    "                iter: loops over list\n",
    "                {\n",
    "                    \"1\": \"Afdasdfa\",\n",
    "                    \"2\": \"afdasdfA\",\n",
    "                    \"3\": \"afsdasfdas\n",
    "                }\n",
    "                keys = [\"1\", \"2\", \"3\"]\n",
    "                \n",
    "                next(keys) = \"1\" , [\"2\", \"3\"]\n",
    "                next(keys) = \"2\", [\"3\"]\n",
    "                next(keys) = \"3\" \n",
    "                \n",
    "                last_key = next(iter(keys)) = \"3\"\n",
    "                    first loop\n",
    "                        next(keys) = \"1\" , [\"2\", \"3\"]\n",
    "                        last_key = \"1\"\n",
    "                    second loop\n",
    "                        next(keys) = \"2\", [\"3\"]\n",
    "                        last_key = \"2\"\n",
    "                    third loop\n",
    "                        next(keys) = \"3\" \n",
    "                        last_key = \"3\"\n",
    "                    ፨  last_key = \"3\"\n",
    "                \n",
    "                \"\"\"\n",
    "                oldest_key = next(iter(cache))\n",
    "                print(f\"Cache limit exceeded. Removing oldest entry: {oldest_key}\")\n",
    "            \n",
    "                del cache[oldest_key]\n",
    "            \n",
    "            return result\n",
    "            \n",
    "        return wrapper\n",
    "    return decorator\n",
    "\n",
    "@cache_decorator\n",
    "def add(a, b):\n",
    "    \"\"\"Add two numbers\"\"\"\n",
    "    return a + b\n",
    "\n",
    "@cache_decorator_with_limit(limit=2)\n",
    "def add_with_limit_cache(a, b):\n",
    "    \"\"\"Add two numbers\"\"\"\n",
    "    return a + b\n",
    "\n",
    "\n",
    "# # Usage\n",
    "# print(add(2, 3))  # Cache miss, result is calculated\n",
    "# print(add(2, 3))  # Cache hit, result is retrieved from cache\n",
    "# print(add(5, 7))  # Cache miss\n",
    "\n",
    "\n",
    "# Usage\n",
    "print(add_with_limit_cache(2, 3))  # Cache miss\n",
    "print(add_with_limit_cache(2, 3))  # Cache hit\n",
    "print(add_with_limit_cache(5, 7))  # Cache miss\n",
    "print(add_with_limit_cache(8, 1))  # Cache miss, and the oldest cache (2, 3) will be removed\n",
    "    "
   ]
  },
  {
   "cell_type": "markdown",
   "id": "16e8040c",
   "metadata": {},
   "source": [
    "\n",
    "## Summary\n",
    "\n",
    "### What You Learned\n",
    "1. **Static Methods**:\n",
    "   - Use for utility functions not dependent on instance or class data.\n",
    "\n",
    "2. **Enums**:\n",
    "   - Use to define a fixed set of related constants, improving readability.\n",
    "\n",
    "3. **Decorators**:\n",
    "   - Use to dynamically enhance or modify the behavior of functions.\n",
    "\n",
    "### Advanced Topics Covered\n",
    "- Timing, caching, retry, validation, and debugging decorators.\n",
    "- Role-based access control combining enums, static methods, and decorators.\n",
    "\n",
    "### Next Steps\n",
    "- Experiment with creating your own decorators.\n",
    "- Combine multiple decorators for advanced functionality.\n",
    "    "
   ]
  }
 ],
 "metadata": {
  "kernelspec": {
   "display_name": "Python 3",
   "language": "python",
   "name": "python3"
  },
  "language_info": {
   "codemirror_mode": {
    "name": "ipython",
    "version": 3
   },
   "file_extension": ".py",
   "mimetype": "text/x-python",
   "name": "python",
   "nbconvert_exporter": "python",
   "pygments_lexer": "ipython3",
   "version": "3.11.2"
  }
 },
 "nbformat": 4,
 "nbformat_minor": 5
}
