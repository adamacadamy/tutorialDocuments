{
 "cells": [
  {
   "cell_type": "code",
   "execution_count": 2,
   "metadata": {},
   "outputs": [
    {
     "name": "stdout",
     "output_type": "stream",
     "text": [
      "Defaulting to user installation because normal site-packages is not writeable\n",
      "Requirement already satisfied: requests in /home/adam/.local/lib/python3.11/site-packages (2.32.3)\n",
      "Requirement already satisfied: charset-normalizer<4,>=2 in /home/adam/.local/lib/python3.11/site-packages (from requests) (3.4.0)\n",
      "Requirement already satisfied: idna<4,>=2.5 in /home/adam/.local/lib/python3.11/site-packages (from requests) (3.10)\n",
      "Requirement already satisfied: urllib3<3,>=1.21.1 in /home/adam/.local/lib/python3.11/site-packages (from requests) (2.2.3)\n",
      "Requirement already satisfied: certifi>=2017.4.17 in /home/adam/.local/lib/python3.11/site-packages (from requests) (2024.12.14)\n"
     ]
    }
   ],
   "source": [
    "!pip install requests  --break-system-packages"
   ]
  },
  {
   "cell_type": "code",
   "execution_count": 6,
   "metadata": {},
   "outputs": [],
   "source": [
    "\n",
    "BASE_URL = \"http://localhost:5000/api/messages\"\n"
   ]
  },
  {
   "cell_type": "code",
   "execution_count": null,
   "metadata": {},
   "outputs": [
    {
     "data": {
      "text/plain": [
       "{'data': {'content': 'I am learning flask orm', 'id': 1},\n",
       " 'message': 'Message created'}"
      ]
     },
     "metadata": {},
     "output_type": "display_data"
    }
   ],
   "source": [
    "import requests\n",
    " \n",
    "\n",
    "payload = {\"content\": \"I am learning flask orm\"}\n",
    "\n",
    "response = requests.post(url=BASE_URL, json=payload)\n",
    "\n",
    "status_code = response.status_code\n",
    "\n",
    "if status_code in [200, 201]:\n",
    "    display(response.json())"
   ]
  },
  {
   "cell_type": "code",
   "execution_count": 5,
   "metadata": {},
   "outputs": [
    {
     "data": {
      "text/plain": [
       "[{'content': 'I am learning flask orm', 'id': 1}]"
      ]
     },
     "metadata": {},
     "output_type": "display_data"
    }
   ],
   "source": [
    "import requests \n",
    "response = requests.get(url=BASE_URL)\n",
    "\n",
    "status_code = response.status_code\n",
    "\n",
    "if status_code in [200, 201]:\n",
    "    display(response.json())"
   ]
  },
  {
   "cell_type": "code",
   "execution_count": 7,
   "metadata": {},
   "outputs": [
    {
     "data": {
      "text/plain": [
       "{'data': {'content': 'I am learning flask orm and it is fun', 'id': 1},\n",
       " 'message': 'Message updated'}"
      ]
     },
     "metadata": {},
     "output_type": "display_data"
    }
   ],
   "source": [
    "import requests\n",
    "\n",
    "put_url = f\"{BASE_URL}/1\"\n",
    "\n",
    "payload = {\"content\": \"I am learning flask orm and it is fun\"}\n",
    "\n",
    "response = requests.put(url=put_url, json=payload)\n",
    "\n",
    "status_code = response.status_code\n",
    "\n",
    "if status_code in [200, 201]:\n",
    "    display(response.json())"
   ]
  },
  {
   "cell_type": "code",
   "execution_count": 8,
   "metadata": {},
   "outputs": [
    {
     "data": {
      "text/plain": [
       "{'message': 'Message with id 1 deleted'}"
      ]
     },
     "metadata": {},
     "output_type": "display_data"
    }
   ],
   "source": [
    "\n",
    "delete_url = f\"{BASE_URL}/1\"\n",
    "\n",
    "\n",
    "response = requests.delete(url=delete_url)\n",
    "\n",
    "status_code = response.status_code\n",
    "\n",
    "if status_code in [200, 201]:\n",
    "    display(response.json())"
   ]
  },
  {
   "cell_type": "code",
   "execution_count": 9,
   "metadata": {},
   "outputs": [],
   "source": [
    "BASE_URL = \"http://localhost:5000/messages\""
   ]
  },
  {
   "cell_type": "code",
   "execution_count": 12,
   "metadata": {},
   "outputs": [
    {
     "data": {
      "text/plain": [
       "{'message': 'Message created',\n",
       " 'data': {'id': 1, 'content': 'I love restx....'}}"
      ]
     },
     "metadata": {},
     "output_type": "display_data"
    }
   ],
   "source": [
    "payload = {\"content\": \"I love restx....\"}\n",
    "\n",
    "response = requests.post(url=BASE_URL, json=payload)\n",
    "\n",
    "status_code = response.status_code\n",
    "\n",
    "if status_code in [200, 201]:\n",
    "    display(response.json())"
   ]
  },
  {
   "cell_type": "code",
   "execution_count": 13,
   "metadata": {},
   "outputs": [
    {
     "data": {
      "text/plain": [
       "[{'id': 1, 'content': 'I love restx....'}]"
      ]
     },
     "metadata": {},
     "output_type": "display_data"
    }
   ],
   "source": [
    "response = requests.get(url=BASE_URL)\n",
    "\n",
    "status_code = response.status_code\n",
    "\n",
    "if status_code in [200, 201]:\n",
    "    display(response.json())"
   ]
  },
  {
   "cell_type": "code",
   "execution_count": 14,
   "metadata": {},
   "outputs": [
    {
     "data": {
      "text/plain": [
       "{'id': 1, 'content': 'I love restx....'}"
      ]
     },
     "metadata": {},
     "output_type": "display_data"
    }
   ],
   "source": [
    "get_message_by_id_url = f\"{BASE_URL}/1\"\n",
    "\n",
    "response = requests.get(url=get_message_by_id_url)\n",
    "\n",
    "status_code = response.status_code\n",
    "\n",
    "if status_code in [200, 201]:\n",
    "    display(response.json())"
   ]
  },
  {
   "cell_type": "code",
   "execution_count": 15,
   "metadata": {},
   "outputs": [
    {
     "data": {
      "text/plain": [
       "{'message': 'Message updated',\n",
       " 'data': {'id': 1, 'content': 'I love restx and Awet is enjoying it'}}"
      ]
     },
     "metadata": {},
     "output_type": "display_data"
    }
   ],
   "source": [
    "update_message_by_id_url = f\"{BASE_URL}/1\"\n",
    "\n",
    "payload = {\"content\": \"I love restx and Awet is enjoying it\"}\n",
    "\n",
    "response = requests.put(url=update_message_by_id_url, json=payload)\n",
    "\n",
    "\n",
    "status_code = response.status_code\n",
    "\n",
    "if status_code in [200, 201]:\n",
    "    display(response.json())"
   ]
  },
  {
   "cell_type": "code",
   "execution_count": 16,
   "metadata": {},
   "outputs": [
    {
     "data": {
      "text/plain": [
       "{'message': 'Message with id 1 deleted'}"
      ]
     },
     "metadata": {},
     "output_type": "display_data"
    }
   ],
   "source": [
    "delete_message_by_id_url = f\"{BASE_URL}/1\"\n",
    "\n",
    "response = requests.delete(url=update_message_by_id_url,)\n",
    "\n",
    "status_code = response.status_code\n",
    "\n",
    "if status_code in [200, 201]:\n",
    "    display(response.json())"
   ]
  },
  {
   "cell_type": "code",
   "execution_count": 4,
   "metadata": {},
   "outputs": [
    {
     "data": {
      "text/plain": [
       "{'id': 1, 'message': 'Hello, World'}"
      ]
     },
     "metadata": {},
     "output_type": "display_data"
    },
    {
     "data": {
      "text/plain": [
       "201"
      ]
     },
     "metadata": {},
     "output_type": "display_data"
    },
    {
     "data": {
      "text/plain": [
       "\"Success (POST http://localhost:4000/todomessage/todos): {'message': 'created'}\""
      ]
     },
     "metadata": {},
     "output_type": "display_data"
    }
   ],
   "source": []
  }
 ],
 "metadata": {
  "kernelspec": {
   "display_name": "Python 3",
   "language": "python",
   "name": "python3"
  },
  "language_info": {
   "codemirror_mode": {
    "name": "ipython",
    "version": 3
   },
   "file_extension": ".py",
   "mimetype": "text/x-python",
   "name": "python",
   "nbconvert_exporter": "python",
   "pygments_lexer": "ipython3",
   "version": "3.11.2"
  }
 },
 "nbformat": 4,
 "nbformat_minor": 2
}
