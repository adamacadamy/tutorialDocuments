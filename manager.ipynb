{
 "cells": [
  {
   "cell_type": "code",
   "execution_count": null,
   "metadata": {},
   "outputs": [],
   "source": [
    "import os\n",
    "\n",
    "def rename_files_in_subdirectories(root_directory):\n",
    "    # Walk through all directories and subdirectories\n",
    "    for dirpath, dirnames, filenames in os.walk(root_directory):\n",
    "        for filename in filenames:\n",
    "            if filename.startswith(\"Pasted image \"):\n",
    "                # Remove \"Pasted image \" from the filename\n",
    "                new_filename = filename.replace(\"Pasted image \", \"\", 1)\n",
    "                \n",
    "                # Construct full old and new file paths\n",
    "                old_path = os.path.join(dirpath, filename)\n",
    "                new_path = os.path.join(dirpath, new_filename)\n",
    "                \n",
    "                # Rename the file\n",
    "                os.rename(old_path, new_path)\n",
    "                print(f'Renamed \"{old_path}\" to \"{new_path}\"')\n",
    "\n",
    "# Example usage\n",
    "root_directory = os.getcwd()  # Get the current working directory\n",
    "rename_files_in_subdirectories(root_directory)\n"
   ]
  },
  {
   "cell_type": "code",
   "execution_count": 1,
   "metadata": {},
   "outputs": [
    {
     "name": "stdout",
     "output_type": "stream",
     "text": [
      "Updated \"/opt/adamAcadamy/tutorialDocuments/README.md\"\n",
      "Updated \"/opt/adamAcadamy/tutorialDocuments/git/git_basic_commands.md\"\n",
      "Updated \"/opt/adamAcadamy/tutorialDocuments/vscode_lessons/user_interface.md\"\n",
      "Updated \"/opt/adamAcadamy/tutorialDocuments/miscellaneous_lessons/keyboard/US QWERTY keyboard layout.md\"\n",
      "Updated \"/opt/adamAcadamy/tutorialDocuments/miscellaneous_lessons/keyboard/Swedish and Norwegian QWERTY keyboard layout.md\"\n",
      "Updated \"/opt/adamAcadamy/tutorialDocuments/miscellaneous_lessons/keyboard/Italian QWERTY keyboard layout.md\"\n",
      "Updated \"/opt/adamAcadamy/tutorialDocuments/miscellaneous_lessons/keyboard/French AZERTY keyboard layout.md\"\n",
      "Updated \"/opt/adamAcadamy/tutorialDocuments/miscellaneous_lessons/keyboard/German QWERTZ keyboard layout.md\"\n",
      "Updated \"/opt/adamAcadamy/tutorialDocuments/miscellaneous_lessons/keyboard/UK QWERTY keyboard layout.md\"\n",
      "Updated \"/opt/adamAcadamy/tutorialDocuments/miscellaneous_lessons/keyboard/Dutch (Netherlands) QWERTY.md\"\n",
      "Updated \"/opt/adamAcadamy/tutorialDocuments/miscellaneous_lessons/keyboard/Danish QWERTY keyboard layout.md\"\n",
      "Updated \"/opt/adamAcadamy/tutorialDocuments/miscellaneous_lessons/file_system/Windows File System, CMD and VSCode.md\"\n"
     ]
    }
   ],
   "source": [
    "import os\n",
    "import re\n",
    "\n",
    "def update_markdown_files_in_subdirectories(root_directory):\n",
    "    # Regex pattern to match the `[[Pasted image <filename>.png]]` pattern\n",
    "    pattern = re.compile(r'\\[\\[Pasted image (.*?)\\.png\\]\\]')\n",
    "    \n",
    "    # Walk through all directories and subdirectories\n",
    "    for dirpath, dirnames, filenames in os.walk(root_directory):\n",
    "        for filename in filenames:\n",
    "            if filename.endswith(\".md\"):\n",
    "                file_path = os.path.join(dirpath, filename)\n",
    "                # Read the content of the markdown file\n",
    "                with open(file_path, 'r', encoding='utf-8') as file:\n",
    "                    content = file.read()\n",
    "\n",
    "                # Replace the pasted image pattern with the markdown image syntax\n",
    "                new_content = re.sub(pattern, r'![Alt Text](images/\\1.png)', content)\n",
    "\n",
    "                # Write the updated content back to the file\n",
    "                with open(file_path, 'w', encoding='utf-8') as file:\n",
    "                    file.write(new_content)\n",
    "                \n",
    "                print(f'Updated \"{file_path}\"')\n",
    "\n",
    "# Example usage\n",
    "root_directory = os.getcwd()  # Get the current working directory\n",
    "update_markdown_files_in_subdirectories(root_directory)\n"
   ]
  }
 ],
 "metadata": {
  "kernelspec": {
   "display_name": "Python 3",
   "language": "python",
   "name": "python3"
  },
  "language_info": {
   "codemirror_mode": {
    "name": "ipython",
    "version": 3
   },
   "file_extension": ".py",
   "mimetype": "text/x-python",
   "name": "python",
   "nbconvert_exporter": "python",
   "pygments_lexer": "ipython3",
   "version": "3.10.12"
  }
 },
 "nbformat": 4,
 "nbformat_minor": 2
}
