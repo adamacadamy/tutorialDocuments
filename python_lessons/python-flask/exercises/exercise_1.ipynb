{
 "cells": [
  {
   "cell_type": "markdown",
   "id": "cad23c8c",
   "metadata": {},
   "source": [
    "# **Exercises: Interacting with REST APIs Using Python**"
   ]
  },
  {
   "cell_type": "code",
   "execution_count": 3,
   "id": "286fdcf2",
   "metadata": {},
   "outputs": [
    {
     "name": "stdout",
     "output_type": "stream",
     "text": [
      "Requirement already satisfied: requests in c:\\users\\amanu\\appdata\\local\\programs\\python\\python313\\lib\\site-packages (2.32.3)\n",
      "Requirement already satisfied: charset-normalizer<4,>=2 in c:\\users\\amanu\\appdata\\local\\programs\\python\\python313\\lib\\site-packages (from requests) (3.4.0)\n",
      "Requirement already satisfied: idna<4,>=2.5 in c:\\users\\amanu\\appdata\\local\\programs\\python\\python313\\lib\\site-packages (from requests) (3.10)\n",
      "Requirement already satisfied: urllib3<3,>=1.21.1 in c:\\users\\amanu\\appdata\\local\\programs\\python\\python313\\lib\\site-packages (from requests) (2.2.3)\n",
      "Requirement already satisfied: certifi>=2017.4.17 in c:\\users\\amanu\\appdata\\local\\programs\\python\\python313\\lib\\site-packages (from requests) (2024.8.30)\n",
      "Note: you may need to restart the kernel to use updated packages.\n"
     ]
    },
    {
     "name": "stderr",
     "output_type": "stream",
     "text": [
      "\n",
      "[notice] A new release of pip is available: 24.2 -> 24.3.1\n",
      "[notice] To update, run: python.exe -m pip install --upgrade pip\n"
     ]
    }
   ],
   "source": [
    "%pip install requests"
   ]
  },
  {
   "cell_type": "markdown",
   "id": "69b681d0",
   "metadata": {},
   "source": []
  },
  {
   "cell_type": "markdown",
   "id": "fdc3d062",
   "metadata": {},
   "source": [
    "### **Exercise 1: Fetch Data**\n",
    "1. Use the **JSONPlaceholder API** to fetch a list of posts.\n",
    "- API Endpoint: `https://jsonplaceholder.typicode.com/posts`\n",
    "- Print the titles of the first 10 posts."
   ]
  },
  {
   "cell_type": "code",
   "execution_count": 5,
   "id": "f40eda86",
   "metadata": {},
   "outputs": [
    {
     "data": {
      "text/plain": [
       "{'userId': 1,\n",
       " 'id': 1,\n",
       " 'title': 'sunt aut facere repellat provident occaecati excepturi optio reprehenderit',\n",
       " 'body': 'quia et suscipit\\nsuscipit recusandae consequuntur expedita et cum\\nreprehenderit molestiae ut ut quas totam\\nnostrum rerum est autem sunt rem eveniet architecto'}"
      ]
     },
     "metadata": {},
     "output_type": "display_data"
    },
    {
     "data": {
      "text/plain": [
       "{'userId': 1,\n",
       " 'id': 2,\n",
       " 'title': 'qui est esse',\n",
       " 'body': 'est rerum tempore vitae\\nsequi sint nihil reprehenderit dolor beatae ea dolores neque\\nfugiat blanditiis voluptate porro vel nihil molestiae ut reiciendis\\nqui aperiam non debitis possimus qui neque nisi nulla'}"
      ]
     },
     "metadata": {},
     "output_type": "display_data"
    },
    {
     "data": {
      "text/plain": [
       "{'userId': 1,\n",
       " 'id': 3,\n",
       " 'title': 'ea molestias quasi exercitationem repellat qui ipsa sit aut',\n",
       " 'body': 'et iusto sed quo iure\\nvoluptatem occaecati omnis eligendi aut ad\\nvoluptatem doloribus vel accusantium quis pariatur\\nmolestiae porro eius odio et labore et velit aut'}"
      ]
     },
     "metadata": {},
     "output_type": "display_data"
    },
    {
     "data": {
      "text/plain": [
       "{'userId': 1,\n",
       " 'id': 4,\n",
       " 'title': 'eum et est occaecati',\n",
       " 'body': 'ullam et saepe reiciendis voluptatem adipisci\\nsit amet autem assumenda provident rerum culpa\\nquis hic commodi nesciunt rem tenetur doloremque ipsam iure\\nquis sunt voluptatem rerum illo velit'}"
      ]
     },
     "metadata": {},
     "output_type": "display_data"
    },
    {
     "data": {
      "text/plain": [
       "{'userId': 1,\n",
       " 'id': 5,\n",
       " 'title': 'nesciunt quas odio',\n",
       " 'body': 'repudiandae veniam quaerat sunt sed\\nalias aut fugiat sit autem sed est\\nvoluptatem omnis possimus esse voluptatibus quis\\nest aut tenetur dolor neque'}"
      ]
     },
     "metadata": {},
     "output_type": "display_data"
    },
    {
     "data": {
      "text/plain": [
       "{'userId': 1,\n",
       " 'id': 6,\n",
       " 'title': 'dolorem eum magni eos aperiam quia',\n",
       " 'body': 'ut aspernatur corporis harum nihil quis provident sequi\\nmollitia nobis aliquid molestiae\\nperspiciatis et ea nemo ab reprehenderit accusantium quas\\nvoluptate dolores velit et doloremque molestiae'}"
      ]
     },
     "metadata": {},
     "output_type": "display_data"
    },
    {
     "data": {
      "text/plain": [
       "{'userId': 1,\n",
       " 'id': 7,\n",
       " 'title': 'magnam facilis autem',\n",
       " 'body': 'dolore placeat quibusdam ea quo vitae\\nmagni quis enim qui quis quo nemo aut saepe\\nquidem repellat excepturi ut quia\\nsunt ut sequi eos ea sed quas'}"
      ]
     },
     "metadata": {},
     "output_type": "display_data"
    },
    {
     "data": {
      "text/plain": [
       "{'userId': 1,\n",
       " 'id': 8,\n",
       " 'title': 'dolorem dolore est ipsam',\n",
       " 'body': 'dignissimos aperiam dolorem qui eum\\nfacilis quibusdam animi sint suscipit qui sint possimus cum\\nquaerat magni maiores excepturi\\nipsam ut commodi dolor voluptatum modi aut vitae'}"
      ]
     },
     "metadata": {},
     "output_type": "display_data"
    },
    {
     "data": {
      "text/plain": [
       "{'userId': 1,\n",
       " 'id': 9,\n",
       " 'title': 'nesciunt iure omnis dolorem tempora et accusantium',\n",
       " 'body': 'consectetur animi nesciunt iure dolore\\nenim quia ad\\nveniam autem ut quam aut nobis\\net est aut quod aut provident voluptas autem voluptas'}"
      ]
     },
     "metadata": {},
     "output_type": "display_data"
    },
    {
     "data": {
      "text/plain": [
       "{'userId': 1,\n",
       " 'id': 10,\n",
       " 'title': 'optio molestias id quia eum',\n",
       " 'body': 'quo et expedita modi cum officia vel magni\\ndoloribus qui repudiandae\\nvero nisi sit\\nquos veniam quod sed accusamus veritatis error'}"
      ]
     },
     "metadata": {},
     "output_type": "display_data"
    }
   ],
   "source": [
    "import requests\n",
    "\n",
    "response = requests.get(url=\"https://jsonplaceholder.typicode.com/posts\")\n",
    "\n",
    "if response.status_code == 200:\n",
    "    posts = response.json()\n",
    "    for post in posts[:10]:\n",
    "     display(post)\n",
    "else:\n",
    "    display(\"Failed to fetch data:\", response.status_code)\n",
    "\n",
    "# Exercise 1: Fetch Data\n",
    " "
   ]
  },
  {
   "cell_type": "markdown",
   "id": "d0561767",
   "metadata": {},
   "source": [
    "### **Exercise 2: Filter Data**\n",
    "1. Fetch all posts from the API and filter posts created by the user with `userId = 5`.\n",
    "- API Endpoint: `https://jsonplaceholder.typicode.com/posts`\n",
    "- Hint: Use query parameters."
   ]
  },
  {
   "cell_type": "code",
   "execution_count": null,
   "id": "fc48e634",
   "metadata": {},
   "outputs": [],
   "source": [
    "# Exercise 2: Filter Data\n",
    " "
   ]
  },
  {
   "cell_type": "markdown",
   "id": "87248ab4",
   "metadata": {},
   "source": [
    "### **Exercise 3: Create a New Post**\n",
    "1. Create a new post using a `POST` request.\n",
    "- API Endpoint: `https://jsonplaceholder.typicode.com/posts`\n",
    "- Request body:\n",
    "```json\n",
    "{\n",
    "    \"title\": \"My Exercise Post\",\n",
    "    \"body\": \"This post was created as part of an exercise.\",\n",
    "    \"userId\": 1\n",
    "}\n",
    "```\n",
    "- Print the response JSON to verify that the post was created successfully."
   ]
  },
  {
   "cell_type": "code",
   "execution_count": null,
   "id": "85cd74a8",
   "metadata": {},
   "outputs": [],
   "source": [
    "# Exercise 3: Create a New Post\n",
    " "
   ]
  },
  {
   "cell_type": "markdown",
   "id": "fa70260b",
   "metadata": {},
   "source": [
    "### **Exercise 4: Update a Post**\n",
    "1. Update the title of the post with `id = 1` to `\"Updated Exercise Title\"`.\n",
    "- API Endpoint: `https://jsonplaceholder.typicode.com/posts/1`\n",
    "- Use a `PUT` request and include the updated `title`."
   ]
  },
  {
   "cell_type": "code",
   "execution_count": null,
   "id": "95e9db80",
   "metadata": {},
   "outputs": [],
   "source": [
    "# Exercise 4: Update a Post\n",
    " "
   ]
  },
  {
   "cell_type": "markdown",
   "id": "ee9e220d",
   "metadata": {},
   "source": [
    "### **Exercise 5: Delete a Post**\n",
    "1. Delete the post with `id = 1`.\n",
    "- API Endpoint: `https://jsonplaceholder.typicode.com/posts/1`\n",
    "- Print a success message if the deletion is successful."
   ]
  },
  {
   "cell_type": "code",
   "execution_count": null,
   "id": "225bbedf",
   "metadata": {},
   "outputs": [],
   "source": [
    "# Exercise 5: Delete a Post\n",
    " "
   ]
  },
  {
   "cell_type": "markdown",
   "id": "0fc7f90b",
   "metadata": {},
   "source": [
    "### **Exercise 6: Error Handling**\n",
    "1. Write a function that fetches a single post by its ID.\n",
    "- If the post does not exist (e.g., `id = 9999`), print `\"Post not found\"`."
   ]
  },
  {
   "cell_type": "code",
   "execution_count": null,
   "id": "54a41b5f",
   "metadata": {},
   "outputs": [],
   "source": [
    "# Exercise 6: Error Handling\n",
    " "
   ]
  },
  {
   "cell_type": "markdown",
   "id": "5fb43538",
   "metadata": {},
   "source": [
    "### **Exercise 7: Advanced Interaction**\n",
    "1. Write a Python script that:\n",
    "- Fetches all users from `https://jsonplaceholder.typicode.com/users`.\n",
    "- For each user, fetches all their posts and prints the user’s name along with the titles of their posts."
   ]
  },
  {
   "cell_type": "code",
   "execution_count": null,
   "id": "0567d773",
   "metadata": {},
   "outputs": [],
   "source": [
    "# Exercise 7: Advanced Interaction\n",
    " "
   ]
  }
 ],
 "metadata": {
  "kernelspec": {
   "display_name": "Python 3",
   "language": "python",
   "name": "python3"
  },
  "language_info": {
   "codemirror_mode": {
    "name": "ipython",
    "version": 3
   },
   "file_extension": ".py",
   "mimetype": "text/x-python",
   "name": "python",
   "nbconvert_exporter": "python",
   "pygments_lexer": "ipython3",
   "version": "3.13.0"
  }
 },
 "nbformat": 4,
 "nbformat_minor": 5
}
