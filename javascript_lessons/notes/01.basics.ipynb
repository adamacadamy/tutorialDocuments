{
 "cells": [
  {
   "cell_type": "code",
   "execution_count": null,
   "metadata": {},
   "outputs": [],
   "source": [
    "function greet(name) {\n",
    "    return `Hello, ${name}!`;\n",
    "}\n",
    "console.log(greet(\"Alice\")); // Output: Hello, Alice!"
   ]
  },
  {
   "cell_type": "code",
   "execution_count": null,
   "metadata": {},
   "outputs": [],
   "source": [
    "const greet_alt = function(name){\n",
    "\n",
    "    return `Hello, ${name}!`;\n",
    "}\n",
    "\n",
    "let greetings =  greet_alt(\"Alice\")\n",
    "console.log(greetings); // Output: Hello, Alice!"
   ]
  },
  {
   "cell_type": "code",
   "execution_count": null,
   "metadata": {},
   "outputs": [],
   "source": [
    "const greetAlt2 = (name) => {\n",
    "\n",
    "\n",
    "    return `Hello, ${name}!`;\n",
    "}\n",
    "\n",
    "let greetings =  greetAlt2(\"Alice\")\n",
    "console.log(greetings); // Output: Hello, Alice!"
   ]
  },
  {
   "cell_type": "code",
   "execution_count": null,
   "metadata": {},
   "outputs": [],
   "source": [
    "/** \n",
    " * \n",
    " * { name: 'Adam' } => JSON, Javascript Object Notation\n",
    "*/\n",
    "\n",
    "\n",
    "// prototype programming\n",
    "function Person(name){\n",
    "    this.name = name;\n",
    "}\n",
    "\n",
    "let personOne = new Person(\"Adam\");\n",
    "let personTwo = new Person(\"Haile\");\n",
    "\n",
    "console.log(personOne.name);\n",
    "console.log(personTwo[\"name\"]);"
   ]
  },
  {
   "cell_type": "code",
   "execution_count": null,
   "metadata": {},
   "outputs": [],
   "source": [
    "let personOne = {\n",
    "    name: \"Adam\"\n",
    "}\n",
    "\n",
    "console.log(personOne);\n",
    "console.log(personOne.name);\n",
    "console.log(personOne[\"name\"]);"
   ]
  },
  {
   "cell_type": "code",
   "execution_count": null,
   "metadata": {},
   "outputs": [],
   "source": [
    "class Person{\n",
    "    constructor(name){\n",
    "        this.name = name;\n",
    "    }\n",
    "}\n",
    "\n",
    "let personTwo = new Person(\"Haile\")\n",
    "\n",
    "console.log(personTwo);\n",
    "console.log(personTwo.name);\n",
    "console.log(personTwo[\"name\"]);"
   ]
  },
  {
   "cell_type": "code",
   "execution_count": null,
   "metadata": {},
   "outputs": [],
   "source": [
    "(function(){\n",
    "    console.log(\"HIIIIIIIIIIII\")\n",
    "})()"
   ]
  },
  {
   "cell_type": "code",
   "execution_count": null,
   "metadata": {},
   "outputs": [],
   "source": [
    "// What type of function is this?\n",
    "function add(a, b) {\n",
    "    return a + b;\n",
    "}\n",
    "\n",
    "// What type of function is this?\n",
    "const multiply = function(a, b) {\n",
    "    return a * b;\n",
    "};\n",
    "\n",
    "const divide = (a, b) => a / b;\n",
    "\n",
    "console.log(add(1, 2))\n",
    "console.log(multiply(4, 2))\n",
    "console.log(divide(4, 2))"
   ]
  },
  {
   "cell_type": "code",
   "execution_count": null,
   "metadata": {},
   "outputs": [],
   "source": [
    "class Animal {\n",
    " \n",
    "    constructor(name) {\n",
    "        this.name = name;\n",
    "    }\n",
    "    speak() {\n",
    "        return `${this.name} makes a sound.`;\n",
    "    }\n",
    "}\n",
    "\n",
    "// extends means inherit\n",
    "class Dog extends Animal {\n",
    "    speak() {\n",
    "        return `${this.name} barks.`;\n",
    "    }\n",
    "}\n",
    "\n",
    "let dog = new Dog(\"Buddy\");\n",
    "console.log(dog.speak()); // Output: Buddy barks."
   ]
  },
  {
   "cell_type": "code",
   "execution_count": null,
   "metadata": {},
   "outputs": [],
   "source": [
    "class Car {\n",
    "    brand = \"Toyota\"; // Public property\n",
    "}\n",
    "let myCar = new Car();\n",
    "console.log(myCar.brand); // Output: Toyota"
   ]
  },
  {
   "cell_type": "code",
   "execution_count": null,
   "metadata": {},
   "outputs": [],
   "source": [
    "class Car {\n",
    "    #engineNumber = \"123ABC\"; // Private property\n",
    "\n",
    "    getEngineNumber() {\n",
    "        return this.#engineNumber;\n",
    "    }\n",
    "}\n",
    "let myCar = new Car();\n",
    "console.log(myCar.getEngineNumber()); // Output: 123ABC\n",
    "console.log(myCar.#engineNumber); // Error: Private field not accessible"
   ]
  },
  {
   "cell_type": "code",
   "execution_count": null,
   "metadata": {},
   "outputs": [],
   "source": [
    "class Vehicle {\n",
    "    _type = \"General Vehicle\"; // Protected field (naming convention)\n",
    "}\n",
    "class Bike extends Vehicle {\n",
    "    showType() {\n",
    "        return this._type; // Can be accessed within subclasses\n",
    "    }\n",
    "}\n",
    "let myBike = new Bike();\n",
    "console.log(myBike.showType()); // Output: General Vehicle"
   ]
  },
  {
   "cell_type": "code",
   "execution_count": null,
   "metadata": {},
   "outputs": [],
   "source": [
    "const numbers = [1, 2, 3, 4];\n",
    "console.log(numbers);\n",
    "\n",
    "// numbers[0] = numbers[0] * 2;\n",
    "// numbers[1] = numbers[1] * 2;\n",
    "// numbers[2] = numbers[2] * 2;\n",
    "// numbers[3] = numbers[3] * 2;\n",
    "/** map\n",
    " *  1st loop num =  1, => numbers[0] =  1 * 2 = 2\n",
    " * .....\n",
    " */\n",
    "// const doubled = numbers.map((num)=>{\n",
    "//     return num * 2\n",
    "// });\n",
    "const doubled = numbers.map((num) =>  num * 2 );\n",
    "// numbers.map(function(number){})\n",
    "\n",
    "console.log(doubled);\n",
    "\n",
    "// filter\n",
    "/**\n",
    " *  evens = [], numbers = [1, 2, 3, 4]\n",
    " *  1st loop\n",
    " *    num = 1;\n",
    " *   if  num % 2 == 0:\n",
    " *       evens.push(1)\n",
    " *         \n",
    " */\n",
    "// const evens = numbers.filter((num)=>{\n",
    "//     return num % 2 == 0 // predicate\n",
    "// });\n",
    "\n",
    "const evens = numbers.filter((num) =>  num % 2 == 0 );\n",
    "console.log(evens);\n",
    "\n",
    "/**\n",
    " *  initial value of total = 0\n",
    " * 1st loop\n",
    " *   total = 0 + 1 = 1,\n",
    " * \n",
    " */\n",
    "// reduce , reduce takes two variables aggregator and current element in our case total is aggregator, num current element\n",
    "// const sum = numbers.reduce((total, num) => {\n",
    "//      total= total + num;\n",
    "\n",
    "//      return total;\n",
    "// }, 0);\n",
    "const sum = numbers.reduce((total, num) =>   total + num, 0);\n",
    "\n",
    "console.log(sum); // 10"
   ]
  },
  {
   "cell_type": "code",
   "execution_count": null,
   "metadata": {},
   "outputs": [],
   "source": [
    "const person = {\n",
    "    name: \"Alice\",\n",
    "    age: 25,\n",
    "    address: {\n",
    "      city: \"Wonderland\",\n",
    "      zip: 12345\n",
    "    }\n",
    "  };\n",
    "// Object Destructuring:\n",
    "// const name = person.name;\n",
    "// const age = person.age;\n",
    "// const city = person.address.city;\n",
    "\n",
    "const { name, age, address: {city} } = person;\n",
    " \n",
    "console.log(name, age, city); // Alice 25 Wonderland\n",
    "\n"
   ]
  },
  {
   "cell_type": "code",
   "execution_count": null,
   "metadata": {},
   "outputs": [],
   "source": [
    "const obj1 = { a: 1, b: 2 };\n",
    "const obj2 = { c: 3, d: 4 };\n",
    "// ... spread operation\n",
    "const combined = {...obj1, ...obj2}\n",
    "console.log(combined);\n",
    "\n",
    "// Rest operation\n",
    "// combined ={ a: 1, b: 2, c: 3, d: 4 }\n",
    "// a = 1,  rest = { b: 2, c: 3, d: 4 }\n",
    "const {a, ...rest} = combined\n",
    "\n",
    "console.log(a, rest)"
   ]
  },
  {
   "cell_type": "code",
   "execution_count": null,
   "metadata": {},
   "outputs": [],
   "source": [
    "const numbers = [1, 2, 3, 4, 5];\n",
    "const [first, second] = numbers;\n",
    "\n",
    "console.log(first);\n",
    "console.log(second);"
   ]
  },
  {
   "cell_type": "code",
   "execution_count": null,
   "metadata": {},
   "outputs": [
    {
     "ename": "",
     "evalue": "",
     "output_type": "error",
     "traceback": [
      "\u001b[1;31mFailed to start the Kernel. \n",
      "\u001b[1;31mKernel JavaScript (Node.js) is not usable. Check the Jupyter output tab for more information. \n",
      "\u001b[1;31mView Jupyter <a href='command:jupyter.viewOutput'>log</a> for further details."
     ]
    }
   ],
   "source": [
    "const fetchData = async () =>{\n",
    "    console.log(\"bla bla\")\n",
    "}\n",
    "\n",
    "await fetchData()"
   ]
  },
  {
   "cell_type": "code",
   "execution_count": null,
   "metadata": {},
   "outputs": [],
   "source": [
    "try{\n",
    "\n",
    "    const result = JSON.parse(\"invalid JSON\");\n",
    "}catch(error){\n",
    "    console.error(\"Error parsing JSON:\", error.message);\n",
    "}"
   ]
  }
 ],
 "metadata": {
  "kernelspec": {
   "display_name": "JavaScript (Node.js)",
   "language": "javascript",
   "name": "javascript"
  },
  "language_info": {
   "file_extension": ".js",
   "mimetype": "application/javascript",
   "name": "javascript",
   "version": "18.20.6"
  }
 },
 "nbformat": 4,
 "nbformat_minor": 2
}
