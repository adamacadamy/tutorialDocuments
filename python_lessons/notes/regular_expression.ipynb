{
 "cells": [
  {
   "cell_type": "code",
   "execution_count": 64,
   "metadata": {},
   "outputs": [
    {
     "data": {
      "text/plain": [
       "'John'"
      ]
     },
     "metadata": {},
     "output_type": "display_data"
    },
    {
     "data": {
      "text/plain": [
       "'Doe'"
      ]
     },
     "metadata": {},
     "output_type": "display_data"
    },
    {
     "data": {
      "text/plain": [
       "'30'"
      ]
     },
     "metadata": {},
     "output_type": "display_data"
    },
    {
     "name": "stdout",
     "output_type": "stream",
     "text": [
      "John\n",
      "Doe\n"
     ]
    },
    {
     "data": {
      "text/plain": [
       "'The sun in Spain'"
      ]
     },
     "execution_count": 64,
     "metadata": {},
     "output_type": "execute_result"
    }
   ],
   "source": [
    "# Special Characters:\n",
    "# - . matches any character except a newline\n",
    "# - ^ matches the beginning of a string\n",
    "# - $ matches the end of a string\n",
    "# - * matches 0 or more repetitions\n",
    "# - + matches 1 or more repetitions\n",
    "# - ? matches 0 or 1 repetition\n",
    "# - {} specifies the number of repetitions\n",
    "# - [] matches any single character in brackets\n",
    "# - | OR operator\n",
    "# - \\\\ escapes special charactersimport re\n",
    "\n",
    "pattern = r\"hello\"    # Match the exact word 'hello'\n",
    "pattern = r\"\\d\"       # Match any digit (0-9)\n",
    "pattern = r\"\\w\"       # Match any word character (a-z, A-Z, 0-9, _)\n",
    "pattern = r\"\\s\"       # Match any whitespace (spaces, tabs, newlines)\n",
    "\n",
    "import re\n",
    "text = \"Hello World\"\n",
    "pt = r\"^Hello\"\n",
    "match = re.search(pattern=pt, string=text)\n",
    "\n",
    "text =\"adsfdasf\"\n",
    "pt=r\"\\d*\" # 0 or more\n",
    "match = re.search(pattern=pt, string=text)\n",
    "\n",
    "text =\"1232asdfa\"\n",
    "pt=r\"\\d+\" # one or more\n",
    "match = re.search(pattern=pt, string=text)\n",
    "\n",
    "text =\"1232asdfa\"\n",
    "pt=r\"\\d{3}\"\n",
    "match = re.search(pattern=pt, string=text)\n",
    "\n",
    "\n",
    "text =\"adfas1212312ASD\"\n",
    "pt=r\"[a-zA-Z]*\\d*[a-zA-Z]*\" # 0 or more \\d*[a-zA-Z]\n",
    "match = re.search(pattern=pt, string=text)\n",
    "match\n",
    "\n",
    "text =\"adfas1212312ASD\"\n",
    "pt=r\"\\w+\" # 0 or more \\d*[a-zA-Z]\n",
    "match = re.search(pattern=pt, string=text)\n",
    "match\n",
    "\n",
    "\n",
    "text =\"adfa s12 12312ASD \"\n",
    "pt=r\"\\s+\" # 0 or more \\d*[a-zA-Z]\n",
    "match = re.search(pattern=pt, string=text)\n",
    "match\n",
    "\n",
    "\n",
    "text =\"The quick jumping fox is really an amazing fox\"\n",
    "pt=r\"[aeiou]\" # 0 or more \\d*[a-zA-Z]\n",
    "match = re.search(pattern=pt, string=text)\n",
    "match\n",
    "\n",
    "\n",
    "\n",
    "text = \"John Doe, age 30\"\n",
    "pt = r\"(\\w+)\\s(\\w+),\\sage\\s(\\d+)\"\n",
    "match = re.search(pt, text)\n",
    "\n",
    "if match:\n",
    "    display(match.group(1))   \n",
    "    display(match.group(2))   \n",
    "    display(match.group(3))   \n",
    "    \n",
    "\n",
    "pt = r\"(?P<first_name>\\w+)\\s(?P<last_name>\\w+)\"\n",
    "match = re.search(pt, text)\n",
    "if match:\n",
    "    print(match.group(\"first_name\"))   \n",
    "    print(match.group(\"last_name\"))   \n",
    "    \n",
    "text = \"The rain in Spain\"\n",
    "pt = r\"rain\"\n",
    "new_text=re.sub(pt, \"sun\", text)\n",
    "\n",
    "new_text"
   ]
  }
 ],
 "metadata": {
  "kernelspec": {
   "display_name": "Python 3",
   "language": "python",
   "name": "python3"
  },
  "language_info": {
   "codemirror_mode": {
    "name": "ipython",
    "version": 3
   },
   "file_extension": ".py",
   "mimetype": "text/x-python",
   "name": "python",
   "nbconvert_exporter": "python",
   "pygments_lexer": "ipython3",
   "version": "3.12.7"
  }
 },
 "nbformat": 4,
 "nbformat_minor": 2
}
