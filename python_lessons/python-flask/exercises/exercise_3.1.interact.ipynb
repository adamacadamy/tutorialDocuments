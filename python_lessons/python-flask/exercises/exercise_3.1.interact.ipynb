{
 "cells": [
  {
   "cell_type": "code",
   "execution_count": 19,
   "metadata": {},
   "outputs": [],
   "source": [
    "import requests\n",
    "\n",
    "BASE_URL = \"http://localhost:5000/todos\"\n",
    "\n",
    "# Function to retrieve all to-do items\n",
    "def get_all_todos():\n",
    "    response = requests.get(BASE_URL)\n",
    "    if response.status_code == 200:\n",
    "        print(\"To-Do List:\")\n",
    "        print(response.json())\n",
    "    else:\n",
    "        print(\"Failed to retrieve to-dos:\", response.json())\n",
    "\n",
    "# Function to retrieve a specific to-do item by ID\n",
    "def get_todo_by_id(todo_id):\n",
    "    response = requests.get(f\"{BASE_URL}/{todo_id}\")\n",
    "    if response.status_code == 200:\n",
    "        print(\"To-Do Item:\", response.json())\n",
    "    else:\n",
    "        print(\"Failed to retrieve to-do:\", response.json())\n",
    "\n",
    "# Function to create a new to-do item\n",
    "def create_todo(task):\n",
    "    data = {\"task\": task}\n",
    "    response = requests.post(BASE_URL, json=data)\n",
    "    if response.status_code == 201:\n",
    "        print(\"Created To-Do:\", response.json())\n",
    "    else:\n",
    "        print(\"Failed to create to-do:\", response.json())\n",
    "\n",
    "# Function to update an existing to-do item by ID\n",
    "def update_todo(todo_id, task=None, is_completed=None):\n",
    "    data = {}\n",
    "    if task is not None:\n",
    "        data[\"task\"] = task\n",
    "    if is_completed is not None:\n",
    "        data[\"is_completed\"] = is_completed\n",
    "    response = requests.put(f\"{BASE_URL}/{todo_id}\", json=data)\n",
    "    if response.status_code == 200:\n",
    "        print(\"Updated To-Do:\", response.json())\n",
    "    else:\n",
    "        print(\"Failed to update to-do:\", response.json())\n",
    "\n",
    "# Function to delete a specific to-do item by ID\n",
    "def delete_todo(todo_id):\n",
    "    response = requests.delete(f\"{BASE_URL}/{todo_id}\")\n",
    "    if response.status_code == 204:\n",
    "        print(\"Deleted To-Do\")\n",
    "\n",
    "   \n",
    "#  print(\"Testing the To-Do API:\")\n",
    "#     create_todo(\"Buy groceries\")\n",
    "#     create_todo(\"Walk the dog\")\n",
    "#     get_all_todos()\n",
    "#     update_todo(1, is_completed=True)\n",
    "#     get_todo_by_id(1)\n",
    "#     delete_todo(2)\n",
    "#     get_all_todos()"
   ]
  },
  {
   "cell_type": "code",
   "execution_count": 20,
   "metadata": {},
   "outputs": [
    {
     "name": "stdout",
     "output_type": "stream",
     "text": [
      "Created To-Do: {'id': 1, 'is_completed': False, 'task': 'Buy groceries'}\n",
      "Created To-Do: {'id': 2, 'is_completed': False, 'task': 'Walk the dog'}\n"
     ]
    }
   ],
   "source": [
    "create_todo(\"Buy groceries\")\n",
    "create_todo(\"Walk the dog\")"
   ]
  },
  {
   "cell_type": "code",
   "execution_count": 21,
   "metadata": {},
   "outputs": [
    {
     "name": "stdout",
     "output_type": "stream",
     "text": [
      "To-Do List:\n",
      "[{'id': 1, 'is_completed': False, 'task': 'Buy groceries'}, {'id': 2, 'is_completed': False, 'task': 'Walk the dog'}]\n"
     ]
    }
   ],
   "source": [
    "get_all_todos()"
   ]
  },
  {
   "cell_type": "code",
   "execution_count": null,
   "metadata": {},
   "outputs": [],
   "source": [
    "create_todo(\"Buy groceries\")\n",
    "update_todo(3, task=\"check your food\")"
   ]
  },
  {
   "cell_type": "code",
   "execution_count": null,
   "metadata": {},
   "outputs": [],
   "source": [
    "get_todo_by_id(1)"
   ]
  },
  {
   "cell_type": "code",
   "execution_count": 22,
   "metadata": {},
   "outputs": [
    {
     "name": "stdout",
     "output_type": "stream",
     "text": [
      "Deleted To-Do:\n",
      "To-Do List:\n",
      "[{'id': 2, 'is_completed': False, 'task': 'Walk the dog'}]\n"
     ]
    }
   ],
   "source": [
    "delete_todo(1)\n",
    "get_all_todos()"
   ]
  }
 ],
 "metadata": {
  "kernelspec": {
   "display_name": "Python 3",
   "language": "python",
   "name": "python3"
  },
  "language_info": {
   "codemirror_mode": {
    "name": "ipython",
    "version": 3
   },
   "file_extension": ".py",
   "mimetype": "text/x-python",
   "name": "python",
   "nbconvert_exporter": "python",
   "pygments_lexer": "ipython3",
   "version": "3.11.2"
  }
 },
 "nbformat": 4,
 "nbformat_minor": 2
}
