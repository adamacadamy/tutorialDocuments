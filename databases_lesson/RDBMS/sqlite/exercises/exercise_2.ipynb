{
 "cells": [
  {
   "cell_type": "markdown",
   "id": "c39a5b2d",
   "metadata": {},
   "source": [
    "# SQL DDL and DML Exercises\n",
    "\n",
    "This notebook contains SQL exercises for creating and manipulating database tables using DDL and DML commands."
   ]
  },
  {
   "cell_type": "code",
   "execution_count": null,
   "id": "e380b92c",
   "metadata": {},
   "outputs": [],
   "source": [
    "# Install necessary packages\n",
    "%pip install jupyter ipython-sql prettytable\n",
    "\n",
    "# Load the ipython-sql extension\n",
    "%load_ext sql\n",
    "\n",
    "# Connect to the SQLite database\n",
    "%sql sqlite:///exercises_1.db\n",
    "\n",
    "# Configure ipython-sql to use a valid PrettyTable style\n",
    "%config SqlMagic.style = '_DEPRECATED_DEFAULT'"
   ]
  },
  {
   "cell_type": "markdown",
   "id": "2f6a494c",
   "metadata": {},
   "source": [
    "## Section 1: DDL Questions"
   ]
  },
  {
   "cell_type": "markdown",
   "id": "99866639",
   "metadata": {},
   "source": [
    "### Question 1: Create Table\n",
    "Create a table named `employees` with the following columns:\n",
    "\n",
    "| Column Name    | Data Type |\n",
    "|----------------|-----------|\n",
    "| employee_id    | INTEGER   |\n",
    "| first_name     | TEXT      |\n",
    "| last_name      | TEXT      |\n",
    "| department_id  | INTEGER   |\n",
    "| salary         | DECIMAL   |\n",
    "\n",
    "Make `employee_id` the primary key.\n",
    "\n",
    "### Solution"
   ]
  },
  {
   "cell_type": "code",
   "execution_count": null,
   "id": "d905cd36",
   "metadata": {},
   "outputs": [],
   "source": [
    "%%sql\n"
   ]
  },
  {
   "cell_type": "markdown",
   "id": "bb34fb59",
   "metadata": {},
   "source": [
    "### Question 2: Create Another Table\n",
    "Create a table named `projects` with the following columns:\n",
    "\n",
    "| Column Name     | Data Type |\n",
    "|-----------------|-----------|\n",
    "| project_id      | INTEGER   |\n",
    "| project_name    | TEXT      |\n",
    "| department_id   | INTEGER   |\n",
    "| start_date      | DATE      |\n",
    "| end_date        | DATE      |\n",
    "\n",
    "Make `project_id` the primary key.\n",
    "\n",
    "### Solution"
   ]
  },
  {
   "cell_type": "code",
   "execution_count": null,
   "id": "8440dd47",
   "metadata": {},
   "outputs": [],
   "source": [
    "%%sql\n",
    " "
   ]
  },
  {
   "cell_type": "markdown",
   "id": "12024412",
   "metadata": {},
   "source": [
    "### Question 3: Alter Table\n",
    "Add a column `status` (TEXT) to the `projects` table.\n",
    "\n",
    "### Solution"
   ]
  },
  {
   "cell_type": "code",
   "execution_count": null,
   "id": "ddffd20c",
   "metadata": {},
   "outputs": [],
   "source": [
    "%%sql\n",
    " "
   ]
  },
  {
   "cell_type": "markdown",
   "id": "87431ff0",
   "metadata": {},
   "source": [
    "### Question 4: Drop Table\n",
    "Drop the `projects` table from the database.\n",
    "\n",
    "### Solution"
   ]
  },
  {
   "cell_type": "code",
   "execution_count": null,
   "id": "5a6aa4f1",
   "metadata": {},
   "outputs": [],
   "source": [
    "%%sql\n"
   ]
  },
  {
   "cell_type": "markdown",
   "id": "aa267eaa",
   "metadata": {},
   "source": [
    "## Section 2: DML Questions"
   ]
  },
  {
   "cell_type": "markdown",
   "id": "48a54ed6",
   "metadata": {},
   "source": [
    "### Question 1: Insert Data\n",
    "Insert the following employees into the `employees` table:\n",
    "\n",
    "| employee_id | first_name | last_name | department_id | salary  |\n",
    "|-------------|------------|-----------|---------------|---------|\n",
    "| 1           | John       | Doe       | 101           | 50000   |\n",
    "| 2           | Jane       | Smith     | 102           | 60000   |\n",
    "| 3           | Alice      | Johnson   | 101           | 55000   |\n",
    "\n",
    "### Solution"
   ]
  },
  {
   "cell_type": "code",
   "execution_count": null,
   "id": "30580310",
   "metadata": {},
   "outputs": [],
   "source": [
    "%%sql\n"
   ]
  },
  {
   "cell_type": "markdown",
   "id": "798fe36c",
   "metadata": {},
   "source": [
    "### Question 2: Update Data\n",
    "Increase the salary of employees in Department `101` by 10%.\n",
    "\n",
    "### Solution"
   ]
  },
  {
   "cell_type": "code",
   "execution_count": null,
   "id": "687ca84f",
   "metadata": {},
   "outputs": [],
   "source": [
    "%%sql\n"
   ]
  },
  {
   "cell_type": "markdown",
   "id": "f49f533f",
   "metadata": {},
   "source": [
    "### Question 3: Delete Data\n",
    "Delete all employees with a salary below `55000`.\n",
    "\n",
    "### Solution"
   ]
  },
  {
   "cell_type": "code",
   "execution_count": null,
   "id": "aa8b8c55",
   "metadata": {},
   "outputs": [],
   "source": [
    "%%sql\n"
   ]
  },
  {
   "cell_type": "markdown",
   "id": "f9b7ebd5",
   "metadata": {},
   "source": [
    "### Question 4: Join Data\n",
    "Find the `first_name`, `last_name`, and `project_name` of employees working on projects in their respective departments.\n",
    "\n",
    "### Solution"
   ]
  },
  {
   "cell_type": "code",
   "execution_count": null,
   "id": "3e9091e3",
   "metadata": {},
   "outputs": [],
   "source": [
    "%%sql\n"
   ]
  },
  {
   "cell_type": "markdown",
   "id": "dea455b6",
   "metadata": {},
   "source": [
    "### Question 5: Aggregate Functions\n",
    "Find the average salary of employees in each department.\n",
    "\n",
    "### Solution"
   ]
  },
  {
   "cell_type": "code",
   "execution_count": null,
   "id": "fa60cc89",
   "metadata": {},
   "outputs": [],
   "source": [
    "%%sql\n"
   ]
  },
  {
   "cell_type": "markdown",
   "id": "07651a05",
   "metadata": {},
   "source": [
    "### Question 6: Subquery\n",
    "Find the `first_name` and `last_name` of employees whose salary is above the average salary of all employees.\n",
    "\n",
    "### Solution"
   ]
  },
  {
   "cell_type": "code",
   "execution_count": null,
   "id": "49fc24bb",
   "metadata": {},
   "outputs": [],
   "source": [
    "%%sql\n"
   ]
  },
  {
   "cell_type": "markdown",
   "id": "2cec5e12",
   "metadata": {},
   "source": [
    "### Question 7: Left Join\n",
    "Retrieve the `first_name` and `last_name` of employees who are not assigned to any projects.\n",
    "\n",
    "### Solution"
   ]
  },
  {
   "cell_type": "code",
   "execution_count": null,
   "id": "9139ff16",
   "metadata": {},
   "outputs": [],
   "source": [
    "%%sql\n"
   ]
  },
  {
   "cell_type": "markdown",
   "id": "691d92b7",
   "metadata": {},
   "source": [
    "### Question 8: Combined Query\n",
    "Retrieve the list of projects along with the number of employees working on each project. Include projects with zero employees.\n",
    "\n",
    "### Solution"
   ]
  },
  {
   "cell_type": "code",
   "execution_count": null,
   "id": "ff02f8b8",
   "metadata": {},
   "outputs": [],
   "source": [
    "%%sql\n"
   ]
  }
 ],
 "metadata": {
  "language_info": {
   "name": "python"
  }
 },
 "nbformat": 4,
 "nbformat_minor": 5
}
