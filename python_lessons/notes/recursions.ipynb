{
 "cells": [
  {
   "cell_type": "markdown",
   "metadata": {},
   "source": [
    "# recursion | appearing and reappearing  | repeat and repeat\n",
    "\n",
    "# programming problem that is solved by a function calling itself  as a subroutine  is  a recursion\n",
    "\n",
    "\n",
    "    "
   ]
  },
  {
   "cell_type": "code",
   "execution_count": null,
   "metadata": {},
   "outputs": [
    {
     "data": {
      "text/plain": [
       "10"
      ]
     },
     "execution_count": 2,
     "metadata": {},
     "output_type": "execute_result"
    }
   ],
   "source": [
    "\n",
    "\"\"\" \n",
    "name: add_up_to_limit\n",
    "operation: the function gives you the sum of the a given limit number starting from 1 unit the limit\n",
    " limit = 10, counter=1, sum= 1+2+3+4+5+6+7+8+9+10\n",
    "\n",
    "1st recursion\n",
    "add_up_to_limit(limit=4) => limit=4, counter=1 sum=0\n",
    "    # base condition => not met\n",
    "    # recursive case \n",
    "            sum += counter = 0 + 1 1\n",
    "            counter+=1 = 2\n",
    "            call add_up_to_limit\n",
    "\n",
    "2nd recursion\n",
    "add_up_to_limit(limit, counter, sum)  => limit=4, counter=2 sum=1\n",
    "    # base case/condition  => not met\n",
    "    # recursive case/condition  \n",
    "            sum += counter = 1 + 2 = 3\n",
    "            counter+=1 = 3\n",
    "            call add_up_to_limit\n",
    "3rd recursion \n",
    "add_up_to_limit(limit, counter, sum)  => limit=4, counter=3 sum=3\n",
    "    # base case/condition  => not met\n",
    "    # recursive case/condition  \n",
    "            sum += counter = 3 + 3 = 6\n",
    "            counter+=1 = 4\n",
    "            call add_up_to_limit\n",
    "4th recursion \n",
    "add_up_to_limit(limit, counter, sum)  => limit=4, counter=4 sum=6\n",
    "    # base case/condition => not met\n",
    "    # recursive case/condition  \n",
    "            sum += counter = 6 + 4 = 10\n",
    "            counter+=1 = 5\n",
    "            call add_up_to_limit\n",
    "4th recursion \n",
    "add_up_to_limit(limit, counter, sum)  => limit=4, counter=5 sum=10\n",
    "    # base condition => condition met\n",
    "        return sum => 10\n",
    "\"\"\"\n",
    "\n",
    "def add_up_to_limit(limit: int, counter=1, sum=0):\n",
    "    if counter > limit: # base condition\n",
    "        return sum\n",
    "    else: # recursive case\n",
    "        # sum = sum + counter\n",
    "        sum += counter\n",
    "        counter+=1\n",
    "        return add_up_to_limit(limit, counter, sum)\n",
    "\n",
    "add_up_to_limit(limit=4)"
   ]
  },
  {
   "cell_type": "code",
   "execution_count": null,
   "metadata": {},
   "outputs": [],
   "source": [
    "\"\"\" \n",
    "factorial of 3\n",
    "3*2*1 = 6\n",
    "given 3\n",
    "1st recursion factorial(n)  n=3!\n",
    "    base condition => not met\n",
    "    recursive condition\n",
    "        new_n = n-1 => 2\n",
    "        return  3 * factorial(2) ---> save this as recursion 1st and call second recursion  --- 1\n",
    "        \n",
    "2nd recursion factorial(n)  n=2!\n",
    "    base condition => not met\n",
    "    recursive condition\n",
    "        new_n = n-1 =>  1\n",
    "        return  3 * 2 * factorial(1)\n",
    "        return     6 * factorial(1) ---> save this as recursion 2nd and call third recursion  --- 2\n",
    "        \n",
    "3nd recursion factorial(n)  n=2!\n",
    "    base condition => not met\n",
    "    recursive condition\n",
    "        new_n = n-1 =>  0\n",
    "        return  6 * factorial(0)=1   \n",
    "        return  6 * 1  ---> save this as recursion 2nd and call third recursion  --- 2\n",
    "\"\"\"\n",
    "\n",
    "def factorial(n): # direct recursion  1\n",
    "    if n == 0: # base condition\n",
    "        return 1\n",
    "    else:\n",
    "        new_n = n-1\n",
    "        return n * factorial(n=new_n)\n",
    "    \n",
    "    \n",
    "def calculate_factorial(x): # indirect recursion\n",
    "    if x > 0:\n",
    "        factorial(x)\n",
    "\n",
    "    \n",
    "def factorial_iterative(n):   \n",
    "    result = 1\n",
    "    for i in range(1, n + 1):\n",
    "        result *= i\n",
    "    return result\n",
    "\n",
    "    "
   ]
  },
  {
   "cell_type": "code",
   "execution_count": null,
   "metadata": {},
   "outputs": [
    {
     "data": {
      "text/plain": [
       "34"
      ]
     },
     "execution_count": 5,
     "metadata": {},
     "output_type": "execute_result"
    }
   ],
   "source": [
    "\n",
    "\"\"\" \n",
    "0,1,1,2,3,5,8,13,21,34...\n",
    " \n",
    "\"\"\"\n",
    "def fibonacci(n: int):\n",
    "    if n <= 0:\n",
    "        return 0\n",
    "    elif n == 1:\n",
    "        return 1\n",
    "    else:\n",
    "        return fibonacci(n-1)+fibonacci(n-2)\n",
    "\n",
    "    \n",
    "fibonacci(9)\n",
    "    "
   ]
  }
 ],
 "metadata": {
  "kernelspec": {
   "display_name": "Python 3",
   "language": "python",
   "name": "python3"
  },
  "language_info": {
   "codemirror_mode": {
    "name": "ipython",
    "version": 3
   },
   "file_extension": ".py",
   "mimetype": "text/x-python",
   "name": "python",
   "nbconvert_exporter": "python",
   "pygments_lexer": "ipython3",
   "version": "3.12.7"
  }
 },
 "nbformat": 4,
 "nbformat_minor": 2
}
