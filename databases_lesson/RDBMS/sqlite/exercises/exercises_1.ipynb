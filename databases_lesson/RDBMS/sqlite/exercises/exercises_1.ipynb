{
 "cells": [
  {
   "cell_type": "markdown",
   "metadata": {},
   "source": [
    "# SQLite DDL Code Challenges\n",
    "\n",
    "This notebook contains a series of SQLite DDL (Data Definition Language) exercises to help you practice creating and managing database schemas. For each exercise, read the question in the markdown cell, and then execute the provided SQL cell to complete the challenge.\n",
    "\n",
    "Make sure to run the setup code below to install necessary packages, load the `ipython-sql` extension, and connect to the database."
   ]
  },
  {
   "cell_type": "code",
   "execution_count": null,
   "id": "cd21185b",
   "metadata": {},
   "outputs": [],
   "source": [
    "# Install necessary packages\n",
    "%pip install jupyter ipython-sql prettytable\n",
    "\n",
    "# Load the ipython-sql extension\n",
    "%load_ext sql\n",
    "\n",
    "# Connect to the SQLite database\n",
    "%sql sqlite:///test.db"
   ]
  },
  {
   "cell_type": "markdown",
   "id": "56399352",
   "metadata": {},
   "source": [
    "## Challenge 1: Create a Table\n",
    "**Question:**  \n",
    "Create a table named `employees` with the following columns:\n",
    "- `employee_id` (INTEGER): Primary Key\n",
    "- `first_name` (TEXT): First name of the employee\n",
    "- `last_name` (TEXT): Last name of the employee\n",
    "- `hire_date` (DATE): Date when the employee was hired"
   ]
  },
  {
   "cell_type": "code",
   "execution_count": null,
   "id": "374e8bb3",
   "metadata": {},
   "outputs": [],
   "source": [
    "%%sql\n",
    " "
   ]
  },
  {
   "cell_type": "markdown",
   "id": "a77bb4c4",
   "metadata": {},
   "source": [
    "## Challenge 2: Create a Table with Foreign Keys\n",
    "**Question:**  \n",
    "Create a table named `departments` and another table named `employee_departments` with a foreign key relationship:\n",
    "- `departments` table:\n",
    "  - `department_id` (INTEGER): Primary Key\n",
    "  - `department_name` (TEXT): Name of the department\n",
    "- `employee_departments` table:\n",
    "  - `id` (INTEGER): Primary Key\n",
    "  - `employee_id` (INTEGER): Foreign Key referencing `employees.employee_id`\n",
    "  - `department_id` (INTEGER): Foreign Key referencing `departments.department_id`"
   ]
  },
  {
   "cell_type": "code",
   "execution_count": null,
   "id": "5d5f331a",
   "metadata": {},
   "outputs": [],
   "source": [
    "%%sql\n",
    " "
   ]
  },
  {
   "cell_type": "markdown",
   "id": "7d847c09",
   "metadata": {},
   "source": [
    "## Challenge 3: Alter Table\n",
    "**Question:**  \n",
    "Add a new column `email` (TEXT) to the `employees` table."
   ]
  },
  {
   "cell_type": "code",
   "execution_count": null,
   "id": "5efd57a2",
   "metadata": {},
   "outputs": [],
   "source": [
    "%%sql "
   ]
  },
  {
   "cell_type": "markdown",
   "id": "86ccb6f0",
   "metadata": {},
   "source": [
    "## Challenge 4: Drop a Column (Workaround in SQLite)\n",
    "**Question:**  \n",
    "Drop the `email` column from the `employees` table. (SQLite does not support dropping columns directly.)"
   ]
  },
  {
   "cell_type": "code",
   "execution_count": null,
   "id": "99d22d76",
   "metadata": {},
   "outputs": [],
   "source": [
    "%%sql\n",
    "  "
   ]
  },
  {
   "cell_type": "markdown",
   "id": "c0082afb",
   "metadata": {},
   "source": [
    "## Challenge 5: Create an Index\n",
    "**Question:**  \n",
    "Create an index on the `last_name` column of the `employees` table to speed up search queries."
   ]
  },
  {
   "cell_type": "code",
   "execution_count": null,
   "id": "2d8f7b55",
   "metadata": {},
   "outputs": [],
   "source": [
    "%%sql "
   ]
  },
  {
   "cell_type": "markdown",
   "id": "fefcf9c9",
   "metadata": {},
   "source": [
    "## Challenge 6: Drop an Index\n",
    "**Question:**  \n",
    "Drop the index `idx_last_name` from the `employees` table."
   ]
  },
  {
   "cell_type": "code",
   "execution_count": null,
   "id": "d58642e6",
   "metadata": {},
   "outputs": [],
   "source": [
    "%%sql "
   ]
  },
  {
   "cell_type": "markdown",
   "id": "6110495e",
   "metadata": {},
   "source": [
    "## Challenge 7: Add a Unique Constraint\n",
    "**Question:**  \n",
    "Alter the `departments` table to add a unique constraint on the `department_name` column."
   ]
  },
  {
   "cell_type": "code",
   "execution_count": null,
   "id": "ce5d2fff",
   "metadata": {},
   "outputs": [],
   "source": [
    "%%sql  "
   ]
  },
  {
   "cell_type": "markdown",
   "id": "1089e42c",
   "metadata": {},
   "source": [
    "## Challenge 8: Create a View\n",
    "**Question:**  \n",
    "Create a view named `employee_details` that displays the employee’s first name, last name, hire date, and department name."
   ]
  },
  {
   "cell_type": "code",
   "execution_count": null,
   "id": "e585fbed",
   "metadata": {},
   "outputs": [],
   "source": [
    "%%sql "
   ]
  },
  {
   "cell_type": "markdown",
   "id": "92f4c476",
   "metadata": {},
   "source": [
    "## Challenge 9: Create a Trigger\n",
    "**Question:**  \n",
    "Create a trigger named `update_hire_date` that updates the `hire_date` to the current date whenever a new row is inserted into the `employees` table with a NULL `hire_date`."
   ]
  },
  {
   "cell_type": "code",
   "execution_count": null,
   "id": "04c40f28",
   "metadata": {},
   "outputs": [],
   "source": [
    "%%sql "
   ]
  },
  {
   "cell_type": "markdown",
   "id": "0efd848f",
   "metadata": {},
   "source": [
    "## Challenge 10: Drop a Table\n",
    "**Question:**  \n",
    "Drop the `employee_departments` table from the database."
   ]
  },
  {
   "cell_type": "code",
   "execution_count": null,
   "id": "42bd936f",
   "metadata": {},
   "outputs": [],
   "source": [
    "%%sql "
   ]
  }
 ],
 "metadata": {
  "kernelspec": {
   "display_name": "Python 3",
   "language": "python",
   "name": "python3"
  },
  "language_info": {
   "name": "python",
   "version": "3.8"
  }
 },
 "nbformat": 4,
 "nbformat_minor": 5
}
