{
 "cells": [
  {
   "cell_type": "markdown",
   "id": "4d7e67c2",
   "metadata": {},
   "source": [
    "\n",
    "# MySQL Integration with Python Using Context-Based Cursor\n",
    "\n",
    "This lesson demonstrates how to use a context manager with the `mysql-connector-python` library for database operations. \n",
    "Context managers ensure resources like database connections and cursors are properly cleaned up, reducing the chances of resource leaks.\n",
    "\n",
    "### Prerequisite:\n",
    "Install the required library using:\n",
    "```bash\n",
    "pip install mysql-connector-python\n",
    "```\n"
   ]
  },
  {
   "cell_type": "markdown",
   "id": "d9ff0147",
   "metadata": {},
   "source": [
    "\n",
    "## Lesson 1: Connecting to MySQL with a Context Manager\n",
    "\n",
    "Using a context manager ensures the connection is automatically closed after the block is executed.\n"
   ]
  },
  {
   "cell_type": "code",
   "execution_count": null,
   "id": "9b5db45e",
   "metadata": {},
   "outputs": [],
   "source": [
    "\n",
    "import mysql.connector\n",
    "from mysql.connector import Error\n",
    "\n",
    "# Establishing a connection using a context manager\n",
    "try:\n",
    "    with mysql.connector.connect(\n",
    "        host=\"localhost\",  # Replace with your host\n",
    "        user=\"root\",       # Replace with your username\n",
    "        password=\"password\" # Replace with your password\n",
    "    ) as connection:\n",
    "        if connection.is_connected():\n",
    "            print(\"Connected to MySQL Server\")\n",
    "except Error as e:\n",
    "    print(f\"Error: {e}\")\n"
   ]
  },
  {
   "cell_type": "markdown",
   "id": "df1b73c6",
   "metadata": {},
   "source": [
    "\n",
    "## Lesson 2: Creating a Database and Table\n",
    "\n",
    "Here, we'll create a database and a table using a context-based cursor.\n"
   ]
  },
  {
   "cell_type": "code",
   "execution_count": null,
   "id": "35905962",
   "metadata": {},
   "outputs": [],
   "source": [
    "\n",
    "try:\n",
    "    with mysql.connector.connect(\n",
    "        host=\"localhost\",\n",
    "        user=\"root\",\n",
    "        password=\"password\"\n",
    "    ) as connection:\n",
    "        if connection.is_connected():\n",
    "            with connection.cursor() as cursor:\n",
    "                # Create database and table\n",
    "                cursor.execute(\"CREATE DATABASE IF NOT EXISTS SchoolDB\")\n",
    "                cursor.execute(\"USE SchoolDB\")\n",
    "                cursor.execute(\"\"\"\n",
    "                    CREATE TABLE IF NOT EXISTS Students (\n",
    "                        id INT AUTO_INCREMENT PRIMARY KEY,\n",
    "                        name VARCHAR(255) NOT NULL,\n",
    "                        age INT NOT NULL,\n",
    "                        grade VARCHAR(10)\n",
    "                    )\n",
    "                \"\"\")\n",
    "                print(\"Database and table created successfully\")\n",
    "except Error as e:\n",
    "    print(f\"Error: {e}\")\n"
   ]
  },
  {
   "cell_type": "markdown",
   "id": "540033d7",
   "metadata": {},
   "source": [
    "\n",
    "## Lesson 3: Inserting Data Using a Context-Based Cursor\n",
    "\n",
    "We'll insert multiple records into the `Students` table and use `executemany` for batch processing.\n"
   ]
  },
  {
   "cell_type": "code",
   "execution_count": null,
   "id": "e827b233",
   "metadata": {},
   "outputs": [],
   "source": [
    "\n",
    "data = [\n",
    "    (\"Alice\", 14, \"8th\"),\n",
    "    (\"Bob\", 15, \"9th\"),\n",
    "    (\"Charlie\", 13, \"7th\")\n",
    "]\n",
    "\n",
    "try:\n",
    "    with mysql.connector.connect(\n",
    "        host=\"localhost\",\n",
    "        user=\"root\",\n",
    "        password=\"password\",\n",
    "        database=\"SchoolDB\"\n",
    "    ) as connection:\n",
    "        with connection.cursor() as cursor:\n",
    "            # Insert data into the table\n",
    "            insert_query = \"\"\"\n",
    "            INSERT INTO Students (name, age, grade)\n",
    "            VALUES (%s, %s, %s)\n",
    "            \"\"\"\n",
    "            cursor.executemany(insert_query, data)\n",
    "            connection.commit()\n",
    "            print(f\"{cursor.rowcount} records inserted.\")\n",
    "except Error as e:\n",
    "    print(f\"Error: {e}\")\n"
   ]
  },
  {
   "cell_type": "markdown",
   "id": "02e3f590",
   "metadata": {},
   "source": [
    "\n",
    "## Lesson 4: Querying Data Using a Context-Based Cursor\n",
    "\n",
    "We'll fetch and display all records from the `Students` table using a context-based cursor.\n"
   ]
  },
  {
   "cell_type": "code",
   "execution_count": null,
   "id": "299c7d28",
   "metadata": {},
   "outputs": [],
   "source": [
    "\n",
    "try:\n",
    "    with mysql.connector.connect(\n",
    "        host=\"localhost\",\n",
    "        user=\"root\",\n",
    "        password=\"password\",\n",
    "        database=\"SchoolDB\"\n",
    "    ) as connection:\n",
    "        with connection.cursor() as cursor:\n",
    "            # Query data\n",
    "            cursor.execute(\"SELECT * FROM Students\")\n",
    "            records = cursor.fetchall()\n",
    "            print(\"Student Records:\")\n",
    "            for record in records:\n",
    "                print(record)\n",
    "except Error as e:\n",
    "    print(f\"Error: {e}\")\n"
   ]
  },
  {
   "cell_type": "markdown",
   "id": "5ba266b6",
   "metadata": {},
   "source": [
    "\n",
    "## Lesson 5: Updating Data Using a Context-Based Cursor\n",
    "\n",
    "We use the `UPDATE` statement to modify a student's grade in the table.\n"
   ]
  },
  {
   "cell_type": "code",
   "execution_count": null,
   "id": "2ca297c1",
   "metadata": {},
   "outputs": [],
   "source": [
    "\n",
    "try:\n",
    "    with mysql.connector.connect(\n",
    "        host=\"localhost\",\n",
    "        user=\"root\",\n",
    "        password=\"password\",\n",
    "        database=\"SchoolDB\"\n",
    "    ) as connection:\n",
    "        with connection.cursor() as cursor:\n",
    "            # Update data\n",
    "            update_query = \"UPDATE Students SET grade = %s WHERE name = %s\"\n",
    "            data = (\"10th\", \"Alice\")\n",
    "            cursor.execute(update_query, data)\n",
    "            connection.commit()\n",
    "            print(f\"Record updated successfully. Affected rows: {cursor.rowcount}\")\n",
    "except Error as e:\n",
    "    print(f\"Error: {e}\")\n"
   ]
  },
  {
   "cell_type": "markdown",
   "id": "444ea86f",
   "metadata": {},
   "source": [
    "\n",
    "## Lesson 6: Deleting Data Using a Context-Based Cursor\n",
    "\n",
    "To delete a record, we use the `DELETE` SQL statement and commit the transaction.\n"
   ]
  },
  {
   "cell_type": "code",
   "execution_count": null,
   "id": "7272df80",
   "metadata": {},
   "outputs": [],
   "source": [
    "\n",
    "try:\n",
    "    with mysql.connector.connect(\n",
    "        host=\"localhost\",\n",
    "        user=\"root\",\n",
    "        password=\"password\",\n",
    "        database=\"SchoolDB\"\n",
    "    ) as connection:\n",
    "        with connection.cursor() as cursor:\n",
    "            # Delete data\n",
    "            delete_query = \"DELETE FROM Students WHERE name = %s\"\n",
    "            data = (\"Charlie\",)\n",
    "            cursor.execute(delete_query, data)\n",
    "            connection.commit()\n",
    "            print(f\"Record deleted successfully. Affected rows: {cursor.rowcount}\")\n",
    "except Error as e:\n",
    "    print(f\"Error: {e}\")\n"
   ]
  }
 ],
 "metadata": {},
 "nbformat": 4,
 "nbformat_minor": 5
}
