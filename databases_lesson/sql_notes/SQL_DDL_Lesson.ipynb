{
 "cells": [
  {
   "cell_type": "markdown",
   "id": "89e9d42a",
   "metadata": {},
   "source": [
    "# SQL DDL (Data Definition Language) - Complete Lesson\n",
    "\n",
    "This lesson provides a detailed introduction to SQL Data Definition Language (DDL) using SQLite. It covers the essential DDL commands with explanations, examples, and code snippets.\n",
    "\n",
    "Make sure to run the setup code below to install necessary packages, load the `ipython-sql` extension, and connect to the database."
   ]
  },
  {
   "cell_type": "code",
   "execution_count": null,
   "id": "454e1aef",
   "metadata": {},
   "outputs": [],
   "source": [
    "# Install necessary packages\n",
    "%pip install jupyter ipython-sql\n",
    "\n",
    "# Load the ipython-sql extension\n",
    "%load_ext sql\n",
    "\n",
    "# Connect to the SQLite database\n",
    "%sql sqlite:///ddl_lesson.sqlite"
   ]
  },
  {
   "cell_type": "markdown",
   "id": "787f8e9b",
   "metadata": {},
   "source": [
    "## Introduction to DDL\n",
    "SQL is divided into several sub-languages, including DDL (Data Definition Language), DML (Data Manipulation Language), DCL (Data Control Language), and TCL (Transaction Control Language).\n",
    "\n",
    "DDL is used for defining and managing the structure of database objects like tables, views, indexes, and triggers.\n",
    "\n",
    "### Key DDL Commands:\n",
    "- `CREATE`: Creates objects in the database.\n",
    "- `ALTER`: Modifies existing objects in the database.\n",
    "- `DROP`: Deletes objects from the database."
   ]
  },
  {
   "cell_type": "markdown",
   "id": "6721d26c",
   "metadata": {},
   "source": [
    "## CREATE Statement\n",
    "The `CREATE` statement is used to create tables, views, indexes, and other objects in the database."
   ]
  },
  {
   "cell_type": "code",
   "execution_count": null,
   "id": "dd09cd04",
   "metadata": {},
   "outputs": [],
   "source": [
    "%%sql\n",
    "CREATE TABLE employees (\n",
    "    employee_id INTEGER PRIMARY KEY,\n",
    "    first_name TEXT NOT NULL,\n",
    "    last_name TEXT NOT NULL,\n",
    "    hire_date DATE,\n",
    "    salary REAL\n",
    ");"
   ]
  },
  {
   "cell_type": "markdown",
   "id": "3cee1216",
   "metadata": {},
   "source": [
    "## ALTER Statement\n",
    "The `ALTER` statement is used to modify the structure of an existing table."
   ]
  },
  {
   "cell_type": "code",
   "execution_count": null,
   "id": "b0f2b9fe",
   "metadata": {},
   "outputs": [],
   "source": [
    "%%sql\n",
    "ALTER TABLE employees\n",
    "ADD COLUMN email TEXT;"
   ]
  },
  {
   "cell_type": "markdown",
   "id": "084b77fc",
   "metadata": {},
   "source": [
    "## DROP Statement\n",
    "The `DROP` statement is used to delete objects from the database. Be careful when using `DROP`, as it **permanently removes** the object and its data."
   ]
  },
  {
   "cell_type": "code",
   "execution_count": null,
   "id": "05c7569d",
   "metadata": {},
   "outputs": [],
   "source": [
    "%%sql\n",
    "DROP TABLE IF EXISTS employees;"
   ]
  },
  {
   "cell_type": "markdown",
   "id": "dde110ec",
   "metadata": {},
   "source": [
    "## Constraints in DDL\n",
    "Constraints are rules applied to columns to enforce data integrity.\n",
    "\n",
    "### Types of Constraints:\n",
    "- **NOT NULL**: Ensures a column cannot have a NULL value.\n",
    "- **UNIQUE**: Ensures all values in a column are unique.\n",
    "- **PRIMARY KEY**: Uniquely identifies each row in a table.\n",
    "- **FOREIGN KEY**: Ensures referential integrity between tables.\n",
    "- **CHECK**: Ensures that all values in a column satisfy a specific condition.\n",
    "- **DEFAULT**: Sets a default value for a column."
   ]
  },
  {
   "cell_type": "code",
   "execution_count": null,
   "id": "6122c167",
   "metadata": {},
   "outputs": [],
   "source": [
    "%%sql\n",
    "CREATE TABLE products (\n",
    "    product_id INTEGER PRIMARY KEY,\n",
    "    product_name TEXT NOT NULL,\n",
    "    price REAL CHECK (price > 0),\n",
    "    stock INTEGER DEFAULT 0\n",
    ");"
   ]
  },
  {
   "cell_type": "markdown",
   "id": "d033278f",
   "metadata": {},
   "source": [
    "## CREATE INDEX Statement\n",
    "Indexes are used to speed up the retrieval of rows from a table."
   ]
  },
  {
   "cell_type": "code",
   "execution_count": null,
   "id": "6ff0c697",
   "metadata": {},
   "outputs": [],
   "source": [
    "%%sql\n",
    "CREATE INDEX idx_product_name ON products (product_name);"
   ]
  },
  {
   "cell_type": "markdown",
   "id": "34763b53",
   "metadata": {},
   "source": [
    "## CREATE VIEW Statement\n",
    "A view is a virtual table based on a query."
   ]
  },
  {
   "cell_type": "code",
   "execution_count": null,
   "id": "0904d51b",
   "metadata": {},
   "outputs": [],
   "source": [
    "%%sql\n",
    "CREATE VIEW product_details AS\n",
    "SELECT product_name, price, stock\n",
    "FROM products;"
   ]
  },
  {
   "cell_type": "markdown",
   "id": "e13d5434",
   "metadata": {},
   "source": [
    "## CREATE TRIGGER Statement\n",
    "A trigger is a stored procedure that automatically runs when a specified event occurs in the database."
   ]
  },
  {
   "cell_type": "code",
   "execution_count": null,
   "id": "b91300cd",
   "metadata": {},
   "outputs": [],
   "source": [
    "%%sql\n",
    "CREATE TRIGGER update_stock\n",
    "AFTER INSERT ON products\n",
    "FOR EACH ROW\n",
    "WHEN NEW.stock < 0\n",
    "BEGIN\n",
    "    UPDATE products\n",
    "    SET stock = 0\n",
    "    WHERE product_id = NEW.product_id;\n",
    "END;"
   ]
  },
  {
   "cell_type": "markdown",
   "id": "20e7e61b",
   "metadata": {},
   "source": [
    "## Summary\n",
    "In this lesson, we covered:\n",
    "- The basics of DDL and its commands (`CREATE`, `ALTER`, `DROP`).\n",
    "- How to create and modify tables, views, indexes, and triggers.\n",
    "- The importance of constraints and best practices for using DDL effectively."
   ]
  },
  {
   "cell_type": "markdown",
   "id": "8058bc17",
   "metadata": {},
   "source": [
    "## CREATE INDEX Statement\n",
    "Indexes are special lookup tables that the database uses to speed up data retrieval.\n",
    "\n",
    "### Why Use Indexes?\n",
    "- They **improve query performance** by allowing the database to find rows faster.\n",
    "- They are helpful when searching or filtering large tables using specific columns.\n",
    "\n",
    "### Important Considerations:\n",
    "- Indexes **speed up read operations** but can **slow down write operations** (e.g., `INSERT`, `UPDATE`, `DELETE`).\n",
    "- Use indexes only on columns that are frequently used in `WHERE`, `JOIN`, or `ORDER BY` clauses.\n",
    "- Too many indexes can increase the storage size and maintenance overhead.\n",
    "\n",
    "### Example: Creating an Index"
   ]
  },
  {
   "cell_type": "code",
   "execution_count": null,
   "id": "bad41c14",
   "metadata": {},
   "outputs": [],
   "source": [
    "%%sql\n",
    "CREATE INDEX idx_product_name ON products (product_name);"
   ]
  },
  {
   "cell_type": "markdown",
   "id": "c3fb1b92",
   "metadata": {},
   "source": [
    "## CREATE VIEW Statement\n",
    "A **view** is a virtual table based on a result set of a SQL query.\n",
    "\n",
    "### Why Use Views?\n",
    "- They provide a **simplified way to query complex data** without writing the full query every time.\n",
    "- They **enhance security** by allowing users to access specific columns without exposing the entire table.\n",
    "- They can be used to **aggregate data** and present it in a specific format.\n",
    "\n",
    "### Important Considerations:\n",
    "- Views do not store data themselves; they store only the query definition.\n",
    "- Changes in the underlying tables are automatically reflected in the view.\n",
    "- Performance of views depends on the complexity of the underlying query.\n",
    "\n",
    "### Example: Creating a View"
   ]
  },
  {
   "cell_type": "code",
   "execution_count": null,
   "id": "1ffdd06e",
   "metadata": {},
   "outputs": [],
   "source": [
    "%%sql\n",
    "CREATE VIEW product_details AS\n",
    "SELECT product_name, price, stock\n",
    "FROM products;"
   ]
  },
  {
   "cell_type": "markdown",
   "id": "3896290f",
   "metadata": {},
   "source": [
    "## CREATE TRIGGER Statement\n",
    "A **trigger** is a special type of stored procedure that is automatically executed when certain events occur in the database, such as `INSERT`, `UPDATE`, or `DELETE`.\n",
    "\n",
    "### Why Use Triggers?\n",
    "- They can **enforce business rules** by automatically checking or modifying data when changes are made.\n",
    "- They can **audit changes** by recording modifications to tables.\n",
    "- They help in **maintaining referential integrity** between related tables.\n",
    "\n",
    "### Types of Triggers:\n",
    "- **AFTER Trigger**: Executes after the specified event (e.g., after an `INSERT`).\n",
    "- **BEFORE Trigger**: Executes before the specified event (e.g., before an `UPDATE`).\n",
    "\n",
    "### Important Considerations:\n",
    "- Triggers can make debugging more difficult because the code is executed automatically.\n",
    "- Overusing triggers can lead to performance issues and complex dependencies.\n",
    "\n",
    "### Example: Creating a Trigger"
   ]
  },
  {
   "cell_type": "code",
   "execution_count": null,
   "id": "3315c475",
   "metadata": {},
   "outputs": [],
   "source": [
    "%%sql\n",
    "CREATE TRIGGER update_stock\n",
    "AFTER INSERT ON products\n",
    "FOR EACH ROW\n",
    "WHEN NEW.stock < 0\n",
    "BEGIN\n",
    "    UPDATE products\n",
    "    SET stock = 0\n",
    "    WHERE product_id = NEW.product_id;\n",
    "END;"
   ]
  },
  {
   "cell_type": "markdown",
   "id": "0bd937ae",
   "metadata": {},
   "source": [
    "## Summary of Indexes, Views, and Triggers\n",
    "- **Indexes** improve query performance but should be used wisely to avoid slowing down write operations.\n",
    "- **Views** provide a simplified and secure way to query data but do not store data themselves.\n",
    "- **Triggers** automate actions based on events but can introduce complexity and should be used carefully.\n",
    "\n",
    "Understanding these concepts and using them effectively can significantly enhance the performance, maintainability, and security of your database."
   ]
  }
 ],
 "metadata": {
  "kernelspec": {
   "display_name": "Python 3",
   "language": "python",
   "name": "python3"
  },
  "language_info": {
   "name": "python",
   "version": "3.8"
  }
 },
 "nbformat": 4,
 "nbformat_minor": 5
}
