{
 "cells": [
  {
   "cell_type": "code",
   "execution_count": null,
   "metadata": {},
   "outputs": [],
   "source": [
    "!pip install requests --break-system-packages"
   ]
  },
  {
   "cell_type": "code",
   "execution_count": null,
   "metadata": {},
   "outputs": [],
   "source": [
    "import requests\n",
    "\n",
    "url = \"http://localhost:5000/messages/adam\"\n",
    "\n",
    "response = requests.get(url=url)\n",
    "\n",
    "status_code = response.status_code \n",
    "\n",
    "if status_code == 200:\n",
    "    data =  response.json() # from this => \"{\\\"message\\\": \\\"Hello, World!\\\"}\" to this => {\"message\": \"Hello, World!\"}\n",
    "   \n",
    "    display(data) "
   ]
  },
  {
   "cell_type": "code",
   "execution_count": null,
   "metadata": {},
   "outputs": [],
   "source": [
    "import requests\n",
    "\n",
    "url = \"http://localhost:5000/messages/query\"\n",
    "\n",
    "# params = {\"name\": \"Awet\", }\n",
    "\n",
    "params = {\"name\": \"Awet\", \"age\": 89}\n",
    "\n",
    "response = requests.get(url=url, params=params)\n",
    "\n",
    "status_code = response.status_code \n",
    "\n",
    "if status_code == 200:\n",
    "    data =  response.json() \n",
    "   \n",
    "    display(data) "
   ]
  },
  {
   "cell_type": "code",
   "execution_count": null,
   "metadata": {},
   "outputs": [],
   "source": [
    "import requests \n",
    "\n",
    "def make_request(url: str, params: dict = None):\n",
    "    if params:\n",
    "        response = requests.get(url=url, params=params)\n",
    "    else:\n",
    "        response = requests.get(url=url)    \n",
    "    \n",
    "    status_code = response.status_code \n",
    "    \n",
    "    if status_code == 200:\n",
    "        data =  response.json() \n",
    "        display(data) \n",
    "        \n",
    "base_url = \"http://localhost:5000/api\"\n",
    "\n",
    "hello_url = f\"{base_url}/hello\"\n",
    "goodbye_url = f\"{base_url}/goodbye\"\n",
    "redirect_url = f\"{base_url}/redirect\"\n",
    "\n",
    "urls = [hello_url, goodbye_url, redirect_url]\n",
    "\n",
    "for some_url in urls:\n",
    "    make_request(url=some_url)"
   ]
  },
  {
   "cell_type": "code",
   "execution_count": null,
   "metadata": {},
   "outputs": [],
   "source": [
    "import requests \n",
    "from IPython.display import HTML\n",
    "\n",
    "def make_request(url: str, params: dict = None):\n",
    "    if params:\n",
    "        response = requests.get(url=url, params=params)\n",
    "    else:\n",
    "        response = requests.get(url=url)    \n",
    "    \n",
    "    status_code = response.status_code \n",
    "    \n",
    "    if status_code == 200:\n",
    "        html_text =  response.text\n",
    "        display(HTML(html_text)) \n",
    "        \n",
    "base_url = \"http://localhost:5000/templates\"\n",
    "\n",
    "greet_url=  f\"{base_url}/greet/adam\"\n",
    "query_url =  f\"{base_url}/query\"\n",
    "params = {\"name\": \"Awet\", \"age\": 89}\n",
    "\n",
    "urls_arts = [\n",
    "    {\"url\": greet_url, \"params\": None},\n",
    "    {\"url\": query_url, \"params\": params}\n",
    "]\n",
    "for some_urls_art in urls_arts:\n",
    "    some_url = some_urls_art[\"url\"]\n",
    "    some_params = some_urls_art[\"params\"]\n",
    "    make_request(url=some_url, params=some_params)"
   ]
  },
  {
   "cell_type": "code",
   "execution_count": 11,
   "metadata": {},
   "outputs": [
    {
     "data": {
      "text/plain": [
       "400"
      ]
     },
     "metadata": {},
     "output_type": "display_data"
    },
    {
     "data": {
      "text/plain": [
       "\"Error (POST http://localhost:5000/example//message 400): {'error': 'ID and Message are required'}\""
      ]
     },
     "metadata": {},
     "output_type": "display_data"
    },
    {
     "data": {
      "text/plain": [
       "201"
      ]
     },
     "metadata": {},
     "output_type": "display_data"
    },
    {
     "data": {
      "text/plain": [
       "\"Success (POST http://localhost:5000/example//message): {'message': 'Created: Hello, World'}\""
      ]
     },
     "metadata": {},
     "output_type": "display_data"
    },
    {
     "data": {
      "text/plain": [
       "400"
      ]
     },
     "metadata": {},
     "output_type": "display_data"
    },
    {
     "data": {
      "text/plain": [
       "\"Error (POST http://localhost:5000/example//message 400): {'error': 'Message with this ID already exists'}\""
      ]
     },
     "metadata": {},
     "output_type": "display_data"
    },
    {
     "data": {
      "text/plain": [
       "404"
      ]
     },
     "metadata": {},
     "output_type": "display_data"
    },
    {
     "data": {
      "text/plain": [
       "\"Error (PUT http://localhost:5000/example//message 404): {'error': 'Message with this ID does not exist'}\""
      ]
     },
     "metadata": {},
     "output_type": "display_data"
    },
    {
     "data": {
      "text/plain": [
       "200"
      ]
     },
     "metadata": {},
     "output_type": "display_data"
    },
    {
     "data": {
      "text/plain": [
       "\"Success (PUT http://localhost:5000/example//message): {'message': 'Updated: Hello, updated message'}\""
      ]
     },
     "metadata": {},
     "output_type": "display_data"
    },
    {
     "data": {
      "text/plain": [
       "404"
      ]
     },
     "metadata": {},
     "output_type": "display_data"
    },
    {
     "data": {
      "text/plain": [
       "\"Error (DELETE http://localhost:5000/example//message 404): {'error': 'Message with this ID does not exist'}\""
      ]
     },
     "metadata": {},
     "output_type": "display_data"
    },
    {
     "data": {
      "text/plain": [
       "200"
      ]
     },
     "metadata": {},
     "output_type": "display_data"
    },
    {
     "data": {
      "text/plain": [
       "\"Success (DELETE http://localhost:5000/example//message): {'message': 'Deleted: Hello, updated message'}\""
      ]
     },
     "metadata": {},
     "output_type": "display_data"
    }
   ],
   "source": [
    "import requests\n",
    "\n",
    "BASE_URL = \"http://localhost:5000/example\"\n",
    " \n",
    "def interact_with_api(actions: list[dict]):\n",
    "     for action in actions:\n",
    "        url = f\"{BASE_URL}/{action['endpoint']}\"\n",
    "        method= action[\"method\"]\n",
    "        payload = action.get('data', {})\n",
    "        \n",
    "        if method == \"POST\":\n",
    "            response = requests.post(url=url, json=payload)\n",
    "        elif method == \"PUT\":\n",
    "            response = requests.put(url=url, json=payload)  \n",
    "        elif method == \"DELETE\":\n",
    "            response = requests.delete(url=url, json=payload)\n",
    "        else:\n",
    "            display(f\"Unsupported method: {method}\")\n",
    " \n",
    "        \n",
    "        status_code = response.status_code\n",
    "        \n",
    "        display(status_code)\n",
    "        \n",
    "        if status_code in (200, 201 , 204):\n",
    "            display(f\"Success ({method} {url}): {response.json()}\")\n",
    "        else:\n",
    "            display(f\"Error ({method} {url} {status_code}): {response.json()}\")\n",
    "        \n",
    "some_actions = [\n",
    "    {\n",
    "        \"endpoint\": \"/message\",\n",
    "        \"method\": \"POST\",\n",
    "        \"data\": { \"message\": \"Hello, World\"}\n",
    "    },\n",
    "    {\n",
    "        \"endpoint\": \"/message\",\n",
    "        \"method\": \"POST\",\n",
    "        \"data\": {\"id\": 1, \"message\": \"Hello, World\"}\n",
    "    },\n",
    "    \n",
    "    {\n",
    "        \"endpoint\": \"/message\",\n",
    "        \"method\": \"POST\",\n",
    "        \"data\": {\"id\": 1, \"message\": \"Hello, World\"}\n",
    "    },\n",
    "    \n",
    "    {\n",
    "        \"endpoint\": \"/message\",\n",
    "        \"method\": \"PUT\",\n",
    "        \"data\": {\"id\": 400, \"message\": \"Hello, updated message\"}\n",
    "    },\n",
    "    {\n",
    "        \"endpoint\": \"/message\",\n",
    "        \"method\": \"PUT\",\n",
    "        \"data\": {\"id\": 1, \"message\": \"Hello, updated message\"}\n",
    "    },\n",
    "     \n",
    "    {\n",
    "        \"endpoint\": \"/message\",\n",
    "        \"method\": \"DELETE\",\n",
    "        \"data\": {\"id\": 400,}\n",
    "    },\n",
    "    {\n",
    "        \"endpoint\": \"/message\",\n",
    "        \"method\": \"DELETE\",\n",
    "        \"data\": {\"id\": 1,}\n",
    "    }\n",
    "\n",
    "]\n",
    "\n",
    "interact_with_api(actions=some_actions)"
   ]
  }
 ],
 "metadata": {
  "kernelspec": {
   "display_name": "Python 3",
   "language": "python",
   "name": "python3"
  },
  "language_info": {
   "codemirror_mode": {
    "name": "ipython",
    "version": 3
   },
   "file_extension": ".py",
   "mimetype": "text/x-python",
   "name": "python",
   "nbconvert_exporter": "python",
   "pygments_lexer": "ipython3",
   "version": "3.11.2"
  }
 },
 "nbformat": 4,
 "nbformat_minor": 2
}
