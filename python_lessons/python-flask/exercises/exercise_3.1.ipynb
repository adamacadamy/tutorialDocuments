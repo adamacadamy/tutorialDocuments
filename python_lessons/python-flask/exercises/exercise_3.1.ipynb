{
 "cells": [
  {
   "cell_type": "markdown",
   "metadata": {},
   "source": [
    "## Flask Projects with Web and RESTful APIs\n",
    "\n",
    "### 1. **To-Do App**\n",
    "\n",
    "#### RESTful API Features:\n",
    "- **GET /todos**: Retrieve all to-do items.\n",
    "- **POST /todos**: Add a new to-do item.\n",
    "- **PUT /todos/<id>**: Update a specific to-do item.\n",
    "- **DELETE /todos/<id>**: Delete a specific to-do item.\n",
    "- **GET /todos/<id>**: Retrieve a specific to-do item.\n",
    "\n",
    "#### Model:\n",
    "- **Todo**: Represents a single to-do item.\n",
    "  - `id`: Unique identifier for the to-do.\n",
    "  - `task`: Description of the to-do.\n",
    "  - `is_completed`: Boolean indicating whether the to-do is completed.\n",
    "\n",
    "---\n"
   ]
  },
  {
   "cell_type": "code",
   "execution_count": null,
   "metadata": {},
   "outputs": [],
   "source": [
    "!pip install flask --break-system-packages\n",
    "!pip install flask-restx  --break-system-packages"
   ]
  },
  {
   "cell_type": "code",
   "execution_count": null,
   "metadata": {},
   "outputs": [],
   "source": [
    "import nest_asyncio\n",
    "from flask import Flask, jsonify, request\n",
    "\n",
    "# Allow Flask to run in a Jupyter Notebook\n",
    "nest_asyncio.apply()\n",
    "\n",
    "# Initialize Flask app\n",
    "app = Flask(__name__)\n",
    "\n",
    "# In-memory storage for to-do tasks\n",
    "todos = {} \n",
    "\n",
    "\n",
    "\n",
    "    \n",
    "\n",
    "# localhost = 127.0.0.1, 0.0.0.0\n",
    "run_simple('localhost', 5000, app, use_debugger=True)"
   ]
  }
 ],
 "metadata": {
  "kernelspec": {
   "display_name": "Python 3",
   "language": "python",
   "name": "python3"
  },
  "language_info": {
   "codemirror_mode": {
    "name": "ipython",
    "version": 3
   },
   "file_extension": ".py",
   "mimetype": "text/x-python",
   "name": "python",
   "nbconvert_exporter": "python",
   "pygments_lexer": "ipython3",
   "version": "3.11.2"
  }
 },
 "nbformat": 4,
 "nbformat_minor": 2
}
