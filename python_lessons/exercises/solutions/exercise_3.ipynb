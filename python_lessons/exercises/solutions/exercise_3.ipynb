{
 "cells": [
  {
   "cell_type": "markdown",
   "metadata": {},
   "source": [
    "**1. Define a function** `calculate_statistics` that takes a list of numbers and returns a dictionary containing:  \n",
    "a. The mean of the numbers.  \n",
    "b. The median of the numbers.  \n",
    "c. The mode of the numbers.  \n",
    " Use the `statistics` module for these calculations.  \n",
    "\n",
    "\n",
    "### EXPLANATION\n",
    "mean, median, mode  [ averages] measures of central tendencies \n",
    "\n",
    "what does central tendency mean \n",
    "value that most likely describes the data or the central value of the data\n",
    "``` \n",
    "    values = [1, 5, 7, 9, 3, ] \n",
    "\n",
    "    mean = Sum of all values/ Number of all values\n",
    "   \n",
    "    sum = 25/5 = 5\n",
    "\n",
    "    sort ascending = [1, 3, 5, 7, 9,]\n",
    "    median = middle if odd but if even  add two middle values/ 2\n",
    "           = 5\n",
    "\n",
    "\n",
    "    value =  = [1, 3, 5, 7, 9,3]\n",
    "    mode = the most recurring value  = 3\n",
    "```\n",
    "\n"
   ]
  },
  {
   "cell_type": "code",
   "execution_count": 4,
   "metadata": {},
   "outputs": [
    {
     "data": {
      "text/plain": [
       "{'mean': 5, 'mode': 1, 'median': 5}"
      ]
     },
     "execution_count": 4,
     "metadata": {},
     "output_type": "execute_result"
    }
   ],
   "source": [
    "\"\"\" \n",
    "name: calculate_statistics\n",
    "args:\n",
    "    some_values: list[int]\n",
    "returns:\n",
    "    some_dict: {mean, mod, median ...}\n",
    "\"\"\"\n",
    "import statistics\n",
    "\n",
    "def calculate_statistics(some_values: list[int])-> dict[str, float|int]:\n",
    "    return {\n",
    "        \"mean\": statistics.mean(some_values),\n",
    "        \"mode\": statistics.mode(some_values),\n",
    "        \"median\": statistics.median(some_values)\n",
    "    }\n",
    "\n",
    "values =  [1, 3, 5, 7, 9, ]\n",
    "calculate_statistics(some_values=values)"
   ]
  },
  {
   "cell_type": "markdown",
   "metadata": {},
   "source": [
    "**2. Create a class** `Rectangle` that has attributes for `width` and `height`.  \n",
    "a Define a method to calculate the area of the rectangle.  \n",
    "b Define a method to calculate the perimeter of the rectangle.  \n",
    "c Instantiate two rectangles and compare their areas.  \n"
   ]
  },
  {
   "cell_type": "code",
   "execution_count": 2,
   "metadata": {},
   "outputs": [
    {
     "name": "stdout",
     "output_type": "stream",
     "text": [
      "Area of Rectangle 1: 50\n",
      "Area of Rectangle 2: 45\n",
      "Rectangle 1 has a larger area\n"
     ]
    }
   ],
   "source": [
    "\"\"\" \n",
    "Class:\n",
    "    name: Rectangle\n",
    "    properties:\n",
    "        width: float\n",
    "        height: float\n",
    "    methods:\n",
    "        constructor:\n",
    "            args:\n",
    "                width: float\n",
    "                height: float\n",
    "            sets:\n",
    "                width: 'supplied width'\n",
    "                height: 'supplied height'\n",
    "        calculate_area:\n",
    "            returns:\n",
    "                area_of_rectangle: float\n",
    "        calculate_perimeter:\n",
    "            returns:\n",
    "                perimeter_of_rectangle: float # 2 * area\n",
    "        \n",
    "\"\"\"\n",
    " \n",
    " \n",
    "\n",
    "class Rectangle:\n",
    "    def __init__(self, width: float, height: float)->None:\n",
    "        self.width = width\n",
    "        self.height = height\n",
    "    \n",
    "    def calculate_area(self)-> float:\n",
    "        return self.width * self.height\n",
    "    \n",
    "    def calculate_perimeter(self)-> float:\n",
    "        return 2 * (self.width + self.height)\n",
    "\n",
    "\n",
    "rect1 = Rectangle(5, 10)\n",
    "rect2 = Rectangle(3, 15)\n",
    "print(f\"Area of Rectangle 1: {rect1.calculate_area()}\")\n",
    "print(f\"Area of Rectangle 2: {rect2.calculate_area()}\")\n",
    "print(\"Rectangle 1 has a larger area\" if rect1.calculate_area() > rect2.calculate_area() else \"Rectangle 2 has a larger area\")\n",
    "\n",
    "    \n",
    " "
   ]
  },
  {
   "cell_type": "markdown",
   "metadata": {},
   "source": [
    "**3. Define a function** `is_prime` that takes an integer and returns `True` if the number is prime, and `False` otherwise.  \n",
    "\n",
    "a. Use this function to filter a list of numbers (from 1 to 100) and return only the prime numbers.  \n"
   ]
  },
  {
   "cell_type": "code",
   "execution_count": 1,
   "metadata": {},
   "outputs": [
    {
     "data": {
      "text/plain": [
       "False"
      ]
     },
     "execution_count": 1,
     "metadata": {},
     "output_type": "execute_result"
    }
   ],
   "source": [
    "\"\"\" \n",
    "name: is_prime\n",
    "args:\n",
    "  some_value: int\n",
    "returns:\n",
    "    is_value_prime: bool\n",
    "\"\"\"\n",
    "\n",
    "\"\"\" \n",
    "\n",
    "\"\"\"\n",
    "def is_prime(some_value:int) -> bool:\n",
    "    if some_value < 2: # check if some value is less than 2\n",
    "        return False\n",
    "    \n",
    "    start_value = 2\n",
    "    stop_value = int(some_value**0.5)+1 # 3\n",
    "    i = start_value\n",
    "    # while i != stop_value:\n",
    "    #     if some_value % i == 0:\n",
    "    #         return False\n",
    "    for i in range(start_value, stop_value):\n",
    "        if some_value % i == 0:\n",
    "            return False\n",
    "    return True\n",
    "\n",
    "value = 4\n",
    "\n",
    " \n",
    "is_prime(some_value=value)"
   ]
  },
  {
   "cell_type": "markdown",
   "metadata": {},
   "source": [
    "**4. Define a function** `merge_dictionaries` that accepts two dictionaries and merges them.  \n",
    "a. If both dictionaries have the same key, sum the values of that key.  \n",
    "b. Otherwise, combine the keys and values into the resulting dictionary.  \n"
   ]
  },
  {
   "cell_type": "code",
   "execution_count": 2,
   "metadata": {},
   "outputs": [
    {
     "data": {
      "text/plain": [
       "{'x': 20, 'y': 30, 'z': 20, 'e': 30, 'f': 20}"
      ]
     },
     "execution_count": 2,
     "metadata": {},
     "output_type": "execute_result"
    }
   ],
   "source": [
    "\"\"\" \n",
    "name: merge_dictionaries\n",
    "args:\n",
    "    dict_1: dict[str, float|int]\n",
    "    dict_2: dict[str, float|int]\n",
    "returns:\n",
    "    merged_dict: dict[str, float|int]\n",
    "operation:\n",
    "    - if keys match, merge values\n",
    "    - else combine the keys\n",
    "example:\n",
    "    dict1: {\"x\": 10, \"y\": 30, \"z\": 20}\n",
    "    dict2: {\"x\": 10, \"e\": 30, \"f\": 20}\n",
    "    result: {\"x\": 20, \"y\": 30, \"z\": 20, \"e\": 30, \"f\": 20}\n",
    "\"\"\"\n",
    "def merge_dictionaries(dict_1: dict[str, float|int], dict_2: dict[str, float|int]) -> dict[str, float|int]:\n",
    "    result = dict_1.copy() #{\"x\": 10, \"y\": 30, \"z\": 20}\n",
    "    \n",
    "    \"\"\"                  1st loop   second loop   third loop\n",
    "    dict_2.items() = [(\"x\", 10),   (\"e\", 30),     (\"f\", 20)]\n",
    "    result = {\"x\": 10, \"y\": 30, \"z\": 20}\n",
    "    \n",
    "    1st loop\n",
    "        k, v  = (\"x\", 10)\n",
    "        k = \"x\"\n",
    "        v = 10\n",
    "        if k in result: => meaning if \"x\" in {\"x\": 10, \"y\": 30, \"z\": 20}\n",
    "            result[\"x\"] = result[\"x\"] + v\n",
    "            result[\"x\"] += v\n",
    "            result[\"x\"] = 10 + 10 = 20\n",
    "            \n",
    "        result = {\"x\": 20, \"y\": 30, \"z\": 20}\n",
    "    result  = {\"x\": 20, \"y\": 30, \"z\": 20, }\n",
    "    2nd loop\n",
    "        k, v = (\"e\", 30)\n",
    "        k = \"e\"\n",
    "        v = 30\n",
    "        if k in result:  => meaning if \"e\" in {\"x\": 10, \"y\": 30, \"z\": 20}\n",
    "            pass\n",
    "        else:\n",
    "            result[k] = v\n",
    "            result[\"e\"] = 30\n",
    "        \n",
    "    result  = {\"x\": 20, \"y\": 30, \"z\": 20, \"e\": 30}\n",
    "    3d loop:  \n",
    "        k, v = (\"f\", 20)\n",
    "        k = \"f\"\n",
    "        v = 20\n",
    "        if k in result: => meaning if \"f\" in {\"x\": 10, \"y\": 30, \"z\": 20}\n",
    "          pass\n",
    "        else:\n",
    "            result[k] = v\n",
    "            result[\"f\"] = 20\n",
    "    result  = {\"x\": 20, \"y\": 30, \"z\": 20, \"e\": 30, \"f\": 20}\n",
    "    \n",
    "    finally\n",
    "    result  = {\"x\": 20, \"y\": 30, \"z\": 20, \"e\": 30, \"f\": 20}\n",
    "        \n",
    "        \n",
    "            \n",
    "    \n",
    "    \n",
    "    \"\"\"\n",
    "    for k, v in dict_2.items(): #{\"x\": 10, \"e\": 30, \"f\": 20} \n",
    "        if k in result:\n",
    "            # merged[k] = v + merged[k]\n",
    "            result[k] += v\n",
    "        else:\n",
    "            result[k] = v\n",
    "    return result\n",
    "\n",
    "dict1 = {\"x\": 10, \"y\": 30, \"z\": 20}\n",
    "dict2 = {\"x\": 10, \"e\": 30, \"f\": 20}   \n",
    "\n",
    "merge_dictionaries(dict_1=dict1, dict_2=dict2)      "
   ]
  },
  {
   "cell_type": "markdown",
   "metadata": {},
   "source": [
    "** 5. Create a generator function** `fibonacci` that yields an infinite sequence of Fibonacci numbers.  \n",
    "a. Use a `for` loop to print the first 20 Fibonacci numbers.  \n",
    "\n",
    "fibonacci number are number series in which each number is the sum of the two preceding ones, starting from 0 and 1\n",
    "\n",
    "\n",
    "0,1,1,2,3..   \n",
    "\n",
    "0,1,1,2,3,5,8 ..."
   ]
  },
  {
   "cell_type": "code",
   "execution_count": null,
   "metadata": {},
   "outputs": [],
   "source": [
    "\"\"\" \n",
    "name: fibonacci\n",
    "display:\n",
    "    sequence_of_fist_20_fb_numbers: \n",
    "\"\"\"\n",
    "\n",
    "\"\"\" \n",
    " yield = take out similar to return \n",
    " a, b = 0\n",
    " 1st loop\n",
    "   a, b  = 0, 1\n",
    "   a = 0 will be yielded  next => a = 0\n",
    "   then a =b,  b = a+ b =\n",
    "        a = 1 b =1\n",
    "\n",
    "\n",
    "2nd loop\n",
    "    a,b = 1, 1\n",
    "    a will be yielded next => a = 1\n",
    "    then a = b , b = a +b\n",
    "         a = 1  b = 2\n",
    "\n",
    "3rd loop\n",
    "   a,b = 1, 2\n",
    "   a will be yielded  next=> a = 1\n",
    "   then a=b, b= a+b\n",
    "   a = 2, b = 3 \n",
    "....\n",
    "\n",
    "\n",
    "20th loop\n",
    ",,,,\n",
    "\"\"\"\n",
    "def fibonacci():\n",
    "    a, b = 0, 1\n",
    "    \n",
    "    while True:\n",
    "        yield a\n",
    "        a, b = b, a+b\n",
    "        \n",
    "fib_gen = fibonacci()\n",
    "for _ in range(20):\n",
    "    display(next(fib_gen))"
   ]
  },
  {
   "cell_type": "code",
   "execution_count": null,
   "metadata": {},
   "outputs": [
    {
     "name": "stdout",
     "output_type": "stream",
     "text": [
      "0\n",
      "1\n",
      "1\n",
      "2\n",
      "3\n",
      "5\n",
      "8\n",
      "13\n",
      "21\n",
      "34\n",
      "55\n",
      "89\n",
      "144\n",
      "233\n",
      "377\n",
      "610\n",
      "987\n",
      "1597\n",
      "2584\n",
      "4181\n"
     ]
    }
   ],
   "source": [
    "def fibonacci(limit: int): \n",
    "    a, b = 0, 1\n",
    "    \n",
    "    for _ in range(limit):\n",
    "        print(a)\n",
    "        # a, b = b , b+a\n",
    "        a = b\n",
    "        # b  = b+a\n",
    "        b += a   \n",
    "        \n",
    "fibonacci(20)"
   ]
  }
 ],
 "metadata": {
  "kernelspec": {
   "display_name": "Python 3",
   "language": "python",
   "name": "python3"
  },
  "language_info": {
   "codemirror_mode": {
    "name": "ipython",
    "version": 3
   },
   "file_extension": ".py",
   "mimetype": "text/x-python",
   "name": "python",
   "nbconvert_exporter": "python",
   "pygments_lexer": "ipython3",
   "version": "3.13.0"
  }
 },
 "nbformat": 4,
 "nbformat_minor": 2
}
