{
 "cells": [
  {
   "cell_type": "markdown",
   "id": "b4222bd9",
   "metadata": {},
   "source": [
    "\n",
    "# Entity-Relationship Diagrams (ERDs)\n",
    "\n",
    "An **Entity-Relationship Diagram (ERD)** is a visual representation of the relationships between entities in a database. It helps design and model relational databases by illustrating tables (entities), their attributes, and the relationships between them.\n"
   ]
  },
  {
   "cell_type": "markdown",
   "id": "e1f0853e",
   "metadata": {},
   "source": [
    "\n",
    "## 1. Components of an ERD\n",
    "\n",
    "### 1.1 Entities\n",
    "- **Definition**: Entities represent tables in a database. Each entity is a real-world object or concept.\n",
    "- **Notation**: Entities are represented by rectangles.\n",
    "- **Example**: `employees`, `departments`.  \n",
    "\n",
    "![image](images/entity.png)  \n",
    "\n",
    "### 1.2 Attributes\n",
    "- **Definition**: Attributes are the properties or columns of an entity.\n",
    "- **Notation**: Attributes are represented by ovals connected to their entity.\n",
    "- **Example**: Attributes of the `employees` entity include `employee_id`, `first_name`, and `department_id`.  \n",
    "  \n",
    "![images](images/attributes.png)  \n",
    "\n",
    "### 1.3 Relationships\n",
    "- **Definition**: Relationships describe how entities interact with each other.\n",
    "- **Notation**: Represented by a diamond shape between entities.\n",
    "- **Types of Relationships**:\n",
    "  - **One-to-One (1:1)**: One entity instance is associated with one instance of another entity.\n",
    "  - **One-to-Many (1:N)**: One entity instance is associated with many instances of another entity.\n",
    "  - **Many-to-Many (M:N)**: Many instances of an entity are associated with many instances of another entity.  \n",
    "  \n",
    "![images](images/relationship.png) \n"
   ]
  },
  {
   "cell_type": "markdown",
   "id": "48c3842d",
   "metadata": {},
   "source": [
    "\n",
    "## 2. Cardinality in ERDs\n",
    "\n",
    "Cardinality defines the number of instances of one entity that can be associated with instances of another entity.\n",
    "- **1**: Exactly one.\n",
    "- **N**: Many.\n",
    "- **0..1**: Zero or one.\n",
    "- **1..N**: At least one to many.\n",
    "- **0..N**: Zero or many.\n",
    "\n",
    "### Example:\n",
    "- An employee belongs to **one** department, but a department can have **many** employees (1:N).\n",
    "![img](images/cardinality.png)"
   ]
  },
  {
   "cell_type": "markdown",
   "id": "eba41bcf",
   "metadata": {},
   "source": [
    "\n",
    "## 3. Keys in ERDs\n",
    "\n",
    "### 3.1 Primary Key\n",
    "- **Definition**: A unique identifier for each record in an entity.\n",
    "- **Notation**: Underlined attribute in the diagram.\n",
    "- **Example**: `employee_id` in the `employees` table.\n",
    "\n",
    "### 3.2 Foreign Key\n",
    "- **Definition**: An attribute in one entity that references the primary key of another entity.\n",
    "- **Notation**: Arrow or link from the foreign key to the referenced primary key.\n",
    "- **Example**: `department_id` in the `employees` table referencing `department_id` in the `departments` table.\n"
   ]
  },
  {
   "cell_type": "markdown",
   "id": "a45a535c",
   "metadata": {},
   "source": [
    "\n",
    "## 4. Drawing an ERD\n",
    "\n",
    "### Step 1: Identify Entities\n",
    "List the objects that need to be represented as tables. Example: `employees`, `departments`, `projects`, `assignments`.\n",
    "\n",
    "### Step 2: Identify Attributes\n",
    "For each entity, list its properties. Example:\n",
    "- `employees`: `employee_id`, `first_name`, `last_name`, `department_id`, `salary`.\n",
    "\n",
    "### Step 3: Define Relationships\n",
    "Establish how entities are related. Example:\n",
    "- `employees` belong to `departments` (1:N).\n",
    "- `employees` are assigned to `projects` (M:N).\n",
    "\n",
    "### Step 4: Add Cardinality\n",
    "Specify the cardinality for each relationship. Example:\n",
    "- Each `employee` can be assigned to many `projects`, but each `project` must have many `employees`.\n"
   ]
  },
  {
   "cell_type": "markdown",
   "id": "195873ca",
   "metadata": {},
   "source": [
    "\n",
    "## 5. Tools for Creating ERDs\n",
    "\n",
    "1. **Manual Tools**:\n",
    "   - Pen and paper for basic sketches.\n",
    "2. **Software Tools**:\n",
    "   - [Draw.io](https://app.diagrams.net/)\n",
    "   - [Lucidchart](https://www.lucidchart.com/)\n",
    "   - [MySQL Workbench](https://dev.mysql.com/downloads/workbench/)\n",
    "   - [ER/Studio](https://www.idera.com/er-studio-data-architect-software)\n",
    "   - Microsoft Visio\n"
   ]
  },
  {
   "cell_type": "markdown",
   "id": "cbc17dd7",
   "metadata": {},
   "source": [
    "\n",
    "## 6. ERD Example: Database Schema for a Company\n",
    "\n",
    "### Tables:\n",
    "1. **departments**\n",
    "   - `department_id` (PK)\n",
    "   - `department_name`\n",
    "2. **employees**\n",
    "   - `employee_id` (PK)\n",
    "   - `first_name`\n",
    "   - `last_name`\n",
    "   - `department_id` (FK)\n",
    "   - `salary`\n",
    "3. **projects**\n",
    "   - `project_id` (PK)\n",
    "   - `project_name`\n",
    "4. **assignments**\n",
    "   - `assignment_id` (PK)\n",
    "   - `employee_id` (FK)\n",
    "   - `project_id` (FK)\n",
    "   - `role`\n",
    "\n",
    "### Relationships:\n",
    "- An employee belongs to one department (1:N).\n",
    "- An employee can work on multiple projects (M:N).\n",
    "- A department can have multiple employees (1:N).\n",
    "\n",
    "![img](images/diagram.png)"
   ]
  },
  {
   "cell_type": "markdown",
   "id": "640e4054",
   "metadata": {},
   "source": [
    "\n",
    "## 7. Practice Exercise\n",
    "\n",
    "### Task:\n",
    "Draw an ERD for the following scenario:\n",
    "- A university has **students** and **courses**.\n",
    "- Each student can enroll in multiple courses, and each course can have multiple students.\n",
    "- Students have `student_id`, `name`, and `email`.\n",
    "- Courses have `course_id` and `course_name`.\n",
    "\n",
    "### Steps:\n",
    "1. Identify entities (`students`, `courses`, `enrollments`).\n",
    "2. List attributes for each entity.\n",
    "3. Define relationships and cardinality.\n",
    "\n",
    "Use an ERD tool of your choice to create the diagram.\n"
   ]
  }
 ],
 "metadata": {
  "language_info": {
   "name": "python"
  }
 },
 "nbformat": 4,
 "nbformat_minor": 5
}
