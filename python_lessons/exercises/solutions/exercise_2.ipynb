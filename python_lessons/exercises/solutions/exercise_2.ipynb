{
 "cells": [
  {
   "cell_type": "markdown",
   "metadata": {},
   "source": [
    "\n",
    "### Python Code Challenge: Functions and List Comprehensions\n",
    "\n",
    " **Challenge 1**: Define a function that takes a list of numbers and returns a new list containing only the even numbers.  \n",
    " \n",
    " The function should use list comprehension.\n",
    " "
   ]
  },
  {
   "cell_type": "code",
   "execution_count": 13,
   "metadata": {},
   "outputs": [
    {
     "data": {
      "text/plain": [
       "[12, 88, 22]"
      ]
     },
     "metadata": {},
     "output_type": "display_data"
    },
    {
     "data": {
      "text/plain": [
       "[12, 88, 22]"
      ]
     },
     "metadata": {},
     "output_type": "display_data"
    },
    {
     "data": {
      "text/plain": [
       "'Alice: 85'"
      ]
     },
     "metadata": {},
     "output_type": "display_data"
    },
    {
     "data": {
      "text/plain": [
       "'Bob: 90'"
      ]
     },
     "metadata": {},
     "output_type": "display_data"
    },
    {
     "data": {
      "text/plain": [
       "'Charlie: 75'"
      ]
     },
     "metadata": {},
     "output_type": "display_data"
    },
    {
     "data": {
      "text/plain": [
       "None"
      ]
     },
     "metadata": {},
     "output_type": "display_data"
    },
    {
     "data": {
      "text/plain": [
       "'USA: 1'"
      ]
     },
     "metadata": {},
     "output_type": "display_data"
    },
    {
     "data": {
      "text/plain": [
       "'China: 2'"
      ]
     },
     "metadata": {},
     "output_type": "display_data"
    },
    {
     "data": {
      "text/plain": [
       "'UK: 4'"
      ]
     },
     "metadata": {},
     "output_type": "display_data"
    },
    {
     "data": {
      "text/plain": [
       "'adam fuzum tewelde'"
      ]
     },
     "metadata": {},
     "output_type": "display_data"
    },
    {
     "data": {
      "text/plain": [
       "'gebre teklay abrha'"
      ]
     },
     "metadata": {},
     "output_type": "display_data"
    }
   ],
   "source": [
    "def get_even_numbered_list(given_list: list,) -> list[int]:\n",
    "    some_list = [ number for number in given_list if number % 2 == 0]\n",
    "    \n",
    "    return some_list\n",
    "\n",
    "some_list = [1, 5, 9, 12, 87, 88, 22]\n",
    "\n",
    "even_numbered_list = get_even_numbered_list(some_list)\n",
    "\n",
    "display(even_numbered_list)\n",
    "\n",
    "\n",
    "display(get_even_numbered_list(some_list))\n",
    "\n",
    "\n",
    "\n",
    "grades = {\n",
    "    \"Alice\": 85,\n",
    "    \"Bob\": 90,\n",
    "    \"Charlie\": 75, \n",
    "}\n",
    "\n",
    "ranks = {\n",
    "    \"USA\": 1, \n",
    "    \"China\": 2, \n",
    "    \"UK\": 4\n",
    "}\n",
    "\n",
    "def get_keys_and_values(some_dict: dict):\n",
    "    for k, v in some_dict.items():\n",
    "        display(f\"{k}: {v}\")\n",
    "         \n",
    "# functions do not work until they are called \n",
    "result = get_keys_and_values(grades)\n",
    "display(result)\n",
    "\n",
    "\n",
    "get_keys_and_values(ranks)\n",
    "\n",
    "def combine_names(first_name: str, last_name: str, sir_name: str) -> str:\n",
    "    return f\"{first_name} {last_name} {sir_name}\"\n",
    "\n",
    "full_name = combine_names(\"adam\", \"fuzum\", \"tewelde\")\n",
    "\n",
    "\n",
    "display(full_name)\n",
    "\n",
    "full_name = combine_names(sir_name=\"abrha\", last_name=\"teklay\", first_name=\"gebre\")\n",
    "\n",
    "display(full_name)\n",
    "\n",
    " "
   ]
  },
  {
   "cell_type": "markdown",
   "metadata": {},
   "source": [
    " \n",
    "**Challenge 2**: Define a function that takes a list of strings and returns a new list with the strings that have more than 5 characters. \n",
    " \n",
    "Use list comprehension for filtering.  \n"
   ]
  },
  {
   "cell_type": "code",
   "execution_count": 25,
   "metadata": {},
   "outputs": [
    {
     "data": {
      "text/plain": [
       "['come on', 'learns', 'youtube creators']"
      ]
     },
     "metadata": {},
     "output_type": "display_data"
    },
    {
     "data": {
      "text/plain": [
       "['another ss', 'sss on', 'babdsa']"
      ]
     },
     "metadata": {},
     "output_type": "display_data"
    }
   ],
   "source": [
    "\n",
    "\n",
    "def list_with_more_5_chars(words: list[str]) -> list[str]:\n",
    "    return [word for word in words if len(word) > 5]\n",
    "\n",
    "some_words = [\"adam\", \"kahse\", \"come on\", \"learns\", \"youtube creators\"]\n",
    "\n",
    "new_list =   list_with_more_5_chars(some_words)\n",
    "\n",
    "display(new_list)\n",
    "\n",
    "some_other_words = [\"some\", \"another ss\", \"sss on\", \"babdsa\", \"huray\"]\n",
    "new_list =  list_with_more_5_chars(some_words)\n",
    "\n",
    "display(new_list)\n",
    "\n",
    "\n"
   ]
  },
  {
   "cell_type": "markdown",
   "metadata": {},
   "source": [
    "**Challenge 3**: Write a function that takes a list of integers and returns a list of their squares.   \n",
    "Use list comprehension to achieve this."
   ]
  },
  {
   "cell_type": "code",
   "execution_count": 27,
   "metadata": {},
   "outputs": [
    {
     "data": {
      "text/plain": [
       "[4, 144, 25, 16, 36]"
      ]
     },
     "metadata": {},
     "output_type": "display_data"
    },
    {
     "data": {
      "text/plain": [
       "[484, 3025, 1, 25]"
      ]
     },
     "metadata": {},
     "output_type": "display_data"
    }
   ],
   "source": [
    "def square_of_ints_in_list(numbers: list[int]) -> list[int]:\n",
    "    return [number**2 for number in numbers]\n",
    "\n",
    "some_numbers = [2, 12, 5, 4, 6]\n",
    "s1 = square_of_ints_in_list(numbers=some_numbers)\n",
    "display(s1)\n",
    "\n",
    "another_numbers = [22, 55, 1, 5]\n",
    "s2 = square_of_ints_in_list(numbers=another_numbers)\n",
    "display(s2)"
   ]
  },
  {
   "cell_type": "markdown",
   "metadata": {},
   "source": [
    "**Challenge 4**: Write a function that accepts two lists of the same length and returns a list of tuples,  \n",
    " where each tuple contains elements from the two lists at the corresponding positions (same index). Use list comprehension.\n",
    "\n"
   ]
  },
  {
   "cell_type": "code",
   "execution_count": 31,
   "metadata": {},
   "outputs": [
    {
     "data": {
      "text/plain": [
       "[(1, 2), (4, 7), (6, 0)]"
      ]
     },
     "metadata": {},
     "output_type": "display_data"
    }
   ],
   "source": [
    "\n",
    "list_1 = [1, 4, 6]\n",
    "list_2 = [2, 7, 0]\n",
    "\n",
    "def list_tuple(l1: list[int|float], l2: list[int|float]) -> list[tuple[int|float]]:\n",
    "    return [(val1, val2) for val1, val2 in zip(l1,l2)]\n",
    "\n",
    "result = list_tuple(l1=list_1, l2=list_2)\n",
    "\n",
    "display(result) \n",
    "# step\n",
    "#  [2, 8,  12  ] \n",
    "# result = [val_1*2 for val_1 in list_1]\n",
    "\n",
    "# x = (4, 5)\n",
    "\n",
    "# z, y = x # [4, 5]\n",
    " \n",
    " \n",
    "#  first iteration  \n",
    "#    val_1, val_2 = (1, 2)\n",
    "\n",
    "#  first iteration  \n",
    "#    val_1, val_2 = (4, 7)\n",
    "\n",
    "#  third iteration\n",
    "#    val_1, val_2 = (6, 0)\n",
    " \n",
    "# for val_1, val_2 in zip(list_1, list_2):\n",
    "#     display(f\"{val_1}, {val_2}\")\n"
   ]
  },
  {
   "cell_type": "markdown",
   "metadata": {},
   "source": [
    "**Challenge 5**: Create a function that takes a sentence (string) and returns a list of the lengths of each word in the sentence.  \n",
    "\n",
    "Use list comprehension to split the sentence and calculate the lengths.\n"
   ]
  },
  {
   "cell_type": "code",
   "execution_count": 35,
   "metadata": {},
   "outputs": [
    {
     "data": {
      "text/plain": [
       "[4, 2, 8, 6]"
      ]
     },
     "execution_count": 35,
     "metadata": {},
     "output_type": "execute_result"
    }
   ],
   "source": [
    "\n",
    "\"\"\" \n",
    "sentence = \"Adam is teaching python\"\n",
    "words = 4\n",
    "length of all word\n",
    "word_1 = Adam, length = 4\n",
    "word_2 = is,  length = 2\n",
    "word_3 = teaching, length = 8\n",
    "word_4 = python, length = 6\n",
    "\n",
    "result = [4, 2, 8, 6]\n",
    "\n",
    "properties of a function:\n",
    " 1. takes params/args could be *\n",
    " 2. returns any result   any=?  [None or value]\n",
    " 3. computes/operates related tasks\n",
    "\"\"\"\n",
    "\n",
    "\"\"\" \n",
    " name: length_of_words\n",
    " args: \n",
    "   sentence: list[str]\n",
    " returns: \n",
    "   length_of_each_word: list[int]\n",
    " operation:\n",
    "    - split the sentence in to words \n",
    "    - compute the length of each word\n",
    "\"\"\"\n",
    "def length_of_words(some_sentence: str) -> list[int]:\n",
    "    words = sentence.split() # [\"Adam\",  \"is\", \"teaching\", \"python\"]\n",
    "    # length_of_words = [len(word) for word in words]\n",
    "    \n",
    "    return [len(word) for word in words]\n",
    "    \n",
    "sentence = \"Adam is teaching python\"\n",
    "\n",
    "length_of_words(some_sentence=sentence)"
   ]
  },
  {
   "cell_type": "markdown",
   "metadata": {},
   "source": [
    "**Challenge 6**: Define a function that filters out words from a list that do not start with a vowel. \n",
    "\n",
    " Use list comprehension and a helper function that checks if a word starts with a vowel.\n"
   ]
  },
  {
   "cell_type": "code",
   "execution_count": 37,
   "metadata": {},
   "outputs": [
    {
     "data": {
      "text/plain": [
       "['ball', 'home']"
      ]
     },
     "execution_count": 37,
     "metadata": {},
     "output_type": "execute_result"
    }
   ],
   "source": [
    "\"\"\"psuedo code\n",
    "name: filter_out_words_without_vowels\n",
    "args:\n",
    "  some_words: list[str]\n",
    "returns: \n",
    "  words_that_do_not_start_with_vowels: list[str]\n",
    "operation:\n",
    "    - define string called vowels that contain all the vowels = \"aeiou\"\n",
    "    - loop through the words and with list comprehension and filter out words that do not start with vowels\n",
    "\"\"\"\n",
    "def filter_out_words_without_vowels(some_words: list[str])-> list[str]:\n",
    "    vowels = \"aeiou\"\n",
    "    return [word for word in some_words if word[0] not in vowels]\n",
    "\n",
    "words = [\"apple\", \"adam\", \"ball\", \"home\", \"egg\", \"orange\", \"umbrella\"]\n",
    "\n",
    "filter_out_words_without_vowels(some_words=words)\n"
   ]
  },
  {
   "cell_type": "markdown",
   "metadata": {},
   "source": [
    "**Challenge 7**: Write a function that takes a list of numbers and returns a list of booleans indicating whether each number is greater than 10.\n",
    "\n",
    "Use list comprehension for this task."
   ]
  },
  {
   "cell_type": "code",
   "execution_count": 40,
   "metadata": {},
   "outputs": [
    {
     "data": {
      "text/plain": [
       "[False, True, True, False, False, False, True]"
      ]
     },
     "execution_count": 40,
     "metadata": {},
     "output_type": "execute_result"
    }
   ],
   "source": [
    "\"\"\"psuedo code \n",
    "name: is_each_element_gt_10\n",
    "args:\n",
    " some_numbers: list[int|float]\n",
    "returns:\n",
    "    result: list[bool]\n",
    "\"\"\"\n",
    "\n",
    "def is_each_element_gt_10(some_numbers: list[int|float])->list[int]:\n",
    "    return [ some_number>10 for some_number in some_numbers]\n",
    "\n",
    "numbers = [1, 13,19, 7, 8, 4, 22]\n",
    "\n",
    "is_each_element_gt_10(some_numbers=numbers)"
   ]
  },
  {
   "cell_type": "markdown",
   "metadata": {},
   "source": [
    "**Challenge 8**: Create a function that takes a list of dictionaries and returns a list of the values for a given key.\n",
    "\n",
    "Use list comprehension to extract the values."
   ]
  },
  {
   "cell_type": "code",
   "execution_count": 56,
   "metadata": {},
   "outputs": [
    {
     "data": {
      "text/plain": [
       "['adam', 'kahse', 'awet', 'aman']"
      ]
     },
     "execution_count": 56,
     "metadata": {},
     "output_type": "execute_result"
    }
   ],
   "source": [
    "\"\"\"psuedo code \n",
    "name: list_of_values_for_dict\n",
    "args:\n",
    "    some_list_of_dicts: list[dict]\n",
    "    some_key: str\n",
    "return:\n",
    "    result: list[any]\n",
    "example:`\n",
    "list_of_values_for_dict(some_list_of_dicts= list_of_dicts, key=\"name)\n",
    "result = [\"adam\", \"kahse\", \"awet\", \"aman\"]`\n",
    "\"\"\"\n",
    "def list_of_values_for_dict(some_list_of_dicts: list[dict], some_key: str)-> list[any]:\n",
    "    \"\"\"\n",
    "    key = name \n",
    "    result = []\n",
    "    first iteration:\n",
    "        data =  {\"name\": \"adam\", \"age\": 10, \"city\": \"GG\"}\n",
    "        result[0] = data.get(key, None) => result = [\"adam\"]\n",
    "        \n",
    "    second iteration:\n",
    "        data = {\"name\": \"kahse\", \"age\": 23, \"city\": \"CC\"}\n",
    "        result[1] = data.get(key, None) => result = [\"adam\", \"kahse\"]\n",
    "        \n",
    "    third iteration:\n",
    "        data = {\"name\": \"awet\", \"age\": 33, \"city\": \"FF\"}\n",
    "        result[2] = data.get(key, None) => result = [\"adam\", \"kahse\", \"awet\"]\n",
    "        \n",
    "    fourth iteration:\n",
    "        data = {\"name\": \"aman\", \"age\": 43, \"city\": \"NN\"}\n",
    "        result[3] = data.get(key, None) => result = [\"adam\", \"kahse\", \"awet\", \"aman\"]\n",
    "    \"\"\"\n",
    "    # result = []\n",
    "    # for data in some_list_of_dicts:\n",
    "    #     result.append(data.get(key, None))\n",
    "        \n",
    "    # return result \n",
    "    \"\"\" \n",
    "    upper loop  = for data in some_list_of_dicts \n",
    "    inner loop = for k, v in data.items()\n",
    "    for every upper loop there is an inner loop that must finish first\n",
    "    \"\"\"\n",
    "    return [\n",
    "        value\n",
    "        for data in some_list_of_dicts \n",
    "            for key, value in data.items() if key == some_key\n",
    "    ]\n",
    "        \n",
    " \n",
    "list_of_dicts = [\n",
    "    {\"name\": \"adam\", \"age\": 10, \"city\": \"GG\"}, # <= ITERATION 1 data\n",
    "    {\"name\": \"kahse\", \"age\": 23, \"city\": \"CC\"}, # <= ITERATION 2 data \n",
    "    {\"name\": \"awet\", \"age\": 33, \"city\": \"FF\"}, # <= ITERATION 3 data\n",
    "    {\"name\": \"aman\", \"age\": 43, \"city\": \"NN\"}, # <= ITERATION 4 data\n",
    "]\n",
    "key=\"name\"\n",
    "    \n",
    "list_of_values_for_dict(some_list_of_dicts=list_of_dicts, some_key=key)\n",
    " \n"
   ]
  },
  {
   "cell_type": "code",
   "execution_count": 51,
   "metadata": {},
   "outputs": [
    {
     "data": {
      "text/plain": [
       "[2, 3, 4, 5, 34, 12, 31, 3, 12342, 23]"
      ]
     },
     "execution_count": 51,
     "metadata": {},
     "output_type": "execute_result"
    }
   ],
   "source": [
    "num_num = [\n",
    "    [2, 3, 4, 5],\n",
    "    [34, 12, 31 ,3],\n",
    "    [12342, 23,]\n",
    "]\n",
    "\"\"\" \n",
    "result = [\n",
    "    2, 3, 4, 5,\n",
    "    34, 12,31 ,3,\n",
    "    12342, 23\n",
    "]\n",
    "\"\"\"\n",
    "result = []\n",
    "for num in num_num:\n",
    "    for n in num:\n",
    "        result.append(n)\n",
    "result = [ n for num in num_num for n in num]\n",
    " \n",
    "result"
   ]
  },
  {
   "cell_type": "code",
   "execution_count": 55,
   "metadata": {},
   "outputs": [
    {
     "data": {
      "text/plain": [
       "[[2, 3, 4, 5], [34, 12, 31, 3], [33, 23]]"
      ]
     },
     "execution_count": 55,
     "metadata": {},
     "output_type": "execute_result"
    }
   ],
   "source": [
    "num_num = [\n",
    "    {\"counts\": [2, 3, 4, 5], \"type\": \"some_count\"},\n",
    "    {\"counts\": [34, 12, 31, 3], \"type\": \"other_count\"},\n",
    "    {\"counts\": [33, 23], \"type\": \"yet_other_count\"},\n",
    "]\n",
    "\"\"\" \n",
    "result = [\n",
    "    [2, 3, 4, 5],\n",
    "    [34, 12,31 ,3],\n",
    "    [12342, 23]\n",
    "]\n",
    "\"\"\"\n",
    "\"\"\" \n",
    " 1. iteration\n",
    "   num = {\"counts\": [2, 3, 4, 5], \"type\": \"some_count\"}\n",
    "    1. iteration\n",
    "     k, v = (\"counts\", [2, 3, 4, 5])\n",
    "    2. iteration \n",
    "      k, v = (\"type\", \"some_count\")\n",
    "      result[0] = [[2, 3, 4, 5]]\n",
    " 2. iteration\n",
    "   num =    {\"counts\": [34, 12, 31, 3], \"type\": \"other_count\"}\n",
    "    1. iteration\n",
    "     k, v = (\"counts\", [34, 12, 31, 3] )\n",
    "    2. iteration \n",
    "      k, v = (\"type\",\"other_count\")\n",
    "      result[1] = [[2, 3, 4, 5], [34, 12, 31, 3]]\n",
    " 3. iteration\n",
    "  num = {\"counts\": [33, 23], \"type\": \"yet_other_count\"}\n",
    "    1. iteration\n",
    "     k, v = ({\"counts\" , [33, 23])\n",
    "    2. iteration \n",
    "      k, v = (\"type\",  \"yet_other_count\" )\n",
    "    result[2] = [[2, 3, 4, 5], [34, 12, 31, 3], [33, 23]]\n",
    "  \n",
    "\"\"\"\n",
    "\n",
    "# result = []\n",
    "# for num in num_num:\n",
    "#     for k, v in num.items():\n",
    "#         if k == \"counts\":\n",
    "#             result.append(v)\n",
    "            \n",
    "result = [v for num in num_num for k, v in num.items() if k == \"counts\"]\n",
    "result"
   ]
  }
 ],
 "metadata": {
  "kernelspec": {
   "display_name": "Python 3",
   "language": "python",
   "name": "python3"
  },
  "language_info": {
   "codemirror_mode": {
    "name": "ipython",
    "version": 3
   },
   "file_extension": ".py",
   "mimetype": "text/x-python",
   "name": "python",
   "nbconvert_exporter": "python",
   "pygments_lexer": "ipython3",
   "version": "3.12.7"
  }
 },
 "nbformat": 4,
 "nbformat_minor": 2
}
