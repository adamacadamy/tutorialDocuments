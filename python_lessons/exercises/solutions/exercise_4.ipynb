{
 "cells": [
  {
   "cell_type": "markdown",
   "id": "c8f27f00",
   "metadata": {},
   "source": [
    "# Regular Expressions: Advanced Exercises"
   ]
  },
  {
   "cell_type": "markdown",
   "id": "1c7d8892",
   "metadata": {},
   "source": [
    "## 1. Extract all HTML tags from a given text.\n",
    "Example text: `<div>Hello</div><p>World</p>`"
   ]
  },
  {
   "cell_type": "code",
   "execution_count": null,
   "id": "e01cc41b",
   "metadata": {},
   "outputs": [],
   "source": [
    "# Example Code\n",
    "import re\n",
    "def extract_html_tags(text):\n",
    "    pattern = r'<[^>]+>'\n",
    "    return re.findall(pattern, text)\n",
    "# Test\n",
    "extract_html_tags('<div>Hello</div><p>World</p>')"
   ]
  },
  {
   "cell_type": "markdown",
   "id": "ac42b5bd",
   "metadata": {},
   "source": [
    "## 2. Validate a complex password with specific requirements.\n",
    "- At least 8 characters\n",
    "- Contains both uppercase and lowercase letters\n",
    "- Contains at least one digit\n",
    "- Contains at least one special character (!@#$%^&*)"
   ]
  },
  {
   "cell_type": "code",
   "execution_count": null,
   "id": "c887f786",
   "metadata": {},
   "outputs": [],
   "source": [
    "# Example Code\n",
    "def is_complex_password(password):\n",
    "    pattern = r'^(?=.*[a-z])(?=.*[A-Z])(?=.*\\d)(?=.*[!@#$%^&*]).{8,}$'\n",
    "    return bool(re.match(pattern, password))\n",
    "# Test\n",
    "is_complex_password('Password123!')"
   ]
  },
  {
   "cell_type": "markdown",
   "id": "b9148040",
   "metadata": {},
   "source": [
    "## 3. Find all email addresses with a specific domain (e.g., `@example.com`).\n",
    "Example text: `Contact us at admin@example.com or support@example.com.`"
   ]
  },
  {
   "cell_type": "code",
   "execution_count": null,
   "id": "ab16c1d4",
   "metadata": {},
   "outputs": [],
   "source": [
    "# Example Code\n",
    "domain_text = 'Contact us at admin@example.com or support@example.com.'\n",
    "emails = re.findall(r'\\b[\\w.-]+@example\\.com\\b', domain_text)\n",
    "emails"
   ]
  },
  {
   "cell_type": "markdown",
   "id": "d39d1f96",
   "metadata": {},
   "source": [
    "## 4. Extract all hyperlinks from an HTML page.\n",
    "Example text: `<a href=\"http://example.com\">Example</a><a href=\"https://google.com\">Google</a>`"
   ]
  },
  {
   "cell_type": "code",
   "execution_count": null,
   "id": "962191af",
   "metadata": {},
   "outputs": [],
   "source": [
    "# Example Code\n",
    "html_text = '<a href=\"http://example.com\">Example</a><a href=\"https://google.com\">Google</a>'\n",
    "links = re.findall(r'href=\"(.*?)\"', html_text)\n",
    "links"
   ]
  },
  {
   "cell_type": "markdown",
   "id": "7179471d",
   "metadata": {},
   "source": [
    "## 5. Validate a US Social Security Number (SSN) in the format `XXX-XX-XXXX`.\n",
    "Example: `123-45-6789`"
   ]
  },
  {
   "cell_type": "code",
   "execution_count": null,
   "id": "c830d217",
   "metadata": {},
   "outputs": [],
   "source": [
    "# Example Code\n",
    "def is_valid_ssn(ssn):\n",
    "    pattern = r'^\\d{3}-\\d{2}-\\d{4}$'\n",
    "    return bool(re.match(pattern, ssn))\n",
    "# Test\n",
    "is_valid_ssn('123-45-6789')"
   ]
  },
  {
   "cell_type": "markdown",
   "id": "17a8dcb1",
   "metadata": {},
   "source": [
    "## 6. Match a string containing both 'foo' and 'bar' in any order.\n",
    "Examples: `foobar`, `barfoo`, `foo something bar`"
   ]
  },
  {
   "cell_type": "code",
   "execution_count": null,
   "id": "b41e45dc",
   "metadata": {},
   "outputs": [],
   "source": [
    "# Example Code\n",
    "def contains_foo_and_bar(text):\n",
    "    return bool(re.search(r'foo.*bar|bar.*foo', text))\n",
    "# Test\n",
    "contains_foo_and_bar('foo something bar')"
   ]
  },
  {
   "cell_type": "markdown",
   "id": "0985fb6a",
   "metadata": {},
   "source": [
    "## 7. Replace all currency symbols ($, €, £) with 'USD'.\n",
    "Example text: `The price is $10, £5, and €7.`"
   ]
  },
  {
   "cell_type": "code",
   "execution_count": null,
   "id": "49c1101c",
   "metadata": {},
   "outputs": [],
   "source": [
    "# Example Code\n",
    "currency_text = 'The price is $10, £5, and €7.'\n",
    "replaced_text = re.sub(r'[$€£]', 'USD', currency_text)\n",
    "replaced_text"
   ]
  },
  {
   "cell_type": "markdown",
   "id": "0ab2702b",
   "metadata": {},
   "source": [
    "## 8. Remove all punctuation marks from a given text.\n",
    "Example text: `Hello, world! How's it going?`"
   ]
  },
  {
   "cell_type": "code",
   "execution_count": null,
   "id": "863aee54",
   "metadata": {},
   "outputs": [],
   "source": [
    "# Example Code\n",
    "def remove_punctuation(text):\n",
    "    return re.sub(r'[\\W_]+', ' ', text)\n",
    "# Test\n",
    "remove_punctuation(\"Hello, world! How's it going?\")"
   ]
  },
  {
   "cell_type": "markdown",
   "id": "0a31c719",
   "metadata": {},
   "source": [
    "## 9. Extract the filename from a file path.\n",
    "Example path: `/home/user/docs/report.pdf` should return `report.pdf`."
   ]
  },
  {
   "cell_type": "code",
   "execution_count": null,
   "id": "f1f6eec2",
   "metadata": {},
   "outputs": [],
   "source": [
    "# Example Code\n",
    "file_path = '/home/user/docs/report.pdf'\n",
    "filename = re.search(r'[^/]+$', file_path).group()\n",
    "filename"
   ]
  },
  {
   "cell_type": "markdown",
   "id": "b2f109cc",
   "metadata": {},
   "source": [
    "## 10. Find and return any repeated words in a sentence.\n",
    "Example sentence: `This is is a test test sentence.`"
   ]
  },
  {
   "cell_type": "code",
   "execution_count": null,
   "id": "84f9b5ce",
   "metadata": {},
   "outputs": [],
   "source": [
    "# Example Code\n",
    "repeated_text = 'This is is a test test sentence.'\n",
    "repeated_words = re.findall(r'\\b(\\w+)\\b(?=.*\\b\\1\\b)', repeated_text)\n",
    "repeated_words"
   ]
  }
 ],
 "metadata": {
  "kernelspec": {
   "display_name": "Python 3",
   "language": "python",
   "name": "python3"
  },
  "language_info": {
   "name": "python",
   "version": "3.12.7"
  }
 },
 "nbformat": 4,
 "nbformat_minor": 5
}
