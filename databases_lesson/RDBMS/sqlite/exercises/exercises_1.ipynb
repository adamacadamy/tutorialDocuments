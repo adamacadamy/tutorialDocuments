{
 "cells": [
  {
   "cell_type": "markdown",
   "metadata": {},
   "source": [
    "# SQLite DDL Code Challenges\n",
    "\n",
    "This notebook contains a series of SQLite DDL (Data Definition Language) exercises to help you practice creating and managing database schemas. For each exercise, read the question in the markdown cell, and then execute the provided SQL cell to complete the challenge.\n",
    "\n",
    "Make sure to run the setup code below to install necessary packages, load the `ipython-sql` extension, and connect to the database."
   ]
  },
  {
   "cell_type": "code",
   "execution_count": 2,
   "id": "cd21185b",
   "metadata": {},
   "outputs": [
    {
     "name": "stdout",
     "output_type": "stream",
     "text": [
      "Requirement already satisfied: jupyter in c:\\users\\amanu\\appdata\\local\\programs\\python\\python313\\lib\\site-packages (1.1.1)\n",
      "Requirement already satisfied: ipython-sql in c:\\users\\amanu\\appdata\\local\\programs\\python\\python313\\lib\\site-packages (0.5.0)\n",
      "Requirement already satisfied: notebook in c:\\users\\amanu\\appdata\\local\\programs\\python\\python313\\lib\\site-packages (from jupyter) (7.2.2)\n",
      "Requirement already satisfied: jupyter-console in c:\\users\\amanu\\appdata\\local\\programs\\python\\python313\\lib\\site-packages (from jupyter) (6.6.3)\n",
      "Requirement already satisfied: nbconvert in c:\\users\\amanu\\appdata\\local\\programs\\python\\python313\\lib\\site-packages (from jupyter) (7.16.4)\n",
      "Requirement already satisfied: ipykernel in c:\\users\\amanu\\appdata\\roaming\\python\\python313\\site-packages (from jupyter) (6.29.5)\n",
      "Requirement already satisfied: ipywidgets in c:\\users\\amanu\\appdata\\local\\programs\\python\\python313\\lib\\site-packages (from jupyter) (8.1.5)\n",
      "Requirement already satisfied: jupyterlab in c:\\users\\amanu\\appdata\\local\\programs\\python\\python313\\lib\\site-packages (from jupyter) (4.2.6)\n",
      "Requirement already satisfied: prettytable in c:\\users\\amanu\\appdata\\local\\programs\\python\\python313\\lib\\site-packages (from ipython-sql) (3.12.0)\n",
      "Requirement already satisfied: ipython in c:\\users\\amanu\\appdata\\roaming\\python\\python313\\site-packages (from ipython-sql) (8.29.0)\n",
      "Requirement already satisfied: sqlalchemy>=2.0 in c:\\users\\amanu\\appdata\\local\\programs\\python\\python313\\lib\\site-packages (from ipython-sql) (2.0.36)\n",
      "Requirement already satisfied: sqlparse in c:\\users\\amanu\\appdata\\local\\programs\\python\\python313\\lib\\site-packages (from ipython-sql) (0.5.2)\n",
      "Requirement already satisfied: six in c:\\users\\amanu\\appdata\\roaming\\python\\python313\\site-packages (from ipython-sql) (1.16.0)\n",
      "Requirement already satisfied: ipython-genutils in c:\\users\\amanu\\appdata\\local\\programs\\python\\python313\\lib\\site-packages (from ipython-sql) (0.2.0)\n",
      "Requirement already satisfied: typing-extensions>=4.6.0 in c:\\users\\amanu\\appdata\\local\\programs\\python\\python313\\lib\\site-packages (from sqlalchemy>=2.0->ipython-sql) (4.12.2)\n",
      "Requirement already satisfied: comm>=0.1.1 in c:\\users\\amanu\\appdata\\roaming\\python\\python313\\site-packages (from ipykernel->jupyter) (0.2.2)\n",
      "Requirement already satisfied: debugpy>=1.6.5 in c:\\users\\amanu\\appdata\\roaming\\python\\python313\\site-packages (from ipykernel->jupyter) (1.8.7)\n",
      "Requirement already satisfied: jupyter-client>=6.1.12 in c:\\users\\amanu\\appdata\\roaming\\python\\python313\\site-packages (from ipykernel->jupyter) (8.6.3)\n",
      "Requirement already satisfied: jupyter-core!=5.0.*,>=4.12 in c:\\users\\amanu\\appdata\\roaming\\python\\python313\\site-packages (from ipykernel->jupyter) (5.7.2)\n",
      "Requirement already satisfied: matplotlib-inline>=0.1 in c:\\users\\amanu\\appdata\\roaming\\python\\python313\\site-packages (from ipykernel->jupyter) (0.1.7)\n",
      "Requirement already satisfied: nest-asyncio in c:\\users\\amanu\\appdata\\roaming\\python\\python313\\site-packages (from ipykernel->jupyter) (1.6.0)\n",
      "Requirement already satisfied: packaging in c:\\users\\amanu\\appdata\\roaming\\python\\python313\\site-packages (from ipykernel->jupyter) (24.1)\n",
      "Requirement already satisfied: psutil in c:\\users\\amanu\\appdata\\roaming\\python\\python313\\site-packages (from ipykernel->jupyter) (6.1.0)\n",
      "Requirement already satisfied: pyzmq>=24 in c:\\users\\amanu\\appdata\\roaming\\python\\python313\\site-packages (from ipykernel->jupyter) (26.2.0)\n",
      "Requirement already satisfied: tornado>=6.1 in c:\\users\\amanu\\appdata\\roaming\\python\\python313\\site-packages (from ipykernel->jupyter) (6.4.1)\n",
      "Requirement already satisfied: traitlets>=5.4.0 in c:\\users\\amanu\\appdata\\roaming\\python\\python313\\site-packages (from ipykernel->jupyter) (5.14.3)\n",
      "Requirement already satisfied: decorator in c:\\users\\amanu\\appdata\\roaming\\python\\python313\\site-packages (from ipython->ipython-sql) (5.1.1)\n",
      "Requirement already satisfied: jedi>=0.16 in c:\\users\\amanu\\appdata\\roaming\\python\\python313\\site-packages (from ipython->ipython-sql) (0.19.1)\n",
      "Requirement already satisfied: prompt-toolkit<3.1.0,>=3.0.41 in c:\\users\\amanu\\appdata\\roaming\\python\\python313\\site-packages (from ipython->ipython-sql) (3.0.48)\n",
      "Requirement already satisfied: pygments>=2.4.0 in c:\\users\\amanu\\appdata\\roaming\\python\\python313\\site-packages (from ipython->ipython-sql) (2.18.0)\n",
      "Requirement already satisfied: stack-data in c:\\users\\amanu\\appdata\\roaming\\python\\python313\\site-packages (from ipython->ipython-sql) (0.6.3)\n",
      "Requirement already satisfied: colorama in c:\\users\\amanu\\appdata\\roaming\\python\\python313\\site-packages (from ipython->ipython-sql) (0.4.6)\n",
      "Requirement already satisfied: widgetsnbextension~=4.0.12 in c:\\users\\amanu\\appdata\\local\\programs\\python\\python313\\lib\\site-packages (from ipywidgets->jupyter) (4.0.13)\n",
      "Requirement already satisfied: jupyterlab-widgets~=3.0.12 in c:\\users\\amanu\\appdata\\local\\programs\\python\\python313\\lib\\site-packages (from ipywidgets->jupyter) (3.0.13)\n",
      "Requirement already satisfied: async-lru>=1.0.0 in c:\\users\\amanu\\appdata\\local\\programs\\python\\python313\\lib\\site-packages (from jupyterlab->jupyter) (2.0.4)\n",
      "Requirement already satisfied: httpx>=0.25.0 in c:\\users\\amanu\\appdata\\local\\programs\\python\\python313\\lib\\site-packages (from jupyterlab->jupyter) (0.27.2)\n",
      "Requirement already satisfied: jinja2>=3.0.3 in c:\\users\\amanu\\appdata\\local\\programs\\python\\python313\\lib\\site-packages (from jupyterlab->jupyter) (3.1.4)\n",
      "Requirement already satisfied: jupyter-lsp>=2.0.0 in c:\\users\\amanu\\appdata\\local\\programs\\python\\python313\\lib\\site-packages (from jupyterlab->jupyter) (2.2.5)\n",
      "Requirement already satisfied: jupyter-server<3,>=2.4.0 in c:\\users\\amanu\\appdata\\local\\programs\\python\\python313\\lib\\site-packages (from jupyterlab->jupyter) (2.14.2)\n",
      "Requirement already satisfied: jupyterlab-server<3,>=2.27.1 in c:\\users\\amanu\\appdata\\local\\programs\\python\\python313\\lib\\site-packages (from jupyterlab->jupyter) (2.27.3)\n",
      "Requirement already satisfied: notebook-shim>=0.2 in c:\\users\\amanu\\appdata\\local\\programs\\python\\python313\\lib\\site-packages (from jupyterlab->jupyter) (0.2.4)\n",
      "Requirement already satisfied: setuptools>=40.1.0 in c:\\users\\amanu\\appdata\\local\\programs\\python\\python313\\lib\\site-packages (from jupyterlab->jupyter) (75.5.0)\n",
      "Requirement already satisfied: beautifulsoup4 in c:\\users\\amanu\\appdata\\local\\programs\\python\\python313\\lib\\site-packages (from nbconvert->jupyter) (4.12.3)\n",
      "Requirement already satisfied: bleach!=5.0.0 in c:\\users\\amanu\\appdata\\local\\programs\\python\\python313\\lib\\site-packages (from nbconvert->jupyter) (6.2.0)\n",
      "Requirement already satisfied: defusedxml in c:\\users\\amanu\\appdata\\local\\programs\\python\\python313\\lib\\site-packages (from nbconvert->jupyter) (0.7.1)\n",
      "Requirement already satisfied: jupyterlab-pygments in c:\\users\\amanu\\appdata\\local\\programs\\python\\python313\\lib\\site-packages (from nbconvert->jupyter) (0.3.0)\n",
      "Requirement already satisfied: markupsafe>=2.0 in c:\\users\\amanu\\appdata\\local\\programs\\python\\python313\\lib\\site-packages (from nbconvert->jupyter) (3.0.2)\n",
      "Requirement already satisfied: mistune<4,>=2.0.3 in c:\\users\\amanu\\appdata\\local\\programs\\python\\python313\\lib\\site-packages (from nbconvert->jupyter) (3.0.2)\n",
      "Requirement already satisfied: nbclient>=0.5.0 in c:\\users\\amanu\\appdata\\local\\programs\\python\\python313\\lib\\site-packages (from nbconvert->jupyter) (0.10.0)\n",
      "Requirement already satisfied: nbformat>=5.7 in c:\\users\\amanu\\appdata\\local\\programs\\python\\python313\\lib\\site-packages (from nbconvert->jupyter) (5.10.4)\n",
      "Requirement already satisfied: pandocfilters>=1.4.1 in c:\\users\\amanu\\appdata\\local\\programs\\python\\python313\\lib\\site-packages (from nbconvert->jupyter) (1.5.1)\n",
      "Requirement already satisfied: tinycss2 in c:\\users\\amanu\\appdata\\local\\programs\\python\\python313\\lib\\site-packages (from nbconvert->jupyter) (1.4.0)\n",
      "Requirement already satisfied: wcwidth in c:\\users\\amanu\\appdata\\roaming\\python\\python313\\site-packages (from prettytable->ipython-sql) (0.2.13)\n",
      "Requirement already satisfied: webencodings in c:\\users\\amanu\\appdata\\local\\programs\\python\\python313\\lib\\site-packages (from bleach!=5.0.0->nbconvert->jupyter) (0.5.1)\n",
      "Requirement already satisfied: anyio in c:\\users\\amanu\\appdata\\local\\programs\\python\\python313\\lib\\site-packages (from httpx>=0.25.0->jupyterlab->jupyter) (4.6.2.post1)\n",
      "Requirement already satisfied: certifi in c:\\users\\amanu\\appdata\\local\\programs\\python\\python313\\lib\\site-packages (from httpx>=0.25.0->jupyterlab->jupyter) (2024.8.30)\n",
      "Requirement already satisfied: httpcore==1.* in c:\\users\\amanu\\appdata\\local\\programs\\python\\python313\\lib\\site-packages (from httpx>=0.25.0->jupyterlab->jupyter) (1.0.7)\n",
      "Requirement already satisfied: idna in c:\\users\\amanu\\appdata\\local\\programs\\python\\python313\\lib\\site-packages (from httpx>=0.25.0->jupyterlab->jupyter) (3.10)\n",
      "Requirement already satisfied: sniffio in c:\\users\\amanu\\appdata\\local\\programs\\python\\python313\\lib\\site-packages (from httpx>=0.25.0->jupyterlab->jupyter) (1.3.1)\n",
      "Requirement already satisfied: h11<0.15,>=0.13 in c:\\users\\amanu\\appdata\\local\\programs\\python\\python313\\lib\\site-packages (from httpcore==1.*->httpx>=0.25.0->jupyterlab->jupyter) (0.14.0)\n",
      "Requirement already satisfied: parso<0.9.0,>=0.8.3 in c:\\users\\amanu\\appdata\\roaming\\python\\python313\\site-packages (from jedi>=0.16->ipython->ipython-sql) (0.8.4)\n",
      "Requirement already satisfied: python-dateutil>=2.8.2 in c:\\users\\amanu\\appdata\\roaming\\python\\python313\\site-packages (from jupyter-client>=6.1.12->ipykernel->jupyter) (2.9.0.post0)\n",
      "Requirement already satisfied: platformdirs>=2.5 in c:\\users\\amanu\\appdata\\roaming\\python\\python313\\site-packages (from jupyter-core!=5.0.*,>=4.12->ipykernel->jupyter) (4.3.6)\n",
      "Requirement already satisfied: pywin32>=300 in c:\\users\\amanu\\appdata\\roaming\\python\\python313\\site-packages (from jupyter-core!=5.0.*,>=4.12->ipykernel->jupyter) (308)\n",
      "Requirement already satisfied: argon2-cffi>=21.1 in c:\\users\\amanu\\appdata\\local\\programs\\python\\python313\\lib\\site-packages (from jupyter-server<3,>=2.4.0->jupyterlab->jupyter) (23.1.0)\n",
      "Requirement already satisfied: jupyter-events>=0.9.0 in c:\\users\\amanu\\appdata\\local\\programs\\python\\python313\\lib\\site-packages (from jupyter-server<3,>=2.4.0->jupyterlab->jupyter) (0.10.0)\n",
      "Requirement already satisfied: jupyter-server-terminals>=0.4.4 in c:\\users\\amanu\\appdata\\local\\programs\\python\\python313\\lib\\site-packages (from jupyter-server<3,>=2.4.0->jupyterlab->jupyter) (0.5.3)\n",
      "Requirement already satisfied: overrides>=5.0 in c:\\users\\amanu\\appdata\\local\\programs\\python\\python313\\lib\\site-packages (from jupyter-server<3,>=2.4.0->jupyterlab->jupyter) (7.7.0)\n",
      "Requirement already satisfied: prometheus-client>=0.9 in c:\\users\\amanu\\appdata\\local\\programs\\python\\python313\\lib\\site-packages (from jupyter-server<3,>=2.4.0->jupyterlab->jupyter) (0.21.0)\n",
      "Requirement already satisfied: pywinpty>=2.0.1 in c:\\users\\amanu\\appdata\\local\\programs\\python\\python313\\lib\\site-packages (from jupyter-server<3,>=2.4.0->jupyterlab->jupyter) (2.0.14)\n",
      "Requirement already satisfied: send2trash>=1.8.2 in c:\\users\\amanu\\appdata\\local\\programs\\python\\python313\\lib\\site-packages (from jupyter-server<3,>=2.4.0->jupyterlab->jupyter) (1.8.3)\n",
      "Requirement already satisfied: terminado>=0.8.3 in c:\\users\\amanu\\appdata\\local\\programs\\python\\python313\\lib\\site-packages (from jupyter-server<3,>=2.4.0->jupyterlab->jupyter) (0.18.1)\n",
      "Requirement already satisfied: websocket-client>=1.7 in c:\\users\\amanu\\appdata\\local\\programs\\python\\python313\\lib\\site-packages (from jupyter-server<3,>=2.4.0->jupyterlab->jupyter) (1.8.0)\n",
      "Requirement already satisfied: babel>=2.10 in c:\\users\\amanu\\appdata\\local\\programs\\python\\python313\\lib\\site-packages (from jupyterlab-server<3,>=2.27.1->jupyterlab->jupyter) (2.16.0)\n",
      "Requirement already satisfied: json5>=0.9.0 in c:\\users\\amanu\\appdata\\local\\programs\\python\\python313\\lib\\site-packages (from jupyterlab-server<3,>=2.27.1->jupyterlab->jupyter) (0.9.28)\n",
      "Requirement already satisfied: jsonschema>=4.18.0 in c:\\users\\amanu\\appdata\\local\\programs\\python\\python313\\lib\\site-packages (from jupyterlab-server<3,>=2.27.1->jupyterlab->jupyter) (4.23.0)\n",
      "Requirement already satisfied: requests>=2.31 in c:\\users\\amanu\\appdata\\local\\programs\\python\\python313\\lib\\site-packages (from jupyterlab-server<3,>=2.27.1->jupyterlab->jupyter) (2.32.3)\n",
      "Requirement already satisfied: fastjsonschema>=2.15 in c:\\users\\amanu\\appdata\\local\\programs\\python\\python313\\lib\\site-packages (from nbformat>=5.7->nbconvert->jupyter) (2.20.0)\n",
      "Requirement already satisfied: soupsieve>1.2 in c:\\users\\amanu\\appdata\\local\\programs\\python\\python313\\lib\\site-packages (from beautifulsoup4->nbconvert->jupyter) (2.6)\n",
      "Requirement already satisfied: executing>=1.2.0 in c:\\users\\amanu\\appdata\\roaming\\python\\python313\\site-packages (from stack-data->ipython->ipython-sql) (2.1.0)\n",
      "Requirement already satisfied: asttokens>=2.1.0 in c:\\users\\amanu\\appdata\\roaming\\python\\python313\\site-packages (from stack-data->ipython->ipython-sql) (2.4.1)\n",
      "Requirement already satisfied: pure-eval in c:\\users\\amanu\\appdata\\roaming\\python\\python313\\site-packages (from stack-data->ipython->ipython-sql) (0.2.3)\n",
      "Requirement already satisfied: argon2-cffi-bindings in c:\\users\\amanu\\appdata\\local\\programs\\python\\python313\\lib\\site-packages (from argon2-cffi>=21.1->jupyter-server<3,>=2.4.0->jupyterlab->jupyter) (21.2.0)\n",
      "Requirement already satisfied: attrs>=22.2.0 in c:\\users\\amanu\\appdata\\local\\programs\\python\\python313\\lib\\site-packages (from jsonschema>=4.18.0->jupyterlab-server<3,>=2.27.1->jupyterlab->jupyter) (24.2.0)\n",
      "Requirement already satisfied: jsonschema-specifications>=2023.03.6 in c:\\users\\amanu\\appdata\\local\\programs\\python\\python313\\lib\\site-packages (from jsonschema>=4.18.0->jupyterlab-server<3,>=2.27.1->jupyterlab->jupyter) (2024.10.1)\n",
      "Requirement already satisfied: referencing>=0.28.4 in c:\\users\\amanu\\appdata\\local\\programs\\python\\python313\\lib\\site-packages (from jsonschema>=4.18.0->jupyterlab-server<3,>=2.27.1->jupyterlab->jupyter) (0.35.1)\n",
      "Requirement already satisfied: rpds-py>=0.7.1 in c:\\users\\amanu\\appdata\\local\\programs\\python\\python313\\lib\\site-packages (from jsonschema>=4.18.0->jupyterlab-server<3,>=2.27.1->jupyterlab->jupyter) (0.21.0)\n",
      "Requirement already satisfied: python-json-logger>=2.0.4 in c:\\users\\amanu\\appdata\\local\\programs\\python\\python313\\lib\\site-packages (from jupyter-events>=0.9.0->jupyter-server<3,>=2.4.0->jupyterlab->jupyter) (2.0.7)\n",
      "Requirement already satisfied: pyyaml>=5.3 in c:\\users\\amanu\\appdata\\local\\programs\\python\\python313\\lib\\site-packages (from jupyter-events>=0.9.0->jupyter-server<3,>=2.4.0->jupyterlab->jupyter) (6.0.2)\n",
      "Requirement already satisfied: rfc3339-validator in c:\\users\\amanu\\appdata\\local\\programs\\python\\python313\\lib\\site-packages (from jupyter-events>=0.9.0->jupyter-server<3,>=2.4.0->jupyterlab->jupyter) (0.1.4)\n",
      "Requirement already satisfied: rfc3986-validator>=0.1.1 in c:\\users\\amanu\\appdata\\local\\programs\\python\\python313\\lib\\site-packages (from jupyter-events>=0.9.0->jupyter-server<3,>=2.4.0->jupyterlab->jupyter) (0.1.1)\n",
      "Requirement already satisfied: charset-normalizer<4,>=2 in c:\\users\\amanu\\appdata\\local\\programs\\python\\python313\\lib\\site-packages (from requests>=2.31->jupyterlab-server<3,>=2.27.1->jupyterlab->jupyter) (3.4.0)\n",
      "Requirement already satisfied: urllib3<3,>=1.21.1 in c:\\users\\amanu\\appdata\\local\\programs\\python\\python313\\lib\\site-packages (from requests>=2.31->jupyterlab-server<3,>=2.27.1->jupyterlab->jupyter) (2.2.3)\n",
      "Requirement already satisfied: fqdn in c:\\users\\amanu\\appdata\\local\\programs\\python\\python313\\lib\\site-packages (from jsonschema[format-nongpl]>=4.18.0->jupyter-events>=0.9.0->jupyter-server<3,>=2.4.0->jupyterlab->jupyter) (1.5.1)\n",
      "Requirement already satisfied: isoduration in c:\\users\\amanu\\appdata\\local\\programs\\python\\python313\\lib\\site-packages (from jsonschema[format-nongpl]>=4.18.0->jupyter-events>=0.9.0->jupyter-server<3,>=2.4.0->jupyterlab->jupyter) (20.11.0)\n",
      "Requirement already satisfied: jsonpointer>1.13 in c:\\users\\amanu\\appdata\\local\\programs\\python\\python313\\lib\\site-packages (from jsonschema[format-nongpl]>=4.18.0->jupyter-events>=0.9.0->jupyter-server<3,>=2.4.0->jupyterlab->jupyter) (3.0.0)\n",
      "Requirement already satisfied: uri-template in c:\\users\\amanu\\appdata\\local\\programs\\python\\python313\\lib\\site-packages (from jsonschema[format-nongpl]>=4.18.0->jupyter-events>=0.9.0->jupyter-server<3,>=2.4.0->jupyterlab->jupyter) (1.3.0)\n",
      "Requirement already satisfied: webcolors>=24.6.0 in c:\\users\\amanu\\appdata\\local\\programs\\python\\python313\\lib\\site-packages (from jsonschema[format-nongpl]>=4.18.0->jupyter-events>=0.9.0->jupyter-server<3,>=2.4.0->jupyterlab->jupyter) (24.11.1)\n",
      "Requirement already satisfied: cffi>=1.0.1 in c:\\users\\amanu\\appdata\\local\\programs\\python\\python313\\lib\\site-packages (from argon2-cffi-bindings->argon2-cffi>=21.1->jupyter-server<3,>=2.4.0->jupyterlab->jupyter) (1.17.1)\n",
      "Requirement already satisfied: pycparser in c:\\users\\amanu\\appdata\\local\\programs\\python\\python313\\lib\\site-packages (from cffi>=1.0.1->argon2-cffi-bindings->argon2-cffi>=21.1->jupyter-server<3,>=2.4.0->jupyterlab->jupyter) (2.22)\n",
      "Requirement already satisfied: arrow>=0.15.0 in c:\\users\\amanu\\appdata\\local\\programs\\python\\python313\\lib\\site-packages (from isoduration->jsonschema[format-nongpl]>=4.18.0->jupyter-events>=0.9.0->jupyter-server<3,>=2.4.0->jupyterlab->jupyter) (1.3.0)\n",
      "Requirement already satisfied: types-python-dateutil>=2.8.10 in c:\\users\\amanu\\appdata\\local\\programs\\python\\python313\\lib\\site-packages (from arrow>=0.15.0->isoduration->jsonschema[format-nongpl]>=4.18.0->jupyter-events>=0.9.0->jupyter-server<3,>=2.4.0->jupyterlab->jupyter) (2.9.0.20241003)\n",
      "Note: you may need to restart the kernel to use updated packages.\n",
      "The sql extension is already loaded. To reload it, use:\n",
      "  %reload_ext sql\n"
     ]
    },
    {
     "name": "stderr",
     "output_type": "stream",
     "text": [
      "\n",
      "[notice] A new release of pip is available: 24.2 -> 24.3.1\n",
      "[notice] To update, run: python.exe -m pip install --upgrade pip\n"
     ]
    }
   ],
   "source": [
    "# Install necessary packages\n",
    "%pip install jupyter ipython-sql\n",
    "\n",
    "# Load the ipython-sql extension\n",
    "%load_ext sql\n",
    "\n",
    "# Connect to the SQLite database\n",
    "%sql sqlite:///test.db"
   ]
  },
  {
   "cell_type": "markdown",
   "id": "56399352",
   "metadata": {},
   "source": [
    "## Challenge 1: Create a Table\n",
    "**Question:**  \n",
    "Create a table named `employees` with the following columns:\n",
    "- `employee_id` (INTEGER): Primary Key\n",
    "- `first_name` (TEXT): First name of the employee\n",
    "- `last_name` (TEXT): Last name of the employee\n",
    "- `hire_date` (DATE): Date when the employee was hired"
   ]
  },
  {
   "cell_type": "code",
   "execution_count": null,
   "id": "374e8bb3",
   "metadata": {},
   "outputs": [],
   "source": [
    "%%sql\n",
    " "
   ]
  },
  {
   "cell_type": "markdown",
   "id": "a77bb4c4",
   "metadata": {},
   "source": [
    "## Challenge 2: Create a Table with Foreign Keys\n",
    "**Question:**  \n",
    "Create a table named `departments` and another table named `employee_departments` with a foreign key relationship:\n",
    "- `departments` table:\n",
    "  - `department_id` (INTEGER): Primary Key\n",
    "  - `department_name` (TEXT): Name of the department\n",
    "- `employee_departments` table:\n",
    "  - `id` (INTEGER): Primary Key\n",
    "  - `employee_id` (INTEGER): Foreign Key referencing `employees.employee_id`\n",
    "  - `department_id` (INTEGER): Foreign Key referencing `departments.department_id`"
   ]
  },
  {
   "cell_type": "code",
   "execution_count": null,
   "id": "5d5f331a",
   "metadata": {},
   "outputs": [],
   "source": [
    "%%sql\n",
    " "
   ]
  },
  {
   "cell_type": "markdown",
   "id": "7d847c09",
   "metadata": {},
   "source": [
    "## Challenge 3: Alter Table\n",
    "**Question:**  \n",
    "Add a new column `email` (TEXT) to the `employees` table."
   ]
  },
  {
   "cell_type": "code",
   "execution_count": null,
   "id": "5efd57a2",
   "metadata": {},
   "outputs": [],
   "source": [
    "%%sql "
   ]
  },
  {
   "cell_type": "markdown",
   "id": "86ccb6f0",
   "metadata": {},
   "source": [
    "## Challenge 4: Drop a Column (Workaround in SQLite)\n",
    "**Question:**  \n",
    "Drop the `email` column from the `employees` table. (SQLite does not support dropping columns directly.)"
   ]
  },
  {
   "cell_type": "code",
   "execution_count": null,
   "id": "99d22d76",
   "metadata": {},
   "outputs": [],
   "source": [
    "%%sql\n",
    "  "
   ]
  },
  {
   "cell_type": "markdown",
   "id": "c0082afb",
   "metadata": {},
   "source": [
    "## Challenge 5: Create an Index\n",
    "**Question:**  \n",
    "Create an index on the `last_name` column of the `employees` table to speed up search queries."
   ]
  },
  {
   "cell_type": "code",
   "execution_count": null,
   "id": "2d8f7b55",
   "metadata": {},
   "outputs": [],
   "source": [
    "%%sql "
   ]
  },
  {
   "cell_type": "markdown",
   "id": "fefcf9c9",
   "metadata": {},
   "source": [
    "## Challenge 6: Drop an Index\n",
    "**Question:**  \n",
    "Drop the index `idx_last_name` from the `employees` table."
   ]
  },
  {
   "cell_type": "code",
   "execution_count": null,
   "id": "d58642e6",
   "metadata": {},
   "outputs": [],
   "source": [
    "%%sql "
   ]
  },
  {
   "cell_type": "markdown",
   "id": "6110495e",
   "metadata": {},
   "source": [
    "## Challenge 7: Add a Unique Constraint\n",
    "**Question:**  \n",
    "Alter the `departments` table to add a unique constraint on the `department_name` column."
   ]
  },
  {
   "cell_type": "code",
   "execution_count": null,
   "id": "ce5d2fff",
   "metadata": {},
   "outputs": [],
   "source": [
    "%%sql  "
   ]
  },
  {
   "cell_type": "markdown",
   "id": "1089e42c",
   "metadata": {},
   "source": [
    "## Challenge 8: Create a View\n",
    "**Question:**  \n",
    "Create a view named `employee_details` that displays the employee’s first name, last name, hire date, and department name."
   ]
  },
  {
   "cell_type": "code",
   "execution_count": null,
   "id": "e585fbed",
   "metadata": {},
   "outputs": [],
   "source": [
    "%%sql "
   ]
  },
  {
   "cell_type": "markdown",
   "id": "92f4c476",
   "metadata": {},
   "source": [
    "## Challenge 9: Create a Trigger\n",
    "**Question:**  \n",
    "Create a trigger named `update_hire_date` that updates the `hire_date` to the current date whenever a new row is inserted into the `employees` table with a NULL `hire_date`."
   ]
  },
  {
   "cell_type": "code",
   "execution_count": null,
   "id": "04c40f28",
   "metadata": {},
   "outputs": [],
   "source": [
    "%%sql "
   ]
  },
  {
   "cell_type": "markdown",
   "id": "0efd848f",
   "metadata": {},
   "source": [
    "## Challenge 10: Drop a Table\n",
    "**Question:**  \n",
    "Drop the `employee_departments` table from the database."
   ]
  },
  {
   "cell_type": "code",
   "execution_count": null,
   "id": "42bd936f",
   "metadata": {},
   "outputs": [],
   "source": [
    "%%sql "
   ]
  }
 ],
 "metadata": {
  "kernelspec": {
   "display_name": "Python 3",
   "language": "python",
   "name": "python3"
  },
  "language_info": {
   "codemirror_mode": {
    "name": "ipython",
    "version": 3
   },
   "file_extension": ".py",
   "mimetype": "text/x-python",
   "name": "python",
   "nbconvert_exporter": "python",
   "pygments_lexer": "ipython3",
   "version": "3.13.0"
  }
 },
 "nbformat": 4,
 "nbformat_minor": 5
}
